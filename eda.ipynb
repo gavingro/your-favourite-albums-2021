{
 "cells": [
  {
   "cell_type": "code",
   "execution_count": 1,
   "metadata": {},
   "outputs": [],
   "source": [
    "import pandas as pd\n",
    "\n",
    "import plotly.express as px\n",
    "import plotly.graph_objects as go\n",
    "from plotly.subplots import make_subplots\n"
   ]
  },
  {
   "cell_type": "markdown",
   "metadata": {},
   "source": [
    "## Read In and Clean Data"
   ]
  },
  {
   "cell_type": "code",
   "execution_count": 2,
   "metadata": {},
   "outputs": [],
   "source": [
    "from data.data import AOTY"
   ]
  },
  {
   "cell_type": "code",
   "execution_count": 3,
   "metadata": {},
   "outputs": [
    {
     "data": {
      "text/html": [
       "<div>\n",
       "<style scoped>\n",
       "    .dataframe tbody tr th:only-of-type {\n",
       "        vertical-align: middle;\n",
       "    }\n",
       "\n",
       "    .dataframe tbody tr th {\n",
       "        vertical-align: top;\n",
       "    }\n",
       "\n",
       "    .dataframe thead th {\n",
       "        text-align: right;\n",
       "    }\n",
       "</style>\n",
       "<table border=\"1\" class=\"dataframe\">\n",
       "  <thead>\n",
       "    <tr style=\"text-align: right;\">\n",
       "      <th></th>\n",
       "      <th>Rank</th>\n",
       "      <th>Lister</th>\n",
       "      <th>Artist</th>\n",
       "      <th>Album</th>\n",
       "      <th>album_submission_count</th>\n",
       "      <th>album_score</th>\n",
       "      <th>album_average_rank</th>\n",
       "      <th>unique_album_submission</th>\n",
       "      <th>artist_album_release_count</th>\n",
       "      <th>multi_album_artist</th>\n",
       "    </tr>\n",
       "  </thead>\n",
       "  <tbody>\n",
       "    <tr>\n",
       "      <th>0</th>\n",
       "      <td>1</td>\n",
       "      <td>Aaron</td>\n",
       "      <td>The Dirty Nil</td>\n",
       "      <td>Fuck Art</td>\n",
       "      <td>2</td>\n",
       "      <td>15</td>\n",
       "      <td>3.500000</td>\n",
       "      <td>False</td>\n",
       "      <td>1</td>\n",
       "      <td>False</td>\n",
       "    </tr>\n",
       "    <tr>\n",
       "      <th>1</th>\n",
       "      <td>2</td>\n",
       "      <td>Aaron</td>\n",
       "      <td>Whitechapel</td>\n",
       "      <td>Kin</td>\n",
       "      <td>1</td>\n",
       "      <td>9</td>\n",
       "      <td>2.000000</td>\n",
       "      <td>True</td>\n",
       "      <td>1</td>\n",
       "      <td>False</td>\n",
       "    </tr>\n",
       "    <tr>\n",
       "      <th>2</th>\n",
       "      <td>3</td>\n",
       "      <td>Aaron</td>\n",
       "      <td>That Handsome Devil</td>\n",
       "      <td>Your Parents Are Sellouts</td>\n",
       "      <td>1</td>\n",
       "      <td>8</td>\n",
       "      <td>3.000000</td>\n",
       "      <td>True</td>\n",
       "      <td>1</td>\n",
       "      <td>False</td>\n",
       "    </tr>\n",
       "    <tr>\n",
       "      <th>3</th>\n",
       "      <td>4</td>\n",
       "      <td>Aaron</td>\n",
       "      <td>Billie Eilish</td>\n",
       "      <td>Happier Than Ever</td>\n",
       "      <td>22</td>\n",
       "      <td>137</td>\n",
       "      <td>4.772727</td>\n",
       "      <td>False</td>\n",
       "      <td>1</td>\n",
       "      <td>False</td>\n",
       "    </tr>\n",
       "    <tr>\n",
       "      <th>4</th>\n",
       "      <td>5</td>\n",
       "      <td>Aaron</td>\n",
       "      <td>Lorna Shore</td>\n",
       "      <td>...And I Return To Nothingness</td>\n",
       "      <td>1</td>\n",
       "      <td>6</td>\n",
       "      <td>5.000000</td>\n",
       "      <td>True</td>\n",
       "      <td>1</td>\n",
       "      <td>False</td>\n",
       "    </tr>\n",
       "    <tr>\n",
       "      <th>...</th>\n",
       "      <td>...</td>\n",
       "      <td>...</td>\n",
       "      <td>...</td>\n",
       "      <td>...</td>\n",
       "      <td>...</td>\n",
       "      <td>...</td>\n",
       "      <td>...</td>\n",
       "      <td>...</td>\n",
       "      <td>...</td>\n",
       "      <td>...</td>\n",
       "    </tr>\n",
       "    <tr>\n",
       "      <th>975</th>\n",
       "      <td>6</td>\n",
       "      <td>Zack</td>\n",
       "      <td>Mark Barlow</td>\n",
       "      <td>Hymns &amp; Soul</td>\n",
       "      <td>2</td>\n",
       "      <td>15</td>\n",
       "      <td>3.500000</td>\n",
       "      <td>False</td>\n",
       "      <td>1</td>\n",
       "      <td>False</td>\n",
       "    </tr>\n",
       "    <tr>\n",
       "      <th>976</th>\n",
       "      <td>7</td>\n",
       "      <td>Zack</td>\n",
       "      <td>Aquilo</td>\n",
       "      <td>A Safe Place To Be</td>\n",
       "      <td>1</td>\n",
       "      <td>4</td>\n",
       "      <td>7.000000</td>\n",
       "      <td>True</td>\n",
       "      <td>1</td>\n",
       "      <td>False</td>\n",
       "    </tr>\n",
       "    <tr>\n",
       "      <th>977</th>\n",
       "      <td>8</td>\n",
       "      <td>Zack</td>\n",
       "      <td>Tingsek</td>\n",
       "      <td>Home</td>\n",
       "      <td>2</td>\n",
       "      <td>4</td>\n",
       "      <td>9.000000</td>\n",
       "      <td>False</td>\n",
       "      <td>1</td>\n",
       "      <td>False</td>\n",
       "    </tr>\n",
       "    <tr>\n",
       "      <th>978</th>\n",
       "      <td>9</td>\n",
       "      <td>Zack</td>\n",
       "      <td>Ben Howard</td>\n",
       "      <td>Collections From The Whiteout</td>\n",
       "      <td>2</td>\n",
       "      <td>6</td>\n",
       "      <td>8.000000</td>\n",
       "      <td>False</td>\n",
       "      <td>1</td>\n",
       "      <td>False</td>\n",
       "    </tr>\n",
       "    <tr>\n",
       "      <th>979</th>\n",
       "      <td>10</td>\n",
       "      <td>Zack</td>\n",
       "      <td>The Paper Kites</td>\n",
       "      <td>Roses</td>\n",
       "      <td>1</td>\n",
       "      <td>1</td>\n",
       "      <td>10.000000</td>\n",
       "      <td>True</td>\n",
       "      <td>1</td>\n",
       "      <td>False</td>\n",
       "    </tr>\n",
       "  </tbody>\n",
       "</table>\n",
       "<p>980 rows × 10 columns</p>\n",
       "</div>"
      ],
      "text/plain": [
       "     Rank Lister               Artist                           Album  \\\n",
       "0       1  Aaron        The Dirty Nil                        Fuck Art   \n",
       "1       2  Aaron          Whitechapel                             Kin   \n",
       "2       3  Aaron  That Handsome Devil       Your Parents Are Sellouts   \n",
       "3       4  Aaron        Billie Eilish               Happier Than Ever   \n",
       "4       5  Aaron          Lorna Shore  ...And I Return To Nothingness   \n",
       "..    ...    ...                  ...                             ...   \n",
       "975     6   Zack          Mark Barlow                    Hymns & Soul   \n",
       "976     7   Zack               Aquilo              A Safe Place To Be   \n",
       "977     8   Zack              Tingsek                            Home   \n",
       "978     9   Zack           Ben Howard   Collections From The Whiteout   \n",
       "979    10   Zack      The Paper Kites                           Roses   \n",
       "\n",
       "     album_submission_count  album_score  album_average_rank  \\\n",
       "0                         2           15            3.500000   \n",
       "1                         1            9            2.000000   \n",
       "2                         1            8            3.000000   \n",
       "3                        22          137            4.772727   \n",
       "4                         1            6            5.000000   \n",
       "..                      ...          ...                 ...   \n",
       "975                       2           15            3.500000   \n",
       "976                       1            4            7.000000   \n",
       "977                       2            4            9.000000   \n",
       "978                       2            6            8.000000   \n",
       "979                       1            1           10.000000   \n",
       "\n",
       "     unique_album_submission  artist_album_release_count  multi_album_artist  \n",
       "0                      False                           1               False  \n",
       "1                       True                           1               False  \n",
       "2                       True                           1               False  \n",
       "3                      False                           1               False  \n",
       "4                       True                           1               False  \n",
       "..                       ...                         ...                 ...  \n",
       "975                    False                           1               False  \n",
       "976                     True                           1               False  \n",
       "977                    False                           1               False  \n",
       "978                    False                           1               False  \n",
       "979                     True                           1               False  \n",
       "\n",
       "[980 rows x 10 columns]"
      ]
     },
     "execution_count": 3,
     "metadata": {},
     "output_type": "execute_result"
    }
   ],
   "source": [
    "AOTY"
   ]
  },
  {
   "cell_type": "markdown",
   "metadata": {},
   "source": [
    "## Get Extra Metadata\n",
    "\n",
    "* Total Listers\n",
    "* Total Artists\n",
    "* Total Albums"
   ]
  },
  {
   "cell_type": "code",
   "execution_count": 4,
   "metadata": {},
   "outputs": [],
   "source": [
    "from data.data import TOTAL_LISTERS, TOTAL_ARTISTS, TOTAL_ALBUMS"
   ]
  },
  {
   "cell_type": "code",
   "execution_count": 5,
   "metadata": {},
   "outputs": [
    {
     "data": {
      "text/plain": [
       "98"
      ]
     },
     "execution_count": 5,
     "metadata": {},
     "output_type": "execute_result"
    }
   ],
   "source": [
    "TOTAL_LISTERS"
   ]
  },
  {
   "cell_type": "code",
   "execution_count": 6,
   "metadata": {},
   "outputs": [
    {
     "data": {
      "text/plain": [
       "432"
      ]
     },
     "execution_count": 6,
     "metadata": {},
     "output_type": "execute_result"
    }
   ],
   "source": [
    "TOTAL_ARTISTS"
   ]
  },
  {
   "cell_type": "code",
   "execution_count": 7,
   "metadata": {},
   "outputs": [
    {
     "data": {
      "text/plain": [
       "436"
      ]
     },
     "execution_count": 7,
     "metadata": {},
     "output_type": "execute_result"
    }
   ],
   "source": [
    "TOTAL_ALBUMS"
   ]
  },
  {
   "cell_type": "markdown",
   "metadata": {},
   "source": [
    "* album_submission_count for each album\n",
    "* unique_album_submission tag for each submission\n",
    "* artist_album_release_count\n",
    "* multi_album_artist"
   ]
  },
  {
   "cell_type": "code",
   "execution_count": 8,
   "metadata": {},
   "outputs": [
    {
     "data": {
      "text/html": [
       "<div>\n",
       "<style scoped>\n",
       "    .dataframe tbody tr th:only-of-type {\n",
       "        vertical-align: middle;\n",
       "    }\n",
       "\n",
       "    .dataframe tbody tr th {\n",
       "        vertical-align: top;\n",
       "    }\n",
       "\n",
       "    .dataframe thead th {\n",
       "        text-align: right;\n",
       "    }\n",
       "</style>\n",
       "<table border=\"1\" class=\"dataframe\">\n",
       "  <thead>\n",
       "    <tr style=\"text-align: right;\">\n",
       "      <th></th>\n",
       "      <th>Artist</th>\n",
       "      <th>Album</th>\n",
       "    </tr>\n",
       "  </thead>\n",
       "  <tbody>\n",
       "    <tr>\n",
       "      <th>49</th>\n",
       "      <td>Hobo Johnson</td>\n",
       "      <td>The Revenge of Hobo Johnson</td>\n",
       "    </tr>\n",
       "    <tr>\n",
       "      <th>85</th>\n",
       "      <td>Drake</td>\n",
       "      <td>Certified Lover Boy</td>\n",
       "    </tr>\n",
       "    <tr>\n",
       "      <th>102</th>\n",
       "      <td>Benny Sings</td>\n",
       "      <td>Music</td>\n",
       "    </tr>\n",
       "    <tr>\n",
       "      <th>213</th>\n",
       "      <td>Drake</td>\n",
       "      <td>Scary Hours 2</td>\n",
       "    </tr>\n",
       "    <tr>\n",
       "      <th>243</th>\n",
       "      <td>Lana Del Rey</td>\n",
       "      <td>Chemtrails Over the Country Club</td>\n",
       "    </tr>\n",
       "    <tr>\n",
       "      <th>267</th>\n",
       "      <td>Eric Church</td>\n",
       "      <td>Soul</td>\n",
       "    </tr>\n",
       "    <tr>\n",
       "      <th>416</th>\n",
       "      <td>Benny Sings</td>\n",
       "      <td>Beat Tape II</td>\n",
       "    </tr>\n",
       "    <tr>\n",
       "      <th>534</th>\n",
       "      <td>Various Artists</td>\n",
       "      <td>The Harder They Fall (The Motion Picture Sound...</td>\n",
       "    </tr>\n",
       "    <tr>\n",
       "      <th>622</th>\n",
       "      <td>Lana Del Rey</td>\n",
       "      <td>Blue Banisters</td>\n",
       "    </tr>\n",
       "    <tr>\n",
       "      <th>643</th>\n",
       "      <td>Eric Church</td>\n",
       "      <td>Heart</td>\n",
       "    </tr>\n",
       "    <tr>\n",
       "      <th>657</th>\n",
       "      <td>Hobo Johnson</td>\n",
       "      <td>Hobo Johnson Alienates His Fanbase</td>\n",
       "    </tr>\n",
       "    <tr>\n",
       "      <th>681</th>\n",
       "      <td>Joshua Bassett</td>\n",
       "      <td>Joshua Bassett</td>\n",
       "    </tr>\n",
       "    <tr>\n",
       "      <th>684</th>\n",
       "      <td>Joshua Bassett</td>\n",
       "      <td>CRISIS</td>\n",
       "    </tr>\n",
       "    <tr>\n",
       "      <th>856</th>\n",
       "      <td>Various Artists</td>\n",
       "      <td>tick, tick... BOOM! (Soundtrack from the Netfl...</td>\n",
       "    </tr>\n",
       "  </tbody>\n",
       "</table>\n",
       "</div>"
      ],
      "text/plain": [
       "              Artist                                              Album\n",
       "49      Hobo Johnson                        The Revenge of Hobo Johnson\n",
       "85             Drake                                Certified Lover Boy\n",
       "102      Benny Sings                                              Music\n",
       "213            Drake                                      Scary Hours 2\n",
       "243     Lana Del Rey                   Chemtrails Over the Country Club\n",
       "267      Eric Church                                               Soul\n",
       "416      Benny Sings                                       Beat Tape II\n",
       "534  Various Artists  The Harder They Fall (The Motion Picture Sound...\n",
       "622     Lana Del Rey                                     Blue Banisters\n",
       "643      Eric Church                                              Heart\n",
       "657     Hobo Johnson                 Hobo Johnson Alienates His Fanbase\n",
       "681   Joshua Bassett                                     Joshua Bassett\n",
       "684   Joshua Bassett                                             CRISIS\n",
       "856  Various Artists  tick, tick... BOOM! (Soundtrack from the Netfl..."
      ]
     },
     "execution_count": 8,
     "metadata": {},
     "output_type": "execute_result"
    }
   ],
   "source": [
    "AOTY.loc[AOTY[\"multi_album_artist\"] == True][[\"Artist\", \"Album\"]].drop_duplicates()"
   ]
  },
  {
   "cell_type": "code",
   "execution_count": 9,
   "metadata": {},
   "outputs": [
    {
     "data": {
      "text/plain": [
       "436"
      ]
     },
     "execution_count": 9,
     "metadata": {},
     "output_type": "execute_result"
    }
   ],
   "source": [
    "len(set(pd.read_csv(\"data/AOTY-2021-lists.csv\")[\"Album\"]))"
   ]
  },
  {
   "cell_type": "code",
   "execution_count": 10,
   "metadata": {},
   "outputs": [
    {
     "data": {
      "text/plain": [
       "436"
      ]
     },
     "execution_count": 10,
     "metadata": {},
     "output_type": "execute_result"
    }
   ],
   "source": [
    "AOTY[\"Album\"].nunique()"
   ]
  },
  {
   "cell_type": "markdown",
   "metadata": {},
   "source": [
    "### Scrape Genre Metadata?"
   ]
  },
  {
   "cell_type": "code",
   "execution_count": null,
   "metadata": {},
   "outputs": [],
   "source": []
  },
  {
   "cell_type": "markdown",
   "metadata": {},
   "source": [
    "---\n",
    "\n",
    "# Dataviz"
   ]
  },
  {
   "cell_type": "markdown",
   "metadata": {},
   "source": [
    "##### Top 10 Album Barchart"
   ]
  },
  {
   "cell_type": "code",
   "execution_count": 11,
   "metadata": {},
   "outputs": [
    {
     "data": {
      "text/html": [
       "<div>\n",
       "<style scoped>\n",
       "    .dataframe tbody tr th:only-of-type {\n",
       "        vertical-align: middle;\n",
       "    }\n",
       "\n",
       "    .dataframe tbody tr th {\n",
       "        vertical-align: top;\n",
       "    }\n",
       "\n",
       "    .dataframe thead th {\n",
       "        text-align: right;\n",
       "    }\n",
       "</style>\n",
       "<table border=\"1\" class=\"dataframe\">\n",
       "  <thead>\n",
       "    <tr style=\"text-align: right;\">\n",
       "      <th></th>\n",
       "      <th>Rank</th>\n",
       "      <th>Lister</th>\n",
       "      <th>Artist</th>\n",
       "      <th>Album</th>\n",
       "      <th>album_submission_count</th>\n",
       "      <th>album_score</th>\n",
       "      <th>album_average_rank</th>\n",
       "      <th>unique_album_submission</th>\n",
       "      <th>artist_album_release_count</th>\n",
       "      <th>multi_album_artist</th>\n",
       "    </tr>\n",
       "  </thead>\n",
       "  <tbody>\n",
       "    <tr>\n",
       "      <th>0</th>\n",
       "      <td>1</td>\n",
       "      <td>Aaron</td>\n",
       "      <td>The Dirty Nil</td>\n",
       "      <td>Fuck Art</td>\n",
       "      <td>2</td>\n",
       "      <td>15</td>\n",
       "      <td>3.500000</td>\n",
       "      <td>False</td>\n",
       "      <td>1</td>\n",
       "      <td>False</td>\n",
       "    </tr>\n",
       "    <tr>\n",
       "      <th>1</th>\n",
       "      <td>2</td>\n",
       "      <td>Aaron</td>\n",
       "      <td>Whitechapel</td>\n",
       "      <td>Kin</td>\n",
       "      <td>1</td>\n",
       "      <td>9</td>\n",
       "      <td>2.000000</td>\n",
       "      <td>True</td>\n",
       "      <td>1</td>\n",
       "      <td>False</td>\n",
       "    </tr>\n",
       "    <tr>\n",
       "      <th>2</th>\n",
       "      <td>3</td>\n",
       "      <td>Aaron</td>\n",
       "      <td>That Handsome Devil</td>\n",
       "      <td>Your Parents Are Sellouts</td>\n",
       "      <td>1</td>\n",
       "      <td>8</td>\n",
       "      <td>3.000000</td>\n",
       "      <td>True</td>\n",
       "      <td>1</td>\n",
       "      <td>False</td>\n",
       "    </tr>\n",
       "    <tr>\n",
       "      <th>3</th>\n",
       "      <td>4</td>\n",
       "      <td>Aaron</td>\n",
       "      <td>Billie Eilish</td>\n",
       "      <td>Happier Than Ever</td>\n",
       "      <td>22</td>\n",
       "      <td>137</td>\n",
       "      <td>4.772727</td>\n",
       "      <td>False</td>\n",
       "      <td>1</td>\n",
       "      <td>False</td>\n",
       "    </tr>\n",
       "    <tr>\n",
       "      <th>4</th>\n",
       "      <td>5</td>\n",
       "      <td>Aaron</td>\n",
       "      <td>Lorna Shore</td>\n",
       "      <td>...And I Return To Nothingness</td>\n",
       "      <td>1</td>\n",
       "      <td>6</td>\n",
       "      <td>5.000000</td>\n",
       "      <td>True</td>\n",
       "      <td>1</td>\n",
       "      <td>False</td>\n",
       "    </tr>\n",
       "    <tr>\n",
       "      <th>...</th>\n",
       "      <td>...</td>\n",
       "      <td>...</td>\n",
       "      <td>...</td>\n",
       "      <td>...</td>\n",
       "      <td>...</td>\n",
       "      <td>...</td>\n",
       "      <td>...</td>\n",
       "      <td>...</td>\n",
       "      <td>...</td>\n",
       "      <td>...</td>\n",
       "    </tr>\n",
       "    <tr>\n",
       "      <th>975</th>\n",
       "      <td>6</td>\n",
       "      <td>Zack</td>\n",
       "      <td>Mark Barlow</td>\n",
       "      <td>Hymns &amp; Soul</td>\n",
       "      <td>2</td>\n",
       "      <td>15</td>\n",
       "      <td>3.500000</td>\n",
       "      <td>False</td>\n",
       "      <td>1</td>\n",
       "      <td>False</td>\n",
       "    </tr>\n",
       "    <tr>\n",
       "      <th>976</th>\n",
       "      <td>7</td>\n",
       "      <td>Zack</td>\n",
       "      <td>Aquilo</td>\n",
       "      <td>A Safe Place To Be</td>\n",
       "      <td>1</td>\n",
       "      <td>4</td>\n",
       "      <td>7.000000</td>\n",
       "      <td>True</td>\n",
       "      <td>1</td>\n",
       "      <td>False</td>\n",
       "    </tr>\n",
       "    <tr>\n",
       "      <th>977</th>\n",
       "      <td>8</td>\n",
       "      <td>Zack</td>\n",
       "      <td>Tingsek</td>\n",
       "      <td>Home</td>\n",
       "      <td>2</td>\n",
       "      <td>4</td>\n",
       "      <td>9.000000</td>\n",
       "      <td>False</td>\n",
       "      <td>1</td>\n",
       "      <td>False</td>\n",
       "    </tr>\n",
       "    <tr>\n",
       "      <th>978</th>\n",
       "      <td>9</td>\n",
       "      <td>Zack</td>\n",
       "      <td>Ben Howard</td>\n",
       "      <td>Collections From The Whiteout</td>\n",
       "      <td>2</td>\n",
       "      <td>6</td>\n",
       "      <td>8.000000</td>\n",
       "      <td>False</td>\n",
       "      <td>1</td>\n",
       "      <td>False</td>\n",
       "    </tr>\n",
       "    <tr>\n",
       "      <th>979</th>\n",
       "      <td>10</td>\n",
       "      <td>Zack</td>\n",
       "      <td>The Paper Kites</td>\n",
       "      <td>Roses</td>\n",
       "      <td>1</td>\n",
       "      <td>1</td>\n",
       "      <td>10.000000</td>\n",
       "      <td>True</td>\n",
       "      <td>1</td>\n",
       "      <td>False</td>\n",
       "    </tr>\n",
       "  </tbody>\n",
       "</table>\n",
       "<p>980 rows × 10 columns</p>\n",
       "</div>"
      ],
      "text/plain": [
       "     Rank Lister               Artist                           Album  \\\n",
       "0       1  Aaron        The Dirty Nil                        Fuck Art   \n",
       "1       2  Aaron          Whitechapel                             Kin   \n",
       "2       3  Aaron  That Handsome Devil       Your Parents Are Sellouts   \n",
       "3       4  Aaron        Billie Eilish               Happier Than Ever   \n",
       "4       5  Aaron          Lorna Shore  ...And I Return To Nothingness   \n",
       "..    ...    ...                  ...                             ...   \n",
       "975     6   Zack          Mark Barlow                    Hymns & Soul   \n",
       "976     7   Zack               Aquilo              A Safe Place To Be   \n",
       "977     8   Zack              Tingsek                            Home   \n",
       "978     9   Zack           Ben Howard   Collections From The Whiteout   \n",
       "979    10   Zack      The Paper Kites                           Roses   \n",
       "\n",
       "     album_submission_count  album_score  album_average_rank  \\\n",
       "0                         2           15            3.500000   \n",
       "1                         1            9            2.000000   \n",
       "2                         1            8            3.000000   \n",
       "3                        22          137            4.772727   \n",
       "4                         1            6            5.000000   \n",
       "..                      ...          ...                 ...   \n",
       "975                       2           15            3.500000   \n",
       "976                       1            4            7.000000   \n",
       "977                       2            4            9.000000   \n",
       "978                       2            6            8.000000   \n",
       "979                       1            1           10.000000   \n",
       "\n",
       "     unique_album_submission  artist_album_release_count  multi_album_artist  \n",
       "0                      False                           1               False  \n",
       "1                       True                           1               False  \n",
       "2                       True                           1               False  \n",
       "3                      False                           1               False  \n",
       "4                       True                           1               False  \n",
       "..                       ...                         ...                 ...  \n",
       "975                    False                           1               False  \n",
       "976                     True                           1               False  \n",
       "977                    False                           1               False  \n",
       "978                    False                           1               False  \n",
       "979                     True                           1               False  \n",
       "\n",
       "[980 rows x 10 columns]"
      ]
     },
     "execution_count": 11,
     "metadata": {},
     "output_type": "execute_result"
    }
   ],
   "source": [
    "\n",
    "AOTY"
   ]
  },
  {
   "cell_type": "code",
   "execution_count": 12,
   "metadata": {},
   "outputs": [],
   "source": [
    "from data.data import AOTY_by_album\n"
   ]
  },
  {
   "cell_type": "code",
   "execution_count": 13,
   "metadata": {},
   "outputs": [
    {
     "data": {
      "text/html": [
       "<div>\n",
       "<style scoped>\n",
       "    .dataframe tbody tr th:only-of-type {\n",
       "        vertical-align: middle;\n",
       "    }\n",
       "\n",
       "    .dataframe tbody tr th {\n",
       "        vertical-align: top;\n",
       "    }\n",
       "\n",
       "    .dataframe thead th {\n",
       "        text-align: right;\n",
       "    }\n",
       "</style>\n",
       "<table border=\"1\" class=\"dataframe\">\n",
       "  <thead>\n",
       "    <tr style=\"text-align: right;\">\n",
       "      <th></th>\n",
       "      <th>Artist</th>\n",
       "      <th>Album</th>\n",
       "      <th>album_score</th>\n",
       "      <th>album_average_rank</th>\n",
       "      <th>album_submission_count</th>\n",
       "      <th>unique_album_submission</th>\n",
       "      <th>artist_album_release_count</th>\n",
       "      <th>multi_album_artist</th>\n",
       "    </tr>\n",
       "  </thead>\n",
       "  <tbody>\n",
       "    <tr>\n",
       "      <th>0</th>\n",
       "      <td>88rising, DJ Snake, and Niki</td>\n",
       "      <td>Shang-Chi and the Legend of the Ten Rings: The...</td>\n",
       "      <td>2</td>\n",
       "      <td>9.000000</td>\n",
       "      <td>1</td>\n",
       "      <td>1</td>\n",
       "      <td>1</td>\n",
       "      <td>0</td>\n",
       "    </tr>\n",
       "    <tr>\n",
       "      <th>1</th>\n",
       "      <td>$uicideboy$</td>\n",
       "      <td>Long Term Effects of SUFFERING</td>\n",
       "      <td>8</td>\n",
       "      <td>3.000000</td>\n",
       "      <td>1</td>\n",
       "      <td>1</td>\n",
       "      <td>1</td>\n",
       "      <td>0</td>\n",
       "    </tr>\n",
       "    <tr>\n",
       "      <th>2</th>\n",
       "      <td>24kGoldn</td>\n",
       "      <td>El Dorado</td>\n",
       "      <td>5</td>\n",
       "      <td>6.000000</td>\n",
       "      <td>1</td>\n",
       "      <td>1</td>\n",
       "      <td>1</td>\n",
       "      <td>0</td>\n",
       "    </tr>\n",
       "    <tr>\n",
       "      <th>3</th>\n",
       "      <td>42 Dugg</td>\n",
       "      <td>Free Dem Boyz</td>\n",
       "      <td>8</td>\n",
       "      <td>3.000000</td>\n",
       "      <td>1</td>\n",
       "      <td>1</td>\n",
       "      <td>1</td>\n",
       "      <td>0</td>\n",
       "    </tr>\n",
       "    <tr>\n",
       "      <th>4</th>\n",
       "      <td>ABBA</td>\n",
       "      <td>Voyage</td>\n",
       "      <td>32</td>\n",
       "      <td>6.428571</td>\n",
       "      <td>7</td>\n",
       "      <td>0</td>\n",
       "      <td>1</td>\n",
       "      <td>0</td>\n",
       "    </tr>\n",
       "    <tr>\n",
       "      <th>...</th>\n",
       "      <td>...</td>\n",
       "      <td>...</td>\n",
       "      <td>...</td>\n",
       "      <td>...</td>\n",
       "      <td>...</td>\n",
       "      <td>...</td>\n",
       "      <td>...</td>\n",
       "      <td>...</td>\n",
       "    </tr>\n",
       "    <tr>\n",
       "      <th>434</th>\n",
       "      <td>daysormay</td>\n",
       "      <td>Just Existing</td>\n",
       "      <td>13</td>\n",
       "      <td>6.666667</td>\n",
       "      <td>3</td>\n",
       "      <td>0</td>\n",
       "      <td>1</td>\n",
       "      <td>0</td>\n",
       "    </tr>\n",
       "    <tr>\n",
       "      <th>435</th>\n",
       "      <td>dodie</td>\n",
       "      <td>Build A Problem</td>\n",
       "      <td>15</td>\n",
       "      <td>3.500000</td>\n",
       "      <td>2</td>\n",
       "      <td>0</td>\n",
       "      <td>1</td>\n",
       "      <td>0</td>\n",
       "    </tr>\n",
       "    <tr>\n",
       "      <th>436</th>\n",
       "      <td>girl in red</td>\n",
       "      <td>if i could make it go quiet</td>\n",
       "      <td>12</td>\n",
       "      <td>7.000000</td>\n",
       "      <td>3</td>\n",
       "      <td>0</td>\n",
       "      <td>1</td>\n",
       "      <td>0</td>\n",
       "    </tr>\n",
       "    <tr>\n",
       "      <th>437</th>\n",
       "      <td>nothing, nowhere.</td>\n",
       "      <td>Trauma Factory</td>\n",
       "      <td>9</td>\n",
       "      <td>2.000000</td>\n",
       "      <td>1</td>\n",
       "      <td>1</td>\n",
       "      <td>1</td>\n",
       "      <td>0</td>\n",
       "    </tr>\n",
       "    <tr>\n",
       "      <th>438</th>\n",
       "      <td>quickly, quickly</td>\n",
       "      <td>The Long and Short of It</td>\n",
       "      <td>14</td>\n",
       "      <td>4.000000</td>\n",
       "      <td>2</td>\n",
       "      <td>0</td>\n",
       "      <td>1</td>\n",
       "      <td>0</td>\n",
       "    </tr>\n",
       "  </tbody>\n",
       "</table>\n",
       "<p>439 rows × 8 columns</p>\n",
       "</div>"
      ],
      "text/plain": [
       "                            Artist  \\\n",
       "0     88rising, DJ Snake, and Niki   \n",
       "1                      $uicideboy$   \n",
       "2                         24kGoldn   \n",
       "3                          42 Dugg   \n",
       "4                             ABBA   \n",
       "..                             ...   \n",
       "434                      daysormay   \n",
       "435                          dodie   \n",
       "436                    girl in red   \n",
       "437              nothing, nowhere.   \n",
       "438               quickly, quickly   \n",
       "\n",
       "                                                 Album  album_score  \\\n",
       "0    Shang-Chi and the Legend of the Ten Rings: The...            2   \n",
       "1                       Long Term Effects of SUFFERING            8   \n",
       "2                                            El Dorado            5   \n",
       "3                                        Free Dem Boyz            8   \n",
       "4                                               Voyage           32   \n",
       "..                                                 ...          ...   \n",
       "434                                      Just Existing           13   \n",
       "435                                    Build A Problem           15   \n",
       "436                        if i could make it go quiet           12   \n",
       "437                                     Trauma Factory            9   \n",
       "438                           The Long and Short of It           14   \n",
       "\n",
       "     album_average_rank  album_submission_count  unique_album_submission  \\\n",
       "0              9.000000                       1                        1   \n",
       "1              3.000000                       1                        1   \n",
       "2              6.000000                       1                        1   \n",
       "3              3.000000                       1                        1   \n",
       "4              6.428571                       7                        0   \n",
       "..                  ...                     ...                      ...   \n",
       "434            6.666667                       3                        0   \n",
       "435            3.500000                       2                        0   \n",
       "436            7.000000                       3                        0   \n",
       "437            2.000000                       1                        1   \n",
       "438            4.000000                       2                        0   \n",
       "\n",
       "     artist_album_release_count  multi_album_artist  \n",
       "0                             1                   0  \n",
       "1                             1                   0  \n",
       "2                             1                   0  \n",
       "3                             1                   0  \n",
       "4                             1                   0  \n",
       "..                          ...                 ...  \n",
       "434                           1                   0  \n",
       "435                           1                   0  \n",
       "436                           1                   0  \n",
       "437                           1                   0  \n",
       "438                           1                   0  \n",
       "\n",
       "[439 rows x 8 columns]"
      ]
     },
     "execution_count": 13,
     "metadata": {},
     "output_type": "execute_result"
    }
   ],
   "source": [
    "AOTY_by_album"
   ]
  },
  {
   "cell_type": "code",
   "execution_count": 18,
   "metadata": {},
   "outputs": [
    {
     "data": {
      "text/plain": [
       "12.362186788154897"
      ]
     },
     "execution_count": 18,
     "metadata": {},
     "output_type": "execute_result"
    }
   ],
   "source": [
    "top_10_albums = AOTY_by_album.sort_values(\"album_score\", ascending=False).head(10)\n",
    "\n",
    "AOTY_by_album[\"album_score\"].quantile(0.50)\n",
    "AOTY_by_album[\"album_score\"].mean()\n",
    "\n",
    "\n"
   ]
  },
  {
   "cell_type": "code",
   "execution_count": 15,
   "metadata": {},
   "outputs": [
    {
     "data": {
      "application/vnd.plotly.v1+json": {
       "config": {
        "plotlyServerURL": "https://plot.ly"
       },
       "data": [
        {
         "alignmentgroup": "True",
         "customdata": [
          [
           "Silk Sonic"
          ],
          [
           "Adele"
          ],
          [
           "Olivia Rodrigo"
          ],
          [
           "Billie Eilish"
          ],
          [
           "Tyler, the Creator"
          ],
          [
           "Lil Nas X"
          ],
          [
           "Julien Baker"
          ],
          [
           "Bo Burnham"
          ],
          [
           "Lorde"
          ],
          [
           "Parcels"
          ]
         ],
         "hovertemplate": "<b>%{customdata}</b> - <i>%{x}</i><br><br>Album Score: %{y}<extra></extra>",
         "hovertext": [
          "An Evening With Silk Sonic",
          "30",
          "Sour",
          "Happier Than Ever",
          "Call Me If You Get Lost",
          "Montero",
          "Little Oblivions",
          "Inside (The Songs)",
          "Solar Power",
          "Day/Night"
         ],
         "legendgroup": "album_score",
         "marker": {
          "color": "#1F77B4",
          "pattern": {
           "shape": ""
          }
         },
         "name": "album_score",
         "offsetgroup": "album_score",
         "orientation": "v",
         "showlegend": true,
         "textposition": "auto",
         "texttemplate": "%{y}",
         "type": "bar",
         "x": [
          "An Evening With Silk Sonic",
          "30",
          "Sour",
          "Happier Than Ever",
          "Call Me If You Get Lost",
          "Montero",
          "Little Oblivions",
          "Inside (The Songs)",
          "Solar Power",
          "Day/Night"
         ],
         "xaxis": "x",
         "y": [
          171,
          138,
          137,
          137,
          133,
          102,
          79,
          78,
          71,
          64
         ],
         "yaxis": "y"
        }
       ],
       "layout": {
        "annotations": [
         {
          "font": {
           "color": "lightgrey"
          },
          "showarrow": false,
          "text": "'Usual' Album scores",
          "x": 1,
          "xanchor": "right",
          "xref": "x domain",
          "y": 12.5,
          "yanchor": "top",
          "yref": "y"
         }
        ],
        "barmode": "group",
        "hovermode": "closest",
        "legend": {
         "title": {
          "text": "variable"
         },
         "tracegroupgap": 0
        },
        "shapes": [
         {
          "fillcolor": "dark grey",
          "opacity": 0.3,
          "type": "rect",
          "x0": 0,
          "x1": 1,
          "xref": "x domain",
          "y0": 3.5,
          "y1": 12.5,
          "yref": "y"
         }
        ],
        "showlegend": false,
        "template": {
         "data": {
          "bar": [
           {
            "error_x": {
             "color": "rgb(36,36,36)"
            },
            "error_y": {
             "color": "rgb(36,36,36)"
            },
            "marker": {
             "line": {
              "color": "white",
              "width": 0.5
             },
             "pattern": {
              "fillmode": "overlay",
              "size": 10,
              "solidity": 0.2
             }
            },
            "type": "bar"
           }
          ],
          "barpolar": [
           {
            "marker": {
             "line": {
              "color": "white",
              "width": 0.5
             },
             "pattern": {
              "fillmode": "overlay",
              "size": 10,
              "solidity": 0.2
             }
            },
            "type": "barpolar"
           }
          ],
          "carpet": [
           {
            "aaxis": {
             "endlinecolor": "rgb(36,36,36)",
             "gridcolor": "white",
             "linecolor": "white",
             "minorgridcolor": "white",
             "startlinecolor": "rgb(36,36,36)"
            },
            "baxis": {
             "endlinecolor": "rgb(36,36,36)",
             "gridcolor": "white",
             "linecolor": "white",
             "minorgridcolor": "white",
             "startlinecolor": "rgb(36,36,36)"
            },
            "type": "carpet"
           }
          ],
          "choropleth": [
           {
            "colorbar": {
             "outlinewidth": 1,
             "tickcolor": "rgb(36,36,36)",
             "ticks": "outside"
            },
            "type": "choropleth"
           }
          ],
          "contour": [
           {
            "colorbar": {
             "outlinewidth": 1,
             "tickcolor": "rgb(36,36,36)",
             "ticks": "outside"
            },
            "colorscale": [
             [
              0,
              "#440154"
             ],
             [
              0.1111111111111111,
              "#482878"
             ],
             [
              0.2222222222222222,
              "#3e4989"
             ],
             [
              0.3333333333333333,
              "#31688e"
             ],
             [
              0.4444444444444444,
              "#26828e"
             ],
             [
              0.5555555555555556,
              "#1f9e89"
             ],
             [
              0.6666666666666666,
              "#35b779"
             ],
             [
              0.7777777777777778,
              "#6ece58"
             ],
             [
              0.8888888888888888,
              "#b5de2b"
             ],
             [
              1,
              "#fde725"
             ]
            ],
            "type": "contour"
           }
          ],
          "contourcarpet": [
           {
            "colorbar": {
             "outlinewidth": 1,
             "tickcolor": "rgb(36,36,36)",
             "ticks": "outside"
            },
            "type": "contourcarpet"
           }
          ],
          "heatmap": [
           {
            "colorbar": {
             "outlinewidth": 1,
             "tickcolor": "rgb(36,36,36)",
             "ticks": "outside"
            },
            "colorscale": [
             [
              0,
              "#440154"
             ],
             [
              0.1111111111111111,
              "#482878"
             ],
             [
              0.2222222222222222,
              "#3e4989"
             ],
             [
              0.3333333333333333,
              "#31688e"
             ],
             [
              0.4444444444444444,
              "#26828e"
             ],
             [
              0.5555555555555556,
              "#1f9e89"
             ],
             [
              0.6666666666666666,
              "#35b779"
             ],
             [
              0.7777777777777778,
              "#6ece58"
             ],
             [
              0.8888888888888888,
              "#b5de2b"
             ],
             [
              1,
              "#fde725"
             ]
            ],
            "type": "heatmap"
           }
          ],
          "heatmapgl": [
           {
            "colorbar": {
             "outlinewidth": 1,
             "tickcolor": "rgb(36,36,36)",
             "ticks": "outside"
            },
            "colorscale": [
             [
              0,
              "#440154"
             ],
             [
              0.1111111111111111,
              "#482878"
             ],
             [
              0.2222222222222222,
              "#3e4989"
             ],
             [
              0.3333333333333333,
              "#31688e"
             ],
             [
              0.4444444444444444,
              "#26828e"
             ],
             [
              0.5555555555555556,
              "#1f9e89"
             ],
             [
              0.6666666666666666,
              "#35b779"
             ],
             [
              0.7777777777777778,
              "#6ece58"
             ],
             [
              0.8888888888888888,
              "#b5de2b"
             ],
             [
              1,
              "#fde725"
             ]
            ],
            "type": "heatmapgl"
           }
          ],
          "histogram": [
           {
            "marker": {
             "line": {
              "color": "white",
              "width": 0.6
             }
            },
            "type": "histogram"
           }
          ],
          "histogram2d": [
           {
            "colorbar": {
             "outlinewidth": 1,
             "tickcolor": "rgb(36,36,36)",
             "ticks": "outside"
            },
            "colorscale": [
             [
              0,
              "#440154"
             ],
             [
              0.1111111111111111,
              "#482878"
             ],
             [
              0.2222222222222222,
              "#3e4989"
             ],
             [
              0.3333333333333333,
              "#31688e"
             ],
             [
              0.4444444444444444,
              "#26828e"
             ],
             [
              0.5555555555555556,
              "#1f9e89"
             ],
             [
              0.6666666666666666,
              "#35b779"
             ],
             [
              0.7777777777777778,
              "#6ece58"
             ],
             [
              0.8888888888888888,
              "#b5de2b"
             ],
             [
              1,
              "#fde725"
             ]
            ],
            "type": "histogram2d"
           }
          ],
          "histogram2dcontour": [
           {
            "colorbar": {
             "outlinewidth": 1,
             "tickcolor": "rgb(36,36,36)",
             "ticks": "outside"
            },
            "colorscale": [
             [
              0,
              "#440154"
             ],
             [
              0.1111111111111111,
              "#482878"
             ],
             [
              0.2222222222222222,
              "#3e4989"
             ],
             [
              0.3333333333333333,
              "#31688e"
             ],
             [
              0.4444444444444444,
              "#26828e"
             ],
             [
              0.5555555555555556,
              "#1f9e89"
             ],
             [
              0.6666666666666666,
              "#35b779"
             ],
             [
              0.7777777777777778,
              "#6ece58"
             ],
             [
              0.8888888888888888,
              "#b5de2b"
             ],
             [
              1,
              "#fde725"
             ]
            ],
            "type": "histogram2dcontour"
           }
          ],
          "mesh3d": [
           {
            "colorbar": {
             "outlinewidth": 1,
             "tickcolor": "rgb(36,36,36)",
             "ticks": "outside"
            },
            "type": "mesh3d"
           }
          ],
          "parcoords": [
           {
            "line": {
             "colorbar": {
              "outlinewidth": 1,
              "tickcolor": "rgb(36,36,36)",
              "ticks": "outside"
             }
            },
            "type": "parcoords"
           }
          ],
          "pie": [
           {
            "automargin": true,
            "type": "pie"
           }
          ],
          "scatter": [
           {
            "marker": {
             "colorbar": {
              "outlinewidth": 1,
              "tickcolor": "rgb(36,36,36)",
              "ticks": "outside"
             }
            },
            "type": "scatter"
           }
          ],
          "scatter3d": [
           {
            "line": {
             "colorbar": {
              "outlinewidth": 1,
              "tickcolor": "rgb(36,36,36)",
              "ticks": "outside"
             }
            },
            "marker": {
             "colorbar": {
              "outlinewidth": 1,
              "tickcolor": "rgb(36,36,36)",
              "ticks": "outside"
             }
            },
            "type": "scatter3d"
           }
          ],
          "scattercarpet": [
           {
            "marker": {
             "colorbar": {
              "outlinewidth": 1,
              "tickcolor": "rgb(36,36,36)",
              "ticks": "outside"
             }
            },
            "type": "scattercarpet"
           }
          ],
          "scattergeo": [
           {
            "marker": {
             "colorbar": {
              "outlinewidth": 1,
              "tickcolor": "rgb(36,36,36)",
              "ticks": "outside"
             }
            },
            "type": "scattergeo"
           }
          ],
          "scattergl": [
           {
            "marker": {
             "colorbar": {
              "outlinewidth": 1,
              "tickcolor": "rgb(36,36,36)",
              "ticks": "outside"
             }
            },
            "type": "scattergl"
           }
          ],
          "scattermapbox": [
           {
            "marker": {
             "colorbar": {
              "outlinewidth": 1,
              "tickcolor": "rgb(36,36,36)",
              "ticks": "outside"
             }
            },
            "type": "scattermapbox"
           }
          ],
          "scatterpolar": [
           {
            "marker": {
             "colorbar": {
              "outlinewidth": 1,
              "tickcolor": "rgb(36,36,36)",
              "ticks": "outside"
             }
            },
            "type": "scatterpolar"
           }
          ],
          "scatterpolargl": [
           {
            "marker": {
             "colorbar": {
              "outlinewidth": 1,
              "tickcolor": "rgb(36,36,36)",
              "ticks": "outside"
             }
            },
            "type": "scatterpolargl"
           }
          ],
          "scatterternary": [
           {
            "marker": {
             "colorbar": {
              "outlinewidth": 1,
              "tickcolor": "rgb(36,36,36)",
              "ticks": "outside"
             }
            },
            "type": "scatterternary"
           }
          ],
          "surface": [
           {
            "colorbar": {
             "outlinewidth": 1,
             "tickcolor": "rgb(36,36,36)",
             "ticks": "outside"
            },
            "colorscale": [
             [
              0,
              "#440154"
             ],
             [
              0.1111111111111111,
              "#482878"
             ],
             [
              0.2222222222222222,
              "#3e4989"
             ],
             [
              0.3333333333333333,
              "#31688e"
             ],
             [
              0.4444444444444444,
              "#26828e"
             ],
             [
              0.5555555555555556,
              "#1f9e89"
             ],
             [
              0.6666666666666666,
              "#35b779"
             ],
             [
              0.7777777777777778,
              "#6ece58"
             ],
             [
              0.8888888888888888,
              "#b5de2b"
             ],
             [
              1,
              "#fde725"
             ]
            ],
            "type": "surface"
           }
          ],
          "table": [
           {
            "cells": {
             "fill": {
              "color": "rgb(237,237,237)"
             },
             "line": {
              "color": "white"
             }
            },
            "header": {
             "fill": {
              "color": "rgb(217,217,217)"
             },
             "line": {
              "color": "white"
             }
            },
            "type": "table"
           }
          ]
         },
         "layout": {
          "annotationdefaults": {
           "arrowhead": 0,
           "arrowwidth": 1
          },
          "autotypenumbers": "strict",
          "coloraxis": {
           "colorbar": {
            "outlinewidth": 1,
            "tickcolor": "rgb(36,36,36)",
            "ticks": "outside"
           }
          },
          "colorscale": {
           "diverging": [
            [
             0,
             "rgb(103,0,31)"
            ],
            [
             0.1,
             "rgb(178,24,43)"
            ],
            [
             0.2,
             "rgb(214,96,77)"
            ],
            [
             0.3,
             "rgb(244,165,130)"
            ],
            [
             0.4,
             "rgb(253,219,199)"
            ],
            [
             0.5,
             "rgb(247,247,247)"
            ],
            [
             0.6,
             "rgb(209,229,240)"
            ],
            [
             0.7,
             "rgb(146,197,222)"
            ],
            [
             0.8,
             "rgb(67,147,195)"
            ],
            [
             0.9,
             "rgb(33,102,172)"
            ],
            [
             1,
             "rgb(5,48,97)"
            ]
           ],
           "sequential": [
            [
             0,
             "#440154"
            ],
            [
             0.1111111111111111,
             "#482878"
            ],
            [
             0.2222222222222222,
             "#3e4989"
            ],
            [
             0.3333333333333333,
             "#31688e"
            ],
            [
             0.4444444444444444,
             "#26828e"
            ],
            [
             0.5555555555555556,
             "#1f9e89"
            ],
            [
             0.6666666666666666,
             "#35b779"
            ],
            [
             0.7777777777777778,
             "#6ece58"
            ],
            [
             0.8888888888888888,
             "#b5de2b"
            ],
            [
             1,
             "#fde725"
            ]
           ],
           "sequentialminus": [
            [
             0,
             "#440154"
            ],
            [
             0.1111111111111111,
             "#482878"
            ],
            [
             0.2222222222222222,
             "#3e4989"
            ],
            [
             0.3333333333333333,
             "#31688e"
            ],
            [
             0.4444444444444444,
             "#26828e"
            ],
            [
             0.5555555555555556,
             "#1f9e89"
            ],
            [
             0.6666666666666666,
             "#35b779"
            ],
            [
             0.7777777777777778,
             "#6ece58"
            ],
            [
             0.8888888888888888,
             "#b5de2b"
            ],
            [
             1,
             "#fde725"
            ]
           ]
          },
          "colorway": [
           "#1F77B4",
           "#FF7F0E",
           "#2CA02C",
           "#D62728",
           "#9467BD",
           "#8C564B",
           "#E377C2",
           "#7F7F7F",
           "#BCBD22",
           "#17BECF"
          ],
          "font": {
           "color": "rgb(36,36,36)"
          },
          "geo": {
           "bgcolor": "white",
           "lakecolor": "white",
           "landcolor": "white",
           "showlakes": true,
           "showland": true,
           "subunitcolor": "white"
          },
          "hoverlabel": {
           "align": "left"
          },
          "hovermode": "closest",
          "mapbox": {
           "style": "light"
          },
          "paper_bgcolor": "white",
          "plot_bgcolor": "white",
          "polar": {
           "angularaxis": {
            "gridcolor": "rgb(232,232,232)",
            "linecolor": "rgb(36,36,36)",
            "showgrid": false,
            "showline": true,
            "ticks": "outside"
           },
           "bgcolor": "white",
           "radialaxis": {
            "gridcolor": "rgb(232,232,232)",
            "linecolor": "rgb(36,36,36)",
            "showgrid": false,
            "showline": true,
            "ticks": "outside"
           }
          },
          "scene": {
           "xaxis": {
            "backgroundcolor": "white",
            "gridcolor": "rgb(232,232,232)",
            "gridwidth": 2,
            "linecolor": "rgb(36,36,36)",
            "showbackground": true,
            "showgrid": false,
            "showline": true,
            "ticks": "outside",
            "zeroline": false,
            "zerolinecolor": "rgb(36,36,36)"
           },
           "yaxis": {
            "backgroundcolor": "white",
            "gridcolor": "rgb(232,232,232)",
            "gridwidth": 2,
            "linecolor": "rgb(36,36,36)",
            "showbackground": true,
            "showgrid": false,
            "showline": true,
            "ticks": "outside",
            "zeroline": false,
            "zerolinecolor": "rgb(36,36,36)"
           },
           "zaxis": {
            "backgroundcolor": "white",
            "gridcolor": "rgb(232,232,232)",
            "gridwidth": 2,
            "linecolor": "rgb(36,36,36)",
            "showbackground": true,
            "showgrid": false,
            "showline": true,
            "ticks": "outside",
            "zeroline": false,
            "zerolinecolor": "rgb(36,36,36)"
           }
          },
          "shapedefaults": {
           "fillcolor": "black",
           "line": {
            "width": 0
           },
           "opacity": 0.3
          },
          "ternary": {
           "aaxis": {
            "gridcolor": "rgb(232,232,232)",
            "linecolor": "rgb(36,36,36)",
            "showgrid": false,
            "showline": true,
            "ticks": "outside"
           },
           "baxis": {
            "gridcolor": "rgb(232,232,232)",
            "linecolor": "rgb(36,36,36)",
            "showgrid": false,
            "showline": true,
            "ticks": "outside"
           },
           "bgcolor": "white",
           "caxis": {
            "gridcolor": "rgb(232,232,232)",
            "linecolor": "rgb(36,36,36)",
            "showgrid": false,
            "showline": true,
            "ticks": "outside"
           }
          },
          "title": {
           "x": 0.05
          },
          "xaxis": {
           "automargin": true,
           "gridcolor": "rgb(232,232,232)",
           "linecolor": "rgb(36,36,36)",
           "showgrid": false,
           "showline": true,
           "ticks": "outside",
           "title": {
            "standoff": 15
           },
           "zeroline": false,
           "zerolinecolor": "rgb(36,36,36)"
          },
          "yaxis": {
           "automargin": true,
           "gridcolor": "rgb(232,232,232)",
           "linecolor": "rgb(36,36,36)",
           "showgrid": false,
           "showline": true,
           "ticks": "outside",
           "title": {
            "standoff": 15
           },
           "zeroline": false,
           "zerolinecolor": "rgb(36,36,36)"
          }
         }
        },
        "title": {
         "text": "Album Scores for our Top 10 Albums of 2021"
        },
        "xaxis": {
         "anchor": "y",
         "domain": [
          0,
          1
         ],
         "title": {
          "text": "Album"
         }
        },
        "yaxis": {
         "anchor": "x",
         "domain": [
          0,
          1
         ],
         "title": {
          "text": "Album Score"
         }
        }
       }
      }
     },
     "metadata": {},
     "output_type": "display_data"
    }
   ],
   "source": [
    "figure = px.bar(\n",
    "    top_10_albums,\n",
    "    x=\"Album\",\n",
    "    y=[\"album_score\"],\n",
    "    barmode=\"group\",\n",
    "    text_auto=True,\n",
    "    hover_name=\"Album\",\n",
    "    custom_data=[\"Artist\"],\n",
    "    title=\"Album Scores for our Top 10 Albums of 2021\",\n",
    "    labels={\"value\": \"Album Score\"},\n",
    "    template=\"simple_white\",\n",
    ")\n",
    "figure.update_traces(\n",
    "    hovertemplate=\"<br>\".join(\n",
    "        [\n",
    "            \"<b>%{customdata}</b> - <i>%{x}</i>\",\n",
    "            \"\",\n",
    "            \"Album Score: %{y}\" \"<extra></extra>\",\n",
    "        ]\n",
    "    )\n",
    ")\n",
    "figure.update_layout(hovermode=\"closest\", showlegend=False)\n",
    "\n",
    "figure.add_hrect(\n",
    "    y0=AOTY_by_album[\"album_score\"].quantile(0.25),\n",
    "    y1=AOTY_by_album[\"album_score\"].quantile(0.75),\n",
    "    opacity = 0.3, \n",
    "    fillcolor = \"dark grey\",\n",
    "    annotation_text = \"'Usual' Album scores\",\n",
    "    annotation_position = \"top right\",\n",
    "    annotation_font_color = \"lightgrey\"\n",
    ")\n",
    "\n",
    "figure.show()\n"
   ]
  },
  {
   "cell_type": "code",
   "execution_count": 16,
   "metadata": {},
   "outputs": [
    {
     "data": {
      "application/vnd.plotly.v1+json": {
       "config": {
        "plotlyServerURL": "https://plot.ly"
       },
       "data": [
        {
         "alignmentgroup": "True",
         "customdata": [
          [
           "Silk Sonic"
          ],
          [
           "Adele"
          ],
          [
           "Olivia Rodrigo"
          ],
          [
           "Billie Eilish"
          ],
          [
           "Tyler, the Creator"
          ],
          [
           "Lil Nas X"
          ],
          [
           "Julien Baker"
          ],
          [
           "Bo Burnham"
          ],
          [
           "Lorde"
          ],
          [
           "Parcels"
          ]
         ],
         "hovertemplate": "<b>%{customdata}</b> - <i>%{x}</i><br><br>Album Score: %{y}<extra></extra>",
         "hovertext": [
          "An Evening With Silk Sonic",
          "30",
          "Sour",
          "Happier Than Ever",
          "Call Me If You Get Lost",
          "Montero",
          "Little Oblivions",
          "Inside (The Songs)",
          "Solar Power",
          "Day/Night"
         ],
         "legendgroup": "album_submission_count",
         "marker": {
          "color": "#1F77B4",
          "pattern": {
           "shape": ""
          }
         },
         "name": "album_submission_count",
         "offsetgroup": "album_submission_count",
         "orientation": "v",
         "showlegend": true,
         "textposition": "auto",
         "texttemplate": "%{y}",
         "type": "bar",
         "x": [
          "An Evening With Silk Sonic",
          "30",
          "Sour",
          "Happier Than Ever",
          "Call Me If You Get Lost",
          "Montero",
          "Little Oblivions",
          "Inside (The Songs)",
          "Solar Power",
          "Day/Night"
         ],
         "xaxis": "x",
         "y": [
          25,
          21,
          25,
          22,
          20,
          19,
          13,
          13,
          12,
          9
         ],
         "yaxis": "y"
        }
       ],
       "layout": {
        "annotations": [
         {
          "font": {
           "color": "lightgrey"
          },
          "showarrow": false,
          "text": "'Usual' Submission Count",
          "x": 1,
          "xanchor": "right",
          "xref": "x domain",
          "y": 2,
          "yanchor": "top",
          "yref": "y"
         }
        ],
        "barmode": "group",
        "hovermode": "closest",
        "legend": {
         "title": {
          "text": "variable"
         },
         "tracegroupgap": 0
        },
        "shapes": [
         {
          "fillcolor": "dark grey",
          "opacity": 0.3,
          "type": "rect",
          "x0": 0,
          "x1": 1,
          "xref": "x domain",
          "y0": 1,
          "y1": 2,
          "yref": "y"
         }
        ],
        "showlegend": false,
        "template": {
         "data": {
          "bar": [
           {
            "error_x": {
             "color": "rgb(36,36,36)"
            },
            "error_y": {
             "color": "rgb(36,36,36)"
            },
            "marker": {
             "line": {
              "color": "white",
              "width": 0.5
             },
             "pattern": {
              "fillmode": "overlay",
              "size": 10,
              "solidity": 0.2
             }
            },
            "type": "bar"
           }
          ],
          "barpolar": [
           {
            "marker": {
             "line": {
              "color": "white",
              "width": 0.5
             },
             "pattern": {
              "fillmode": "overlay",
              "size": 10,
              "solidity": 0.2
             }
            },
            "type": "barpolar"
           }
          ],
          "carpet": [
           {
            "aaxis": {
             "endlinecolor": "rgb(36,36,36)",
             "gridcolor": "white",
             "linecolor": "white",
             "minorgridcolor": "white",
             "startlinecolor": "rgb(36,36,36)"
            },
            "baxis": {
             "endlinecolor": "rgb(36,36,36)",
             "gridcolor": "white",
             "linecolor": "white",
             "minorgridcolor": "white",
             "startlinecolor": "rgb(36,36,36)"
            },
            "type": "carpet"
           }
          ],
          "choropleth": [
           {
            "colorbar": {
             "outlinewidth": 1,
             "tickcolor": "rgb(36,36,36)",
             "ticks": "outside"
            },
            "type": "choropleth"
           }
          ],
          "contour": [
           {
            "colorbar": {
             "outlinewidth": 1,
             "tickcolor": "rgb(36,36,36)",
             "ticks": "outside"
            },
            "colorscale": [
             [
              0,
              "#440154"
             ],
             [
              0.1111111111111111,
              "#482878"
             ],
             [
              0.2222222222222222,
              "#3e4989"
             ],
             [
              0.3333333333333333,
              "#31688e"
             ],
             [
              0.4444444444444444,
              "#26828e"
             ],
             [
              0.5555555555555556,
              "#1f9e89"
             ],
             [
              0.6666666666666666,
              "#35b779"
             ],
             [
              0.7777777777777778,
              "#6ece58"
             ],
             [
              0.8888888888888888,
              "#b5de2b"
             ],
             [
              1,
              "#fde725"
             ]
            ],
            "type": "contour"
           }
          ],
          "contourcarpet": [
           {
            "colorbar": {
             "outlinewidth": 1,
             "tickcolor": "rgb(36,36,36)",
             "ticks": "outside"
            },
            "type": "contourcarpet"
           }
          ],
          "heatmap": [
           {
            "colorbar": {
             "outlinewidth": 1,
             "tickcolor": "rgb(36,36,36)",
             "ticks": "outside"
            },
            "colorscale": [
             [
              0,
              "#440154"
             ],
             [
              0.1111111111111111,
              "#482878"
             ],
             [
              0.2222222222222222,
              "#3e4989"
             ],
             [
              0.3333333333333333,
              "#31688e"
             ],
             [
              0.4444444444444444,
              "#26828e"
             ],
             [
              0.5555555555555556,
              "#1f9e89"
             ],
             [
              0.6666666666666666,
              "#35b779"
             ],
             [
              0.7777777777777778,
              "#6ece58"
             ],
             [
              0.8888888888888888,
              "#b5de2b"
             ],
             [
              1,
              "#fde725"
             ]
            ],
            "type": "heatmap"
           }
          ],
          "heatmapgl": [
           {
            "colorbar": {
             "outlinewidth": 1,
             "tickcolor": "rgb(36,36,36)",
             "ticks": "outside"
            },
            "colorscale": [
             [
              0,
              "#440154"
             ],
             [
              0.1111111111111111,
              "#482878"
             ],
             [
              0.2222222222222222,
              "#3e4989"
             ],
             [
              0.3333333333333333,
              "#31688e"
             ],
             [
              0.4444444444444444,
              "#26828e"
             ],
             [
              0.5555555555555556,
              "#1f9e89"
             ],
             [
              0.6666666666666666,
              "#35b779"
             ],
             [
              0.7777777777777778,
              "#6ece58"
             ],
             [
              0.8888888888888888,
              "#b5de2b"
             ],
             [
              1,
              "#fde725"
             ]
            ],
            "type": "heatmapgl"
           }
          ],
          "histogram": [
           {
            "marker": {
             "line": {
              "color": "white",
              "width": 0.6
             }
            },
            "type": "histogram"
           }
          ],
          "histogram2d": [
           {
            "colorbar": {
             "outlinewidth": 1,
             "tickcolor": "rgb(36,36,36)",
             "ticks": "outside"
            },
            "colorscale": [
             [
              0,
              "#440154"
             ],
             [
              0.1111111111111111,
              "#482878"
             ],
             [
              0.2222222222222222,
              "#3e4989"
             ],
             [
              0.3333333333333333,
              "#31688e"
             ],
             [
              0.4444444444444444,
              "#26828e"
             ],
             [
              0.5555555555555556,
              "#1f9e89"
             ],
             [
              0.6666666666666666,
              "#35b779"
             ],
             [
              0.7777777777777778,
              "#6ece58"
             ],
             [
              0.8888888888888888,
              "#b5de2b"
             ],
             [
              1,
              "#fde725"
             ]
            ],
            "type": "histogram2d"
           }
          ],
          "histogram2dcontour": [
           {
            "colorbar": {
             "outlinewidth": 1,
             "tickcolor": "rgb(36,36,36)",
             "ticks": "outside"
            },
            "colorscale": [
             [
              0,
              "#440154"
             ],
             [
              0.1111111111111111,
              "#482878"
             ],
             [
              0.2222222222222222,
              "#3e4989"
             ],
             [
              0.3333333333333333,
              "#31688e"
             ],
             [
              0.4444444444444444,
              "#26828e"
             ],
             [
              0.5555555555555556,
              "#1f9e89"
             ],
             [
              0.6666666666666666,
              "#35b779"
             ],
             [
              0.7777777777777778,
              "#6ece58"
             ],
             [
              0.8888888888888888,
              "#b5de2b"
             ],
             [
              1,
              "#fde725"
             ]
            ],
            "type": "histogram2dcontour"
           }
          ],
          "mesh3d": [
           {
            "colorbar": {
             "outlinewidth": 1,
             "tickcolor": "rgb(36,36,36)",
             "ticks": "outside"
            },
            "type": "mesh3d"
           }
          ],
          "parcoords": [
           {
            "line": {
             "colorbar": {
              "outlinewidth": 1,
              "tickcolor": "rgb(36,36,36)",
              "ticks": "outside"
             }
            },
            "type": "parcoords"
           }
          ],
          "pie": [
           {
            "automargin": true,
            "type": "pie"
           }
          ],
          "scatter": [
           {
            "marker": {
             "colorbar": {
              "outlinewidth": 1,
              "tickcolor": "rgb(36,36,36)",
              "ticks": "outside"
             }
            },
            "type": "scatter"
           }
          ],
          "scatter3d": [
           {
            "line": {
             "colorbar": {
              "outlinewidth": 1,
              "tickcolor": "rgb(36,36,36)",
              "ticks": "outside"
             }
            },
            "marker": {
             "colorbar": {
              "outlinewidth": 1,
              "tickcolor": "rgb(36,36,36)",
              "ticks": "outside"
             }
            },
            "type": "scatter3d"
           }
          ],
          "scattercarpet": [
           {
            "marker": {
             "colorbar": {
              "outlinewidth": 1,
              "tickcolor": "rgb(36,36,36)",
              "ticks": "outside"
             }
            },
            "type": "scattercarpet"
           }
          ],
          "scattergeo": [
           {
            "marker": {
             "colorbar": {
              "outlinewidth": 1,
              "tickcolor": "rgb(36,36,36)",
              "ticks": "outside"
             }
            },
            "type": "scattergeo"
           }
          ],
          "scattergl": [
           {
            "marker": {
             "colorbar": {
              "outlinewidth": 1,
              "tickcolor": "rgb(36,36,36)",
              "ticks": "outside"
             }
            },
            "type": "scattergl"
           }
          ],
          "scattermapbox": [
           {
            "marker": {
             "colorbar": {
              "outlinewidth": 1,
              "tickcolor": "rgb(36,36,36)",
              "ticks": "outside"
             }
            },
            "type": "scattermapbox"
           }
          ],
          "scatterpolar": [
           {
            "marker": {
             "colorbar": {
              "outlinewidth": 1,
              "tickcolor": "rgb(36,36,36)",
              "ticks": "outside"
             }
            },
            "type": "scatterpolar"
           }
          ],
          "scatterpolargl": [
           {
            "marker": {
             "colorbar": {
              "outlinewidth": 1,
              "tickcolor": "rgb(36,36,36)",
              "ticks": "outside"
             }
            },
            "type": "scatterpolargl"
           }
          ],
          "scatterternary": [
           {
            "marker": {
             "colorbar": {
              "outlinewidth": 1,
              "tickcolor": "rgb(36,36,36)",
              "ticks": "outside"
             }
            },
            "type": "scatterternary"
           }
          ],
          "surface": [
           {
            "colorbar": {
             "outlinewidth": 1,
             "tickcolor": "rgb(36,36,36)",
             "ticks": "outside"
            },
            "colorscale": [
             [
              0,
              "#440154"
             ],
             [
              0.1111111111111111,
              "#482878"
             ],
             [
              0.2222222222222222,
              "#3e4989"
             ],
             [
              0.3333333333333333,
              "#31688e"
             ],
             [
              0.4444444444444444,
              "#26828e"
             ],
             [
              0.5555555555555556,
              "#1f9e89"
             ],
             [
              0.6666666666666666,
              "#35b779"
             ],
             [
              0.7777777777777778,
              "#6ece58"
             ],
             [
              0.8888888888888888,
              "#b5de2b"
             ],
             [
              1,
              "#fde725"
             ]
            ],
            "type": "surface"
           }
          ],
          "table": [
           {
            "cells": {
             "fill": {
              "color": "rgb(237,237,237)"
             },
             "line": {
              "color": "white"
             }
            },
            "header": {
             "fill": {
              "color": "rgb(217,217,217)"
             },
             "line": {
              "color": "white"
             }
            },
            "type": "table"
           }
          ]
         },
         "layout": {
          "annotationdefaults": {
           "arrowhead": 0,
           "arrowwidth": 1
          },
          "autotypenumbers": "strict",
          "coloraxis": {
           "colorbar": {
            "outlinewidth": 1,
            "tickcolor": "rgb(36,36,36)",
            "ticks": "outside"
           }
          },
          "colorscale": {
           "diverging": [
            [
             0,
             "rgb(103,0,31)"
            ],
            [
             0.1,
             "rgb(178,24,43)"
            ],
            [
             0.2,
             "rgb(214,96,77)"
            ],
            [
             0.3,
             "rgb(244,165,130)"
            ],
            [
             0.4,
             "rgb(253,219,199)"
            ],
            [
             0.5,
             "rgb(247,247,247)"
            ],
            [
             0.6,
             "rgb(209,229,240)"
            ],
            [
             0.7,
             "rgb(146,197,222)"
            ],
            [
             0.8,
             "rgb(67,147,195)"
            ],
            [
             0.9,
             "rgb(33,102,172)"
            ],
            [
             1,
             "rgb(5,48,97)"
            ]
           ],
           "sequential": [
            [
             0,
             "#440154"
            ],
            [
             0.1111111111111111,
             "#482878"
            ],
            [
             0.2222222222222222,
             "#3e4989"
            ],
            [
             0.3333333333333333,
             "#31688e"
            ],
            [
             0.4444444444444444,
             "#26828e"
            ],
            [
             0.5555555555555556,
             "#1f9e89"
            ],
            [
             0.6666666666666666,
             "#35b779"
            ],
            [
             0.7777777777777778,
             "#6ece58"
            ],
            [
             0.8888888888888888,
             "#b5de2b"
            ],
            [
             1,
             "#fde725"
            ]
           ],
           "sequentialminus": [
            [
             0,
             "#440154"
            ],
            [
             0.1111111111111111,
             "#482878"
            ],
            [
             0.2222222222222222,
             "#3e4989"
            ],
            [
             0.3333333333333333,
             "#31688e"
            ],
            [
             0.4444444444444444,
             "#26828e"
            ],
            [
             0.5555555555555556,
             "#1f9e89"
            ],
            [
             0.6666666666666666,
             "#35b779"
            ],
            [
             0.7777777777777778,
             "#6ece58"
            ],
            [
             0.8888888888888888,
             "#b5de2b"
            ],
            [
             1,
             "#fde725"
            ]
           ]
          },
          "colorway": [
           "#1F77B4",
           "#FF7F0E",
           "#2CA02C",
           "#D62728",
           "#9467BD",
           "#8C564B",
           "#E377C2",
           "#7F7F7F",
           "#BCBD22",
           "#17BECF"
          ],
          "font": {
           "color": "rgb(36,36,36)"
          },
          "geo": {
           "bgcolor": "white",
           "lakecolor": "white",
           "landcolor": "white",
           "showlakes": true,
           "showland": true,
           "subunitcolor": "white"
          },
          "hoverlabel": {
           "align": "left"
          },
          "hovermode": "closest",
          "mapbox": {
           "style": "light"
          },
          "paper_bgcolor": "white",
          "plot_bgcolor": "white",
          "polar": {
           "angularaxis": {
            "gridcolor": "rgb(232,232,232)",
            "linecolor": "rgb(36,36,36)",
            "showgrid": false,
            "showline": true,
            "ticks": "outside"
           },
           "bgcolor": "white",
           "radialaxis": {
            "gridcolor": "rgb(232,232,232)",
            "linecolor": "rgb(36,36,36)",
            "showgrid": false,
            "showline": true,
            "ticks": "outside"
           }
          },
          "scene": {
           "xaxis": {
            "backgroundcolor": "white",
            "gridcolor": "rgb(232,232,232)",
            "gridwidth": 2,
            "linecolor": "rgb(36,36,36)",
            "showbackground": true,
            "showgrid": false,
            "showline": true,
            "ticks": "outside",
            "zeroline": false,
            "zerolinecolor": "rgb(36,36,36)"
           },
           "yaxis": {
            "backgroundcolor": "white",
            "gridcolor": "rgb(232,232,232)",
            "gridwidth": 2,
            "linecolor": "rgb(36,36,36)",
            "showbackground": true,
            "showgrid": false,
            "showline": true,
            "ticks": "outside",
            "zeroline": false,
            "zerolinecolor": "rgb(36,36,36)"
           },
           "zaxis": {
            "backgroundcolor": "white",
            "gridcolor": "rgb(232,232,232)",
            "gridwidth": 2,
            "linecolor": "rgb(36,36,36)",
            "showbackground": true,
            "showgrid": false,
            "showline": true,
            "ticks": "outside",
            "zeroline": false,
            "zerolinecolor": "rgb(36,36,36)"
           }
          },
          "shapedefaults": {
           "fillcolor": "black",
           "line": {
            "width": 0
           },
           "opacity": 0.3
          },
          "ternary": {
           "aaxis": {
            "gridcolor": "rgb(232,232,232)",
            "linecolor": "rgb(36,36,36)",
            "showgrid": false,
            "showline": true,
            "ticks": "outside"
           },
           "baxis": {
            "gridcolor": "rgb(232,232,232)",
            "linecolor": "rgb(36,36,36)",
            "showgrid": false,
            "showline": true,
            "ticks": "outside"
           },
           "bgcolor": "white",
           "caxis": {
            "gridcolor": "rgb(232,232,232)",
            "linecolor": "rgb(36,36,36)",
            "showgrid": false,
            "showline": true,
            "ticks": "outside"
           }
          },
          "title": {
           "x": 0.05
          },
          "xaxis": {
           "automargin": true,
           "gridcolor": "rgb(232,232,232)",
           "linecolor": "rgb(36,36,36)",
           "showgrid": false,
           "showline": true,
           "ticks": "outside",
           "title": {
            "standoff": 15
           },
           "zeroline": false,
           "zerolinecolor": "rgb(36,36,36)"
          },
          "yaxis": {
           "automargin": true,
           "gridcolor": "rgb(232,232,232)",
           "linecolor": "rgb(36,36,36)",
           "showgrid": false,
           "showline": true,
           "ticks": "outside",
           "title": {
            "standoff": 15
           },
           "zeroline": false,
           "zerolinecolor": "rgb(36,36,36)"
          }
         }
        },
        "title": {
         "text": "Album Submission Count for our Top 10 Albums of 2021"
        },
        "xaxis": {
         "anchor": "y",
         "domain": [
          0,
          1
         ],
         "title": {
          "text": "Album"
         }
        },
        "yaxis": {
         "anchor": "x",
         "domain": [
          0,
          1
         ],
         "title": {
          "text": "Album Submissions"
         }
        }
       }
      }
     },
     "metadata": {},
     "output_type": "display_data"
    }
   ],
   "source": [
    "figure = px.bar(\n",
    "    top_10_albums,\n",
    "    x=\"Album\",\n",
    "    y=[\"album_submission_count\"],\n",
    "    barmode=\"group\",\n",
    "    text_auto=True,\n",
    "    hover_name=\"Album\",\n",
    "    custom_data=[\"Artist\"],\n",
    "    title=\"Album Submission Count for our Top 10 Albums of 2021\",\n",
    "    labels={\"value\": \"Album Submissions\"},\n",
    "    template=\"simple_white\",\n",
    ")\n",
    "figure.update_traces(\n",
    "    hovertemplate=\"<br>\".join(\n",
    "        [\n",
    "            \"<b>%{customdata}</b> - <i>%{x}</i>\",\n",
    "            \"\",\n",
    "            \"Album Score: %{y}\" \"<extra></extra>\",\n",
    "        ]\n",
    "    )\n",
    ")\n",
    "figure.update_layout(hovermode=\"closest\", showlegend=False)\n",
    "\n",
    "figure.add_hrect(\n",
    "    y0=AOTY_by_album[\"album_submission_count\"].quantile(0.25),\n",
    "    y1=AOTY_by_album[\"album_submission_count\"].quantile(0.75),\n",
    "    opacity = 0.3, \n",
    "    fillcolor = \"dark grey\",\n",
    "    annotation_text = \"'Usual' Submission Count\",\n",
    "    annotation_position = \"top right\",\n",
    "    annotation_font_color = \"lightgrey\"\n",
    ")\n",
    "\n",
    "figure.show()\n"
   ]
  },
  {
   "cell_type": "code",
   "execution_count": 34,
   "metadata": {},
   "outputs": [
    {
     "data": {
      "application/vnd.plotly.v1+json": {
       "config": {
        "plotlyServerURL": "https://plot.ly"
       },
       "data": [
        {
         "customdata": [
          [
           " 88rising, DJ Snake, and Niki",
           "Shang-Chi and the Legend of the Ten Rings: The Album"
          ],
          [
           "$uicideboy$",
           "Long Term Effects of SUFFERING"
          ],
          [
           "24kGoldn",
           "El Dorado"
          ],
          [
           "42 Dugg",
           "Free Dem Boyz"
          ],
          [
           "ABBA",
           "Voyage"
          ],
          [
           "AJR",
           "Ok Orchestra"
          ],
          [
           "Adele",
           "30"
          ],
          [
           "Alan Jackson",
           "Where Have You Gone"
          ],
          [
           "Alex Cuba",
           "Mendó"
          ],
          [
           "Alexandre Desplat",
           "The French Dispatch (Original Score)"
          ],
          [
           "Alice Phoebe Lou",
           "Child's Play"
          ],
          [
           "Alicia Keys",
           "KEYS"
          ],
          [
           "Alien Weaponry",
           "Tangaroa"
          ],
          [
           "Allison Russell",
           "Outside Child"
          ],
          [
           "Amaal",
           "Molly"
          ],
          [
           "Amber Mattfield",
           "Transition"
          ],
          [
           "Amigo the Devil",
           "Born Against"
          ],
          [
           "Aminé",
           "TWOPOINTFIVE"
          ],
          [
           "Anderson East",
           "Maybe We Never Die"
          ],
          [
           "Andrew Blooms",
           "987"
          ],
          [
           "Andy Shauf",
           "Wilds"
          ],
          [
           "Andy Squyres",
           "Poet Priest"
          ],
          [
           "Angus & Julia Stone",
           "Life Is Strange"
          ],
          [
           "Antonio Pinto",
           "Nine Days"
          ],
          [
           "Apollo Brown & Stalley",
           "Blacklight"
          ],
          [
           "Aquilo",
           "A Safe Place To Be"
          ],
          [
           "Arca",
           "KicK iii"
          ],
          [
           "Architects",
           "For Those That Wish to Exist"
          ],
          [
           "Arlo Parks",
           "Collapsed in Sunbeams"
          ],
          [
           "Armand Hammer & The Alchemist",
           "Haram"
          ],
          [
           "As Isaac",
           "Over The Flood"
          ],
          [
           "At the Gates",
           "The Nightmare of Being"
          ],
          [
           "Audrey Nuna",
           "A Liquid Breakfast"
          ],
          [
           "BADBADNOTGOOD",
           "Talk Memory"
          ],
          [
           "BIG|BRAVE",
           "Vital"
          ],
          [
           "Baby Keem",
           "The Melodic Blue"
          ],
          [
           "Barlow & Bear",
           "The Unofficial Bridgerton Musical"
          ],
          [
           "Ben Howard",
           "Collections From The Whiteout"
          ],
          [
           "Ben Platt",
           "Reverie"
          ],
          [
           "Benny Sings",
           "Beat Tape II"
          ],
          [
           "Benny Sings",
           "Music"
          ],
          [
           "Big Red Machine",
           "How Long Do You Think It's Gonna Last?"
          ],
          [
           "Big Thief",
           "Change"
          ],
          [
           "Billie Eilish",
           "Happier Than Ever"
          ],
          [
           "Billy Currington",
           "Intuition"
          ],
          [
           "Billy Strings",
           "Renewal"
          ],
          [
           "Bilmuri",
           "400Lb Back Squat"
          ],
          [
           "Black Country, New Road",
           "For the First Time"
          ],
          [
           "Bladee",
           "The Fool"
          ],
          [
           "Bleachers",
           "Take the Sadness Out of Saturday Night"
          ],
          [
           "Blonde Otter",
           "Blonde Otter"
          ],
          [
           "Blu DeTiger",
           "How Did We Get Here?"
          ],
          [
           "Bluestaeb",
           "GISEKE"
          ],
          [
           "Bo Burnham",
           "Inside (The Songs)"
          ],
          [
           "Brandee Younger",
           "Somewhere Different"
          ],
          [
           "Brandi Carlile",
           "In These Silent Days"
          ],
          [
           "Brasstracks",
           "Welcome Back Era"
          ],
          [
           "Brett Eldredge",
           "Mr. Christmas"
          ],
          [
           "Briston Maroney",
           "Sunflower"
          ],
          [
           "Brockhampton",
           "Roadrunner"
          ],
          [
           "Brojob",
           "The Heaviest Album of All Time"
          ],
          [
           "Buck Meek",
           "Two Saviors"
          ],
          [
           "C. Tangana",
           "El Madrileño"
          ],
          [
           "CANDIACE",
           "Deep Space"
          ],
          [
           "CHASE WRIGHT",
           "INTERTWINED"
          ],
          [
           "CHIKA",
           "ONCE UPON A TIME"
          ],
          [
           "COIN",
           "Rainbow Mixtape"
          ],
          [
           "Canaan Smith",
           "High Country Sound"
          ],
          [
           "Canary Room",
           "Christine"
          ],
          [
           "Carly Pearce",
           "29"
          ],
          [
           "Cautious Clay",
           "Deadpan Love"
          ],
          [
           "Celeste",
           "Not Your Muse"
          ],
          [
           "Central Cee",
           "Wild West"
          ],
          [
           "Charles Wesley Godwin",
           "How the Mighty Fall"
          ],
          [
           "Charley Crockett",
           "Music City USA"
          ],
          [
           "Charlie Hickey",
           "Count the Stairs"
          ],
          [
           "Charlotte Cardin",
           "Phoenix"
          ],
          [
           "Chris Renzema",
           "Get Out of the Way of Your Own Heart"
          ],
          [
           "Christophe Beck",
           "WandaVision: Episode 7 (Original Soundtrack)"
          ],
          [
           "Christopher Atkins",
           "On the Turn Again"
          ],
          [
           "Citizens",
           "The Joy of Being"
          ],
          [
           "Clairo",
           "Sling"
          ],
          [
           "Claud",
           "Super Monster"
          ],
          [
           "Cloud Nothings",
           "The Shadow I Remember"
          ],
          [
           "Cody Fry",
           "Pictures of Mountains"
          ],
          [
           "Cody Johnson",
           "Human: The Double Album"
          ],
          [
           "Coldplay",
           "Music of the Spheres"
          ],
          [
           "Cole Chaney",
           "Mercy"
          ],
          [
           "Colin James",
           "Open Road"
          ],
          [
           "Colony House",
           "Rotten Tomatoes"
          ],
          [
           "Connor Musarra",
           "Attempt 3"
          ],
          [
           "Converge & Chelsea Wolfe",
           "Bloodmoon: I"
          ],
          [
           "Conway the Machine",
           "La Maquina"
          ],
          [
           "Cory Wong",
           "Cory and the Wongnotes"
          ],
          [
           "Country Stuff",
           "Walker Hayes"
          ],
          [
           "Cradle of Filth",
           "Existence is Futile"
          ],
          [
           "Current Joys",
           "Voyager"
          ],
          [
           "DJ Harrison",
           "Tales from the Old Dominion"
          ],
          [
           "DJ Manny",
           "Signals in My Head"
          ],
          [
           "Dacey",
           "Satin Playground"
          ],
          [
           "Dan + Shay",
           "Good Things"
          ],
          [
           "Daniel James McFadyen",
           "August, I'm Yours"
          ],
          [
           "Daniyel",
           "82"
          ],
          [
           "Dante's Paradise",
           "Your Move"
          ],
          [
           "Dave",
           "We’re All Alone in this Together"
          ],
          [
           "Dayglow",
           "Harmony House"
          ],
          [
           "Death Cab for Cutie",
           "The Georgia EP"
          ],
          [
           "Delta Sleep",
           "Spring Island"
          ],
          [
           "Devil Electric",
           "Godless"
          ],
          [
           "Diamond Cafe",
           "Say You Will"
          ],
          [
           "Diana Ross",
           "Thank You"
          ],
          [
           "Digga D",
           "Made in the Pyrex"
          ],
          [
           "Dijon",
           "Absolutely"
          ],
          [
           "Dillon Carmichael",
           "Son Of A"
          ],
          [
           "Dinosaur Jr.",
           "Emptiness at the Sinclair"
          ],
          [
           "Django Django",
           "Glowing in the Dark"
          ],
          [
           "Doja Cat",
           "Planet Her"
          ],
          [
           "Dominic Lewis",
           "Monsters at Work (Original Soundtrack)"
          ],
          [
           "Dooms Children",
           "Dooms Children"
          ],
          [
           "Drake",
           "Certified Lover Boy"
          ],
          [
           "Drake",
           "Scary Hours 2"
          ],
          [
           "Drakeo the Ruler",
           "Ain't That The Truth"
          ],
          [
           "Drug Church",
           "Tawny"
          ],
          [
           "Durand Jones & The Indications",
           "Private Space"
          ],
          [
           "Dödsrit",
           "Mortal Coil"
          ],
          [
           "Ed Sheeran",
           " ="
          ],
          [
           "Eloise",
           "Somewhere In-Between"
          ],
          [
           "Elton John",
           "The Lockdown Sessions"
          ],
          [
           "Emile Mosseri",
           "Minari (Original Motion Picture Soundtrack)"
          ],
          [
           "Emily Scott Robinson",
           "american siren"
          ],
          [
           "Eric Church",
           "Heart"
          ],
          [
           "Eric Church",
           "Soul"
          ],
          [
           "Evan Wright",
           "Sound from out the Window"
          ],
          [
           "Every Time I Die",
           "Radical"
          ],
          [
           "Faye Webster",
           "I Know I'm Funny haha"
          ],
          [
           "Field Music",
           "Flat White Moon"
          ],
          [
           "Finneas",
           "Optimist"
          ],
          [
           "Flatland Cavalry",
           "Welcome To Countryland"
          ],
          [
           "Fleece",
           "Stunning & Atrocious"
          ],
          [
           "Fleet Foxes",
           "A Very Lonely Solstice"
          ],
          [
           "Floating Points & Pharaoh Sanders",
           "Promises"
          ],
          [
           "Flozigg",
           "Beige EP"
          ],
          [
           "Fucked Up",
           "Year of the Horse"
          ],
          [
           "Genesis Owusu",
           "Smiling with No Teeth"
          ],
          [
           "Genghis Tron",
           "Dream Weapon"
          ],
          [
           "Glume & Phossa",
           "Banshee"
          ],
          [
           "Godspeed You! Black Emperor",
           "G_d’s Pee AT STATE’S END!"
          ],
          [
           "Gospel Whiskey Runners",
           "Move On"
          ],
          [
           "Greta Van Fleet",
           "The Battle at Garden’s Gate"
          ],
          [
           "Griff",
           "One Foot In Front Of The Other"
          ],
          [
           "Grouplove",
           "This Is This"
          ],
          [
           "Guided by Voices",
           "It’s Not Them. It Couldn’t Be Them. It Is Them!"
          ],
          [
           "HIXTAPE",
           "HIXTAPE: Vol. 2"
          ],
          [
           "Half Moon Run",
           "Inwards & Onwards EP"
          ],
          [
           "Half Waif",
           "Mythopoetics"
          ],
          [
           "HalfNoise",
           "Motif"
          ],
          [
           "Halsey",
           "If I Can't Have Love, I Want Power"
          ],
          [
           "Harakiri for the Sky",
           "Mære"
          ],
          [
           "Harriet Krijgh & Magda Amara",
           "Silent Dreams"
          ],
          [
           "Hayden Calnin",
           "What It Means to Be Human"
          ],
          [
           "Hayley Williams",
           "FLOWERS for VASES / descansos"
          ],
          [
           "Helado Negro",
           "Far In"
          ],
          [
           "Hiatus Kaiyote",
           "Mood Valiant"
          ],
          [
           "Hobo Johnson",
           "Hobo Johnson Alienates His Fanbase"
          ],
          [
           "Hobo Johnson",
           "The Revenge of Hobo Johnson"
          ],
          [
           "Holly Humberstone",
           "The Walls Are Way Too Thin"
          ],
          [
           "Hudson Freeman",
           "I Am All the Ages I've Ever Been"
          ],
          [
           "ICE NINE KILLS",
           "Welcome To Horrorwood: The Silver Scream 2"
          ],
          [
           "IDLES",
           "CRAWLER"
          ],
          [
           "Ian Munsick",
           "Coyote Cry"
          ],
          [
           "Ida Mae",
           "Click Click Domino"
          ],
          [
           "Illenium",
           "Fallen Embers"
          ],
          [
           "Illuminati Hotties",
           "Let Me Do One More"
          ],
          [
           "Inbal Segev",
           "20 for 2020 Volume 1"
          ],
          [
           "Indigo de Souza",
           "Any Shape You Take"
          ],
          [
           "Injury Reserve",
           "By the Time I Get to Phoenix"
          ],
          [
           "Invent Animate",
           "The Sun Sleeps, As If It Never Was"
          ],
          [
           "Isaiah Rashad",
           "The House is Burning"
          ],
          [
           "Izzy Johnson",
           "Earth Tones"
          ],
          [
           "J. Cole",
           "The Off-Season"
          ],
          [
           "JOHN (TIMESTWO)",
           "Nocturnal Manoeuvres"
          ],
          [
           "JP Saxe",
           "Dangerous Levels of Introspection"
          ],
          [
           "JPEGMAFIA",
           "LP!"
          ],
          [
           "JUDAH.",
           "3 + 7"
          ],
          [
           "Jack Ingram, Miranda Lambert & Jon Randall",
           "The Marfa Tapes"
          ],
          [
           "Jade Bird",
           "Different Kinds of Light"
          ],
          [
           "James Blake",
           "Friends That Break Your Heart"
          ],
          [
           "James McMurtry",
           "The Horses and the Hounds"
          ],
          [
           "James Vickery",
           "Songs That Made Me Feel"
          ],
          [
           "Japanese Breakfast",
           "Jubilee"
          ],
          [
           "Jason Aldean",
           "MACON"
          ],
          [
           "Jazmine Sullivan",
           "Heaux Tales"
          ],
          [
           "Jess Ray",
           "Baby Take My Hand"
          ],
          [
           "Jetty Bones",
           "Push Back"
          ],
          [
           "Joe Bonamassa",
           "Time Clocks"
          ],
          [
           "Joel Ansett",
           "I Should Get Some Rest"
          ],
          [
           "John Mark McMillan",
           "Has It Been You"
          ],
          [
           "John Mayer",
           "Sob Rock"
          ],
          [
           "Jon Batiste",
           "WE ARE"
          ],
          [
           "Jon Foreman",
           "Departures"
          ],
          [
           "Joni Mitchell",
           "Joni Mitchell Archives, Vol. 2: The Reprise Years"
          ],
          [
           "Jordan Davis",
           "Buy Dirt"
          ],
          [
           "Jordan Rakei",
           "What We Call Life"
          ],
          [
           "Jordan Rowe",
           "Bad Case of the Good Ole Boy"
          ],
          [
           "Jorja Smith",
           "Be Right Back"
          ],
          [
           "Joshua Bassett",
           "CRISIS"
          ],
          [
           "Joshua Bassett",
           "Joshua Bassett"
          ],
          [
           "Joy Crookes",
           "Skin"
          ],
          [
           "Joy Oladokun",
           "in defense of my own happiness"
          ],
          [
           "Joyce Wrice",
           "Overgrown"
          ],
          [
           "Julien Baker",
           "Little Oblivions"
          ],
          [
           "Jungle",
           "Loving in Stereo"
          ],
          [
           "Justin Bieber",
           "Justice"
          ],
          [
           "KALEO",
           "Surface Sounds"
          ],
          [
           "KAROL G",
           "KG0516"
          ],
          [
           "KAYTRANADA",
           "Intimidated"
          ],
          [
           "KINGZMN",
           "Where Do We Go From Here?"
          ],
          [
           "Kacey Musgraves",
           "star-crossed"
          ],
          [
           "Kanye West",
           "Donda"
          ],
          [
           "Kiefer",
           "Between Days"
          ],
          [
           "King Gizzard and the Lizard Wizards",
           "Butterfly 3000"
          ],
          [
           "Kings of Leon",
           "When You See Yourself"
          ],
          [
           "Knocked Loose",
           "A Tear in the Fabric of Life"
          ],
          [
           "Koreless",
           "Agor"
          ],
          [
           "Kota the Friend",
           "Lyrics to GO, Vol. 2"
          ],
          [
           "Kota the Friend & Statik Selektah",
           "To Kill a Sunrise"
          ],
          [
           "Këkht Aräkh",
           "Pale Swordsman"
          ],
          [
           "L'Rain",
           "Fatigue"
          ],
          [
           "LANY",
           "gg bb xx"
          ],
          [
           "LOONY",
           "soft thing"
          ],
          [
           "Lainey Wilson",
           "Sayin' What I'm Thinkin'"
          ],
          [
           "Lake Street Dive",
           "Obviously"
          ],
          [
           "Lana Del Rey",
           "Blue Banisters"
          ],
          [
           "Lana Del Rey",
           "Chemtrails Over the Country Club"
          ],
          [
           "Larry Fleet",
           "Stack of Records"
          ],
          [
           "Lavish",
           "The Northside"
          ],
          [
           "Lawrence",
           "Hotel TV"
          ],
          [
           "Left At London",
           "T.I.A.P.F.Y.H."
          ],
          [
           "Leon Bridges",
           "Gold-Diggers Sound"
          ],
          [
           "Lil Nas X",
           "Montero"
          ],
          [
           "Lil Tjay",
           "Destined 2 Win"
          ],
          [
           "Limp Bizkit",
           "Still Sucks"
          ],
          [
           "Little Simz",
           "Sometimes I Might Be Introvert"
          ],
          [
           "Lizzy McAlpine",
           "When The World Stopped Moving: The Live EP"
          ],
          [
           "Lord Huron",
           "Long Lost"
          ],
          [
           "Lorde",
           "Solar Power"
          ],
          [
           "Lorna Shore",
           "...And I Return To Nothingness"
          ],
          [
           "Louis the Child",
           "Euphoria"
          ],
          [
           "Low",
           "Hey What"
          ],
          [
           "Lucy Dacus",
           "Home Video"
          ],
          [
           "Lunar Vacation",
           "Inside Every Fig is a Dead Wasp"
          ],
          [
           "Lute",
           "Gold Mouf"
          ],
          [
           "MARINA",
           "Ancient Dreams In A Modern Land"
          ],
          [
           "Mac Ayres",
           "Magic 8ball"
          ],
          [
           "Mach-Hommy",
           "Pray for Haiti"
          ],
          [
           "Main Phase",
           "Buss It"
          ],
          [
           "Maisie Peters",
           "You Signed Up For This"
          ],
          [
           "Manchester Orchestra",
           "The Million Masks of God"
          ],
          [
           "Mannequin Pussy",
           "Perfect"
          ],
          [
           "Maple Glider",
           "To Enjoy Is the Only Thing"
          ],
          [
           "Marcellus Juvann",
           "HARDHEADED"
          ],
          [
           "Mariah the Scientist",
           "RY RY WORLD"
          ],
          [
           "Mark Barlow",
           "Hymns & Soul"
          ],
          [
           "Matt Maltese",
           "Good Morning It's Now Tomorrow"
          ],
          [
           "Maxo Kream",
           "Weight of the World"
          ],
          [
           "Megan Thee Stallion",
           "Something For Thee Hotties"
          ],
          [
           "Melt",
           "West Side Highway"
          ],
          [
           "Men I Trust",
           "Untourable Album"
          ],
          [
           "Michael Giacchino",
           "Spider-Man: No Way Home (Original Motion Picture Soundtrack)"
          ],
          [
           "Mick Jenkins",
           "A Elephant in the Room"
          ],
          [
           "Midland",
           "The Sonic Ranch"
          ],
          [
           "Mike and the Moonpies",
           "One to Grow On"
          ],
          [
           "Miko Marks and the Resurrectors",
           "Race Records"
          ],
          [
           "Mild High Club",
           "Going Going Gone"
          ],
          [
           "Milky Chance",
           "Trip Tape"
          ],
          [
           "Millwood",
           "Spiral"
          ],
          [
           "Mitchell Tenpenny",
           "Midtown Diaries"
          ],
          [
           "Mitochondrial Sun",
           "Bodies and Gold"
          ],
          [
           "Mod Sun",
           "Internet Killed the Rock Star"
          ],
          [
           "Modest Mouse",
           "The Golden Casket"
          ],
          [
           "Morgan Wade",
           "Reckless"
          ],
          [
           "Morgan Wallen",
           "Dangerous: the Double Album"
          ],
          [
           "My Morning Jacket",
           "My Morning Jacket"
          ],
          [
           "MØL",
           "Diorama"
          ],
          [
           "NEEDTOBREATHE",
           "Into The Mystery"
          ],
          [
           "NF",
           "Clouds"
          ],
          [
           "Nas",
           "King’s Disease II"
          ],
          [
           "Natalie Schepman",
           "Fresh Water in an Empty Vase"
          ],
          [
           "Navy Blue",
           "Navy's Reprise"
          ],
          [
           "Neil Young & Crazy Horse",
           "Barn"
          ],
          [
           "No Rome",
           "It's All Smiles"
          ],
          [
           "Noah Gunderson",
           "A Pillar of Salt"
          ],
          [
           "Nothing But Thieves",
           "Moral Panic II"
          ],
          [
           "O P Yeti",
           "Alexander Mackay: THE WORST"
          ],
          [
           "Oh Wonder",
           "22 Break"
          ],
          [
           "Olivia Rodrigo",
           "Sour"
          ],
          [
           "Oz",
           "Perfect"
          ],
          [
           "P!nk",
           "All I Know So Far: Setlist"
          ],
          [
           "P.J. Harding & Noah Cyrus",
           "People Don't Change"
          ],
          [
           "Parannoul",
           "To See the Next Part of the Dream"
          ],
          [
           "Parcels",
           "Day/Night"
          ],
          [
           "Parquet Courts",
           "Sympathy for Life"
          ],
          [
           "Peach Tree Rascals",
           "Camp Nowhere"
          ],
          [
           "Petey",
           "Lean Into Life"
          ],
          [
           "Phil Wickham",
           "Hymn of Heaven"
          ],
          [
           "Pi'erre Bourne",
           "The Life Of Pi'erre 5"
          ],
          [
           "Pinkpantheress",
           "To Hell With It"
          ],
          [
           "Pleasure P",
           "Business Before Pleasure"
          ],
          [
           "Polo G",
           "Hall of Fame"
          ],
          [
           "Prince",
           "Welcome 2 America"
          ],
          [
           "Quinn XCII",
           "Change of Scenery II"
          ],
          [
           "Qveen Herby",
           "A Woman"
          ],
          [
           "Raquel Rodriguez",
           "Sweet Side"
          ],
          [
           "Remi Wolf",
           "Juno"
          ],
          [
           "Renée Reed",
           "Renée Reed"
          ],
          [
           "Rezz",
           "Spiral"
          ],
          [
           "Rhye",
           "Home"
          ],
          [
           "Richie Quake",
           "Voyager EP"
          ],
          [
           "Rise Against",
           "Nowhere Generation"
          ],
          [
           "Ritt Momney",
           "Sunny Boy"
          ],
          [
           "Robert Plant & Alison Krauss",
           "Raise The Roof"
          ],
          [
           "Royal Blood",
           "Typhoons"
          ],
          [
           "SEB",
           "IT'S OKAY, WE'RE DREAMING"
          ],
          [
           "Said The Whale",
           "Dandelion"
          ],
          [
           "Sam Dew",
           "Moonlight Fools"
          ],
          [
           "Sam Evian",
           "Time to Melt"
          ],
          [
           "Sam Fender",
           "Seventeen Going Under"
          ],
          [
           "Sam Gendel & Sam Wilkes",
           "Music for Saxofone & Bass tar: More Songs"
          ],
          [
           "Sam Williams",
           "Glasshouse Children"
          ],
          [
           "Sammy Rae & The Friends",
           "Let's Throw a Party"
          ],
          [
           "Sarah Christian",
           "Tchaikovsky (Violin Concerto & Souvenir de Florence)"
          ],
          [
           "Sarah Juers",
           "Cyberspace"
          ],
          [
           "Sarah and the Sundays",
           "The Living End"
          ],
          [
           "Saucy Santana",
           "Keep It Playa"
          ],
          [
           "Scotty McCreery",
           "Same Truck"
          ],
          [
           "SeeYouSpaceCowboy...",
           "The Romance of Affliction"
          ],
          [
           "Shad",
           "Tao"
          ],
          [
           "Shelley FKA DRAM",
           "Shelley FKA DRAM"
          ],
          [
           "Sierra Ferrell",
           "Long Time Coming"
          ],
          [
           "Silent Planet",
           "Iridescent"
          ],
          [
           "Silk Sonic",
           "An Evening With Silk Sonic"
          ],
          [
           "Sipper",
           "Pink Songs"
          ],
          [
           "Slayyyter",
           "Troubled Paradise"
          ],
          [
           "Sloppy Jane",
           "Madison"
          ],
          [
           "Snail Mail",
           "Valentine"
          ],
          [
           "Snoh Alegra",
           "TEMPORARY HIGHS IN THE VIOLET SKIES"
          ],
          [
           "Snotty Nose Rez Kids",
           "Life After"
          ],
          [
           "Sonny Fodera",
           "Wide Awake"
          ],
          [
           "Spellling",
           "The Turning Wheel"
          ],
          [
           "Squid",
           "Bright Green Field"
          ],
          [
           "Squirrel Flower",
           "Planet (i)"
          ],
          [
           "St. Vincent",
           "Daddy's Home"
          ],
          [
           "Starcadian",
           "Radio Galaxy"
          ],
          [
           "Stephan Moccio",
           "Lionheart"
          ],
          [
           "Still Woozy",
           "If This Isn't Nice, I Don't Know What Is"
          ],
          [
           "Sting",
           "The Bridge"
          ],
          [
           "Stormkeep",
           "Tales of Othertime"
          ],
          [
           "Sturgill Simpson",
           "The Ballad of Dood & Juanita"
          ],
          [
           "Sufjan Stevens & Angelo De Augustine",
           "A Beginner's Mind"
          ],
          [
           "Summer Walker",
           "Still Over It"
          ],
          [
           "Sun Seeker",
           "A Sunrise in a Basement"
          ],
          [
           "Surfaces",
           "Pacifico"
          ],
          [
           "Switchfoot",
           "interrobang"
          ],
          [
           "TORRES",
           "Thirstier"
          ],
          [
           "TWRP",
           "New & Improved"
          ],
          [
           "Tai Verdes",
           "TV"
          ],
          [
           "Tawni Bias",
           "SEL Fellow"
          ],
          [
           "Taylor Leonhardt",
           "Hold Still"
          ],
          [
           "Tems",
           "If Orange Was A Place"
          ],
          [
           "Terrace Martin",
           "Drones"
          ],
          [
           "That Handsome Devil",
           "Your Parents Are Sellouts"
          ],
          [
           "The 502s",
           "Could It Get Better Than This"
          ],
          [
           "The Alchemist",
           "This Thing of Ours"
          ],
          [
           "The Armed",
           "Ultrapop"
          ],
          [
           "The Aubreys",
           "Karaoke Alone"
          ],
          [
           "The Band Camino",
           "The Band Camino"
          ],
          [
           "The Beths",
           "Auckland, New Zealand, 2020 (Live)"
          ],
          [
           "The Black Keys",
           "Delta Kream"
          ],
          [
           "The Bronx",
           "The Bronx VI"
          ],
          [
           "The Dirty Nil",
           "Fuck Art"
          ],
          [
           "The Doughboys & Brainiac",
           "The Doughboys"
          ],
          [
           "The Drums",
           "MOMMY DON'T SPANK ME"
          ],
          [
           "The Emerald Isle",
           "The Emerald Isle"
          ],
          [
           "The Hold Steady",
           "Open Door Policy"
          ],
          [
           "The Killers",
           "Pressure Machine"
          ],
          [
           "The Marías",
           "CINEMA"
          ],
          [
           "The Paper Kites",
           "Roses"
          ],
          [
           "The Sheepdogs",
           "No Simple Thing (EP)"
          ],
          [
           "The Staves",
           "Good Woman"
          ],
          [
           "The War on Drugs",
           "I Don't Live Here Anymore"
          ],
          [
           "The Weather Station",
           "Ignorance"
          ],
          [
           "Third Eye Blind",
           "Our Bande Apart"
          ],
          [
           "Thomas Rhett",
           "Country Again"
          ],
          [
           "Thrice",
           "Horizons / East"
          ],
          [
           "Tigers Jaw",
           "I Won't Care How You Remember Me"
          ],
          [
           "Tinashe",
           "333"
          ],
          [
           "Tingsek",
           "Home"
          ],
          [
           "Tom Misch",
           "Quarantine Sessions"
          ],
          [
           "Triston Marez",
           "Triston Marez"
          ],
          [
           "Turnstile",
           "Glow On"
          ],
          [
           "Twelve Foot Ninja",
           "Vengeance"
          ],
          [
           "Twenty One Pilots",
           "Scaled and Icy"
          ],
          [
           "Tyler, the Creator",
           "Call Me If You Get Lost"
          ],
          [
           "Unto Others",
           "Strength"
          ],
          [
           "Valerie June",
           "The Moon And Stars: Prescriptions For Dreamers"
          ],
          [
           "Valley",
           "Last Birthday"
          ],
          [
           "Vanjess",
           "Homegrown"
          ],
          [
           "Various Artists",
           "The Harder They Fall (The Motion Picture Soundtrack)"
          ],
          [
           "Various Artists",
           "tick, tick... BOOM! (Soundtrack from the Netflix Film)"
          ],
          [
           "Villagers",
           "Fever Dreams"
          ],
          [
           "Vince Staples",
           "Vince Staples"
          ],
          [
           "Wanderer",
           "Travel Plans"
          ],
          [
           "Warren Zeiders",
           "717 Tapes"
          ],
          [
           "Water From Your Eyes",
           "Structure"
          ],
          [
           "Wayward Nick",
           "Puny Human"
          ],
          [
           "We Were Promised Jetpacks",
           "Enjoy the View"
          ],
          [
           "Whitechapel",
           "Kin"
          ],
          [
           "Wiki",
           "Half God"
          ],
          [
           "Wilderado",
           "Wilderado"
          ],
          [
           "Willow",
           "Lately I Feel Everything"
          ],
          [
           "Wolf Alice",
           "Blue Weekend"
          ],
          [
           "Wolves in the Throne Room",
           "Primordial Arcana"
          ],
          [
           "Woodlock",
           "The Future of an End"
          ],
          [
           "Yebba",
           "Dawn"
          ],
          [
           "Young Thug",
           "Punk"
          ],
          [
           "Zach Winters",
           "Other Side (B)"
          ],
          [
           "Zayn",
           "Nobody is Listening"
          ],
          [
           "Zouj",
           "Tagat (Mixtape)"
          ],
          [
           "anaiis",
           "this is no longer a dream"
          ],
          [
           "bbno$",
           "eat ya veggies"
          ],
          [
           "black midi",
           "Cavalcade"
          ],
          [
           "blackbear",
           "misery lake"
          ],
          [
           "chloe moriondo",
           "Blood Bunny"
          ],
          [
           "cleopatrick",
           "BUMMER"
          ],
          [
           "daysormay",
           "Just Existing"
          ],
          [
           "dodie",
           "Build A Problem"
          ],
          [
           "girl in red",
           "if i could make it go quiet"
          ],
          [
           "nothing, nowhere.",
           "Trauma Factory"
          ],
          [
           "quickly, quickly",
           "The Long and Short of It"
          ]
         ],
         "hovertemplate": "<b>%{customdata[0]}</b> - <i>%{customdata[1]}</i><br><br>Average Album Rank: %{y}<br>Album Submission Count : %{x}<br><extra></extra>",
         "legendgroup": "",
         "marker": {
          "color": "#1F77B4",
          "symbol": "circle"
         },
         "mode": "markers",
         "name": "",
         "orientation": "v",
         "showlegend": false,
         "type": "scatter",
         "x": [
          1,
          1,
          1,
          1,
          7,
          1,
          21,
          2,
          1,
          1,
          1,
          1,
          1,
          5,
          1,
          1,
          1,
          2,
          1,
          1,
          2,
          1,
          1,
          1,
          1,
          1,
          1,
          1,
          8,
          1,
          1,
          1,
          1,
          4,
          1,
          8,
          1,
          2,
          2,
          1,
          1,
          1,
          1,
          22,
          1,
          1,
          1,
          1,
          1,
          3,
          1,
          2,
          1,
          13,
          1,
          3,
          1,
          1,
          3,
          5,
          1,
          1,
          1,
          1,
          1,
          1,
          3,
          1,
          1,
          4,
          2,
          3,
          1,
          4,
          1,
          1,
          2,
          4,
          1,
          2,
          1,
          8,
          1,
          1,
          1,
          4,
          1,
          1,
          1,
          1,
          1,
          1,
          1,
          1,
          1,
          1,
          2,
          1,
          1,
          1,
          1,
          1,
          1,
          1,
          5,
          4,
          1,
          1,
          1,
          1,
          1,
          1,
          1,
          1,
          1,
          1,
          11,
          1,
          1,
          8,
          2,
          1,
          1,
          1,
          1,
          2,
          1,
          2,
          1,
          1,
          1,
          1,
          1,
          4,
          3,
          1,
          3,
          2,
          2,
          6,
          6,
          1,
          1,
          2,
          1,
          1,
          2,
          1,
          4,
          2,
          1,
          1,
          1,
          1,
          1,
          1,
          5,
          1,
          1,
          1,
          3,
          1,
          4,
          1,
          3,
          1,
          1,
          1,
          1,
          2,
          1,
          2,
          2,
          1,
          2,
          3,
          1,
          4,
          1,
          6,
          1,
          1,
          3,
          1,
          1,
          1,
          5,
          1,
          1,
          8,
          1,
          7,
          2,
          1,
          1,
          1,
          2,
          3,
          3,
          4,
          1,
          1,
          1,
          1,
          6,
          1,
          1,
          1,
          1,
          1,
          13,
          1,
          3,
          4,
          1,
          1,
          1,
          10,
          11,
          1,
          1,
          3,
          1,
          1,
          1,
          1,
          1,
          1,
          2,
          1,
          2,
          2,
          2,
          6,
          1,
          1,
          5,
          1,
          3,
          19,
          1,
          1,
          9,
          4,
          5,
          12,
          1,
          1,
          3,
          5,
          1,
          1,
          1,
          2,
          2,
          1,
          1,
          6,
          3,
          1,
          1,
          2,
          2,
          1,
          1,
          3,
          1,
          3,
          1,
          1,
          3,
          2,
          1,
          1,
          1,
          2,
          1,
          1,
          1,
          1,
          4,
          6,
          2,
          1,
          2,
          1,
          1,
          1,
          1,
          1,
          1,
          2,
          1,
          1,
          2,
          25,
          3,
          1,
          1,
          1,
          9,
          2,
          1,
          1,
          1,
          1,
          1,
          1,
          1,
          1,
          1,
          1,
          1,
          3,
          1,
          2,
          2,
          1,
          1,
          1,
          2,
          1,
          1,
          2,
          1,
          1,
          2,
          1,
          1,
          2,
          1,
          2,
          1,
          1,
          2,
          1,
          1,
          1,
          2,
          1,
          25,
          1,
          1,
          1,
          7,
          1,
          1,
          1,
          1,
          4,
          1,
          1,
          1,
          1,
          3,
          2,
          1,
          2,
          5,
          2,
          1,
          3,
          4,
          1,
          1,
          2,
          1,
          1,
          4,
          1,
          1,
          1,
          1,
          4,
          1,
          4,
          1,
          4,
          1,
          2,
          1,
          1,
          1,
          1,
          4,
          1,
          1,
          1,
          1,
          7,
          2,
          1,
          2,
          1,
          1,
          2,
          2,
          1,
          1,
          9,
          1,
          3,
          20,
          1,
          1,
          4,
          1,
          1,
          1,
          2,
          6,
          1,
          1,
          1,
          1,
          1,
          1,
          1,
          1,
          5,
          4,
          1,
          1,
          2,
          2,
          2,
          1,
          1,
          1,
          2,
          5,
          2,
          1,
          2,
          3,
          2,
          3,
          1,
          2
         ],
         "xaxis": "x",
         "y": [
          9,
          3,
          6,
          3,
          6.428571428571429,
          7,
          4.428571428571429,
          7.5,
          10,
          9,
          3,
          4,
          10,
          5.4,
          8,
          8,
          6,
          5.5,
          9,
          10,
          4,
          3,
          9,
          3,
          1,
          7,
          8,
          8,
          6.5,
          10,
          7,
          2,
          4,
          4.25,
          4,
          7.25,
          9,
          8,
          3.5,
          7,
          3,
          8,
          1,
          4.7727272727272725,
          5,
          1,
          3,
          10,
          9,
          6.666666666666667,
          7,
          3.5,
          9,
          5,
          10,
          1.6666666666666667,
          6,
          4,
          6.333333333333333,
          6,
          10,
          3,
          2,
          2,
          8,
          4,
          2.6666666666666665,
          8,
          6,
          3,
          4,
          7,
          9,
          5.25,
          2,
          2,
          3.5,
          6,
          8,
          7,
          6,
          6.75,
          6,
          5,
          3,
          5.75,
          3,
          1,
          9,
          2,
          4,
          10,
          10,
          9,
          6,
          5,
          1.5,
          5,
          1,
          3,
          9,
          4,
          10,
          8,
          2.6,
          7.5,
          9,
          6,
          9,
          10,
          7,
          10,
          1,
          6,
          10,
          1,
          5.181818181818182,
          6,
          10,
          7.125,
          6,
          10,
          6,
          9,
          6,
          6,
          3,
          7,
          1,
          9,
          4,
          8,
          2,
          3.5,
          5,
          1,
          5.666666666666667,
          8,
          7.5,
          3.8333333333333335,
          4.5,
          5,
          3,
          6.5,
          5,
          10,
          7.5,
          7,
          4.5,
          8.5,
          8,
          6,
          9,
          7,
          7,
          9,
          4.8,
          3,
          10,
          5,
          3.6666666666666665,
          5,
          7.5,
          8,
          7,
          1,
          1,
          5,
          8,
          4,
          2,
          7.5,
          7.5,
          6,
          3.5,
          5,
          6,
          4.5,
          4,
          5.166666666666667,
          9,
          9,
          6.333333333333333,
          1,
          10,
          6,
          4.4,
          4,
          9,
          3.625,
          4,
          6.714285714285714,
          6.5,
          7,
          8,
          5,
          4,
          4.333333333333333,
          3,
          7.25,
          4,
          10,
          9,
          1,
          5.166666666666667,
          5,
          2,
          9,
          8,
          8,
          4.923076923076923,
          1,
          5.333333333333333,
          7.25,
          6,
          3,
          5,
          7.5,
          5.2727272727272725,
          4,
          9,
          5,
          4,
          3,
          10,
          4,
          8,
          8,
          4,
          2,
          6.5,
          7.5,
          3.5,
          5.5,
          10,
          4,
          5,
          3,
          5.333333333333333,
          5.631578947368421,
          8,
          9,
          4.555555555555555,
          5.25,
          4.6,
          5.083333333333333,
          5,
          7,
          5,
          5.2,
          8,
          8,
          5,
          4.5,
          7,
          9,
          2,
          5,
          3.3333333333333335,
          10,
          4,
          4.5,
          3.5,
          5,
          7,
          6.666666666666667,
          5,
          5.666666666666667,
          9,
          6,
          7.333333333333333,
          1.5,
          8,
          2,
          10,
          6,
          9,
          7,
          4,
          3,
          4,
          2.6666666666666665,
          5,
          1,
          8.5,
          1,
          2,
          6,
          10,
          3,
          4,
          5,
          5,
          6,
          6.5,
          5.52,
          3.3333333333333335,
          2,
          2,
          1,
          3.888888888888889,
          6,
          3,
          8,
          7,
          2,
          1,
          3,
          10,
          10,
          8,
          9,
          8,
          4.666666666666667,
          3,
          6,
          9,
          4,
          7,
          4,
          5,
          4,
          10,
          6,
          9,
          7,
          5,
          5,
          1,
          6.5,
          3,
          5,
          5,
          9,
          6.5,
          10,
          9,
          8,
          7.5,
          7,
          4.16,
          8,
          9,
          9,
          5,
          8,
          9,
          10,
          7,
          5.25,
          8,
          8,
          7,
          8,
          6.666666666666667,
          6.5,
          6,
          8,
          3.8,
          2,
          10,
          4.666666666666667,
          6,
          6,
          4,
          5.5,
          2,
          2,
          7.5,
          9,
          3,
          7,
          10,
          4.75,
          1,
          4.25,
          1,
          4.5,
          7,
          3.5,
          9,
          6,
          3,
          1,
          8.25,
          2,
          10,
          5,
          9,
          7,
          8,
          7,
          5,
          10,
          8,
          4.5,
          9,
          8,
          5,
          4.888888888888889,
          7,
          6.666666666666667,
          4.35,
          4,
          2,
          7.5,
          7,
          5,
          7,
          7.5,
          5,
          9,
          3,
          10,
          10,
          8,
          2,
          8,
          1,
          6.8,
          5.25,
          10,
          3,
          7,
          6.5,
          6,
          8,
          6,
          5,
          9,
          2.8,
          3.5,
          2,
          9,
          6.666666666666667,
          3.5,
          7,
          2,
          4
         ],
         "yaxis": "y"
        },
        {
         "hoverinfo": "skip",
         "mode": "lines",
         "opacity": 0.2,
         "showlegend": false,
         "type": "scatter",
         "x": [
          0,
          25
         ],
         "y": [
          10,
          1
         ]
        }
       ],
       "layout": {
        "legend": {
         "tracegroupgap": 0
        },
        "margin": {
         "t": 60
        },
        "template": {
         "data": {
          "bar": [
           {
            "error_x": {
             "color": "rgb(36,36,36)"
            },
            "error_y": {
             "color": "rgb(36,36,36)"
            },
            "marker": {
             "line": {
              "color": "white",
              "width": 0.5
             },
             "pattern": {
              "fillmode": "overlay",
              "size": 10,
              "solidity": 0.2
             }
            },
            "type": "bar"
           }
          ],
          "barpolar": [
           {
            "marker": {
             "line": {
              "color": "white",
              "width": 0.5
             },
             "pattern": {
              "fillmode": "overlay",
              "size": 10,
              "solidity": 0.2
             }
            },
            "type": "barpolar"
           }
          ],
          "carpet": [
           {
            "aaxis": {
             "endlinecolor": "rgb(36,36,36)",
             "gridcolor": "white",
             "linecolor": "white",
             "minorgridcolor": "white",
             "startlinecolor": "rgb(36,36,36)"
            },
            "baxis": {
             "endlinecolor": "rgb(36,36,36)",
             "gridcolor": "white",
             "linecolor": "white",
             "minorgridcolor": "white",
             "startlinecolor": "rgb(36,36,36)"
            },
            "type": "carpet"
           }
          ],
          "choropleth": [
           {
            "colorbar": {
             "outlinewidth": 1,
             "tickcolor": "rgb(36,36,36)",
             "ticks": "outside"
            },
            "type": "choropleth"
           }
          ],
          "contour": [
           {
            "colorbar": {
             "outlinewidth": 1,
             "tickcolor": "rgb(36,36,36)",
             "ticks": "outside"
            },
            "colorscale": [
             [
              0,
              "#440154"
             ],
             [
              0.1111111111111111,
              "#482878"
             ],
             [
              0.2222222222222222,
              "#3e4989"
             ],
             [
              0.3333333333333333,
              "#31688e"
             ],
             [
              0.4444444444444444,
              "#26828e"
             ],
             [
              0.5555555555555556,
              "#1f9e89"
             ],
             [
              0.6666666666666666,
              "#35b779"
             ],
             [
              0.7777777777777778,
              "#6ece58"
             ],
             [
              0.8888888888888888,
              "#b5de2b"
             ],
             [
              1,
              "#fde725"
             ]
            ],
            "type": "contour"
           }
          ],
          "contourcarpet": [
           {
            "colorbar": {
             "outlinewidth": 1,
             "tickcolor": "rgb(36,36,36)",
             "ticks": "outside"
            },
            "type": "contourcarpet"
           }
          ],
          "heatmap": [
           {
            "colorbar": {
             "outlinewidth": 1,
             "tickcolor": "rgb(36,36,36)",
             "ticks": "outside"
            },
            "colorscale": [
             [
              0,
              "#440154"
             ],
             [
              0.1111111111111111,
              "#482878"
             ],
             [
              0.2222222222222222,
              "#3e4989"
             ],
             [
              0.3333333333333333,
              "#31688e"
             ],
             [
              0.4444444444444444,
              "#26828e"
             ],
             [
              0.5555555555555556,
              "#1f9e89"
             ],
             [
              0.6666666666666666,
              "#35b779"
             ],
             [
              0.7777777777777778,
              "#6ece58"
             ],
             [
              0.8888888888888888,
              "#b5de2b"
             ],
             [
              1,
              "#fde725"
             ]
            ],
            "type": "heatmap"
           }
          ],
          "heatmapgl": [
           {
            "colorbar": {
             "outlinewidth": 1,
             "tickcolor": "rgb(36,36,36)",
             "ticks": "outside"
            },
            "colorscale": [
             [
              0,
              "#440154"
             ],
             [
              0.1111111111111111,
              "#482878"
             ],
             [
              0.2222222222222222,
              "#3e4989"
             ],
             [
              0.3333333333333333,
              "#31688e"
             ],
             [
              0.4444444444444444,
              "#26828e"
             ],
             [
              0.5555555555555556,
              "#1f9e89"
             ],
             [
              0.6666666666666666,
              "#35b779"
             ],
             [
              0.7777777777777778,
              "#6ece58"
             ],
             [
              0.8888888888888888,
              "#b5de2b"
             ],
             [
              1,
              "#fde725"
             ]
            ],
            "type": "heatmapgl"
           }
          ],
          "histogram": [
           {
            "marker": {
             "line": {
              "color": "white",
              "width": 0.6
             }
            },
            "type": "histogram"
           }
          ],
          "histogram2d": [
           {
            "colorbar": {
             "outlinewidth": 1,
             "tickcolor": "rgb(36,36,36)",
             "ticks": "outside"
            },
            "colorscale": [
             [
              0,
              "#440154"
             ],
             [
              0.1111111111111111,
              "#482878"
             ],
             [
              0.2222222222222222,
              "#3e4989"
             ],
             [
              0.3333333333333333,
              "#31688e"
             ],
             [
              0.4444444444444444,
              "#26828e"
             ],
             [
              0.5555555555555556,
              "#1f9e89"
             ],
             [
              0.6666666666666666,
              "#35b779"
             ],
             [
              0.7777777777777778,
              "#6ece58"
             ],
             [
              0.8888888888888888,
              "#b5de2b"
             ],
             [
              1,
              "#fde725"
             ]
            ],
            "type": "histogram2d"
           }
          ],
          "histogram2dcontour": [
           {
            "colorbar": {
             "outlinewidth": 1,
             "tickcolor": "rgb(36,36,36)",
             "ticks": "outside"
            },
            "colorscale": [
             [
              0,
              "#440154"
             ],
             [
              0.1111111111111111,
              "#482878"
             ],
             [
              0.2222222222222222,
              "#3e4989"
             ],
             [
              0.3333333333333333,
              "#31688e"
             ],
             [
              0.4444444444444444,
              "#26828e"
             ],
             [
              0.5555555555555556,
              "#1f9e89"
             ],
             [
              0.6666666666666666,
              "#35b779"
             ],
             [
              0.7777777777777778,
              "#6ece58"
             ],
             [
              0.8888888888888888,
              "#b5de2b"
             ],
             [
              1,
              "#fde725"
             ]
            ],
            "type": "histogram2dcontour"
           }
          ],
          "mesh3d": [
           {
            "colorbar": {
             "outlinewidth": 1,
             "tickcolor": "rgb(36,36,36)",
             "ticks": "outside"
            },
            "type": "mesh3d"
           }
          ],
          "parcoords": [
           {
            "line": {
             "colorbar": {
              "outlinewidth": 1,
              "tickcolor": "rgb(36,36,36)",
              "ticks": "outside"
             }
            },
            "type": "parcoords"
           }
          ],
          "pie": [
           {
            "automargin": true,
            "type": "pie"
           }
          ],
          "scatter": [
           {
            "marker": {
             "colorbar": {
              "outlinewidth": 1,
              "tickcolor": "rgb(36,36,36)",
              "ticks": "outside"
             }
            },
            "type": "scatter"
           }
          ],
          "scatter3d": [
           {
            "line": {
             "colorbar": {
              "outlinewidth": 1,
              "tickcolor": "rgb(36,36,36)",
              "ticks": "outside"
             }
            },
            "marker": {
             "colorbar": {
              "outlinewidth": 1,
              "tickcolor": "rgb(36,36,36)",
              "ticks": "outside"
             }
            },
            "type": "scatter3d"
           }
          ],
          "scattercarpet": [
           {
            "marker": {
             "colorbar": {
              "outlinewidth": 1,
              "tickcolor": "rgb(36,36,36)",
              "ticks": "outside"
             }
            },
            "type": "scattercarpet"
           }
          ],
          "scattergeo": [
           {
            "marker": {
             "colorbar": {
              "outlinewidth": 1,
              "tickcolor": "rgb(36,36,36)",
              "ticks": "outside"
             }
            },
            "type": "scattergeo"
           }
          ],
          "scattergl": [
           {
            "marker": {
             "colorbar": {
              "outlinewidth": 1,
              "tickcolor": "rgb(36,36,36)",
              "ticks": "outside"
             }
            },
            "type": "scattergl"
           }
          ],
          "scattermapbox": [
           {
            "marker": {
             "colorbar": {
              "outlinewidth": 1,
              "tickcolor": "rgb(36,36,36)",
              "ticks": "outside"
             }
            },
            "type": "scattermapbox"
           }
          ],
          "scatterpolar": [
           {
            "marker": {
             "colorbar": {
              "outlinewidth": 1,
              "tickcolor": "rgb(36,36,36)",
              "ticks": "outside"
             }
            },
            "type": "scatterpolar"
           }
          ],
          "scatterpolargl": [
           {
            "marker": {
             "colorbar": {
              "outlinewidth": 1,
              "tickcolor": "rgb(36,36,36)",
              "ticks": "outside"
             }
            },
            "type": "scatterpolargl"
           }
          ],
          "scatterternary": [
           {
            "marker": {
             "colorbar": {
              "outlinewidth": 1,
              "tickcolor": "rgb(36,36,36)",
              "ticks": "outside"
             }
            },
            "type": "scatterternary"
           }
          ],
          "surface": [
           {
            "colorbar": {
             "outlinewidth": 1,
             "tickcolor": "rgb(36,36,36)",
             "ticks": "outside"
            },
            "colorscale": [
             [
              0,
              "#440154"
             ],
             [
              0.1111111111111111,
              "#482878"
             ],
             [
              0.2222222222222222,
              "#3e4989"
             ],
             [
              0.3333333333333333,
              "#31688e"
             ],
             [
              0.4444444444444444,
              "#26828e"
             ],
             [
              0.5555555555555556,
              "#1f9e89"
             ],
             [
              0.6666666666666666,
              "#35b779"
             ],
             [
              0.7777777777777778,
              "#6ece58"
             ],
             [
              0.8888888888888888,
              "#b5de2b"
             ],
             [
              1,
              "#fde725"
             ]
            ],
            "type": "surface"
           }
          ],
          "table": [
           {
            "cells": {
             "fill": {
              "color": "rgb(237,237,237)"
             },
             "line": {
              "color": "white"
             }
            },
            "header": {
             "fill": {
              "color": "rgb(217,217,217)"
             },
             "line": {
              "color": "white"
             }
            },
            "type": "table"
           }
          ]
         },
         "layout": {
          "annotationdefaults": {
           "arrowhead": 0,
           "arrowwidth": 1
          },
          "autotypenumbers": "strict",
          "coloraxis": {
           "colorbar": {
            "outlinewidth": 1,
            "tickcolor": "rgb(36,36,36)",
            "ticks": "outside"
           }
          },
          "colorscale": {
           "diverging": [
            [
             0,
             "rgb(103,0,31)"
            ],
            [
             0.1,
             "rgb(178,24,43)"
            ],
            [
             0.2,
             "rgb(214,96,77)"
            ],
            [
             0.3,
             "rgb(244,165,130)"
            ],
            [
             0.4,
             "rgb(253,219,199)"
            ],
            [
             0.5,
             "rgb(247,247,247)"
            ],
            [
             0.6,
             "rgb(209,229,240)"
            ],
            [
             0.7,
             "rgb(146,197,222)"
            ],
            [
             0.8,
             "rgb(67,147,195)"
            ],
            [
             0.9,
             "rgb(33,102,172)"
            ],
            [
             1,
             "rgb(5,48,97)"
            ]
           ],
           "sequential": [
            [
             0,
             "#440154"
            ],
            [
             0.1111111111111111,
             "#482878"
            ],
            [
             0.2222222222222222,
             "#3e4989"
            ],
            [
             0.3333333333333333,
             "#31688e"
            ],
            [
             0.4444444444444444,
             "#26828e"
            ],
            [
             0.5555555555555556,
             "#1f9e89"
            ],
            [
             0.6666666666666666,
             "#35b779"
            ],
            [
             0.7777777777777778,
             "#6ece58"
            ],
            [
             0.8888888888888888,
             "#b5de2b"
            ],
            [
             1,
             "#fde725"
            ]
           ],
           "sequentialminus": [
            [
             0,
             "#440154"
            ],
            [
             0.1111111111111111,
             "#482878"
            ],
            [
             0.2222222222222222,
             "#3e4989"
            ],
            [
             0.3333333333333333,
             "#31688e"
            ],
            [
             0.4444444444444444,
             "#26828e"
            ],
            [
             0.5555555555555556,
             "#1f9e89"
            ],
            [
             0.6666666666666666,
             "#35b779"
            ],
            [
             0.7777777777777778,
             "#6ece58"
            ],
            [
             0.8888888888888888,
             "#b5de2b"
            ],
            [
             1,
             "#fde725"
            ]
           ]
          },
          "colorway": [
           "#1F77B4",
           "#FF7F0E",
           "#2CA02C",
           "#D62728",
           "#9467BD",
           "#8C564B",
           "#E377C2",
           "#7F7F7F",
           "#BCBD22",
           "#17BECF"
          ],
          "font": {
           "color": "rgb(36,36,36)"
          },
          "geo": {
           "bgcolor": "white",
           "lakecolor": "white",
           "landcolor": "white",
           "showlakes": true,
           "showland": true,
           "subunitcolor": "white"
          },
          "hoverlabel": {
           "align": "left"
          },
          "hovermode": "closest",
          "mapbox": {
           "style": "light"
          },
          "paper_bgcolor": "white",
          "plot_bgcolor": "white",
          "polar": {
           "angularaxis": {
            "gridcolor": "rgb(232,232,232)",
            "linecolor": "rgb(36,36,36)",
            "showgrid": false,
            "showline": true,
            "ticks": "outside"
           },
           "bgcolor": "white",
           "radialaxis": {
            "gridcolor": "rgb(232,232,232)",
            "linecolor": "rgb(36,36,36)",
            "showgrid": false,
            "showline": true,
            "ticks": "outside"
           }
          },
          "scene": {
           "xaxis": {
            "backgroundcolor": "white",
            "gridcolor": "rgb(232,232,232)",
            "gridwidth": 2,
            "linecolor": "rgb(36,36,36)",
            "showbackground": true,
            "showgrid": false,
            "showline": true,
            "ticks": "outside",
            "zeroline": false,
            "zerolinecolor": "rgb(36,36,36)"
           },
           "yaxis": {
            "backgroundcolor": "white",
            "gridcolor": "rgb(232,232,232)",
            "gridwidth": 2,
            "linecolor": "rgb(36,36,36)",
            "showbackground": true,
            "showgrid": false,
            "showline": true,
            "ticks": "outside",
            "zeroline": false,
            "zerolinecolor": "rgb(36,36,36)"
           },
           "zaxis": {
            "backgroundcolor": "white",
            "gridcolor": "rgb(232,232,232)",
            "gridwidth": 2,
            "linecolor": "rgb(36,36,36)",
            "showbackground": true,
            "showgrid": false,
            "showline": true,
            "ticks": "outside",
            "zeroline": false,
            "zerolinecolor": "rgb(36,36,36)"
           }
          },
          "shapedefaults": {
           "fillcolor": "black",
           "line": {
            "width": 0
           },
           "opacity": 0.3
          },
          "ternary": {
           "aaxis": {
            "gridcolor": "rgb(232,232,232)",
            "linecolor": "rgb(36,36,36)",
            "showgrid": false,
            "showline": true,
            "ticks": "outside"
           },
           "baxis": {
            "gridcolor": "rgb(232,232,232)",
            "linecolor": "rgb(36,36,36)",
            "showgrid": false,
            "showline": true,
            "ticks": "outside"
           },
           "bgcolor": "white",
           "caxis": {
            "gridcolor": "rgb(232,232,232)",
            "linecolor": "rgb(36,36,36)",
            "showgrid": false,
            "showline": true,
            "ticks": "outside"
           }
          },
          "title": {
           "x": 0.05
          },
          "xaxis": {
           "automargin": true,
           "gridcolor": "rgb(232,232,232)",
           "linecolor": "rgb(36,36,36)",
           "showgrid": false,
           "showline": true,
           "ticks": "outside",
           "title": {
            "standoff": 15
           },
           "zeroline": false,
           "zerolinecolor": "rgb(36,36,36)"
          },
          "yaxis": {
           "automargin": true,
           "gridcolor": "rgb(232,232,232)",
           "linecolor": "rgb(36,36,36)",
           "showgrid": false,
           "showline": true,
           "ticks": "outside",
           "title": {
            "standoff": 15
           },
           "zeroline": false,
           "zerolinecolor": "rgb(36,36,36)"
          }
         }
        },
        "xaxis": {
         "anchor": "y",
         "domain": [
          0,
          1
         ],
         "title": {
          "text": "Album Submission Count"
         }
        },
        "yaxis": {
         "anchor": "x",
         "autorange": "reversed",
         "domain": [
          0,
          1
         ],
         "title": {
          "text": "Average Album Rank"
         }
        }
       }
      }
     },
     "metadata": {},
     "output_type": "display_data"
    }
   ],
   "source": [
    "figure = px.scatter(\n",
    "    AOTY_by_album,\n",
    "    x=\"album_submission_count\",\n",
    "    y=\"album_average_rank\",\n",
    "    template=\"simple_white\",\n",
    "    labels={\n",
    "        \"album_average_rank\": \"Average Album Rank\",\n",
    "        \"album_submission_count\": \"Album Submission Count\",\n",
    "    },\n",
    "    custom_data=[\"Artist\", \"Album\"],\n",
    ")\n",
    "figure.update_traces(\n",
    "    hovertemplate=\"<br>\".join(\n",
    "        [\n",
    "            \"<b>%{customdata[0]}</b> - <i>%{customdata[1]}</i>\",\n",
    "            \"\",\n",
    "            \"Average Album Rank: %{y}\",\n",
    "            \"Album Submission Count : %{x}\",\n",
    "            \"<extra></extra>\",\n",
    "        ]\n",
    "    )\n",
    ")\n",
    "\n",
    "figure.add_scatter(\n",
    "    x=[0, max(AOTY_by_album[\"album_submission_count\"])],\n",
    "    y=[10, 1],  # 5.5 is average of 1-10\n",
    "    mode=\"lines\",\n",
    "    showlegend=False,\n",
    "    opacity=0.2,\n",
    "    hoverinfo=\"skip\",\n",
    ")\n",
    "\n",
    "figure\n",
    "\n",
    "figure[\"layout\"][\"yaxis\"][\"autorange\"] = \"reversed\"\n",
    "\n",
    "figure.show()\n"
   ]
  },
  {
   "cell_type": "code",
   "execution_count": null,
   "metadata": {},
   "outputs": [],
   "source": []
  }
 ],
 "metadata": {
  "interpreter": {
   "hash": "3d597f4c481aa0f25dceb95d2a0067e73c0966dcbd003d741d821a7208527ecf"
  },
  "kernelspec": {
   "display_name": "Python 3.9.5 64-bit ('base': conda)",
   "language": "python",
   "name": "python3"
  },
  "language_info": {
   "codemirror_mode": {
    "name": "ipython",
    "version": 3
   },
   "file_extension": ".py",
   "mimetype": "text/x-python",
   "name": "python",
   "nbconvert_exporter": "python",
   "pygments_lexer": "ipython3",
   "version": "3.9.5"
  },
  "orig_nbformat": 4
 },
 "nbformat": 4,
 "nbformat_minor": 2
}
