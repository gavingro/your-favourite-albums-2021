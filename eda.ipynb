{
 "cells": [
  {
   "cell_type": "code",
   "execution_count": 2,
   "metadata": {},
   "outputs": [],
   "source": [
    "import pandas as pd\n",
    "\n",
    "import plotly.express as px\n",
    "import plotly.graph_objects as go\n"
   ]
  },
  {
   "cell_type": "markdown",
   "metadata": {},
   "source": [
    "## Read In and Clean Data"
   ]
  },
  {
   "cell_type": "code",
   "execution_count": 3,
   "metadata": {},
   "outputs": [],
   "source": [
    "from data.data import AOTY"
   ]
  },
  {
   "cell_type": "code",
   "execution_count": 4,
   "metadata": {},
   "outputs": [
    {
     "data": {
      "text/html": [
       "<div>\n",
       "<style scoped>\n",
       "    .dataframe tbody tr th:only-of-type {\n",
       "        vertical-align: middle;\n",
       "    }\n",
       "\n",
       "    .dataframe tbody tr th {\n",
       "        vertical-align: top;\n",
       "    }\n",
       "\n",
       "    .dataframe thead th {\n",
       "        text-align: right;\n",
       "    }\n",
       "</style>\n",
       "<table border=\"1\" class=\"dataframe\">\n",
       "  <thead>\n",
       "    <tr style=\"text-align: right;\">\n",
       "      <th></th>\n",
       "      <th>Rank</th>\n",
       "      <th>Lister</th>\n",
       "      <th>Artist</th>\n",
       "      <th>Album</th>\n",
       "      <th>album_submission_count</th>\n",
       "      <th>top_10_count_album</th>\n",
       "      <th>album_score</th>\n",
       "      <th>top_10_score_album</th>\n",
       "      <th>album_average_rank</th>\n",
       "      <th>unique_album_submission</th>\n",
       "      <th>artist_album_release_count</th>\n",
       "      <th>multi_album_artist</th>\n",
       "    </tr>\n",
       "  </thead>\n",
       "  <tbody>\n",
       "    <tr>\n",
       "      <th>0</th>\n",
       "      <td>1</td>\n",
       "      <td>Aaron</td>\n",
       "      <td>The Dirty Nil</td>\n",
       "      <td>Fuck Art</td>\n",
       "      <td>2</td>\n",
       "      <td>False</td>\n",
       "      <td>15</td>\n",
       "      <td>False</td>\n",
       "      <td>3.500000</td>\n",
       "      <td>False</td>\n",
       "      <td>1</td>\n",
       "      <td>False</td>\n",
       "    </tr>\n",
       "    <tr>\n",
       "      <th>1</th>\n",
       "      <td>2</td>\n",
       "      <td>Aaron</td>\n",
       "      <td>Whitechapel</td>\n",
       "      <td>Kin</td>\n",
       "      <td>1</td>\n",
       "      <td>False</td>\n",
       "      <td>9</td>\n",
       "      <td>False</td>\n",
       "      <td>2.000000</td>\n",
       "      <td>True</td>\n",
       "      <td>1</td>\n",
       "      <td>False</td>\n",
       "    </tr>\n",
       "    <tr>\n",
       "      <th>2</th>\n",
       "      <td>3</td>\n",
       "      <td>Aaron</td>\n",
       "      <td>That Handsome Devil</td>\n",
       "      <td>Your Parents Are Sellouts</td>\n",
       "      <td>1</td>\n",
       "      <td>False</td>\n",
       "      <td>8</td>\n",
       "      <td>False</td>\n",
       "      <td>3.000000</td>\n",
       "      <td>True</td>\n",
       "      <td>1</td>\n",
       "      <td>False</td>\n",
       "    </tr>\n",
       "    <tr>\n",
       "      <th>3</th>\n",
       "      <td>4</td>\n",
       "      <td>Aaron</td>\n",
       "      <td>Billie Eilish</td>\n",
       "      <td>Happier Than Ever</td>\n",
       "      <td>22</td>\n",
       "      <td>True</td>\n",
       "      <td>137</td>\n",
       "      <td>True</td>\n",
       "      <td>4.772727</td>\n",
       "      <td>False</td>\n",
       "      <td>1</td>\n",
       "      <td>False</td>\n",
       "    </tr>\n",
       "    <tr>\n",
       "      <th>4</th>\n",
       "      <td>5</td>\n",
       "      <td>Aaron</td>\n",
       "      <td>Lorna Shore</td>\n",
       "      <td>...And I Return To Nothingness</td>\n",
       "      <td>1</td>\n",
       "      <td>False</td>\n",
       "      <td>6</td>\n",
       "      <td>False</td>\n",
       "      <td>5.000000</td>\n",
       "      <td>True</td>\n",
       "      <td>1</td>\n",
       "      <td>False</td>\n",
       "    </tr>\n",
       "    <tr>\n",
       "      <th>...</th>\n",
       "      <td>...</td>\n",
       "      <td>...</td>\n",
       "      <td>...</td>\n",
       "      <td>...</td>\n",
       "      <td>...</td>\n",
       "      <td>...</td>\n",
       "      <td>...</td>\n",
       "      <td>...</td>\n",
       "      <td>...</td>\n",
       "      <td>...</td>\n",
       "      <td>...</td>\n",
       "      <td>...</td>\n",
       "    </tr>\n",
       "    <tr>\n",
       "      <th>975</th>\n",
       "      <td>6</td>\n",
       "      <td>Zack</td>\n",
       "      <td>Mark Barlow</td>\n",
       "      <td>Hymns &amp; Soul</td>\n",
       "      <td>2</td>\n",
       "      <td>False</td>\n",
       "      <td>15</td>\n",
       "      <td>False</td>\n",
       "      <td>3.500000</td>\n",
       "      <td>False</td>\n",
       "      <td>1</td>\n",
       "      <td>False</td>\n",
       "    </tr>\n",
       "    <tr>\n",
       "      <th>976</th>\n",
       "      <td>7</td>\n",
       "      <td>Zack</td>\n",
       "      <td>Aquilo</td>\n",
       "      <td>A Safe Place To Be</td>\n",
       "      <td>1</td>\n",
       "      <td>False</td>\n",
       "      <td>4</td>\n",
       "      <td>False</td>\n",
       "      <td>7.000000</td>\n",
       "      <td>True</td>\n",
       "      <td>1</td>\n",
       "      <td>False</td>\n",
       "    </tr>\n",
       "    <tr>\n",
       "      <th>977</th>\n",
       "      <td>8</td>\n",
       "      <td>Zack</td>\n",
       "      <td>Tingsek</td>\n",
       "      <td>Home</td>\n",
       "      <td>2</td>\n",
       "      <td>False</td>\n",
       "      <td>4</td>\n",
       "      <td>False</td>\n",
       "      <td>9.000000</td>\n",
       "      <td>False</td>\n",
       "      <td>1</td>\n",
       "      <td>False</td>\n",
       "    </tr>\n",
       "    <tr>\n",
       "      <th>978</th>\n",
       "      <td>9</td>\n",
       "      <td>Zack</td>\n",
       "      <td>Ben Howard</td>\n",
       "      <td>Collections From The Whiteout</td>\n",
       "      <td>2</td>\n",
       "      <td>False</td>\n",
       "      <td>6</td>\n",
       "      <td>False</td>\n",
       "      <td>8.000000</td>\n",
       "      <td>False</td>\n",
       "      <td>1</td>\n",
       "      <td>False</td>\n",
       "    </tr>\n",
       "    <tr>\n",
       "      <th>979</th>\n",
       "      <td>10</td>\n",
       "      <td>Zack</td>\n",
       "      <td>The Paper Kites</td>\n",
       "      <td>Roses</td>\n",
       "      <td>1</td>\n",
       "      <td>False</td>\n",
       "      <td>1</td>\n",
       "      <td>False</td>\n",
       "      <td>10.000000</td>\n",
       "      <td>True</td>\n",
       "      <td>1</td>\n",
       "      <td>False</td>\n",
       "    </tr>\n",
       "  </tbody>\n",
       "</table>\n",
       "<p>980 rows × 12 columns</p>\n",
       "</div>"
      ],
      "text/plain": [
       "     Rank Lister               Artist                           Album  \\\n",
       "0       1  Aaron        The Dirty Nil                        Fuck Art   \n",
       "1       2  Aaron          Whitechapel                             Kin   \n",
       "2       3  Aaron  That Handsome Devil       Your Parents Are Sellouts   \n",
       "3       4  Aaron        Billie Eilish               Happier Than Ever   \n",
       "4       5  Aaron          Lorna Shore  ...And I Return To Nothingness   \n",
       "..    ...    ...                  ...                             ...   \n",
       "975     6   Zack          Mark Barlow                    Hymns & Soul   \n",
       "976     7   Zack               Aquilo              A Safe Place To Be   \n",
       "977     8   Zack              Tingsek                            Home   \n",
       "978     9   Zack           Ben Howard   Collections From The Whiteout   \n",
       "979    10   Zack      The Paper Kites                           Roses   \n",
       "\n",
       "     album_submission_count  top_10_count_album  album_score  \\\n",
       "0                         2               False           15   \n",
       "1                         1               False            9   \n",
       "2                         1               False            8   \n",
       "3                        22                True          137   \n",
       "4                         1               False            6   \n",
       "..                      ...                 ...          ...   \n",
       "975                       2               False           15   \n",
       "976                       1               False            4   \n",
       "977                       2               False            4   \n",
       "978                       2               False            6   \n",
       "979                       1               False            1   \n",
       "\n",
       "     top_10_score_album  album_average_rank  unique_album_submission  \\\n",
       "0                 False            3.500000                    False   \n",
       "1                 False            2.000000                     True   \n",
       "2                 False            3.000000                     True   \n",
       "3                  True            4.772727                    False   \n",
       "4                 False            5.000000                     True   \n",
       "..                  ...                 ...                      ...   \n",
       "975               False            3.500000                    False   \n",
       "976               False            7.000000                     True   \n",
       "977               False            9.000000                    False   \n",
       "978               False            8.000000                    False   \n",
       "979               False           10.000000                     True   \n",
       "\n",
       "     artist_album_release_count  multi_album_artist  \n",
       "0                             1               False  \n",
       "1                             1               False  \n",
       "2                             1               False  \n",
       "3                             1               False  \n",
       "4                             1               False  \n",
       "..                          ...                 ...  \n",
       "975                           1               False  \n",
       "976                           1               False  \n",
       "977                           1               False  \n",
       "978                           1               False  \n",
       "979                           1               False  \n",
       "\n",
       "[980 rows x 12 columns]"
      ]
     },
     "execution_count": 4,
     "metadata": {},
     "output_type": "execute_result"
    }
   ],
   "source": [
    "AOTY"
   ]
  },
  {
   "cell_type": "markdown",
   "metadata": {},
   "source": [
    "## Get Extra Metadata\n",
    "\n",
    "* Total Listers\n",
    "* Total Artists\n",
    "* Total Albums"
   ]
  },
  {
   "cell_type": "code",
   "execution_count": 5,
   "metadata": {},
   "outputs": [],
   "source": [
    "from data.data import TOTAL_LISTERS, TOTAL_ARTISTS, TOTAL_ALBUMS"
   ]
  },
  {
   "cell_type": "code",
   "execution_count": 6,
   "metadata": {},
   "outputs": [
    {
     "data": {
      "text/plain": [
       "98"
      ]
     },
     "execution_count": 6,
     "metadata": {},
     "output_type": "execute_result"
    }
   ],
   "source": [
    "TOTAL_LISTERS"
   ]
  },
  {
   "cell_type": "code",
   "execution_count": 7,
   "metadata": {},
   "outputs": [
    {
     "data": {
      "text/plain": [
       "432"
      ]
     },
     "execution_count": 7,
     "metadata": {},
     "output_type": "execute_result"
    }
   ],
   "source": [
    "TOTAL_ARTISTS"
   ]
  },
  {
   "cell_type": "code",
   "execution_count": 8,
   "metadata": {},
   "outputs": [
    {
     "data": {
      "text/plain": [
       "436"
      ]
     },
     "execution_count": 8,
     "metadata": {},
     "output_type": "execute_result"
    }
   ],
   "source": [
    "TOTAL_ALBUMS"
   ]
  },
  {
   "cell_type": "markdown",
   "metadata": {},
   "source": [
    "* album_submission_count for each album\n",
    "* unique_album_submission tag for each submission\n",
    "* artist_album_release_count\n",
    "* multi_album_artist"
   ]
  },
  {
   "cell_type": "code",
   "execution_count": 9,
   "metadata": {},
   "outputs": [
    {
     "data": {
      "text/plain": [
       "436"
      ]
     },
     "execution_count": 9,
     "metadata": {},
     "output_type": "execute_result"
    }
   ],
   "source": [
    "len(set(pd.read_csv(\"data/AOTY-2021-lists.csv\")[\"Album\"]))"
   ]
  },
  {
   "cell_type": "code",
   "execution_count": 10,
   "metadata": {},
   "outputs": [
    {
     "data": {
      "text/plain": [
       "436"
      ]
     },
     "execution_count": 10,
     "metadata": {},
     "output_type": "execute_result"
    }
   ],
   "source": [
    "AOTY[\"Album\"].nunique()"
   ]
  },
  {
   "cell_type": "markdown",
   "metadata": {},
   "source": [
    "### Scrape Genre Metadata?"
   ]
  },
  {
   "cell_type": "code",
   "execution_count": null,
   "metadata": {},
   "outputs": [],
   "source": []
  },
  {
   "cell_type": "markdown",
   "metadata": {},
   "source": [
    "---\n",
    "\n",
    "# Dataviz"
   ]
  },
  {
   "cell_type": "markdown",
   "metadata": {},
   "source": [
    "##### Top 10 Album Barchart"
   ]
  },
  {
   "cell_type": "code",
   "execution_count": 11,
   "metadata": {},
   "outputs": [],
   "source": [
    "from data.data import AOTY_by_album\n",
    "\n",
    "from data.datafunc import get_albums_of_note"
   ]
  },
  {
   "cell_type": "code",
   "execution_count": 12,
   "metadata": {},
   "outputs": [],
   "source": [
    "## DYNAMIC COMPONENTS\n",
    "\n",
    "COLUMN = \"album_score\"\n",
    "# COLUMN = \"album_submission_count\"\n",
    "\n",
    "USER_ALBUM = \"Glow On\"\n"
   ]
  },
  {
   "cell_type": "code",
   "execution_count": 13,
   "metadata": {},
   "outputs": [],
   "source": [
    "## GLOBALS FOR PLOTTING\n",
    "\n",
    "APP_COLORS = {\n",
    "    \"accent\" : \"crimson\",\n",
    "    \"standard\" : \"navy\",\n",
    "    \"dim\" : \"lightgrey\",\n",
    "    \"dark\" : \"dark grey\",\n",
    "    \"light\" : \"antiquewhite\"\n",
    "}\n",
    "\n",
    "# TODO: APP_FONTS"
   ]
  },
  {
   "cell_type": "code",
   "execution_count": 14,
   "metadata": {},
   "outputs": [],
   "source": [
    "# so we can change just COLUMN\n",
    "TOP_COL_LOOKUP = {\n",
    "    \"album_score\": \"top_10_score_album\",\n",
    "    \"album_submission_count\": \"top_10_count_album\",\n",
    "}\n",
    "\n",
    "\n",
    "AOTY_by_album = (\n",
    "    AOTY_by_album.sort_values(COLUMN, ascending=False)\n",
    "    .reset_index()\n",
    "    .drop(columns=\"index\")\n",
    ")\n",
    "\n",
    "top_10_albums = AOTY_by_album.loc[AOTY_by_album[TOP_COL_LOOKUP[COLUMN]] == True]\n",
    "\n",
    "\n",
    "album_search = [USER_ALBUM] if USER_ALBUM else None\n",
    "albums_of_note = get_albums_of_note(AOTY_by_album, album_search)\n"
   ]
  },
  {
   "cell_type": "code",
   "execution_count": 15,
   "metadata": {},
   "outputs": [
    {
     "data": {
      "application/vnd.plotly.v1+json": {
       "config": {
        "plotlyServerURL": "https://plot.ly"
       },
       "data": [
        {
         "alignmentgroup": "True",
         "customdata": [
          [
           "Silk Sonic"
          ],
          [
           "Adele"
          ],
          [
           "Olivia Rodrigo"
          ],
          [
           "Billie Eilish"
          ],
          [
           "Tyler, the Creator"
          ],
          [
           "Lil Nas X"
          ],
          [
           "Julien Baker"
          ],
          [
           "Bo Burnham"
          ],
          [
           "Lorde"
          ],
          [
           "Parcels"
          ]
         ],
         "hovertemplate": "<b>%{customdata}</b> - <i>%{x}</i><br><br><extra></extra>",
         "hovertext": [
          "An Evening With Silk Sonic",
          "30",
          "Sour",
          "Happier Than Ever",
          "Call Me If You Get Lost",
          "Montero",
          "Little Oblivions",
          "Inside (The Songs)",
          "Solar Power",
          "Day/Night"
         ],
         "legendgroup": "album_score",
         "marker": {
          "color": "navy",
          "pattern": {
           "shape": ""
          }
         },
         "name": "album_score",
         "offsetgroup": "album_score",
         "orientation": "v",
         "showlegend": true,
         "textposition": "auto",
         "texttemplate": "%{y}",
         "type": "bar",
         "x": [
          "An Evening With Silk Sonic",
          "30",
          "Sour",
          "Happier Than Ever",
          "Call Me If You Get Lost",
          "Montero",
          "Little Oblivions",
          "Inside (The Songs)",
          "Solar Power",
          "Day/Night"
         ],
         "xaxis": "x",
         "y": [
          171,
          138,
          137,
          137,
          133,
          102,
          79,
          78,
          71,
          64
         ],
         "yaxis": "y"
        }
       ],
       "layout": {
        "annotations": [
         {
          "font": {
           "color": "antiquewhite"
          },
          "showarrow": false,
          "text": "'Usual' Album scores: 3.50 - 12.50",
          "x": 1,
          "xanchor": "right",
          "xref": "x domain",
          "y": 8,
          "yanchor": "middle",
          "yref": "y"
         }
        ],
        "barmode": "group",
        "hovermode": "closest",
        "legend": {
         "title": {
          "text": "variable"
         },
         "tracegroupgap": 0
        },
        "shapes": [
         {
          "fillcolor": "dark grey",
          "opacity": 0.3,
          "type": "rect",
          "x0": 0,
          "x1": 1,
          "xref": "x domain",
          "y0": 3.5,
          "y1": 12.5,
          "yref": "y"
         }
        ],
        "showlegend": false,
        "template": {
         "data": {
          "bar": [
           {
            "error_x": {
             "color": "rgb(36,36,36)"
            },
            "error_y": {
             "color": "rgb(36,36,36)"
            },
            "marker": {
             "line": {
              "color": "white",
              "width": 0.5
             },
             "pattern": {
              "fillmode": "overlay",
              "size": 10,
              "solidity": 0.2
             }
            },
            "type": "bar"
           }
          ],
          "barpolar": [
           {
            "marker": {
             "line": {
              "color": "white",
              "width": 0.5
             },
             "pattern": {
              "fillmode": "overlay",
              "size": 10,
              "solidity": 0.2
             }
            },
            "type": "barpolar"
           }
          ],
          "carpet": [
           {
            "aaxis": {
             "endlinecolor": "rgb(36,36,36)",
             "gridcolor": "white",
             "linecolor": "white",
             "minorgridcolor": "white",
             "startlinecolor": "rgb(36,36,36)"
            },
            "baxis": {
             "endlinecolor": "rgb(36,36,36)",
             "gridcolor": "white",
             "linecolor": "white",
             "minorgridcolor": "white",
             "startlinecolor": "rgb(36,36,36)"
            },
            "type": "carpet"
           }
          ],
          "choropleth": [
           {
            "colorbar": {
             "outlinewidth": 1,
             "tickcolor": "rgb(36,36,36)",
             "ticks": "outside"
            },
            "type": "choropleth"
           }
          ],
          "contour": [
           {
            "colorbar": {
             "outlinewidth": 1,
             "tickcolor": "rgb(36,36,36)",
             "ticks": "outside"
            },
            "colorscale": [
             [
              0,
              "#440154"
             ],
             [
              0.1111111111111111,
              "#482878"
             ],
             [
              0.2222222222222222,
              "#3e4989"
             ],
             [
              0.3333333333333333,
              "#31688e"
             ],
             [
              0.4444444444444444,
              "#26828e"
             ],
             [
              0.5555555555555556,
              "#1f9e89"
             ],
             [
              0.6666666666666666,
              "#35b779"
             ],
             [
              0.7777777777777778,
              "#6ece58"
             ],
             [
              0.8888888888888888,
              "#b5de2b"
             ],
             [
              1,
              "#fde725"
             ]
            ],
            "type": "contour"
           }
          ],
          "contourcarpet": [
           {
            "colorbar": {
             "outlinewidth": 1,
             "tickcolor": "rgb(36,36,36)",
             "ticks": "outside"
            },
            "type": "contourcarpet"
           }
          ],
          "heatmap": [
           {
            "colorbar": {
             "outlinewidth": 1,
             "tickcolor": "rgb(36,36,36)",
             "ticks": "outside"
            },
            "colorscale": [
             [
              0,
              "#440154"
             ],
             [
              0.1111111111111111,
              "#482878"
             ],
             [
              0.2222222222222222,
              "#3e4989"
             ],
             [
              0.3333333333333333,
              "#31688e"
             ],
             [
              0.4444444444444444,
              "#26828e"
             ],
             [
              0.5555555555555556,
              "#1f9e89"
             ],
             [
              0.6666666666666666,
              "#35b779"
             ],
             [
              0.7777777777777778,
              "#6ece58"
             ],
             [
              0.8888888888888888,
              "#b5de2b"
             ],
             [
              1,
              "#fde725"
             ]
            ],
            "type": "heatmap"
           }
          ],
          "heatmapgl": [
           {
            "colorbar": {
             "outlinewidth": 1,
             "tickcolor": "rgb(36,36,36)",
             "ticks": "outside"
            },
            "colorscale": [
             [
              0,
              "#440154"
             ],
             [
              0.1111111111111111,
              "#482878"
             ],
             [
              0.2222222222222222,
              "#3e4989"
             ],
             [
              0.3333333333333333,
              "#31688e"
             ],
             [
              0.4444444444444444,
              "#26828e"
             ],
             [
              0.5555555555555556,
              "#1f9e89"
             ],
             [
              0.6666666666666666,
              "#35b779"
             ],
             [
              0.7777777777777778,
              "#6ece58"
             ],
             [
              0.8888888888888888,
              "#b5de2b"
             ],
             [
              1,
              "#fde725"
             ]
            ],
            "type": "heatmapgl"
           }
          ],
          "histogram": [
           {
            "marker": {
             "line": {
              "color": "white",
              "width": 0.6
             }
            },
            "type": "histogram"
           }
          ],
          "histogram2d": [
           {
            "colorbar": {
             "outlinewidth": 1,
             "tickcolor": "rgb(36,36,36)",
             "ticks": "outside"
            },
            "colorscale": [
             [
              0,
              "#440154"
             ],
             [
              0.1111111111111111,
              "#482878"
             ],
             [
              0.2222222222222222,
              "#3e4989"
             ],
             [
              0.3333333333333333,
              "#31688e"
             ],
             [
              0.4444444444444444,
              "#26828e"
             ],
             [
              0.5555555555555556,
              "#1f9e89"
             ],
             [
              0.6666666666666666,
              "#35b779"
             ],
             [
              0.7777777777777778,
              "#6ece58"
             ],
             [
              0.8888888888888888,
              "#b5de2b"
             ],
             [
              1,
              "#fde725"
             ]
            ],
            "type": "histogram2d"
           }
          ],
          "histogram2dcontour": [
           {
            "colorbar": {
             "outlinewidth": 1,
             "tickcolor": "rgb(36,36,36)",
             "ticks": "outside"
            },
            "colorscale": [
             [
              0,
              "#440154"
             ],
             [
              0.1111111111111111,
              "#482878"
             ],
             [
              0.2222222222222222,
              "#3e4989"
             ],
             [
              0.3333333333333333,
              "#31688e"
             ],
             [
              0.4444444444444444,
              "#26828e"
             ],
             [
              0.5555555555555556,
              "#1f9e89"
             ],
             [
              0.6666666666666666,
              "#35b779"
             ],
             [
              0.7777777777777778,
              "#6ece58"
             ],
             [
              0.8888888888888888,
              "#b5de2b"
             ],
             [
              1,
              "#fde725"
             ]
            ],
            "type": "histogram2dcontour"
           }
          ],
          "mesh3d": [
           {
            "colorbar": {
             "outlinewidth": 1,
             "tickcolor": "rgb(36,36,36)",
             "ticks": "outside"
            },
            "type": "mesh3d"
           }
          ],
          "parcoords": [
           {
            "line": {
             "colorbar": {
              "outlinewidth": 1,
              "tickcolor": "rgb(36,36,36)",
              "ticks": "outside"
             }
            },
            "type": "parcoords"
           }
          ],
          "pie": [
           {
            "automargin": true,
            "type": "pie"
           }
          ],
          "scatter": [
           {
            "marker": {
             "colorbar": {
              "outlinewidth": 1,
              "tickcolor": "rgb(36,36,36)",
              "ticks": "outside"
             }
            },
            "type": "scatter"
           }
          ],
          "scatter3d": [
           {
            "line": {
             "colorbar": {
              "outlinewidth": 1,
              "tickcolor": "rgb(36,36,36)",
              "ticks": "outside"
             }
            },
            "marker": {
             "colorbar": {
              "outlinewidth": 1,
              "tickcolor": "rgb(36,36,36)",
              "ticks": "outside"
             }
            },
            "type": "scatter3d"
           }
          ],
          "scattercarpet": [
           {
            "marker": {
             "colorbar": {
              "outlinewidth": 1,
              "tickcolor": "rgb(36,36,36)",
              "ticks": "outside"
             }
            },
            "type": "scattercarpet"
           }
          ],
          "scattergeo": [
           {
            "marker": {
             "colorbar": {
              "outlinewidth": 1,
              "tickcolor": "rgb(36,36,36)",
              "ticks": "outside"
             }
            },
            "type": "scattergeo"
           }
          ],
          "scattergl": [
           {
            "marker": {
             "colorbar": {
              "outlinewidth": 1,
              "tickcolor": "rgb(36,36,36)",
              "ticks": "outside"
             }
            },
            "type": "scattergl"
           }
          ],
          "scattermapbox": [
           {
            "marker": {
             "colorbar": {
              "outlinewidth": 1,
              "tickcolor": "rgb(36,36,36)",
              "ticks": "outside"
             }
            },
            "type": "scattermapbox"
           }
          ],
          "scatterpolar": [
           {
            "marker": {
             "colorbar": {
              "outlinewidth": 1,
              "tickcolor": "rgb(36,36,36)",
              "ticks": "outside"
             }
            },
            "type": "scatterpolar"
           }
          ],
          "scatterpolargl": [
           {
            "marker": {
             "colorbar": {
              "outlinewidth": 1,
              "tickcolor": "rgb(36,36,36)",
              "ticks": "outside"
             }
            },
            "type": "scatterpolargl"
           }
          ],
          "scatterternary": [
           {
            "marker": {
             "colorbar": {
              "outlinewidth": 1,
              "tickcolor": "rgb(36,36,36)",
              "ticks": "outside"
             }
            },
            "type": "scatterternary"
           }
          ],
          "surface": [
           {
            "colorbar": {
             "outlinewidth": 1,
             "tickcolor": "rgb(36,36,36)",
             "ticks": "outside"
            },
            "colorscale": [
             [
              0,
              "#440154"
             ],
             [
              0.1111111111111111,
              "#482878"
             ],
             [
              0.2222222222222222,
              "#3e4989"
             ],
             [
              0.3333333333333333,
              "#31688e"
             ],
             [
              0.4444444444444444,
              "#26828e"
             ],
             [
              0.5555555555555556,
              "#1f9e89"
             ],
             [
              0.6666666666666666,
              "#35b779"
             ],
             [
              0.7777777777777778,
              "#6ece58"
             ],
             [
              0.8888888888888888,
              "#b5de2b"
             ],
             [
              1,
              "#fde725"
             ]
            ],
            "type": "surface"
           }
          ],
          "table": [
           {
            "cells": {
             "fill": {
              "color": "rgb(237,237,237)"
             },
             "line": {
              "color": "white"
             }
            },
            "header": {
             "fill": {
              "color": "rgb(217,217,217)"
             },
             "line": {
              "color": "white"
             }
            },
            "type": "table"
           }
          ]
         },
         "layout": {
          "annotationdefaults": {
           "arrowhead": 0,
           "arrowwidth": 1
          },
          "autotypenumbers": "strict",
          "coloraxis": {
           "colorbar": {
            "outlinewidth": 1,
            "tickcolor": "rgb(36,36,36)",
            "ticks": "outside"
           }
          },
          "colorscale": {
           "diverging": [
            [
             0,
             "rgb(103,0,31)"
            ],
            [
             0.1,
             "rgb(178,24,43)"
            ],
            [
             0.2,
             "rgb(214,96,77)"
            ],
            [
             0.3,
             "rgb(244,165,130)"
            ],
            [
             0.4,
             "rgb(253,219,199)"
            ],
            [
             0.5,
             "rgb(247,247,247)"
            ],
            [
             0.6,
             "rgb(209,229,240)"
            ],
            [
             0.7,
             "rgb(146,197,222)"
            ],
            [
             0.8,
             "rgb(67,147,195)"
            ],
            [
             0.9,
             "rgb(33,102,172)"
            ],
            [
             1,
             "rgb(5,48,97)"
            ]
           ],
           "sequential": [
            [
             0,
             "#440154"
            ],
            [
             0.1111111111111111,
             "#482878"
            ],
            [
             0.2222222222222222,
             "#3e4989"
            ],
            [
             0.3333333333333333,
             "#31688e"
            ],
            [
             0.4444444444444444,
             "#26828e"
            ],
            [
             0.5555555555555556,
             "#1f9e89"
            ],
            [
             0.6666666666666666,
             "#35b779"
            ],
            [
             0.7777777777777778,
             "#6ece58"
            ],
            [
             0.8888888888888888,
             "#b5de2b"
            ],
            [
             1,
             "#fde725"
            ]
           ],
           "sequentialminus": [
            [
             0,
             "#440154"
            ],
            [
             0.1111111111111111,
             "#482878"
            ],
            [
             0.2222222222222222,
             "#3e4989"
            ],
            [
             0.3333333333333333,
             "#31688e"
            ],
            [
             0.4444444444444444,
             "#26828e"
            ],
            [
             0.5555555555555556,
             "#1f9e89"
            ],
            [
             0.6666666666666666,
             "#35b779"
            ],
            [
             0.7777777777777778,
             "#6ece58"
            ],
            [
             0.8888888888888888,
             "#b5de2b"
            ],
            [
             1,
             "#fde725"
            ]
           ]
          },
          "colorway": [
           "#1F77B4",
           "#FF7F0E",
           "#2CA02C",
           "#D62728",
           "#9467BD",
           "#8C564B",
           "#E377C2",
           "#7F7F7F",
           "#BCBD22",
           "#17BECF"
          ],
          "font": {
           "color": "rgb(36,36,36)"
          },
          "geo": {
           "bgcolor": "white",
           "lakecolor": "white",
           "landcolor": "white",
           "showlakes": true,
           "showland": true,
           "subunitcolor": "white"
          },
          "hoverlabel": {
           "align": "left"
          },
          "hovermode": "closest",
          "mapbox": {
           "style": "light"
          },
          "paper_bgcolor": "white",
          "plot_bgcolor": "white",
          "polar": {
           "angularaxis": {
            "gridcolor": "rgb(232,232,232)",
            "linecolor": "rgb(36,36,36)",
            "showgrid": false,
            "showline": true,
            "ticks": "outside"
           },
           "bgcolor": "white",
           "radialaxis": {
            "gridcolor": "rgb(232,232,232)",
            "linecolor": "rgb(36,36,36)",
            "showgrid": false,
            "showline": true,
            "ticks": "outside"
           }
          },
          "scene": {
           "xaxis": {
            "backgroundcolor": "white",
            "gridcolor": "rgb(232,232,232)",
            "gridwidth": 2,
            "linecolor": "rgb(36,36,36)",
            "showbackground": true,
            "showgrid": false,
            "showline": true,
            "ticks": "outside",
            "zeroline": false,
            "zerolinecolor": "rgb(36,36,36)"
           },
           "yaxis": {
            "backgroundcolor": "white",
            "gridcolor": "rgb(232,232,232)",
            "gridwidth": 2,
            "linecolor": "rgb(36,36,36)",
            "showbackground": true,
            "showgrid": false,
            "showline": true,
            "ticks": "outside",
            "zeroline": false,
            "zerolinecolor": "rgb(36,36,36)"
           },
           "zaxis": {
            "backgroundcolor": "white",
            "gridcolor": "rgb(232,232,232)",
            "gridwidth": 2,
            "linecolor": "rgb(36,36,36)",
            "showbackground": true,
            "showgrid": false,
            "showline": true,
            "ticks": "outside",
            "zeroline": false,
            "zerolinecolor": "rgb(36,36,36)"
           }
          },
          "shapedefaults": {
           "fillcolor": "black",
           "line": {
            "width": 0
           },
           "opacity": 0.3
          },
          "ternary": {
           "aaxis": {
            "gridcolor": "rgb(232,232,232)",
            "linecolor": "rgb(36,36,36)",
            "showgrid": false,
            "showline": true,
            "ticks": "outside"
           },
           "baxis": {
            "gridcolor": "rgb(232,232,232)",
            "linecolor": "rgb(36,36,36)",
            "showgrid": false,
            "showline": true,
            "ticks": "outside"
           },
           "bgcolor": "white",
           "caxis": {
            "gridcolor": "rgb(232,232,232)",
            "linecolor": "rgb(36,36,36)",
            "showgrid": false,
            "showline": true,
            "ticks": "outside"
           }
          },
          "title": {
           "x": 0.05
          },
          "xaxis": {
           "automargin": true,
           "gridcolor": "rgb(232,232,232)",
           "linecolor": "rgb(36,36,36)",
           "showgrid": false,
           "showline": true,
           "ticks": "outside",
           "title": {
            "standoff": 15
           },
           "zeroline": false,
           "zerolinecolor": "rgb(36,36,36)"
          },
          "yaxis": {
           "automargin": true,
           "gridcolor": "rgb(232,232,232)",
           "linecolor": "rgb(36,36,36)",
           "showgrid": false,
           "showline": true,
           "ticks": "outside",
           "title": {
            "standoff": 15
           },
           "zeroline": false,
           "zerolinecolor": "rgb(36,36,36)"
          }
         }
        },
        "title": {
         "text": "Album Scores for our Top 10 Albums of 2021"
        },
        "xaxis": {
         "anchor": "y",
         "domain": [
          0,
          1
         ],
         "title": {
          "text": "Album"
         }
        },
        "yaxis": {
         "anchor": "x",
         "domain": [
          0,
          1
         ],
         "title": {
          "text": "Album Score"
         }
        }
       }
      }
     },
     "metadata": {},
     "output_type": "display_data"
    }
   ],
   "source": [
    "figure = px.bar(\n",
    "    top_10_albums,\n",
    "    x=\"Album\",\n",
    "    y=[\"album_score\"],\n",
    "    barmode=\"group\",\n",
    "    text_auto=True,\n",
    "    hover_name=\"Album\",\n",
    "    custom_data=[\"Artist\"],\n",
    "    title=\"Album Scores for our Top 10 Albums of 2021\",\n",
    "    labels={\"value\": \"Album Score\"},\n",
    "    template=\"simple_white\",\n",
    "    color_discrete_sequence=[APP_COLORS[\"standard\"]]\n",
    "\n",
    ")\n",
    "figure.update_traces(\n",
    "    hovertemplate=\"<br>\".join(\n",
    "        [\n",
    "            \"<b>%{customdata}</b> - <i>%{x}</i>\",\n",
    "            \"\",\n",
    "            \"<extra></extra>\",\n",
    "        ]\n",
    "    )\n",
    ")\n",
    "figure.update_layout(hovermode=\"closest\", showlegend=False)\n",
    "\n",
    "figure.add_hrect(\n",
    "    y0=AOTY_by_album[\"album_score\"].quantile(0.25),\n",
    "    y1=AOTY_by_album[\"album_score\"].quantile(0.75),\n",
    "    opacity=0.3,\n",
    "    fillcolor=APP_COLORS[\"dark\"],\n",
    "    annotation_text=f\"'Usual' Album scores: {AOTY_by_album['album_score'].quantile(0.25):.2f} - {AOTY_by_album['album_score'].quantile(0.75):.2f}\",\n",
    "    annotation_position=\"inside right\",\n",
    "    annotation_font_color= APP_COLORS[\"light\"],\n",
    ")\n",
    "\n",
    "figure.show()\n"
   ]
  },
  {
   "cell_type": "code",
   "execution_count": 16,
   "metadata": {},
   "outputs": [
    {
     "data": {
      "application/vnd.plotly.v1+json": {
       "config": {
        "plotlyServerURL": "https://plot.ly"
       },
       "data": [
        {
         "alignmentgroup": "True",
         "customdata": [
          [
           "Silk Sonic"
          ],
          [
           "Adele"
          ],
          [
           "Olivia Rodrigo"
          ],
          [
           "Billie Eilish"
          ],
          [
           "Tyler, the Creator"
          ],
          [
           "Lil Nas X"
          ],
          [
           "Julien Baker"
          ],
          [
           "Bo Burnham"
          ],
          [
           "Lorde"
          ],
          [
           "Parcels"
          ]
         ],
         "hovertemplate": "<b>%{customdata}</b> - <i>%{x}</i><br><br><extra></extra>",
         "hovertext": [
          "An Evening With Silk Sonic",
          "30",
          "Sour",
          "Happier Than Ever",
          "Call Me If You Get Lost",
          "Montero",
          "Little Oblivions",
          "Inside (The Songs)",
          "Solar Power",
          "Day/Night"
         ],
         "legendgroup": "album_submission_count",
         "marker": {
          "color": "navy",
          "pattern": {
           "shape": ""
          }
         },
         "name": "album_submission_count",
         "offsetgroup": "album_submission_count",
         "orientation": "v",
         "showlegend": true,
         "textposition": "auto",
         "texttemplate": "%{y}",
         "type": "bar",
         "x": [
          "An Evening With Silk Sonic",
          "30",
          "Sour",
          "Happier Than Ever",
          "Call Me If You Get Lost",
          "Montero",
          "Little Oblivions",
          "Inside (The Songs)",
          "Solar Power",
          "Day/Night"
         ],
         "xaxis": "x",
         "y": [
          25,
          21,
          25,
          22,
          20,
          19,
          13,
          13,
          12,
          9
         ],
         "yaxis": "y"
        }
       ],
       "layout": {
        "annotations": [
         {
          "font": {
           "color": "antiquewhite"
          },
          "showarrow": false,
          "text": "'Usual' Submission counts: 1.00 - 2.00",
          "x": 1,
          "xanchor": "right",
          "xref": "x domain",
          "y": 1.5,
          "yanchor": "middle",
          "yref": "y"
         }
        ],
        "barmode": "group",
        "hovermode": "closest",
        "legend": {
         "title": {
          "text": "variable"
         },
         "tracegroupgap": 0
        },
        "shapes": [
         {
          "fillcolor": "dark grey",
          "opacity": 0.3,
          "type": "rect",
          "x0": 0,
          "x1": 1,
          "xref": "x domain",
          "y0": 1,
          "y1": 2,
          "yref": "y"
         }
        ],
        "showlegend": false,
        "template": {
         "data": {
          "bar": [
           {
            "error_x": {
             "color": "rgb(36,36,36)"
            },
            "error_y": {
             "color": "rgb(36,36,36)"
            },
            "marker": {
             "line": {
              "color": "white",
              "width": 0.5
             },
             "pattern": {
              "fillmode": "overlay",
              "size": 10,
              "solidity": 0.2
             }
            },
            "type": "bar"
           }
          ],
          "barpolar": [
           {
            "marker": {
             "line": {
              "color": "white",
              "width": 0.5
             },
             "pattern": {
              "fillmode": "overlay",
              "size": 10,
              "solidity": 0.2
             }
            },
            "type": "barpolar"
           }
          ],
          "carpet": [
           {
            "aaxis": {
             "endlinecolor": "rgb(36,36,36)",
             "gridcolor": "white",
             "linecolor": "white",
             "minorgridcolor": "white",
             "startlinecolor": "rgb(36,36,36)"
            },
            "baxis": {
             "endlinecolor": "rgb(36,36,36)",
             "gridcolor": "white",
             "linecolor": "white",
             "minorgridcolor": "white",
             "startlinecolor": "rgb(36,36,36)"
            },
            "type": "carpet"
           }
          ],
          "choropleth": [
           {
            "colorbar": {
             "outlinewidth": 1,
             "tickcolor": "rgb(36,36,36)",
             "ticks": "outside"
            },
            "type": "choropleth"
           }
          ],
          "contour": [
           {
            "colorbar": {
             "outlinewidth": 1,
             "tickcolor": "rgb(36,36,36)",
             "ticks": "outside"
            },
            "colorscale": [
             [
              0,
              "#440154"
             ],
             [
              0.1111111111111111,
              "#482878"
             ],
             [
              0.2222222222222222,
              "#3e4989"
             ],
             [
              0.3333333333333333,
              "#31688e"
             ],
             [
              0.4444444444444444,
              "#26828e"
             ],
             [
              0.5555555555555556,
              "#1f9e89"
             ],
             [
              0.6666666666666666,
              "#35b779"
             ],
             [
              0.7777777777777778,
              "#6ece58"
             ],
             [
              0.8888888888888888,
              "#b5de2b"
             ],
             [
              1,
              "#fde725"
             ]
            ],
            "type": "contour"
           }
          ],
          "contourcarpet": [
           {
            "colorbar": {
             "outlinewidth": 1,
             "tickcolor": "rgb(36,36,36)",
             "ticks": "outside"
            },
            "type": "contourcarpet"
           }
          ],
          "heatmap": [
           {
            "colorbar": {
             "outlinewidth": 1,
             "tickcolor": "rgb(36,36,36)",
             "ticks": "outside"
            },
            "colorscale": [
             [
              0,
              "#440154"
             ],
             [
              0.1111111111111111,
              "#482878"
             ],
             [
              0.2222222222222222,
              "#3e4989"
             ],
             [
              0.3333333333333333,
              "#31688e"
             ],
             [
              0.4444444444444444,
              "#26828e"
             ],
             [
              0.5555555555555556,
              "#1f9e89"
             ],
             [
              0.6666666666666666,
              "#35b779"
             ],
             [
              0.7777777777777778,
              "#6ece58"
             ],
             [
              0.8888888888888888,
              "#b5de2b"
             ],
             [
              1,
              "#fde725"
             ]
            ],
            "type": "heatmap"
           }
          ],
          "heatmapgl": [
           {
            "colorbar": {
             "outlinewidth": 1,
             "tickcolor": "rgb(36,36,36)",
             "ticks": "outside"
            },
            "colorscale": [
             [
              0,
              "#440154"
             ],
             [
              0.1111111111111111,
              "#482878"
             ],
             [
              0.2222222222222222,
              "#3e4989"
             ],
             [
              0.3333333333333333,
              "#31688e"
             ],
             [
              0.4444444444444444,
              "#26828e"
             ],
             [
              0.5555555555555556,
              "#1f9e89"
             ],
             [
              0.6666666666666666,
              "#35b779"
             ],
             [
              0.7777777777777778,
              "#6ece58"
             ],
             [
              0.8888888888888888,
              "#b5de2b"
             ],
             [
              1,
              "#fde725"
             ]
            ],
            "type": "heatmapgl"
           }
          ],
          "histogram": [
           {
            "marker": {
             "line": {
              "color": "white",
              "width": 0.6
             }
            },
            "type": "histogram"
           }
          ],
          "histogram2d": [
           {
            "colorbar": {
             "outlinewidth": 1,
             "tickcolor": "rgb(36,36,36)",
             "ticks": "outside"
            },
            "colorscale": [
             [
              0,
              "#440154"
             ],
             [
              0.1111111111111111,
              "#482878"
             ],
             [
              0.2222222222222222,
              "#3e4989"
             ],
             [
              0.3333333333333333,
              "#31688e"
             ],
             [
              0.4444444444444444,
              "#26828e"
             ],
             [
              0.5555555555555556,
              "#1f9e89"
             ],
             [
              0.6666666666666666,
              "#35b779"
             ],
             [
              0.7777777777777778,
              "#6ece58"
             ],
             [
              0.8888888888888888,
              "#b5de2b"
             ],
             [
              1,
              "#fde725"
             ]
            ],
            "type": "histogram2d"
           }
          ],
          "histogram2dcontour": [
           {
            "colorbar": {
             "outlinewidth": 1,
             "tickcolor": "rgb(36,36,36)",
             "ticks": "outside"
            },
            "colorscale": [
             [
              0,
              "#440154"
             ],
             [
              0.1111111111111111,
              "#482878"
             ],
             [
              0.2222222222222222,
              "#3e4989"
             ],
             [
              0.3333333333333333,
              "#31688e"
             ],
             [
              0.4444444444444444,
              "#26828e"
             ],
             [
              0.5555555555555556,
              "#1f9e89"
             ],
             [
              0.6666666666666666,
              "#35b779"
             ],
             [
              0.7777777777777778,
              "#6ece58"
             ],
             [
              0.8888888888888888,
              "#b5de2b"
             ],
             [
              1,
              "#fde725"
             ]
            ],
            "type": "histogram2dcontour"
           }
          ],
          "mesh3d": [
           {
            "colorbar": {
             "outlinewidth": 1,
             "tickcolor": "rgb(36,36,36)",
             "ticks": "outside"
            },
            "type": "mesh3d"
           }
          ],
          "parcoords": [
           {
            "line": {
             "colorbar": {
              "outlinewidth": 1,
              "tickcolor": "rgb(36,36,36)",
              "ticks": "outside"
             }
            },
            "type": "parcoords"
           }
          ],
          "pie": [
           {
            "automargin": true,
            "type": "pie"
           }
          ],
          "scatter": [
           {
            "marker": {
             "colorbar": {
              "outlinewidth": 1,
              "tickcolor": "rgb(36,36,36)",
              "ticks": "outside"
             }
            },
            "type": "scatter"
           }
          ],
          "scatter3d": [
           {
            "line": {
             "colorbar": {
              "outlinewidth": 1,
              "tickcolor": "rgb(36,36,36)",
              "ticks": "outside"
             }
            },
            "marker": {
             "colorbar": {
              "outlinewidth": 1,
              "tickcolor": "rgb(36,36,36)",
              "ticks": "outside"
             }
            },
            "type": "scatter3d"
           }
          ],
          "scattercarpet": [
           {
            "marker": {
             "colorbar": {
              "outlinewidth": 1,
              "tickcolor": "rgb(36,36,36)",
              "ticks": "outside"
             }
            },
            "type": "scattercarpet"
           }
          ],
          "scattergeo": [
           {
            "marker": {
             "colorbar": {
              "outlinewidth": 1,
              "tickcolor": "rgb(36,36,36)",
              "ticks": "outside"
             }
            },
            "type": "scattergeo"
           }
          ],
          "scattergl": [
           {
            "marker": {
             "colorbar": {
              "outlinewidth": 1,
              "tickcolor": "rgb(36,36,36)",
              "ticks": "outside"
             }
            },
            "type": "scattergl"
           }
          ],
          "scattermapbox": [
           {
            "marker": {
             "colorbar": {
              "outlinewidth": 1,
              "tickcolor": "rgb(36,36,36)",
              "ticks": "outside"
             }
            },
            "type": "scattermapbox"
           }
          ],
          "scatterpolar": [
           {
            "marker": {
             "colorbar": {
              "outlinewidth": 1,
              "tickcolor": "rgb(36,36,36)",
              "ticks": "outside"
             }
            },
            "type": "scatterpolar"
           }
          ],
          "scatterpolargl": [
           {
            "marker": {
             "colorbar": {
              "outlinewidth": 1,
              "tickcolor": "rgb(36,36,36)",
              "ticks": "outside"
             }
            },
            "type": "scatterpolargl"
           }
          ],
          "scatterternary": [
           {
            "marker": {
             "colorbar": {
              "outlinewidth": 1,
              "tickcolor": "rgb(36,36,36)",
              "ticks": "outside"
             }
            },
            "type": "scatterternary"
           }
          ],
          "surface": [
           {
            "colorbar": {
             "outlinewidth": 1,
             "tickcolor": "rgb(36,36,36)",
             "ticks": "outside"
            },
            "colorscale": [
             [
              0,
              "#440154"
             ],
             [
              0.1111111111111111,
              "#482878"
             ],
             [
              0.2222222222222222,
              "#3e4989"
             ],
             [
              0.3333333333333333,
              "#31688e"
             ],
             [
              0.4444444444444444,
              "#26828e"
             ],
             [
              0.5555555555555556,
              "#1f9e89"
             ],
             [
              0.6666666666666666,
              "#35b779"
             ],
             [
              0.7777777777777778,
              "#6ece58"
             ],
             [
              0.8888888888888888,
              "#b5de2b"
             ],
             [
              1,
              "#fde725"
             ]
            ],
            "type": "surface"
           }
          ],
          "table": [
           {
            "cells": {
             "fill": {
              "color": "rgb(237,237,237)"
             },
             "line": {
              "color": "white"
             }
            },
            "header": {
             "fill": {
              "color": "rgb(217,217,217)"
             },
             "line": {
              "color": "white"
             }
            },
            "type": "table"
           }
          ]
         },
         "layout": {
          "annotationdefaults": {
           "arrowhead": 0,
           "arrowwidth": 1
          },
          "autotypenumbers": "strict",
          "coloraxis": {
           "colorbar": {
            "outlinewidth": 1,
            "tickcolor": "rgb(36,36,36)",
            "ticks": "outside"
           }
          },
          "colorscale": {
           "diverging": [
            [
             0,
             "rgb(103,0,31)"
            ],
            [
             0.1,
             "rgb(178,24,43)"
            ],
            [
             0.2,
             "rgb(214,96,77)"
            ],
            [
             0.3,
             "rgb(244,165,130)"
            ],
            [
             0.4,
             "rgb(253,219,199)"
            ],
            [
             0.5,
             "rgb(247,247,247)"
            ],
            [
             0.6,
             "rgb(209,229,240)"
            ],
            [
             0.7,
             "rgb(146,197,222)"
            ],
            [
             0.8,
             "rgb(67,147,195)"
            ],
            [
             0.9,
             "rgb(33,102,172)"
            ],
            [
             1,
             "rgb(5,48,97)"
            ]
           ],
           "sequential": [
            [
             0,
             "#440154"
            ],
            [
             0.1111111111111111,
             "#482878"
            ],
            [
             0.2222222222222222,
             "#3e4989"
            ],
            [
             0.3333333333333333,
             "#31688e"
            ],
            [
             0.4444444444444444,
             "#26828e"
            ],
            [
             0.5555555555555556,
             "#1f9e89"
            ],
            [
             0.6666666666666666,
             "#35b779"
            ],
            [
             0.7777777777777778,
             "#6ece58"
            ],
            [
             0.8888888888888888,
             "#b5de2b"
            ],
            [
             1,
             "#fde725"
            ]
           ],
           "sequentialminus": [
            [
             0,
             "#440154"
            ],
            [
             0.1111111111111111,
             "#482878"
            ],
            [
             0.2222222222222222,
             "#3e4989"
            ],
            [
             0.3333333333333333,
             "#31688e"
            ],
            [
             0.4444444444444444,
             "#26828e"
            ],
            [
             0.5555555555555556,
             "#1f9e89"
            ],
            [
             0.6666666666666666,
             "#35b779"
            ],
            [
             0.7777777777777778,
             "#6ece58"
            ],
            [
             0.8888888888888888,
             "#b5de2b"
            ],
            [
             1,
             "#fde725"
            ]
           ]
          },
          "colorway": [
           "#1F77B4",
           "#FF7F0E",
           "#2CA02C",
           "#D62728",
           "#9467BD",
           "#8C564B",
           "#E377C2",
           "#7F7F7F",
           "#BCBD22",
           "#17BECF"
          ],
          "font": {
           "color": "rgb(36,36,36)"
          },
          "geo": {
           "bgcolor": "white",
           "lakecolor": "white",
           "landcolor": "white",
           "showlakes": true,
           "showland": true,
           "subunitcolor": "white"
          },
          "hoverlabel": {
           "align": "left"
          },
          "hovermode": "closest",
          "mapbox": {
           "style": "light"
          },
          "paper_bgcolor": "white",
          "plot_bgcolor": "white",
          "polar": {
           "angularaxis": {
            "gridcolor": "rgb(232,232,232)",
            "linecolor": "rgb(36,36,36)",
            "showgrid": false,
            "showline": true,
            "ticks": "outside"
           },
           "bgcolor": "white",
           "radialaxis": {
            "gridcolor": "rgb(232,232,232)",
            "linecolor": "rgb(36,36,36)",
            "showgrid": false,
            "showline": true,
            "ticks": "outside"
           }
          },
          "scene": {
           "xaxis": {
            "backgroundcolor": "white",
            "gridcolor": "rgb(232,232,232)",
            "gridwidth": 2,
            "linecolor": "rgb(36,36,36)",
            "showbackground": true,
            "showgrid": false,
            "showline": true,
            "ticks": "outside",
            "zeroline": false,
            "zerolinecolor": "rgb(36,36,36)"
           },
           "yaxis": {
            "backgroundcolor": "white",
            "gridcolor": "rgb(232,232,232)",
            "gridwidth": 2,
            "linecolor": "rgb(36,36,36)",
            "showbackground": true,
            "showgrid": false,
            "showline": true,
            "ticks": "outside",
            "zeroline": false,
            "zerolinecolor": "rgb(36,36,36)"
           },
           "zaxis": {
            "backgroundcolor": "white",
            "gridcolor": "rgb(232,232,232)",
            "gridwidth": 2,
            "linecolor": "rgb(36,36,36)",
            "showbackground": true,
            "showgrid": false,
            "showline": true,
            "ticks": "outside",
            "zeroline": false,
            "zerolinecolor": "rgb(36,36,36)"
           }
          },
          "shapedefaults": {
           "fillcolor": "black",
           "line": {
            "width": 0
           },
           "opacity": 0.3
          },
          "ternary": {
           "aaxis": {
            "gridcolor": "rgb(232,232,232)",
            "linecolor": "rgb(36,36,36)",
            "showgrid": false,
            "showline": true,
            "ticks": "outside"
           },
           "baxis": {
            "gridcolor": "rgb(232,232,232)",
            "linecolor": "rgb(36,36,36)",
            "showgrid": false,
            "showline": true,
            "ticks": "outside"
           },
           "bgcolor": "white",
           "caxis": {
            "gridcolor": "rgb(232,232,232)",
            "linecolor": "rgb(36,36,36)",
            "showgrid": false,
            "showline": true,
            "ticks": "outside"
           }
          },
          "title": {
           "x": 0.05
          },
          "xaxis": {
           "automargin": true,
           "gridcolor": "rgb(232,232,232)",
           "linecolor": "rgb(36,36,36)",
           "showgrid": false,
           "showline": true,
           "ticks": "outside",
           "title": {
            "standoff": 15
           },
           "zeroline": false,
           "zerolinecolor": "rgb(36,36,36)"
          },
          "yaxis": {
           "automargin": true,
           "gridcolor": "rgb(232,232,232)",
           "linecolor": "rgb(36,36,36)",
           "showgrid": false,
           "showline": true,
           "ticks": "outside",
           "title": {
            "standoff": 15
           },
           "zeroline": false,
           "zerolinecolor": "rgb(36,36,36)"
          }
         }
        },
        "title": {
         "text": "Album Submission Count for our Top 10 Albums of 2021"
        },
        "xaxis": {
         "anchor": "y",
         "domain": [
          0,
          1
         ],
         "title": {
          "text": "Album"
         }
        },
        "yaxis": {
         "anchor": "x",
         "domain": [
          0,
          1
         ],
         "title": {
          "text": "Album Submissions"
         }
        }
       }
      }
     },
     "metadata": {},
     "output_type": "display_data"
    }
   ],
   "source": [
    "figure = px.bar(\n",
    "    top_10_albums,\n",
    "    x=\"Album\",\n",
    "    y=[\"album_submission_count\"],\n",
    "    barmode=\"group\",\n",
    "    text_auto=True,\n",
    "    hover_name=\"Album\",\n",
    "    custom_data=[\"Artist\"],\n",
    "    title=\"Album Submission Count for our Top 10 Albums of 2021\",\n",
    "    labels={\"value\": \"Album Submissions\"},\n",
    "    template=\"simple_white\",\n",
    "    color_discrete_sequence=[APP_COLORS[\"standard\"]]\n",
    "\n",
    ")\n",
    "figure.update_traces(\n",
    "    hovertemplate=\"<br>\".join(\n",
    "        [\n",
    "            \"<b>%{customdata}</b> - <i>%{x}</i>\",\n",
    "            \"\",\n",
    "            \"<extra></extra>\",\n",
    "        ]\n",
    "    )\n",
    ")\n",
    "figure.update_layout(hovermode=\"closest\", showlegend=False)\n",
    "\n",
    "figure.add_hrect(\n",
    "    y0=AOTY_by_album[\"album_submission_count\"].quantile(0.25),\n",
    "    y1=AOTY_by_album[\"album_submission_count\"].quantile(0.75),\n",
    "    opacity=0.3,\n",
    "    fillcolor=APP_COLORS[\"dark\"],\n",
    "    annotation_text=f\"'Usual' Submission counts: {AOTY_by_album['album_submission_count'].quantile(0.25):.2f} - {AOTY_by_album['album_submission_count'].quantile(0.75):.2f}\",\n",
    "    annotation_position=\"inside right\",\n",
    "    annotation_font_color=APP_COLORS[\"light\"],\n",
    ")\n",
    "\n",
    "figure.show()\n"
   ]
  },
  {
   "cell_type": "code",
   "execution_count": 17,
   "metadata": {},
   "outputs": [
    {
     "data": {
      "application/vnd.plotly.v1+json": {
       "config": {
        "plotlyServerURL": "https://plot.ly"
       },
       "data": [
        {
         "customdata": [
          [
           "Silk Sonic",
           "An Evening With Silk Sonic",
           171
          ],
          [
           "Adele",
           "30",
           138
          ],
          [
           "Olivia Rodrigo",
           "Sour",
           137
          ],
          [
           "Billie Eilish",
           "Happier Than Ever",
           137
          ],
          [
           "Tyler, the Creator",
           "Call Me If You Get Lost",
           133
          ],
          [
           "Lil Nas X",
           "Montero",
           102
          ],
          [
           "Julien Baker",
           "Little Oblivions",
           79
          ],
          [
           "Bo Burnham",
           "Inside (The Songs)",
           78
          ],
          [
           "Lorde",
           "Solar Power",
           71
          ],
          [
           "Parcels",
           "Day/Night",
           64
          ]
         ],
         "hovertemplate": "<b>%{customdata[0]}</b> - <i>%{customdata[1]}</i><br><br>Average Album Rank: %{y:.2f}<br>Album Submission Count : %{x}<br>Album Score: %{customdata[2]}<br><extra></extra>",
         "legendgroup": "True",
         "marker": {
          "color": "crimson",
          "opacity": 0.4,
          "size": [
           171,
           138,
           137,
           137,
           133,
           102,
           79,
           78,
           71,
           64
          ],
          "sizemode": "area",
          "sizeref": 0.4275,
          "symbol": "circle"
         },
         "mode": "markers",
         "name": "True",
         "orientation": "v",
         "showlegend": true,
         "type": "scatter",
         "x": [
          25,
          21,
          25,
          22,
          20,
          19,
          13,
          13,
          12,
          9
         ],
         "xaxis": "x",
         "y": [
          4.16,
          4.428571428571429,
          5.52,
          4.7727272727272725,
          4.35,
          5.631578947368421,
          4.923076923076923,
          5,
          5.083333333333333,
          3.888888888888889
         ],
         "yaxis": "y"
        },
        {
         "customdata": [
          [
           "Doja Cat",
           "Planet Her",
           64
          ],
          [
           "Kanye West",
           "Donda",
           63
          ],
          [
           "Japanese Breakfast",
           "Jubilee",
           59
          ],
          [
           "Little Simz",
           "Sometimes I Might Be Introvert",
           58
          ],
          [
           "Turnstile",
           "Glow On",
           55
          ],
          [
           "Morgan Wallen",
           "Dangerous: the Double Album",
           50
          ],
          [
           "Fleet Foxes",
           "A Very Lonely Solstice",
           43
          ],
          [
           "Dave",
           "We’re All Alone in this Together",
           42
          ],
          [
           "Snail Mail",
           "Valentine",
           42
          ],
          [
           "black midi",
           "Cavalcade",
           41
          ],
          [
           "Floating Points & Pharaoh Sanders",
           "Promises",
           39
          ],
          [
           "Vince Staples",
           "Vince Staples",
           36
          ],
          [
           "Sufjan Stevens & Angelo De Augustine",
           "A Beginner's Mind",
           36
          ],
          [
           "Manchester Orchestra",
           "The Million Masks of God",
           36
          ],
          [
           "Arlo Parks",
           "Collapsed in Sunbeams",
           36
          ],
          [
           "Jorja Smith",
           "Be Right Back",
           35
          ],
          [
           "J. Cole",
           "The Off-Season",
           35
          ],
          [
           "Kacey Musgraves",
           "star-crossed",
           35
          ],
          [
           "Clairo",
           "Sling",
           34
          ],
          [
           "Lana Del Rey",
           "Chemtrails Over the Country Club",
           33
          ],
          [
           "James Blake",
           "Friends That Break Your Heart",
           33
          ],
          [
           "Lord Huron",
           "Long Lost",
           32
          ],
          [
           "ABBA",
           "Voyage",
           32
          ],
          [
           "Carly Pearce",
           "29",
           32
          ],
          [
           "Drake",
           "Certified Lover Boy",
           31
          ],
          [
           "Halsey",
           "If I Can't Have Love, I Want Power",
           31
          ],
          [
           "Jazmine Sullivan",
           "Heaux Tales",
           30
          ],
          [
           "Every Time I Die",
           "Radical",
           30
          ],
          [
           "Baby Keem",
           "The Melodic Blue",
           30
          ],
          [
           "Lawrence",
           "Hotel TV",
           30
          ],
          [
           "Lucy Dacus",
           "Home Video",
           29
          ],
          [
           "Morgan Wade",
           "Reckless",
           28
          ],
          [
           "Allison Russell",
           "Outside Child",
           28
          ],
          [
           "Brandi Carlile",
           "In These Silent Days",
           28
          ],
          [
           "The War on Drugs",
           "I Don't Live Here Anymore",
           28
          ],
          [
           "The Band Camino",
           "The Band Camino",
           27
          ],
          [
           "BADBADNOTGOOD",
           "Talk Memory",
           27
          ],
          [
           "Greta Van Fleet",
           "The Battle at Garden’s Gate",
           26
          ],
          [
           "Isaiah Rashad",
           "The House is Burning",
           26
          ],
          [
           "The Black Keys",
           "Delta Kream",
           26
          ],
          [
           "COIN",
           "Rainbow Mixtape",
           25
          ],
          [
           "Brockhampton",
           "Roadrunner",
           25
          ],
          [
           "The Armed",
           "Ultrapop",
           25
          ],
          [
           "Jon Batiste",
           "WE ARE",
           24
          ],
          [
           "Wolf Alice",
           "Blue Weekend",
           23
          ],
          [
           "Lizzy McAlpine",
           "When The World Stopped Moving: The Live EP",
           23
          ],
          [
           "Squid",
           "Bright Green Field",
           23
          ],
          [
           "Mannequin Pussy",
           "Perfect",
           23
          ],
          [
           "Charles Wesley Godwin",
           "How the Mighty Fall",
           23
          ],
          [
           "Oz",
           "Perfect",
           23
          ],
          [
           "Hayley Williams",
           "FLOWERS for VASES / descansos",
           22
          ],
          [
           "Willow",
           "Lately I Feel Everything",
           21
          ],
          [
           "Cody Johnson",
           "Human: The Double Album",
           21
          ],
          [
           "Switchfoot",
           "interrobang",
           20
          ],
          [
           "Chris Renzema",
           "Get Out of the Way of Your Own Heart",
           20
          ],
          [
           "John Mayer",
           "Sob Rock",
           20
          ],
          [
           "Remi Wolf",
           "Juno",
           19
          ],
          [
           "Surfaces",
           "Pacifico",
           19
          ],
          [
           "Current Joys",
           "Voyager",
           19
          ],
          [
           "Mike and the Moonpies",
           "One to Grow On",
           19
          ],
          [
           "Kings of Leon",
           "When You See Yourself",
           18
          ],
          [
           "Summer Walker",
           "Still Over It",
           18
          ],
          [
           "Low",
           "Hey What",
           18
          ],
          [
           "Injury Reserve",
           "By the Time I Get to Phoenix",
           18
          ],
          [
           "Faye Webster",
           "I Know I'm Funny haha",
           18
          ],
          [
           "Justin Bieber",
           "Justice",
           17
          ],
          [
           "Leon Bridges",
           "Gold-Diggers Sound",
           17
          ],
          [
           "Men I Trust",
           "Untourable Album",
           16
          ],
          [
           "Finneas",
           "Optimist",
           16
          ],
          [
           "KALEO",
           "Surface Sounds",
           15
          ],
          [
           "blackbear",
           "misery lake",
           15
          ],
          [
           "Jon Foreman",
           "Departures",
           15
          ],
          [
           "Mark Barlow",
           "Hymns & Soul",
           15
          ],
          [
           "The Dirty Nil",
           "Fuck Art",
           15
          ],
          [
           "dodie",
           "Build A Problem",
           15
          ],
          [
           "Lana Del Rey",
           "Blue Banisters",
           15
          ],
          [
           "Blu DeTiger",
           "How Did We Get Here?",
           15
          ],
          [
           "Charlotte Cardin",
           "Phoenix",
           15
          ],
          [
           "Indigo de Souza",
           "Any Shape You Take",
           15
          ],
          [
           "Ben Platt",
           "Reverie",
           15
          ],
          [
           "Hiatus Kaiyote",
           "Mood Valiant",
           14
          ],
          [
           "JPEGMAFIA",
           "LP!",
           14
          ],
          [
           "Ian Munsick",
           "Coyote Cry",
           14
          ],
          [
           "LANY",
           "gg bb xx",
           14
          ],
          [
           "Dayglow",
           "Harmony House",
           14
          ],
          [
           "quickly, quickly",
           "The Long and Short of It",
           14
          ],
          [
           "John Mark McMillan",
           "Has It Been You",
           14
          ],
          [
           "Andy Shauf",
           "Wilds",
           14
          ],
          [
           "Briston Maroney",
           "Sunflower",
           14
          ],
          [
           "Valley",
           "Last Birthday",
           14
          ],
          [
           "Tems",
           "If Orange Was A Place",
           14
          ],
          [
           "Cautious Clay",
           "Deadpan Love",
           14
          ],
          [
           "Mac Ayres",
           "Magic 8ball",
           13
          ],
          [
           "Megan Thee Stallion",
           "Something For Thee Hotties",
           13
          ],
          [
           "daysormay",
           "Just Existing",
           13
          ],
          [
           "Mariah the Scientist",
           "RY RY WORLD",
           13
          ],
          [
           "Twenty One Pilots",
           "Scaled and Icy",
           13
          ],
          [
           "Tinashe",
           "333",
           13
          ],
          [
           "Bleachers",
           "Take the Sadness Out of Saturday Night",
           13
          ],
          [
           "Still Woozy",
           "If This Isn't Nice, I Don't Know What Is",
           13
          ],
          [
           "Noah Gunderson",
           "A Pillar of Salt",
           12
          ],
          [
           "Hobo Johnson",
           "The Revenge of Hobo Johnson",
           12
          ],
          [
           "Thomas Rhett",
           "Country Again",
           12
          ],
          [
           "girl in red",
           "if i could make it go quiet",
           12
          ],
          [
           "My Morning Jacket",
           "My Morning Jacket",
           12
          ],
          [
           "Sam Fender",
           "Seventeen Going Under",
           12
          ],
          [
           "Robert Plant & Alison Krauss",
           "Raise The Roof",
           12
          ],
          [
           "Sarah Juers",
           "Cyberspace",
           12
          ],
          [
           "Celeste",
           "Not Your Muse",
           12
          ],
          [
           "Midland",
           "The Sonic Ranch",
           11
          ],
          [
           "The Killers",
           "Pressure Machine",
           11
          ],
          [
           "Tai Verdes",
           "TV",
           11
          ],
          [
           "Aminé",
           "TWOPOINTFIVE",
           11
          ],
          [
           "MØL",
           "Diorama",
           10
          ],
          [
           "Jungle",
           "Loving in Stereo",
           10
          ],
          [
           "Parannoul",
           "To See the Next Part of the Dream",
           10
          ],
          [
           "Wilderado",
           "Wilderado",
           10
          ],
          [
           "Millwood",
           "Spiral",
           10
          ],
          [
           "Hudson Freeman",
           "I Am All the Ages I've Ever Been",
           10
          ],
          [
           "JUDAH.",
           "3 + 7",
           10
          ],
          [
           "Apollo Brown & Stalley",
           "Blacklight",
           10
          ],
          [
           "NF",
           "Clouds",
           10
          ],
          [
           "DJ Manny",
           "Signals in My Head",
           10
          ],
          [
           "Holly Humberstone",
           "The Walls Are Way Too Thin",
           10
          ],
          [
           "Zach Winters",
           "Other Side (B)",
           10
          ],
          [
           "Cole Chaney",
           "Mercy",
           10
          ],
          [
           "Django Django",
           "Glowing in the Dark",
           10
          ],
          [
           "Parquet Courts",
           "Sympathy for Life",
           10
          ],
          [
           "Jordan Rowe",
           "Bad Case of the Good Ole Boy",
           10
          ],
          [
           "Drake",
           "Scary Hours 2",
           10
          ],
          [
           "Field Music",
           "Flat White Moon",
           10
          ],
          [
           "Big Thief",
           "Change",
           10
          ],
          [
           "Sam Williams",
           "Glasshouse Children",
           10
          ],
          [
           "The Beths",
           "Auckland, New Zealand, 2020 (Live)",
           10
          ],
          [
           "Billy Strings",
           "Renewal",
           10
          ],
          [
           "Pinkpantheress",
           "To Hell With It",
           10
          ],
          [
           "Emile Mosseri",
           "Minari (Original Motion Picture Soundtrack)",
           10
          ],
          [
           "The Aubreys",
           "Karaoke Alone",
           10
          ],
          [
           "Ed Sheeran",
           " =",
           10
          ],
          [
           "Dijon",
           "Absolutely",
           10
          ],
          [
           "Said The Whale",
           "Dandelion",
           10
          ],
          [
           "The Hold Steady",
           "Open Door Policy",
           10
          ],
          [
           "Rezz",
           "Spiral",
           10
          ],
          [
           "Lainey Wilson",
           "Sayin' What I'm Thinkin'",
           9
          ],
          [
           "Joshua Bassett",
           "Joshua Bassett",
           9
          ],
          [
           "Jess Ray",
           "Baby Take My Hand",
           9
          ],
          [
           "Mild High Club",
           "Going Going Gone",
           9
          ],
          [
           "Ida Mae",
           "Click Click Domino",
           9
          ],
          [
           "Maisie Peters",
           "You Signed Up For This",
           9
          ],
          [
           "LOONY",
           "soft thing",
           9
          ],
          [
           "Taylor Leonhardt",
           "Hold Still",
           9
          ],
          [
           "C. Tangana",
           "El Madrileño",
           9
          ],
          [
           "Charley Crockett",
           "Music City USA",
           9
          ],
          [
           "Charlie Hickey",
           "Count the Stairs",
           9
          ],
          [
           "Nas",
           "King’s Disease II",
           9
          ],
          [
           "Tawni Bias",
           "SEL Fellow",
           9
          ],
          [
           "The Marías",
           "CINEMA",
           9
          ],
          [
           "Valerie June",
           "The Moon And Stars: Prescriptions For Dreamers",
           9
          ],
          [
           "Colony House",
           "Rotten Tomatoes",
           9
          ],
          [
           "Sting",
           "The Bridge",
           9
          ],
          [
           "At the Gates",
           "The Nightmare of Being",
           9
          ],
          [
           "Scotty McCreery",
           "Same Truck",
           9
          ],
          [
           "Whitechapel",
           "Kin",
           9
          ],
          [
           "Sammy Rae & The Friends",
           "Let's Throw a Party",
           9
          ],
          [
           "CANDIACE",
           "Deep Space",
           9
          ],
          [
           "P.J. Harding & Noah Cyrus",
           "People Don't Change",
           9
          ],
          [
           "nothing, nowhere.",
           "Trauma Factory",
           9
          ],
          [
           "Young Thug",
           "Punk",
           9
          ],
          [
           "Pi'erre Bourne",
           "The Life Of Pi'erre 5",
           9
          ],
          [
           "Evan Wright",
           "Sound from out the Window",
           9
          ],
          [
           "Oh Wonder",
           "22 Break",
           9
          ],
          [
           "Genesis Owusu",
           "Smiling with No Teeth",
           9
          ],
          [
           "P!nk",
           "All I Know So Far: Setlist",
           9
          ],
          [
           "chloe moriondo",
           "Blood Bunny",
           9
          ],
          [
           "Bilmuri",
           "400Lb Back Squat",
           8
          ],
          [
           "Buck Meek",
           "Two Saviors",
           8
          ],
          [
           "Koreless",
           "Agor",
           8
          ],
          [
           "The Emerald Isle",
           "The Emerald Isle",
           8
          ],
          [
           "42 Dugg",
           "Free Dem Boyz",
           8
          ],
          [
           "Yebba",
           "Dawn",
           8
          ],
          [
           "Benny Sings",
           "Music",
           8
          ],
          [
           "KAYTRANADA",
           "Intimidated",
           8
          ],
          [
           "Alice Phoebe Lou",
           "Child's Play",
           8
          ],
          [
           "Left At London",
           "T.I.A.P.F.Y.H.",
           8
          ],
          [
           "Warren Zeiders",
           "717 Tapes",
           8
          ],
          [
           "$uicideboy$",
           "Long Term Effects of SUFFERING",
           8
          ],
          [
           "Andy Squyres",
           "Poet Priest",
           8
          ],
          [
           "Woodlock",
           "The Future of an End",
           8
          ],
          [
           "Antonio Pinto",
           "Nine Days",
           8
          ],
          [
           "Harakiri for the Sky",
           "Mære",
           8
          ],
          [
           "That Handsome Devil",
           "Your Parents Are Sellouts",
           8
          ],
          [
           "Elton John",
           "The Lockdown Sessions",
           8
          ],
          [
           "Peach Tree Rascals",
           "Camp Nowhere",
           8
          ],
          [
           "Pleasure P",
           "Business Before Pleasure",
           8
          ],
          [
           "Renée Reed",
           "Renée Reed",
           8
          ],
          [
           "Christopher Atkins",
           "On the Turn Again",
           8
          ],
          [
           "Fucked Up",
           "Year of the Horse",
           8
          ],
          [
           "Sarah Christian",
           "Tchaikovsky (Violin Concerto & Souvenir de Florence)",
           8
          ],
          [
           "Eloise",
           "Somewhere In-Between",
           8
          ],
          [
           "Modest Mouse",
           "The Golden Casket",
           8
          ],
          [
           "Dacey",
           "Satin Playground",
           8
          ],
          [
           "Neil Young & Crazy Horse",
           "Barn",
           8
          ],
          [
           "Coldplay",
           "Music of the Spheres",
           8
          ],
          [
           "Mach-Hommy",
           "Pray for Haiti",
           8
          ],
          [
           "Cody Fry",
           "Pictures of Mountains",
           8
          ],
          [
           "Mod Sun",
           "Internet Killed the Rock Star",
           7
          ],
          [
           "Lake Street Dive",
           "Obviously",
           7
          ],
          [
           "No Rome",
           "It's All Smiles",
           7
          ],
          [
           "Richie Quake",
           "Voyager EP",
           7
          ],
          [
           "Lavish",
           "The Northside",
           7
          ],
          [
           "Ritt Momney",
           "Sunny Boy",
           7
          ],
          [
           "Sierra Ferrell",
           "Long Time Coming",
           7
          ],
          [
           "Marcellus Juvann",
           "HARDHEADED",
           7
          ],
          [
           "Villagers",
           "Fever Dreams",
           7
          ],
          [
           "TWRP",
           "New & Improved",
           7
          ],
          [
           "Unto Others",
           "Strength",
           7
          ],
          [
           "Royal Blood",
           "Typhoons",
           7
          ],
          [
           "Kiefer",
           "Between Days",
           7
          ],
          [
           "Daniel James McFadyen",
           "August, I'm Yours",
           7
          ],
          [
           "Connor Musarra",
           "Attempt 3",
           7
          ],
          [
           "BIG|BRAVE",
           "Vital",
           7
          ],
          [
           "Illenium",
           "Fallen Embers",
           7
          ],
          [
           "Audrey Nuna",
           "A Liquid Breakfast",
           7
          ],
          [
           "Joni Mitchell",
           "Joni Mitchell Archives, Vol. 2: The Reprise Years",
           7
          ],
          [
           "Jason Aldean",
           "MACON",
           7
          ],
          [
           "Alicia Keys",
           "KEYS",
           7
          ],
          [
           "Eric Church",
           "Heart",
           7
          ],
          [
           "Izzy Johnson",
           "Earth Tones",
           7
          ],
          [
           "Illuminati Hotties",
           "Let Me Do One More",
           7
          ],
          [
           "Brett Eldredge",
           "Mr. Christmas",
           7
          ],
          [
           "Fleece",
           "Stunning & Atrocious",
           7
          ],
          [
           "James McMurtry",
           "The Horses and the Hounds",
           7
          ],
          [
           "Alan Jackson",
           "Where Have You Gone",
           7
          ],
          [
           "Godspeed You! Black Emperor",
           "G_d’s Pee AT STATE’S END!",
           7
          ],
          [
           "Knocked Loose",
           "A Tear in the Fabric of Life",
           7
          ],
          [
           "CHIKA",
           "ONCE UPON A TIME",
           7
          ],
          [
           "Kota the Friend & Statik Selektah",
           "To Kill a Sunrise",
           7
          ],
          [
           "Sam Gendel & Sam Wilkes",
           "Music for Saxofone & Bass tar: More Songs",
           6
          ],
          [
           "Matt Maltese",
           "Good Morning It's Now Tomorrow",
           6
          ],
          [
           "Melt",
           "West Side Highway",
           6
          ],
          [
           "Triston Marez",
           "Triston Marez",
           6
          ],
          [
           "Flatland Cavalry",
           "Welcome To Countryland",
           6
          ],
          [
           "Ben Howard",
           "Collections From The Whiteout",
           6
          ],
          [
           "Various Artists",
           "The Harder They Fall (The Motion Picture Soundtrack)",
           6
          ],
          [
           "Sarah and the Sundays",
           "The Living End",
           6
          ],
          [
           "Helado Negro",
           "Far In",
           6
          ],
          [
           "Hayden Calnin",
           "What It Means to Be Human",
           6
          ],
          [
           "Flozigg",
           "Beige EP",
           6
          ],
          [
           "Genghis Tron",
           "Dream Weapon",
           6
          ],
          [
           "ICE NINE KILLS",
           "Welcome To Horrorwood: The Silver Scream 2",
           6
          ],
          [
           "The Weather Station",
           "Ignorance",
           6
          ],
          [
           "Billy Currington",
           "Intuition",
           6
          ],
          [
           "Cradle of Filth",
           "Existence is Futile",
           6
          ],
          [
           "KINGZMN",
           "Where Do We Go From Here?",
           6
          ],
          [
           "Cloud Nothings",
           "The Shadow I Remember",
           6
          ],
          [
           "Joshua Bassett",
           "CRISIS",
           6
          ],
          [
           "Lorna Shore",
           "...And I Return To Nothingness",
           6
          ],
          [
           "Joel Ansett",
           "I Should Get Some Rest",
           6
          ],
          [
           "Sturgill Simpson",
           "The Ballad of Dood & Juanita",
           6
          ],
          [
           "anaiis",
           "this is no longer a dream",
           6
          ],
          [
           "MARINA",
           "Ancient Dreams In A Modern Land",
           6
          ],
          [
           "The Sheepdogs",
           "No Simple Thing (EP)",
           6
          ],
          [
           "DJ Harrison",
           "Tales from the Old Dominion",
           6
          ],
          [
           "Nothing But Thieves",
           "Moral Panic II",
           6
          ],
          [
           "Drug Church",
           "Tawny",
           5
          ],
          [
           "Delta Sleep",
           "Spring Island",
           5
          ],
          [
           "Stormkeep",
           "Tales of Othertime",
           5
          ],
          [
           "Dödsrit",
           "Mortal Coil",
           5
          ],
          [
           "Brasstracks",
           "Welcome Back Era",
           5
          ],
          [
           "Dominic Lewis",
           "Monsters at Work (Original Soundtrack)",
           5
          ],
          [
           "The Drums",
           "MOMMY DON'T SPANK ME",
           5
          ],
          [
           "TORRES",
           "Thirstier",
           5
          ],
          [
           "Country Stuff",
           "Walker Hayes",
           5
          ],
          [
           "Claud",
           "Super Monster",
           5
          ],
          [
           "Guided by Voices",
           "It’s Not Them. It Couldn’t Be Them. It Is Them!",
           5
          ],
          [
           "Citizens",
           "The Joy of Being",
           5
          ],
          [
           "Griff",
           "One Foot In Front Of The Other",
           5
          ],
          [
           "O P Yeti",
           "Alexander Mackay: THE WORST",
           5
          ],
          [
           "Dillon Carmichael",
           "Son Of A",
           5
          ],
          [
           "Canary Room",
           "Christine",
           5
          ],
          [
           "Amigo the Devil",
           "Born Against",
           5
          ],
          [
           "Mick Jenkins",
           "A Elephant in the Room",
           5
          ],
          [
           "24kGoldn",
           "El Dorado",
           5
          ],
          [
           "Natalie Schepman",
           "Fresh Water in an Empty Vase",
           5
          ],
          [
           "Invent Animate",
           "The Sun Sleeps, As If It Never Was",
           5
          ],
          [
           "Jade Bird",
           "Different Kinds of Light",
           5
          ],
          [
           "NEEDTOBREATHE",
           "Into The Mystery",
           5
          ],
          [
           "Zouj",
           "Tagat (Mixtape)",
           5
          ],
          [
           "Inbal Segev",
           "20 for 2020 Volume 1",
           5
          ],
          [
           "KAROL G",
           "KG0516",
           5
          ],
          [
           "bbno$",
           "eat ya veggies",
           4
          ],
          [
           "Louis the Child",
           "Euphoria",
           4
          ],
          [
           "Jetty Bones",
           "Push Back",
           4
          ],
          [
           "Rise Against",
           "Nowhere Generation",
           4
          ],
          [
           "Twelve Foot Ninja",
           "Vengeance",
           4
          ],
          [
           "Benny Sings",
           "Beat Tape II",
           4
          ],
          [
           "cleopatrick",
           "BUMMER",
           4
          ],
          [
           "Sam Evian",
           "Time to Melt",
           4
          ],
          [
           "Diana Ross",
           "Thank You",
           4
          ],
          [
           "Maxo Kream",
           "Weight of the World",
           4
          ],
          [
           "Starcadian",
           "Radio Galaxy",
           4
          ],
          [
           "Spellling",
           "The Turning Wheel",
           4
          ],
          [
           "Rhye",
           "Home",
           4
          ],
          [
           "Vanjess",
           "Homegrown",
           4
          ],
          [
           "Tingsek",
           "Home",
           4
          ],
          [
           "Half Moon Run",
           "Inwards & Onwards EP",
           4
          ],
          [
           "Gospel Whiskey Runners",
           "Move On",
           4
          ],
          [
           "Half Waif",
           "Mythopoetics",
           4
          ],
          [
           "The 502s",
           "Could It Get Better Than This",
           4
          ],
          [
           "The Bronx",
           "The Bronx VI",
           4
          ],
          [
           "Silent Planet",
           "Iridescent",
           4
          ],
          [
           "AJR",
           "Ok Orchestra",
           4
          ],
          [
           "Phil Wickham",
           "Hymn of Heaven",
           4
          ],
          [
           "Third Eye Blind",
           "Our Bande Apart",
           4
          ],
          [
           "As Isaac",
           "Over The Flood",
           4
          ],
          [
           "Mitochondrial Sun",
           "Bodies and Gold",
           4
          ],
          [
           "Various Artists",
           "tick, tick... BOOM! (Soundtrack from the Netflix Film)",
           4
          ],
          [
           "Aquilo",
           "A Safe Place To Be",
           4
          ],
          [
           "Blonde Otter",
           "Blonde Otter",
           4
          ],
          [
           "Squirrel Flower",
           "Planet (i)",
           3
          ],
          [
           "St. Vincent",
           "Daddy's Home",
           3
          ],
          [
           "Architects",
           "For Those That Wish to Exist",
           3
          ],
          [
           "Stephan Moccio",
           "Lionheart",
           3
          ],
          [
           "Lute",
           "Gold Mouf",
           3
          ],
          [
           "Lunar Vacation",
           "Inside Every Fig is a Dead Wasp",
           3
          ],
          [
           "Joe Bonamassa",
           "Time Clocks",
           3
          ],
          [
           "Lil Tjay",
           "Destined 2 Win",
           3
          ],
          [
           "Joy Oladokun",
           "in defense of my own happiness",
           3
          ],
          [
           "Joyce Wrice",
           "Overgrown",
           3
          ],
          [
           "Christophe Beck",
           "WandaVision: Episode 7 (Original Soundtrack)",
           3
          ],
          [
           "CHASE WRIGHT",
           "INTERTWINED",
           3
          ],
          [
           "Snoh Alegra",
           "TEMPORARY HIGHS IN THE VIOLET SKIES",
           3
          ],
          [
           "Amber Mattfield",
           "Transition",
           3
          ],
          [
           "L'Rain",
           "Fatigue",
           3
          ],
          [
           "Petey",
           "Lean Into Life",
           3
          ],
          [
           "Quinn XCII",
           "Change of Scenery II",
           3
          ],
          [
           "Raquel Rodriguez",
           "Sweet Side",
           3
          ],
          [
           "IDLES",
           "CRAWLER",
           3
          ],
          [
           "Eric Church",
           "Soul",
           3
          ],
          [
           "Canaan Smith",
           "High Country Sound",
           3
          ],
          [
           "Wiki",
           "Half God",
           3
          ],
          [
           "Arca",
           "KicK iii",
           3
          ],
          [
           "Miko Marks and the Resurrectors",
           "Race Records",
           3
          ],
          [
           "We Were Promised Jetpacks",
           "Enjoy the View",
           3
          ],
          [
           "Big Red Machine",
           "How Long Do You Think It's Gonna Last?",
           3
          ],
          [
           "Tom Misch",
           "Quarantine Sessions",
           3
          ],
          [
           "Grouplove",
           "This Is This",
           3
          ],
          [
           "Këkht Aräkh",
           "Pale Swordsman",
           3
          ],
          [
           "Dante's Paradise",
           "Your Move",
           3
          ],
          [
           "Amaal",
           "Molly",
           3
          ],
          [
           "Tigers Jaw",
           "I Won't Care How You Remember Me",
           3
          ],
          [
           "Shelley FKA DRAM",
           "Shelley FKA DRAM",
           3
          ],
          [
           "Zayn",
           "Nobody is Listening",
           3
          ],
          [
           "Sipper",
           "Pink Songs",
           3
          ],
          [
           "Hobo Johnson",
           "Hobo Johnson Alienates His Fanbase",
           3
          ],
          [
           "Wanderer",
           "Travel Plans",
           2
          ],
          [
           "Bladee",
           "The Fool",
           2
          ],
          [
           "The Doughboys & Brainiac",
           "The Doughboys",
           2
          ],
          [
           "Alexandre Desplat",
           "The French Dispatch (Original Score)",
           2
          ],
          [
           "Angus & Julia Stone",
           "Life Is Strange",
           2
          ],
          [
           "The Staves",
           "Good Woman",
           2
          ],
          [
           "Barlow & Bear",
           "The Unofficial Bridgerton Musical",
           2
          ],
          [
           "Anderson East",
           "Maybe We Never Die",
           2
          ],
          [
           "Bluestaeb",
           "GISEKE",
           2
          ],
          [
           "Saucy Santana",
           "Keep It Playa",
           2
          ],
          [
           " 88rising, DJ Snake, and Niki",
           "Shang-Chi and the Legend of the Ten Rings: The Album",
           2
          ],
          [
           "Main Phase",
           "Buss It",
           2
          ],
          [
           "HIXTAPE",
           "HIXTAPE: Vol. 2",
           2
          ],
          [
           "Mitchell Tenpenny",
           "Midtown Diaries",
           2
          ],
          [
           "Emily Scott Robinson",
           "american siren",
           2
          ],
          [
           "Central Cee",
           "Wild West",
           2
          ],
          [
           "Qveen Herby",
           "A Woman",
           2
          ],
          [
           "Durand Jones & The Indications",
           "Private Space",
           2
          ],
          [
           "Michael Giacchino",
           "Spider-Man: No Way Home (Original Motion Picture Soundtrack)",
           2
          ],
          [
           "JOHN (TIMESTWO)",
           "Nocturnal Manoeuvres",
           2
          ],
          [
           "JP Saxe",
           "Dangerous Levels of Introspection",
           2
          ],
          [
           "Sam Dew",
           "Moonlight Fools",
           2
          ],
          [
           "Devil Electric",
           "Godless",
           2
          ],
          [
           "Death Cab for Cutie",
           "The Georgia EP",
           2
          ],
          [
           "Shad",
           "Tao",
           2
          ],
          [
           "James Vickery",
           "Songs That Made Me Feel",
           2
          ],
          [
           "Joy Crookes",
           "Skin",
           2
          ],
          [
           "Jordan Rakei",
           "What We Call Life",
           2
          ],
          [
           "Terrace Martin",
           "Drones",
           2
          ],
          [
           "Colin James",
           "Open Road",
           2
          ],
          [
           "King Gizzard and the Lizard Wizards",
           "Butterfly 3000",
           2
          ],
          [
           "Cory Wong",
           "Cory and the Wongnotes",
           2
          ],
          [
           "Limp Bizkit",
           "Still Sucks",
           2
          ],
          [
           "HalfNoise",
           "Motif",
           2
          ],
          [
           "Snotty Nose Rez Kids",
           "Life After",
           2
          ],
          [
           "Dan + Shay",
           "Good Things",
           2
          ],
          [
           "Sloppy Jane",
           "Madison",
           2
          ],
          [
           "Slayyyter",
           "Troubled Paradise",
           2
          ],
          [
           "Maple Glider",
           "To Enjoy Is the Only Thing",
           1
          ],
          [
           "Jack Ingram, Miranda Lambert & Jon Randall",
           "The Marfa Tapes",
           1
          ],
          [
           "Jordan Davis",
           "Buy Dirt",
           1
          ],
          [
           "Wolves in the Throne Room",
           "Primordial Arcana",
           1
          ],
          [
           "Alex Cuba",
           "Mendó",
           1
          ],
          [
           "Larry Fleet",
           "Stack of Records",
           1
          ],
          [
           "Navy Blue",
           "Navy's Reprise",
           1
          ],
          [
           "Andrew Blooms",
           "987",
           1
          ],
          [
           "Milky Chance",
           "Trip Tape",
           1
          ],
          [
           "Kota the Friend",
           "Lyrics to GO, Vol. 2",
           1
          ],
          [
           "Harriet Krijgh & Magda Amara",
           "Silent Dreams",
           1
          ],
          [
           "Alien Weaponry",
           "Tangaroa",
           1
          ],
          [
           "The Alchemist",
           "This Thing of Ours",
           1
          ],
          [
           "Wayward Nick",
           "Puny Human",
           1
          ],
          [
           "Thrice",
           "Horizons / East",
           1
          ],
          [
           "Brojob",
           "The Heaviest Album of All Time",
           1
          ],
          [
           "Converge & Chelsea Wolfe",
           "Bloodmoon: I",
           1
          ],
          [
           "Sun Seeker",
           "A Sunrise in a Basement",
           1
          ],
          [
           "Conway the Machine",
           "La Maquina",
           1
          ],
          [
           "Brandee Younger",
           "Somewhere Different",
           1
          ],
          [
           "Sonny Fodera",
           "Wide Awake",
           1
          ],
          [
           "The Paper Kites",
           "Roses",
           1
          ],
          [
           "Daniyel",
           "82",
           1
          ],
          [
           "Black Country, New Road",
           "For the First Time",
           1
          ],
          [
           "SeeYouSpaceCowboy...",
           "The Romance of Affliction",
           1
          ],
          [
           "Water From Your Eyes",
           "Structure",
           1
          ],
          [
           "Diamond Cafe",
           "Say You Will",
           1
          ],
          [
           "Digga D",
           "Made in the Pyrex",
           1
          ],
          [
           "SEB",
           "IT'S OKAY, WE'RE DREAMING",
           1
          ],
          [
           "Dinosaur Jr.",
           "Emptiness at the Sinclair",
           1
          ],
          [
           "Dooms Children",
           "Dooms Children",
           1
          ],
          [
           "Drakeo the Ruler",
           "Ain't That The Truth",
           1
          ],
          [
           "Polo G",
           "Hall of Fame",
           1
          ],
          [
           "Armand Hammer & The Alchemist",
           "Haram",
           1
          ],
          [
           "Glume & Phossa",
           "Banshee",
           1
          ],
          [
           "Prince",
           "Welcome 2 America",
           1
          ]
         ],
         "hovertemplate": "<b>%{customdata[0]}</b> - <i>%{customdata[1]}</i><br><br>Average Album Rank: %{y:.2f}<br>Album Submission Count : %{x}<br>Album Score: %{customdata[2]}<br><extra></extra>",
         "legendgroup": "False",
         "marker": {
          "color": "navy",
          "opacity": 0.4,
          "size": [
           64,
           63,
           59,
           58,
           55,
           50,
           43,
           42,
           42,
           41,
           39,
           36,
           36,
           36,
           36,
           35,
           35,
           35,
           34,
           33,
           33,
           32,
           32,
           32,
           31,
           31,
           30,
           30,
           30,
           30,
           29,
           28,
           28,
           28,
           28,
           27,
           27,
           26,
           26,
           26,
           25,
           25,
           25,
           24,
           23,
           23,
           23,
           23,
           23,
           23,
           22,
           21,
           21,
           20,
           20,
           20,
           19,
           19,
           19,
           19,
           18,
           18,
           18,
           18,
           18,
           17,
           17,
           16,
           16,
           15,
           15,
           15,
           15,
           15,
           15,
           15,
           15,
           15,
           15,
           15,
           14,
           14,
           14,
           14,
           14,
           14,
           14,
           14,
           14,
           14,
           14,
           14,
           13,
           13,
           13,
           13,
           13,
           13,
           13,
           13,
           12,
           12,
           12,
           12,
           12,
           12,
           12,
           12,
           12,
           11,
           11,
           11,
           11,
           10,
           10,
           10,
           10,
           10,
           10,
           10,
           10,
           10,
           10,
           10,
           10,
           10,
           10,
           10,
           10,
           10,
           10,
           10,
           10,
           10,
           10,
           10,
           10,
           10,
           10,
           10,
           10,
           10,
           10,
           9,
           9,
           9,
           9,
           9,
           9,
           9,
           9,
           9,
           9,
           9,
           9,
           9,
           9,
           9,
           9,
           9,
           9,
           9,
           9,
           9,
           9,
           9,
           9,
           9,
           9,
           9,
           9,
           9,
           9,
           9,
           8,
           8,
           8,
           8,
           8,
           8,
           8,
           8,
           8,
           8,
           8,
           8,
           8,
           8,
           8,
           8,
           8,
           8,
           8,
           8,
           8,
           8,
           8,
           8,
           8,
           8,
           8,
           8,
           8,
           8,
           8,
           7,
           7,
           7,
           7,
           7,
           7,
           7,
           7,
           7,
           7,
           7,
           7,
           7,
           7,
           7,
           7,
           7,
           7,
           7,
           7,
           7,
           7,
           7,
           7,
           7,
           7,
           7,
           7,
           7,
           7,
           7,
           7,
           6,
           6,
           6,
           6,
           6,
           6,
           6,
           6,
           6,
           6,
           6,
           6,
           6,
           6,
           6,
           6,
           6,
           6,
           6,
           6,
           6,
           6,
           6,
           6,
           6,
           6,
           6,
           5,
           5,
           5,
           5,
           5,
           5,
           5,
           5,
           5,
           5,
           5,
           5,
           5,
           5,
           5,
           5,
           5,
           5,
           5,
           5,
           5,
           5,
           5,
           5,
           5,
           5,
           4,
           4,
           4,
           4,
           4,
           4,
           4,
           4,
           4,
           4,
           4,
           4,
           4,
           4,
           4,
           4,
           4,
           4,
           4,
           4,
           4,
           4,
           4,
           4,
           4,
           4,
           4,
           4,
           4,
           3,
           3,
           3,
           3,
           3,
           3,
           3,
           3,
           3,
           3,
           3,
           3,
           3,
           3,
           3,
           3,
           3,
           3,
           3,
           3,
           3,
           3,
           3,
           3,
           3,
           3,
           3,
           3,
           3,
           3,
           3,
           3,
           3,
           3,
           3,
           3,
           2,
           2,
           2,
           2,
           2,
           2,
           2,
           2,
           2,
           2,
           2,
           2,
           2,
           2,
           2,
           2,
           2,
           2,
           2,
           2,
           2,
           2,
           2,
           2,
           2,
           2,
           2,
           2,
           2,
           2,
           2,
           2,
           2,
           2,
           2,
           2,
           2,
           2,
           1,
           1,
           1,
           1,
           1,
           1,
           1,
           1,
           1,
           1,
           1,
           1,
           1,
           1,
           1,
           1,
           1,
           1,
           1,
           1,
           1,
           1,
           1,
           1,
           1,
           1,
           1,
           1,
           1,
           1,
           1,
           1,
           1,
           1,
           1,
           1
          ],
          "sizemode": "area",
          "sizeref": 0.4275,
          "symbol": "circle"
         },
         "mode": "markers",
         "name": "False",
         "orientation": "v",
         "showlegend": true,
         "type": "scatter",
         "x": [
          11,
          11,
          8,
          9,
          9,
          6,
          6,
          5,
          7,
          5,
          6,
          6,
          5,
          6,
          8,
          6,
          6,
          10,
          8,
          6,
          5,
          5,
          7,
          4,
          8,
          5,
          7,
          4,
          8,
          5,
          5,
          4,
          5,
          3,
          7,
          4,
          4,
          4,
          4,
          4,
          3,
          5,
          4,
          3,
          4,
          4,
          4,
          3,
          4,
          3,
          3,
          5,
          4,
          4,
          4,
          3,
          3,
          3,
          2,
          2,
          3,
          2,
          3,
          3,
          3,
          3,
          3,
          3,
          3,
          4,
          2,
          4,
          2,
          2,
          2,
          2,
          2,
          2,
          2,
          2,
          4,
          3,
          2,
          2,
          4,
          2,
          2,
          2,
          3,
          4,
          4,
          2,
          2,
          3,
          3,
          2,
          3,
          2,
          3,
          3,
          2,
          3,
          2,
          3,
          2,
          2,
          2,
          2,
          3,
          3,
          4,
          2,
          2,
          1,
          1,
          1,
          1,
          2,
          1,
          1,
          1,
          1,
          1,
          1,
          2,
          1,
          1,
          2,
          1,
          2,
          1,
          1,
          1,
          1,
          1,
          1,
          1,
          1,
          2,
          1,
          2,
          1,
          2,
          2,
          1,
          2,
          1,
          1,
          1,
          1,
          1,
          1,
          1,
          1,
          1,
          1,
          1,
          1,
          1,
          2,
          1,
          2,
          1,
          2,
          1,
          1,
          1,
          2,
          1,
          1,
          2,
          2,
          1,
          1,
          1,
          1,
          1,
          1,
          1,
          2,
          1,
          1,
          1,
          1,
          1,
          1,
          1,
          1,
          1,
          1,
          1,
          2,
          1,
          1,
          1,
          2,
          1,
          1,
          1,
          1,
          1,
          1,
          1,
          2,
          1,
          1,
          2,
          1,
          1,
          1,
          1,
          2,
          1,
          2,
          1,
          1,
          1,
          1,
          1,
          1,
          1,
          2,
          1,
          1,
          1,
          1,
          1,
          1,
          2,
          1,
          2,
          1,
          2,
          2,
          1,
          1,
          1,
          1,
          1,
          1,
          1,
          2,
          2,
          1,
          1,
          1,
          1,
          1,
          1,
          1,
          2,
          1,
          1,
          1,
          1,
          1,
          1,
          1,
          2,
          1,
          1,
          1,
          1,
          1,
          1,
          1,
          1,
          1,
          1,
          1,
          1,
          1,
          1,
          1,
          1,
          1,
          2,
          1,
          1,
          1,
          1,
          1,
          1,
          1,
          1,
          1,
          2,
          1,
          1,
          1,
          2,
          1,
          1,
          1,
          1,
          1,
          2,
          1,
          1,
          1,
          1,
          1,
          2,
          1,
          2,
          1,
          1,
          1,
          1,
          1,
          1,
          1,
          1,
          1,
          1,
          1,
          1,
          1,
          1,
          1,
          1,
          1,
          1,
          1,
          1,
          1,
          1,
          1,
          1,
          1,
          1,
          1,
          1,
          1,
          1,
          1,
          1,
          1,
          1,
          1,
          1,
          1,
          1,
          1,
          1,
          1,
          1,
          1,
          1,
          1,
          1,
          1,
          1,
          1,
          1,
          1,
          1,
          1,
          1,
          1,
          1,
          1,
          1,
          1,
          1,
          1,
          1,
          1,
          1,
          1,
          1,
          1,
          1,
          1,
          1,
          1,
          1,
          1,
          1,
          1,
          1,
          1,
          1,
          1,
          1,
          1,
          1,
          1,
          1,
          1,
          1,
          1,
          1,
          1,
          1,
          1,
          1,
          1,
          1,
          1,
          1,
          1,
          1,
          1,
          1,
          1,
          1,
          1,
          1,
          1,
          1,
          1,
          1,
          1,
          1,
          1,
          1,
          1,
          1,
          1,
          1,
          1,
          1,
          1,
          1,
          1,
          1,
          1,
          1
         ],
         "xaxis": "x",
         "y": [
          5.181818181818182,
          5.2727272727272725,
          3.625,
          4.555555555555555,
          4.888888888888889,
          2.6666666666666665,
          3.8333333333333335,
          2.6,
          5,
          2.8,
          4.5,
          5,
          3.8,
          5,
          6.5,
          5.166666666666667,
          5.166666666666667,
          7.5,
          6.75,
          5.5,
          4.4,
          4.6,
          6.428571428571429,
          3,
          7.125,
          4.8,
          6.714285714285714,
          3.5,
          7.25,
          5,
          5.2,
          4,
          5.4,
          1.6666666666666667,
          7,
          4.25,
          4.25,
          4.5,
          4.5,
          4.5,
          2.6666666666666665,
          6,
          4.75,
          3,
          5.25,
          5.25,
          5.25,
          3.3333333333333335,
          5.25,
          3.3333333333333335,
          3.6666666666666665,
          6.8,
          5.75,
          6,
          6,
          4.333333333333333,
          4.666666666666667,
          4.666666666666667,
          1.5,
          1.5,
          5,
          2,
          5,
          5,
          5,
          5.333333333333333,
          5.333333333333333,
          5.666666666666667,
          5.666666666666667,
          7.25,
          3.5,
          7.25,
          3.5,
          3.5,
          3.5,
          3.5,
          3.5,
          3.5,
          3.5,
          3.5,
          7.5,
          6.333333333333333,
          4,
          4,
          7.5,
          4,
          4,
          4,
          6.333333333333333,
          7.5,
          7.5,
          4,
          4.5,
          6.666666666666667,
          6.666666666666667,
          4.5,
          6.666666666666667,
          4.5,
          6.666666666666667,
          6.666666666666667,
          5,
          7,
          5,
          7,
          5,
          5,
          5,
          5,
          7,
          7.333333333333333,
          8.25,
          5.5,
          5.5,
          1,
          1,
          1,
          1,
          6,
          1,
          1,
          1,
          1,
          1,
          1,
          6,
          1,
          1,
          6,
          1,
          6,
          1,
          1,
          1,
          1,
          1,
          1,
          1,
          1,
          6,
          1,
          6,
          1,
          6,
          6.5,
          2,
          6.5,
          2,
          2,
          2,
          2,
          2,
          2,
          2,
          2,
          2,
          2,
          2,
          2,
          2,
          6.5,
          2,
          6.5,
          2,
          6.5,
          2,
          2,
          2,
          6.5,
          2,
          2,
          6.5,
          6.5,
          2,
          2,
          3,
          3,
          3,
          3,
          3,
          7,
          3,
          3,
          3,
          3,
          3,
          3,
          3,
          3,
          3,
          3,
          3,
          7,
          3,
          3,
          3,
          7,
          3,
          3,
          3,
          3,
          3,
          3,
          3,
          7,
          3,
          4,
          7.5,
          4,
          4,
          4,
          4,
          7.5,
          4,
          7.5,
          4,
          4,
          4,
          4,
          4,
          4,
          4,
          7.5,
          4,
          4,
          4,
          4,
          4,
          4,
          7.5,
          4,
          7.5,
          4,
          7.5,
          7.5,
          4,
          4,
          4,
          5,
          5,
          5,
          5,
          8,
          8,
          5,
          5,
          5,
          5,
          5,
          5,
          5,
          8,
          5,
          5,
          5,
          5,
          5,
          5,
          5,
          8,
          5,
          5,
          5,
          5,
          5,
          6,
          6,
          6,
          6,
          6,
          6,
          6,
          6,
          6,
          6,
          6,
          6,
          8.5,
          6,
          6,
          6,
          6,
          6,
          6,
          6,
          6,
          6,
          8.5,
          6,
          6,
          6,
          9,
          7,
          7,
          7,
          7,
          7,
          9,
          7,
          7,
          7,
          7,
          7,
          9,
          7,
          9,
          7,
          7,
          7,
          7,
          7,
          7,
          7,
          7,
          7,
          7,
          7,
          7,
          7,
          7,
          8,
          8,
          8,
          8,
          8,
          8,
          8,
          8,
          8,
          8,
          8,
          8,
          8,
          8,
          8,
          8,
          8,
          8,
          8,
          8,
          8,
          8,
          8,
          8,
          8,
          8,
          8,
          8,
          8,
          8,
          8,
          8,
          8,
          8,
          8,
          8,
          9,
          9,
          9,
          9,
          9,
          9,
          9,
          9,
          9,
          9,
          9,
          9,
          9,
          9,
          9,
          9,
          9,
          9,
          9,
          9,
          9,
          9,
          9,
          9,
          9,
          9,
          9,
          9,
          9,
          9,
          9,
          9,
          9,
          9,
          9,
          9,
          9,
          9,
          10,
          10,
          10,
          10,
          10,
          10,
          10,
          10,
          10,
          10,
          10,
          10,
          10,
          10,
          10,
          10,
          10,
          10,
          10,
          10,
          10,
          10,
          10,
          10,
          10,
          10,
          10,
          10,
          10,
          10,
          10,
          10,
          10,
          10,
          10,
          10
         ],
         "yaxis": "y"
        },
        {
         "hoverinfo": "skip",
         "mode": "text",
         "name": "Zones",
         "showlegend": false,
         "text": [
          "Hidden Gems",
          "Barely Made It",
          "Certified Bangers",
          "Easy Listening"
         ],
         "textfont": {
          "color": "dark grey",
          "size": 13
         },
         "textposition": "bottom center",
         "type": "scatter",
         "x": [
          2,
          2,
          24,
          24
         ],
         "y": [
          0,
          10.5,
          0,
          10.5
         ]
        }
       ],
       "layout": {
        "annotations": [
         {
          "font": {
           "color": "lightgrey",
           "size": 9
          },
          "text": "An Evening With Silk Sonic",
          "x": 25,
          "y": 4.16
         },
         {
          "font": {
           "color": "lightgrey",
           "size": 9
          },
          "text": "Day/Night",
          "x": 9,
          "y": 3.888888888888889
         },
         {
          "font": {
           "color": "lightgrey",
           "size": 9
          },
          "text": "Planet Her",
          "x": 11,
          "y": 5.181818181818182
         },
         {
          "font": {
           "color": "lightgrey",
           "size": 9
          },
          "text": "Glow On",
          "x": 9,
          "y": 4.888888888888889
         }
        ],
        "legend": {
         "itemsizing": "constant",
         "title": {
          "text": "Top 10?"
         },
         "tracegroupgap": 0
        },
        "margin": {
         "t": 60
        },
        "shapes": [
         {
          "line": {
           "color": "dark grey",
           "dash": "dash",
           "width": 4
          },
          "type": "line",
          "x0": 12.5,
          "x1": 12.5,
          "y0": 0,
          "y1": 10.5
         },
         {
          "line": {
           "color": "dark grey",
           "dash": "dash",
           "width": 4
          },
          "type": "line",
          "x0": 1,
          "x1": 26,
          "y0": 5.5,
          "y1": 5.5
         }
        ],
        "template": {
         "data": {
          "bar": [
           {
            "error_x": {
             "color": "rgb(36,36,36)"
            },
            "error_y": {
             "color": "rgb(36,36,36)"
            },
            "marker": {
             "line": {
              "color": "white",
              "width": 0.5
             },
             "pattern": {
              "fillmode": "overlay",
              "size": 10,
              "solidity": 0.2
             }
            },
            "type": "bar"
           }
          ],
          "barpolar": [
           {
            "marker": {
             "line": {
              "color": "white",
              "width": 0.5
             },
             "pattern": {
              "fillmode": "overlay",
              "size": 10,
              "solidity": 0.2
             }
            },
            "type": "barpolar"
           }
          ],
          "carpet": [
           {
            "aaxis": {
             "endlinecolor": "rgb(36,36,36)",
             "gridcolor": "white",
             "linecolor": "white",
             "minorgridcolor": "white",
             "startlinecolor": "rgb(36,36,36)"
            },
            "baxis": {
             "endlinecolor": "rgb(36,36,36)",
             "gridcolor": "white",
             "linecolor": "white",
             "minorgridcolor": "white",
             "startlinecolor": "rgb(36,36,36)"
            },
            "type": "carpet"
           }
          ],
          "choropleth": [
           {
            "colorbar": {
             "outlinewidth": 1,
             "tickcolor": "rgb(36,36,36)",
             "ticks": "outside"
            },
            "type": "choropleth"
           }
          ],
          "contour": [
           {
            "colorbar": {
             "outlinewidth": 1,
             "tickcolor": "rgb(36,36,36)",
             "ticks": "outside"
            },
            "colorscale": [
             [
              0,
              "#440154"
             ],
             [
              0.1111111111111111,
              "#482878"
             ],
             [
              0.2222222222222222,
              "#3e4989"
             ],
             [
              0.3333333333333333,
              "#31688e"
             ],
             [
              0.4444444444444444,
              "#26828e"
             ],
             [
              0.5555555555555556,
              "#1f9e89"
             ],
             [
              0.6666666666666666,
              "#35b779"
             ],
             [
              0.7777777777777778,
              "#6ece58"
             ],
             [
              0.8888888888888888,
              "#b5de2b"
             ],
             [
              1,
              "#fde725"
             ]
            ],
            "type": "contour"
           }
          ],
          "contourcarpet": [
           {
            "colorbar": {
             "outlinewidth": 1,
             "tickcolor": "rgb(36,36,36)",
             "ticks": "outside"
            },
            "type": "contourcarpet"
           }
          ],
          "heatmap": [
           {
            "colorbar": {
             "outlinewidth": 1,
             "tickcolor": "rgb(36,36,36)",
             "ticks": "outside"
            },
            "colorscale": [
             [
              0,
              "#440154"
             ],
             [
              0.1111111111111111,
              "#482878"
             ],
             [
              0.2222222222222222,
              "#3e4989"
             ],
             [
              0.3333333333333333,
              "#31688e"
             ],
             [
              0.4444444444444444,
              "#26828e"
             ],
             [
              0.5555555555555556,
              "#1f9e89"
             ],
             [
              0.6666666666666666,
              "#35b779"
             ],
             [
              0.7777777777777778,
              "#6ece58"
             ],
             [
              0.8888888888888888,
              "#b5de2b"
             ],
             [
              1,
              "#fde725"
             ]
            ],
            "type": "heatmap"
           }
          ],
          "heatmapgl": [
           {
            "colorbar": {
             "outlinewidth": 1,
             "tickcolor": "rgb(36,36,36)",
             "ticks": "outside"
            },
            "colorscale": [
             [
              0,
              "#440154"
             ],
             [
              0.1111111111111111,
              "#482878"
             ],
             [
              0.2222222222222222,
              "#3e4989"
             ],
             [
              0.3333333333333333,
              "#31688e"
             ],
             [
              0.4444444444444444,
              "#26828e"
             ],
             [
              0.5555555555555556,
              "#1f9e89"
             ],
             [
              0.6666666666666666,
              "#35b779"
             ],
             [
              0.7777777777777778,
              "#6ece58"
             ],
             [
              0.8888888888888888,
              "#b5de2b"
             ],
             [
              1,
              "#fde725"
             ]
            ],
            "type": "heatmapgl"
           }
          ],
          "histogram": [
           {
            "marker": {
             "line": {
              "color": "white",
              "width": 0.6
             }
            },
            "type": "histogram"
           }
          ],
          "histogram2d": [
           {
            "colorbar": {
             "outlinewidth": 1,
             "tickcolor": "rgb(36,36,36)",
             "ticks": "outside"
            },
            "colorscale": [
             [
              0,
              "#440154"
             ],
             [
              0.1111111111111111,
              "#482878"
             ],
             [
              0.2222222222222222,
              "#3e4989"
             ],
             [
              0.3333333333333333,
              "#31688e"
             ],
             [
              0.4444444444444444,
              "#26828e"
             ],
             [
              0.5555555555555556,
              "#1f9e89"
             ],
             [
              0.6666666666666666,
              "#35b779"
             ],
             [
              0.7777777777777778,
              "#6ece58"
             ],
             [
              0.8888888888888888,
              "#b5de2b"
             ],
             [
              1,
              "#fde725"
             ]
            ],
            "type": "histogram2d"
           }
          ],
          "histogram2dcontour": [
           {
            "colorbar": {
             "outlinewidth": 1,
             "tickcolor": "rgb(36,36,36)",
             "ticks": "outside"
            },
            "colorscale": [
             [
              0,
              "#440154"
             ],
             [
              0.1111111111111111,
              "#482878"
             ],
             [
              0.2222222222222222,
              "#3e4989"
             ],
             [
              0.3333333333333333,
              "#31688e"
             ],
             [
              0.4444444444444444,
              "#26828e"
             ],
             [
              0.5555555555555556,
              "#1f9e89"
             ],
             [
              0.6666666666666666,
              "#35b779"
             ],
             [
              0.7777777777777778,
              "#6ece58"
             ],
             [
              0.8888888888888888,
              "#b5de2b"
             ],
             [
              1,
              "#fde725"
             ]
            ],
            "type": "histogram2dcontour"
           }
          ],
          "mesh3d": [
           {
            "colorbar": {
             "outlinewidth": 1,
             "tickcolor": "rgb(36,36,36)",
             "ticks": "outside"
            },
            "type": "mesh3d"
           }
          ],
          "parcoords": [
           {
            "line": {
             "colorbar": {
              "outlinewidth": 1,
              "tickcolor": "rgb(36,36,36)",
              "ticks": "outside"
             }
            },
            "type": "parcoords"
           }
          ],
          "pie": [
           {
            "automargin": true,
            "type": "pie"
           }
          ],
          "scatter": [
           {
            "marker": {
             "colorbar": {
              "outlinewidth": 1,
              "tickcolor": "rgb(36,36,36)",
              "ticks": "outside"
             }
            },
            "type": "scatter"
           }
          ],
          "scatter3d": [
           {
            "line": {
             "colorbar": {
              "outlinewidth": 1,
              "tickcolor": "rgb(36,36,36)",
              "ticks": "outside"
             }
            },
            "marker": {
             "colorbar": {
              "outlinewidth": 1,
              "tickcolor": "rgb(36,36,36)",
              "ticks": "outside"
             }
            },
            "type": "scatter3d"
           }
          ],
          "scattercarpet": [
           {
            "marker": {
             "colorbar": {
              "outlinewidth": 1,
              "tickcolor": "rgb(36,36,36)",
              "ticks": "outside"
             }
            },
            "type": "scattercarpet"
           }
          ],
          "scattergeo": [
           {
            "marker": {
             "colorbar": {
              "outlinewidth": 1,
              "tickcolor": "rgb(36,36,36)",
              "ticks": "outside"
             }
            },
            "type": "scattergeo"
           }
          ],
          "scattergl": [
           {
            "marker": {
             "colorbar": {
              "outlinewidth": 1,
              "tickcolor": "rgb(36,36,36)",
              "ticks": "outside"
             }
            },
            "type": "scattergl"
           }
          ],
          "scattermapbox": [
           {
            "marker": {
             "colorbar": {
              "outlinewidth": 1,
              "tickcolor": "rgb(36,36,36)",
              "ticks": "outside"
             }
            },
            "type": "scattermapbox"
           }
          ],
          "scatterpolar": [
           {
            "marker": {
             "colorbar": {
              "outlinewidth": 1,
              "tickcolor": "rgb(36,36,36)",
              "ticks": "outside"
             }
            },
            "type": "scatterpolar"
           }
          ],
          "scatterpolargl": [
           {
            "marker": {
             "colorbar": {
              "outlinewidth": 1,
              "tickcolor": "rgb(36,36,36)",
              "ticks": "outside"
             }
            },
            "type": "scatterpolargl"
           }
          ],
          "scatterternary": [
           {
            "marker": {
             "colorbar": {
              "outlinewidth": 1,
              "tickcolor": "rgb(36,36,36)",
              "ticks": "outside"
             }
            },
            "type": "scatterternary"
           }
          ],
          "surface": [
           {
            "colorbar": {
             "outlinewidth": 1,
             "tickcolor": "rgb(36,36,36)",
             "ticks": "outside"
            },
            "colorscale": [
             [
              0,
              "#440154"
             ],
             [
              0.1111111111111111,
              "#482878"
             ],
             [
              0.2222222222222222,
              "#3e4989"
             ],
             [
              0.3333333333333333,
              "#31688e"
             ],
             [
              0.4444444444444444,
              "#26828e"
             ],
             [
              0.5555555555555556,
              "#1f9e89"
             ],
             [
              0.6666666666666666,
              "#35b779"
             ],
             [
              0.7777777777777778,
              "#6ece58"
             ],
             [
              0.8888888888888888,
              "#b5de2b"
             ],
             [
              1,
              "#fde725"
             ]
            ],
            "type": "surface"
           }
          ],
          "table": [
           {
            "cells": {
             "fill": {
              "color": "rgb(237,237,237)"
             },
             "line": {
              "color": "white"
             }
            },
            "header": {
             "fill": {
              "color": "rgb(217,217,217)"
             },
             "line": {
              "color": "white"
             }
            },
            "type": "table"
           }
          ]
         },
         "layout": {
          "annotationdefaults": {
           "arrowhead": 0,
           "arrowwidth": 1
          },
          "autotypenumbers": "strict",
          "coloraxis": {
           "colorbar": {
            "outlinewidth": 1,
            "tickcolor": "rgb(36,36,36)",
            "ticks": "outside"
           }
          },
          "colorscale": {
           "diverging": [
            [
             0,
             "rgb(103,0,31)"
            ],
            [
             0.1,
             "rgb(178,24,43)"
            ],
            [
             0.2,
             "rgb(214,96,77)"
            ],
            [
             0.3,
             "rgb(244,165,130)"
            ],
            [
             0.4,
             "rgb(253,219,199)"
            ],
            [
             0.5,
             "rgb(247,247,247)"
            ],
            [
             0.6,
             "rgb(209,229,240)"
            ],
            [
             0.7,
             "rgb(146,197,222)"
            ],
            [
             0.8,
             "rgb(67,147,195)"
            ],
            [
             0.9,
             "rgb(33,102,172)"
            ],
            [
             1,
             "rgb(5,48,97)"
            ]
           ],
           "sequential": [
            [
             0,
             "#440154"
            ],
            [
             0.1111111111111111,
             "#482878"
            ],
            [
             0.2222222222222222,
             "#3e4989"
            ],
            [
             0.3333333333333333,
             "#31688e"
            ],
            [
             0.4444444444444444,
             "#26828e"
            ],
            [
             0.5555555555555556,
             "#1f9e89"
            ],
            [
             0.6666666666666666,
             "#35b779"
            ],
            [
             0.7777777777777778,
             "#6ece58"
            ],
            [
             0.8888888888888888,
             "#b5de2b"
            ],
            [
             1,
             "#fde725"
            ]
           ],
           "sequentialminus": [
            [
             0,
             "#440154"
            ],
            [
             0.1111111111111111,
             "#482878"
            ],
            [
             0.2222222222222222,
             "#3e4989"
            ],
            [
             0.3333333333333333,
             "#31688e"
            ],
            [
             0.4444444444444444,
             "#26828e"
            ],
            [
             0.5555555555555556,
             "#1f9e89"
            ],
            [
             0.6666666666666666,
             "#35b779"
            ],
            [
             0.7777777777777778,
             "#6ece58"
            ],
            [
             0.8888888888888888,
             "#b5de2b"
            ],
            [
             1,
             "#fde725"
            ]
           ]
          },
          "colorway": [
           "#1F77B4",
           "#FF7F0E",
           "#2CA02C",
           "#D62728",
           "#9467BD",
           "#8C564B",
           "#E377C2",
           "#7F7F7F",
           "#BCBD22",
           "#17BECF"
          ],
          "font": {
           "color": "rgb(36,36,36)"
          },
          "geo": {
           "bgcolor": "white",
           "lakecolor": "white",
           "landcolor": "white",
           "showlakes": true,
           "showland": true,
           "subunitcolor": "white"
          },
          "hoverlabel": {
           "align": "left"
          },
          "hovermode": "closest",
          "mapbox": {
           "style": "light"
          },
          "paper_bgcolor": "white",
          "plot_bgcolor": "white",
          "polar": {
           "angularaxis": {
            "gridcolor": "rgb(232,232,232)",
            "linecolor": "rgb(36,36,36)",
            "showgrid": false,
            "showline": true,
            "ticks": "outside"
           },
           "bgcolor": "white",
           "radialaxis": {
            "gridcolor": "rgb(232,232,232)",
            "linecolor": "rgb(36,36,36)",
            "showgrid": false,
            "showline": true,
            "ticks": "outside"
           }
          },
          "scene": {
           "xaxis": {
            "backgroundcolor": "white",
            "gridcolor": "rgb(232,232,232)",
            "gridwidth": 2,
            "linecolor": "rgb(36,36,36)",
            "showbackground": true,
            "showgrid": false,
            "showline": true,
            "ticks": "outside",
            "zeroline": false,
            "zerolinecolor": "rgb(36,36,36)"
           },
           "yaxis": {
            "backgroundcolor": "white",
            "gridcolor": "rgb(232,232,232)",
            "gridwidth": 2,
            "linecolor": "rgb(36,36,36)",
            "showbackground": true,
            "showgrid": false,
            "showline": true,
            "ticks": "outside",
            "zeroline": false,
            "zerolinecolor": "rgb(36,36,36)"
           },
           "zaxis": {
            "backgroundcolor": "white",
            "gridcolor": "rgb(232,232,232)",
            "gridwidth": 2,
            "linecolor": "rgb(36,36,36)",
            "showbackground": true,
            "showgrid": false,
            "showline": true,
            "ticks": "outside",
            "zeroline": false,
            "zerolinecolor": "rgb(36,36,36)"
           }
          },
          "shapedefaults": {
           "fillcolor": "black",
           "line": {
            "width": 0
           },
           "opacity": 0.3
          },
          "ternary": {
           "aaxis": {
            "gridcolor": "rgb(232,232,232)",
            "linecolor": "rgb(36,36,36)",
            "showgrid": false,
            "showline": true,
            "ticks": "outside"
           },
           "baxis": {
            "gridcolor": "rgb(232,232,232)",
            "linecolor": "rgb(36,36,36)",
            "showgrid": false,
            "showline": true,
            "ticks": "outside"
           },
           "bgcolor": "white",
           "caxis": {
            "gridcolor": "rgb(232,232,232)",
            "linecolor": "rgb(36,36,36)",
            "showgrid": false,
            "showline": true,
            "ticks": "outside"
           }
          },
          "title": {
           "x": 0.05
          },
          "xaxis": {
           "automargin": true,
           "gridcolor": "rgb(232,232,232)",
           "linecolor": "rgb(36,36,36)",
           "showgrid": false,
           "showline": true,
           "ticks": "outside",
           "title": {
            "standoff": 15
           },
           "zeroline": false,
           "zerolinecolor": "rgb(36,36,36)"
          },
          "yaxis": {
           "automargin": true,
           "gridcolor": "rgb(232,232,232)",
           "linecolor": "rgb(36,36,36)",
           "showgrid": false,
           "showline": true,
           "ticks": "outside",
           "title": {
            "standoff": 15
           },
           "zeroline": false,
           "zerolinecolor": "rgb(36,36,36)"
          }
         }
        },
        "xaxis": {
         "anchor": "y",
         "domain": [
          0,
          1
         ],
         "title": {
          "text": "Album Submission Count"
         }
        },
        "yaxis": {
         "anchor": "x",
         "autorange": "reversed",
         "domain": [
          0,
          1
         ],
         "title": {
          "text": "Average Album Rank"
         }
        }
       }
      }
     },
     "metadata": {},
     "output_type": "display_data"
    }
   ],
   "source": [
    "max_submissions = AOTY_by_album[\"album_submission_count\"].max()\n",
    "\n",
    "figure = px.scatter(\n",
    "    AOTY_by_album,\n",
    "    x=\"album_submission_count\",\n",
    "    y=\"album_average_rank\",\n",
    "    color = TOP_COL_LOOKUP[COLUMN],\n",
    "    size = \"album_score\",\n",
    "    template=\"simple_white\",\n",
    "    labels={\n",
    "        \"album_average_rank\": \"Average Album Rank\",\n",
    "        \"album_submission_count\": \"Album Submission Count\",\n",
    "        TOP_COL_LOOKUP[COLUMN] : \"Top 10?\"\n",
    "    },\n",
    "    custom_data=[\"Artist\", \"Album\", \"album_score\"],\n",
    "    opacity = 0.4,\n",
    "    color_discrete_sequence=[APP_COLORS[\"accent\"], APP_COLORS[\"standard\"]]\n",
    ")\n",
    "figure.update_traces(\n",
    "    hovertemplate=\"<br>\".join(\n",
    "        [\n",
    "            \"<b>%{customdata[0]}</b> - <i>%{customdata[1]}</i>\",\n",
    "            \"\",\n",
    "            \"Average Album Rank: %{y:.2f}\",\n",
    "            \"Album Submission Count : %{x}\",\n",
    "            \"Album Score: %{customdata[2]}\",\n",
    "            \"<extra></extra>\",\n",
    "        ]\n",
    "    ),\n",
    "    # marker = {\"size\" : 12},\n",
    "    selector=dict(mode=\"markers\"),\n",
    ")\n",
    "\n",
    "figure.add_shape(\n",
    "    type=\"line\",\n",
    "    x0=max_submissions/2, y0=0, x1=max_submissions/2, y1=10.5,\n",
    "    line=dict(\n",
    "        color=APP_COLORS[\"dark\"],\n",
    "        width=4,\n",
    "        dash=\"dash\",\n",
    "    )\n",
    ")\n",
    "figure.add_shape(\n",
    "    type=\"line\",\n",
    "    x0=1, y0=5.5, x1=max_submissions+1, y1=5.5,\n",
    "    line=dict(\n",
    "        color=APP_COLORS[\"dark\"],\n",
    "        width=4,\n",
    "        dash=\"dash\",\n",
    "    )\n",
    ")\n",
    "\n",
    "figure.add_trace(go.Scatter(\n",
    "    x=[2, 2, max_submissions-1, max_submissions-1],\n",
    "    y=[0, 10.5, 0, 10.5],\n",
    "    mode=\"text\",\n",
    "    name=\"Zones\",\n",
    "    text=[\"Hidden Gems\", \"Barely Made It\", \"Certified Bangers\", \"Easy Listening\"],\n",
    "    textposition=\"bottom center\",\n",
    "    textfont = {\n",
    "        \"color\" : APP_COLORS[\"dark\"],\n",
    "        \"size\" : 13\n",
    "    },\n",
    "    showlegend = False,\n",
    "    hoverinfo = \"skip\",\n",
    "))\n",
    "\n",
    "for row in range(len(albums_of_note)):\n",
    "    album = albums_of_note.iloc[row,:]\n",
    "    figure.add_annotation(\n",
    "        x = int(album[\"album_submission_count\"]),\n",
    "        y = float(album[\"album_average_rank\"]),\n",
    "        text = album[\"Album\"],\n",
    "        font = {\n",
    "        \"color\" : APP_COLORS[\"dim\"],\n",
    "        \"size\" : 9\n",
    "    },\n",
    "\n",
    "    )\n",
    "\n",
    "figure[\"layout\"][\"yaxis\"][\"autorange\"] = \"reversed\"\n",
    "\n",
    "figure.show()\n"
   ]
  },
  {
   "cell_type": "markdown",
   "metadata": {},
   "source": [
    "#### Album Lookups (individual Page)\n",
    "\n",
    "* Album Voting Spread Stripplot\n",
    "* Album Score Bargraph with adjacent scores\n",
    "* User Album score/avg/count vs full data, top 10, and top 1"
   ]
  },
  {
   "cell_type": "code",
   "execution_count": 75,
   "metadata": {},
   "outputs": [
    {
     "data": {
      "application/vnd.plotly.v1+json": {
       "config": {
        "plotlyServerURL": "https://plot.ly"
       },
       "data": [
        {
         "alignmentgroup": "True",
         "boxpoints": "all",
         "customdata": [
          [
           "Turnstile"
          ],
          [
           "Turnstile"
          ],
          [
           "Turnstile"
          ],
          [
           "Turnstile"
          ],
          [
           "Turnstile"
          ],
          [
           "Turnstile"
          ],
          [
           "Turnstile"
          ],
          [
           "Turnstile"
          ],
          [
           "Turnstile"
          ]
         ],
         "fillcolor": "rgba(255,255,255,0)",
         "hoveron": "points",
         "hovertemplate": "<b>%{customdata}</b> - <i>%{x}</i><br><br><b>Total Submissions: 9<br><extra></extra>",
         "legendgroup": "",
         "line": {
          "color": "rgba(255,255,255,0)"
         },
         "marker": {
          "color": "navy"
         },
         "name": "",
         "offsetgroup": "",
         "orientation": "v",
         "pointpos": 0,
         "showlegend": false,
         "type": "box",
         "x": [
          "Glow On",
          "Glow On",
          "Glow On",
          "Glow On",
          "Glow On",
          "Glow On",
          "Glow On",
          "Glow On",
          "Glow On"
         ],
         "x0": " ",
         "xaxis": "x",
         "y": [
          1,
          4,
          3,
          8,
          3,
          10,
          1,
          7,
          7
         ],
         "y0": " ",
         "yaxis": "y"
        },
        {
         "hoverinfo": "y",
         "mode": "text",
         "showlegend": false,
         "text": "Average Rank",
         "textfont": {
          "color": "lightgrey",
          "size": 8
         },
         "textposition": "bottom right",
         "type": "scatter",
         "x": [
          "Glow On"
         ],
         "y": [
          4.888888888888889
         ]
        }
       ],
       "layout": {
        "boxmode": "group",
        "hovermode": "y",
        "legend": {
         "tracegroupgap": 0
        },
        "margin": {
         "t": 60
        },
        "shapes": [
         {
          "line": {
           "color": "dark grey",
           "dash": "dash",
           "width": 2
          },
          "name": "Average Rank",
          "type": "line",
          "x0": -0.4,
          "x1": 0.4,
          "y0": 4.888888888888889,
          "y1": 4.888888888888889
         }
        ],
        "template": {
         "data": {
          "bar": [
           {
            "error_x": {
             "color": "rgb(36,36,36)"
            },
            "error_y": {
             "color": "rgb(36,36,36)"
            },
            "marker": {
             "line": {
              "color": "white",
              "width": 0.5
             },
             "pattern": {
              "fillmode": "overlay",
              "size": 10,
              "solidity": 0.2
             }
            },
            "type": "bar"
           }
          ],
          "barpolar": [
           {
            "marker": {
             "line": {
              "color": "white",
              "width": 0.5
             },
             "pattern": {
              "fillmode": "overlay",
              "size": 10,
              "solidity": 0.2
             }
            },
            "type": "barpolar"
           }
          ],
          "carpet": [
           {
            "aaxis": {
             "endlinecolor": "rgb(36,36,36)",
             "gridcolor": "white",
             "linecolor": "white",
             "minorgridcolor": "white",
             "startlinecolor": "rgb(36,36,36)"
            },
            "baxis": {
             "endlinecolor": "rgb(36,36,36)",
             "gridcolor": "white",
             "linecolor": "white",
             "minorgridcolor": "white",
             "startlinecolor": "rgb(36,36,36)"
            },
            "type": "carpet"
           }
          ],
          "choropleth": [
           {
            "colorbar": {
             "outlinewidth": 1,
             "tickcolor": "rgb(36,36,36)",
             "ticks": "outside"
            },
            "type": "choropleth"
           }
          ],
          "contour": [
           {
            "colorbar": {
             "outlinewidth": 1,
             "tickcolor": "rgb(36,36,36)",
             "ticks": "outside"
            },
            "colorscale": [
             [
              0,
              "#440154"
             ],
             [
              0.1111111111111111,
              "#482878"
             ],
             [
              0.2222222222222222,
              "#3e4989"
             ],
             [
              0.3333333333333333,
              "#31688e"
             ],
             [
              0.4444444444444444,
              "#26828e"
             ],
             [
              0.5555555555555556,
              "#1f9e89"
             ],
             [
              0.6666666666666666,
              "#35b779"
             ],
             [
              0.7777777777777778,
              "#6ece58"
             ],
             [
              0.8888888888888888,
              "#b5de2b"
             ],
             [
              1,
              "#fde725"
             ]
            ],
            "type": "contour"
           }
          ],
          "contourcarpet": [
           {
            "colorbar": {
             "outlinewidth": 1,
             "tickcolor": "rgb(36,36,36)",
             "ticks": "outside"
            },
            "type": "contourcarpet"
           }
          ],
          "heatmap": [
           {
            "colorbar": {
             "outlinewidth": 1,
             "tickcolor": "rgb(36,36,36)",
             "ticks": "outside"
            },
            "colorscale": [
             [
              0,
              "#440154"
             ],
             [
              0.1111111111111111,
              "#482878"
             ],
             [
              0.2222222222222222,
              "#3e4989"
             ],
             [
              0.3333333333333333,
              "#31688e"
             ],
             [
              0.4444444444444444,
              "#26828e"
             ],
             [
              0.5555555555555556,
              "#1f9e89"
             ],
             [
              0.6666666666666666,
              "#35b779"
             ],
             [
              0.7777777777777778,
              "#6ece58"
             ],
             [
              0.8888888888888888,
              "#b5de2b"
             ],
             [
              1,
              "#fde725"
             ]
            ],
            "type": "heatmap"
           }
          ],
          "heatmapgl": [
           {
            "colorbar": {
             "outlinewidth": 1,
             "tickcolor": "rgb(36,36,36)",
             "ticks": "outside"
            },
            "colorscale": [
             [
              0,
              "#440154"
             ],
             [
              0.1111111111111111,
              "#482878"
             ],
             [
              0.2222222222222222,
              "#3e4989"
             ],
             [
              0.3333333333333333,
              "#31688e"
             ],
             [
              0.4444444444444444,
              "#26828e"
             ],
             [
              0.5555555555555556,
              "#1f9e89"
             ],
             [
              0.6666666666666666,
              "#35b779"
             ],
             [
              0.7777777777777778,
              "#6ece58"
             ],
             [
              0.8888888888888888,
              "#b5de2b"
             ],
             [
              1,
              "#fde725"
             ]
            ],
            "type": "heatmapgl"
           }
          ],
          "histogram": [
           {
            "marker": {
             "line": {
              "color": "white",
              "width": 0.6
             }
            },
            "type": "histogram"
           }
          ],
          "histogram2d": [
           {
            "colorbar": {
             "outlinewidth": 1,
             "tickcolor": "rgb(36,36,36)",
             "ticks": "outside"
            },
            "colorscale": [
             [
              0,
              "#440154"
             ],
             [
              0.1111111111111111,
              "#482878"
             ],
             [
              0.2222222222222222,
              "#3e4989"
             ],
             [
              0.3333333333333333,
              "#31688e"
             ],
             [
              0.4444444444444444,
              "#26828e"
             ],
             [
              0.5555555555555556,
              "#1f9e89"
             ],
             [
              0.6666666666666666,
              "#35b779"
             ],
             [
              0.7777777777777778,
              "#6ece58"
             ],
             [
              0.8888888888888888,
              "#b5de2b"
             ],
             [
              1,
              "#fde725"
             ]
            ],
            "type": "histogram2d"
           }
          ],
          "histogram2dcontour": [
           {
            "colorbar": {
             "outlinewidth": 1,
             "tickcolor": "rgb(36,36,36)",
             "ticks": "outside"
            },
            "colorscale": [
             [
              0,
              "#440154"
             ],
             [
              0.1111111111111111,
              "#482878"
             ],
             [
              0.2222222222222222,
              "#3e4989"
             ],
             [
              0.3333333333333333,
              "#31688e"
             ],
             [
              0.4444444444444444,
              "#26828e"
             ],
             [
              0.5555555555555556,
              "#1f9e89"
             ],
             [
              0.6666666666666666,
              "#35b779"
             ],
             [
              0.7777777777777778,
              "#6ece58"
             ],
             [
              0.8888888888888888,
              "#b5de2b"
             ],
             [
              1,
              "#fde725"
             ]
            ],
            "type": "histogram2dcontour"
           }
          ],
          "mesh3d": [
           {
            "colorbar": {
             "outlinewidth": 1,
             "tickcolor": "rgb(36,36,36)",
             "ticks": "outside"
            },
            "type": "mesh3d"
           }
          ],
          "parcoords": [
           {
            "line": {
             "colorbar": {
              "outlinewidth": 1,
              "tickcolor": "rgb(36,36,36)",
              "ticks": "outside"
             }
            },
            "type": "parcoords"
           }
          ],
          "pie": [
           {
            "automargin": true,
            "type": "pie"
           }
          ],
          "scatter": [
           {
            "marker": {
             "colorbar": {
              "outlinewidth": 1,
              "tickcolor": "rgb(36,36,36)",
              "ticks": "outside"
             }
            },
            "type": "scatter"
           }
          ],
          "scatter3d": [
           {
            "line": {
             "colorbar": {
              "outlinewidth": 1,
              "tickcolor": "rgb(36,36,36)",
              "ticks": "outside"
             }
            },
            "marker": {
             "colorbar": {
              "outlinewidth": 1,
              "tickcolor": "rgb(36,36,36)",
              "ticks": "outside"
             }
            },
            "type": "scatter3d"
           }
          ],
          "scattercarpet": [
           {
            "marker": {
             "colorbar": {
              "outlinewidth": 1,
              "tickcolor": "rgb(36,36,36)",
              "ticks": "outside"
             }
            },
            "type": "scattercarpet"
           }
          ],
          "scattergeo": [
           {
            "marker": {
             "colorbar": {
              "outlinewidth": 1,
              "tickcolor": "rgb(36,36,36)",
              "ticks": "outside"
             }
            },
            "type": "scattergeo"
           }
          ],
          "scattergl": [
           {
            "marker": {
             "colorbar": {
              "outlinewidth": 1,
              "tickcolor": "rgb(36,36,36)",
              "ticks": "outside"
             }
            },
            "type": "scattergl"
           }
          ],
          "scattermapbox": [
           {
            "marker": {
             "colorbar": {
              "outlinewidth": 1,
              "tickcolor": "rgb(36,36,36)",
              "ticks": "outside"
             }
            },
            "type": "scattermapbox"
           }
          ],
          "scatterpolar": [
           {
            "marker": {
             "colorbar": {
              "outlinewidth": 1,
              "tickcolor": "rgb(36,36,36)",
              "ticks": "outside"
             }
            },
            "type": "scatterpolar"
           }
          ],
          "scatterpolargl": [
           {
            "marker": {
             "colorbar": {
              "outlinewidth": 1,
              "tickcolor": "rgb(36,36,36)",
              "ticks": "outside"
             }
            },
            "type": "scatterpolargl"
           }
          ],
          "scatterternary": [
           {
            "marker": {
             "colorbar": {
              "outlinewidth": 1,
              "tickcolor": "rgb(36,36,36)",
              "ticks": "outside"
             }
            },
            "type": "scatterternary"
           }
          ],
          "surface": [
           {
            "colorbar": {
             "outlinewidth": 1,
             "tickcolor": "rgb(36,36,36)",
             "ticks": "outside"
            },
            "colorscale": [
             [
              0,
              "#440154"
             ],
             [
              0.1111111111111111,
              "#482878"
             ],
             [
              0.2222222222222222,
              "#3e4989"
             ],
             [
              0.3333333333333333,
              "#31688e"
             ],
             [
              0.4444444444444444,
              "#26828e"
             ],
             [
              0.5555555555555556,
              "#1f9e89"
             ],
             [
              0.6666666666666666,
              "#35b779"
             ],
             [
              0.7777777777777778,
              "#6ece58"
             ],
             [
              0.8888888888888888,
              "#b5de2b"
             ],
             [
              1,
              "#fde725"
             ]
            ],
            "type": "surface"
           }
          ],
          "table": [
           {
            "cells": {
             "fill": {
              "color": "rgb(237,237,237)"
             },
             "line": {
              "color": "white"
             }
            },
            "header": {
             "fill": {
              "color": "rgb(217,217,217)"
             },
             "line": {
              "color": "white"
             }
            },
            "type": "table"
           }
          ]
         },
         "layout": {
          "annotationdefaults": {
           "arrowhead": 0,
           "arrowwidth": 1
          },
          "autotypenumbers": "strict",
          "coloraxis": {
           "colorbar": {
            "outlinewidth": 1,
            "tickcolor": "rgb(36,36,36)",
            "ticks": "outside"
           }
          },
          "colorscale": {
           "diverging": [
            [
             0,
             "rgb(103,0,31)"
            ],
            [
             0.1,
             "rgb(178,24,43)"
            ],
            [
             0.2,
             "rgb(214,96,77)"
            ],
            [
             0.3,
             "rgb(244,165,130)"
            ],
            [
             0.4,
             "rgb(253,219,199)"
            ],
            [
             0.5,
             "rgb(247,247,247)"
            ],
            [
             0.6,
             "rgb(209,229,240)"
            ],
            [
             0.7,
             "rgb(146,197,222)"
            ],
            [
             0.8,
             "rgb(67,147,195)"
            ],
            [
             0.9,
             "rgb(33,102,172)"
            ],
            [
             1,
             "rgb(5,48,97)"
            ]
           ],
           "sequential": [
            [
             0,
             "#440154"
            ],
            [
             0.1111111111111111,
             "#482878"
            ],
            [
             0.2222222222222222,
             "#3e4989"
            ],
            [
             0.3333333333333333,
             "#31688e"
            ],
            [
             0.4444444444444444,
             "#26828e"
            ],
            [
             0.5555555555555556,
             "#1f9e89"
            ],
            [
             0.6666666666666666,
             "#35b779"
            ],
            [
             0.7777777777777778,
             "#6ece58"
            ],
            [
             0.8888888888888888,
             "#b5de2b"
            ],
            [
             1,
             "#fde725"
            ]
           ],
           "sequentialminus": [
            [
             0,
             "#440154"
            ],
            [
             0.1111111111111111,
             "#482878"
            ],
            [
             0.2222222222222222,
             "#3e4989"
            ],
            [
             0.3333333333333333,
             "#31688e"
            ],
            [
             0.4444444444444444,
             "#26828e"
            ],
            [
             0.5555555555555556,
             "#1f9e89"
            ],
            [
             0.6666666666666666,
             "#35b779"
            ],
            [
             0.7777777777777778,
             "#6ece58"
            ],
            [
             0.8888888888888888,
             "#b5de2b"
            ],
            [
             1,
             "#fde725"
            ]
           ]
          },
          "colorway": [
           "#1F77B4",
           "#FF7F0E",
           "#2CA02C",
           "#D62728",
           "#9467BD",
           "#8C564B",
           "#E377C2",
           "#7F7F7F",
           "#BCBD22",
           "#17BECF"
          ],
          "font": {
           "color": "rgb(36,36,36)"
          },
          "geo": {
           "bgcolor": "white",
           "lakecolor": "white",
           "landcolor": "white",
           "showlakes": true,
           "showland": true,
           "subunitcolor": "white"
          },
          "hoverlabel": {
           "align": "left"
          },
          "hovermode": "closest",
          "mapbox": {
           "style": "light"
          },
          "paper_bgcolor": "white",
          "plot_bgcolor": "white",
          "polar": {
           "angularaxis": {
            "gridcolor": "rgb(232,232,232)",
            "linecolor": "rgb(36,36,36)",
            "showgrid": false,
            "showline": true,
            "ticks": "outside"
           },
           "bgcolor": "white",
           "radialaxis": {
            "gridcolor": "rgb(232,232,232)",
            "linecolor": "rgb(36,36,36)",
            "showgrid": false,
            "showline": true,
            "ticks": "outside"
           }
          },
          "scene": {
           "xaxis": {
            "backgroundcolor": "white",
            "gridcolor": "rgb(232,232,232)",
            "gridwidth": 2,
            "linecolor": "rgb(36,36,36)",
            "showbackground": true,
            "showgrid": false,
            "showline": true,
            "ticks": "outside",
            "zeroline": false,
            "zerolinecolor": "rgb(36,36,36)"
           },
           "yaxis": {
            "backgroundcolor": "white",
            "gridcolor": "rgb(232,232,232)",
            "gridwidth": 2,
            "linecolor": "rgb(36,36,36)",
            "showbackground": true,
            "showgrid": false,
            "showline": true,
            "ticks": "outside",
            "zeroline": false,
            "zerolinecolor": "rgb(36,36,36)"
           },
           "zaxis": {
            "backgroundcolor": "white",
            "gridcolor": "rgb(232,232,232)",
            "gridwidth": 2,
            "linecolor": "rgb(36,36,36)",
            "showbackground": true,
            "showgrid": false,
            "showline": true,
            "ticks": "outside",
            "zeroline": false,
            "zerolinecolor": "rgb(36,36,36)"
           }
          },
          "shapedefaults": {
           "fillcolor": "black",
           "line": {
            "width": 0
           },
           "opacity": 0.3
          },
          "ternary": {
           "aaxis": {
            "gridcolor": "rgb(232,232,232)",
            "linecolor": "rgb(36,36,36)",
            "showgrid": false,
            "showline": true,
            "ticks": "outside"
           },
           "baxis": {
            "gridcolor": "rgb(232,232,232)",
            "linecolor": "rgb(36,36,36)",
            "showgrid": false,
            "showline": true,
            "ticks": "outside"
           },
           "bgcolor": "white",
           "caxis": {
            "gridcolor": "rgb(232,232,232)",
            "linecolor": "rgb(36,36,36)",
            "showgrid": false,
            "showline": true,
            "ticks": "outside"
           }
          },
          "title": {
           "x": 0.05
          },
          "xaxis": {
           "automargin": true,
           "gridcolor": "rgb(232,232,232)",
           "linecolor": "rgb(36,36,36)",
           "showgrid": false,
           "showline": true,
           "ticks": "outside",
           "title": {
            "standoff": 15
           },
           "zeroline": false,
           "zerolinecolor": "rgb(36,36,36)"
          },
          "yaxis": {
           "automargin": true,
           "gridcolor": "rgb(232,232,232)",
           "linecolor": "rgb(36,36,36)",
           "showgrid": false,
           "showline": true,
           "ticks": "outside",
           "title": {
            "standoff": 15
           },
           "zeroline": false,
           "zerolinecolor": "rgb(36,36,36)"
          }
         }
        },
        "width": 300,
        "xaxis": {
         "anchor": "y",
         "domain": [
          0,
          1
         ],
         "showticklabels": false,
         "title": {
          "text": "Album"
         },
         "visible": false
        },
        "yaxis": {
         "anchor": "x",
         "autorange": "reversed",
         "domain": [
          0,
          1
         ],
         "title": {
          "text": "Rank on Voters Top 10 Lists"
         }
        }
       }
      }
     },
     "metadata": {},
     "output_type": "display_data"
    }
   ],
   "source": [
    "album_votes = AOTY.loc[AOTY[\"Album\"] == USER_ALBUM]\n",
    "\n",
    "avg_album_rank = album_votes[\"Rank\"].mean()\n",
    "\n",
    "figure = px.strip(\n",
    "    data_frame=album_votes,\n",
    "    x=\"Album\",\n",
    "    y=\"Rank\",\n",
    "    custom_data=[\"Artist\"],\n",
    "    labels={\"Rank\": \"Rank on Voters Top 10 Lists\", \"Artist\": \"\"},\n",
    "    template=\"simple_white\",\n",
    "    width=300,\n",
    "    color_discrete_sequence=[APP_COLORS[\"standard\"]],\n",
    ")\n",
    "\n",
    "figure.update_traces(\n",
    "    hovertemplate=\"<br>\".join(\n",
    "        [\n",
    "            \"<b>%{customdata}</b> - <i>%{x}</i>\",\n",
    "            \"\",\n",
    "            f\"<b>Total Submissions: {len(album_votes)}\",\n",
    "            \"<extra></extra>\",\n",
    "        ]\n",
    "    ),\n",
    ")\n",
    "\n",
    "# add average album rank\n",
    "figure.add_shape(\n",
    "    type=\"line\",\n",
    "    x0=-0.4,\n",
    "    y0=avg_album_rank,\n",
    "    x1=0.4,\n",
    "    y1=avg_album_rank,\n",
    "    name=\"Average Rank\",\n",
    "    line=dict(\n",
    "        color=APP_COLORS[\"dark\"],\n",
    "        width=2,\n",
    "        dash=\"dash\",\n",
    "    ),\n",
    ")\n",
    "figure.add_scatter(\n",
    "    x = [USER_ALBUM],\n",
    "    y = [avg_album_rank],\n",
    "    text = \"Average Rank\",\n",
    "    textposition=\"bottom right\",\n",
    "    textfont = {\n",
    "        \"color\" : APP_COLORS[\"dim\"],\n",
    "        \"size\" : 8\n",
    "    },\n",
    "    showlegend = False,\n",
    "    hoverinfo = \"y\",\n",
    "    mode=\"text\")\n",
    "\n",
    "\n",
    "\n",
    "figure.update_layout(hovermode=\"y\", xaxis={\"visible\": False, \"showticklabels\": False})\n",
    "\n",
    "\n",
    "figure[\"layout\"][\"yaxis\"][\"autorange\"] = \"reversed\"\n",
    "\n",
    "figure\n"
   ]
  },
  {
   "cell_type": "code",
   "execution_count": 19,
   "metadata": {},
   "outputs": [],
   "source": [
    "# TODO: Write tests for get_competing_albums and put into datafunc\n",
    "# from data.datafunc import get_competing_albums\n",
    "def get_competing_albums(df: pd.DataFrame, USER_ALBUM : str) -> pd.DataFrame:\n",
    "    \"\"\"\n",
    "    Returns a smaller subset of the nearby ranked albums\n",
    "    based on the rank of the user album passed in, with\n",
    "    an additional column to note which album is selected.\n",
    "\n",
    "    Parameters\n",
    "    ----------\n",
    "    df : pd.DataFrame\n",
    "        The AOTY by album df in a meaningful order.\n",
    "    USER_ALBUM : str\n",
    "        Title of album to lookup\n",
    "\n",
    "    Returns\n",
    "    -------\n",
    "    pd.DataFrame\n",
    "        A dataframe of 5 rows surrounding (or at edge) of\n",
    "        user selected album.\n",
    "    \"\"\"\n",
    "    new_df = df.copy()\n",
    "    \n",
    "    # Get 5 albums, ideally 2 on either side (adjusting for endpoints).\n",
    "    user_album_rank = new_df.loc[new_df[\"Album\"] == USER_ALBUM].index[0]\n",
    "    if user_album_rank == 0:\n",
    "        rank_range = range(user_album_rank, user_album_rank + 5)\n",
    "    elif user_album_rank == 1:\n",
    "        rank_range = range(user_album_rank - 1, user_album_rank + 4)\n",
    "    elif user_album_rank == len(new_df) - 2:\n",
    "        rank_range = range(user_album_rank - 3, user_album_rank + 2)\n",
    "    elif user_album_rank == len(new_df) - 1:\n",
    "        rank_range = range(user_album_rank - 4, user_album_rank + 1)\n",
    "    else:\n",
    "        rank_range = range(user_album_rank - 2, user_album_rank + 3)\n",
    "\n",
    "    new_df = new_df.iloc[rank_range, :]\n",
    "    \n",
    "    new_df[\"user_album\"] = new_df[\"Album\"].apply(\n",
    "        lambda album:\n",
    "            True if album == USER_ALBUM\n",
    "            else False\n",
    "    )\n",
    "    return new_df\n"
   ]
  },
  {
   "cell_type": "code",
   "execution_count": 20,
   "metadata": {},
   "outputs": [
    {
     "data": {
      "application/vnd.plotly.v1+json": {
       "config": {
        "plotlyServerURL": "https://plot.ly"
       },
       "data": [
        {
         "alignmentgroup": "True",
         "customdata": [
          [
           13,
           "Japanese Breakfast",
           59,
           8
          ],
          [
           14,
           "Little Simz",
           58,
           9
          ],
          [
           16,
           "Morgan Wallen",
           50,
           6
          ],
          [
           17,
           "Fleet Foxes",
           43,
           6
          ]
         ],
         "hovertemplate": "<b>Rank %{customdata[0]}:</b><br>%{customdata[1]} - <i>%{x}</i><br><br>Total Score: %{customdata[2]}<br>Submission Count: %{customdata[3]}<br><extra></extra>",
         "legendgroup": "False",
         "marker": {
          "color": "navy",
          "pattern": {
           "shape": ""
          }
         },
         "name": "False",
         "offsetgroup": "False",
         "orientation": "v",
         "showlegend": true,
         "textposition": "auto",
         "texttemplate": "%{y}",
         "type": "bar",
         "x": [
          "Jubilee",
          "Sometimes I Might Be Introvert",
          "Dangerous: the Double Album",
          "A Very Lonely Solstice"
         ],
         "xaxis": "x",
         "y": [
          59,
          58,
          50,
          43
         ],
         "yaxis": "y"
        },
        {
         "alignmentgroup": "True",
         "customdata": [
          [
           15,
           "Turnstile",
           55,
           9
          ]
         ],
         "hovertemplate": "<b>Rank %{customdata[0]}:</b><br>%{customdata[1]} - <i>%{x}</i><br><br>Total Score: %{customdata[2]}<br>Submission Count: %{customdata[3]}<br><extra></extra>",
         "legendgroup": "True",
         "marker": {
          "color": "crimson",
          "pattern": {
           "shape": ""
          }
         },
         "name": "True",
         "offsetgroup": "True",
         "orientation": "v",
         "showlegend": true,
         "textposition": "auto",
         "texttemplate": "%{y}",
         "type": "bar",
         "x": [
          "Glow On"
         ],
         "xaxis": "x",
         "y": [
          55
         ],
         "yaxis": "y"
        }
       ],
       "layout": {
        "barmode": "relative",
        "hovermode": "closest",
        "legend": {
         "title": {
          "text": "user_album"
         },
         "tracegroupgap": 0
        },
        "margin": {
         "t": 60
        },
        "showlegend": false,
        "template": {
         "data": {
          "bar": [
           {
            "error_x": {
             "color": "rgb(36,36,36)"
            },
            "error_y": {
             "color": "rgb(36,36,36)"
            },
            "marker": {
             "line": {
              "color": "white",
              "width": 0.5
             },
             "pattern": {
              "fillmode": "overlay",
              "size": 10,
              "solidity": 0.2
             }
            },
            "type": "bar"
           }
          ],
          "barpolar": [
           {
            "marker": {
             "line": {
              "color": "white",
              "width": 0.5
             },
             "pattern": {
              "fillmode": "overlay",
              "size": 10,
              "solidity": 0.2
             }
            },
            "type": "barpolar"
           }
          ],
          "carpet": [
           {
            "aaxis": {
             "endlinecolor": "rgb(36,36,36)",
             "gridcolor": "white",
             "linecolor": "white",
             "minorgridcolor": "white",
             "startlinecolor": "rgb(36,36,36)"
            },
            "baxis": {
             "endlinecolor": "rgb(36,36,36)",
             "gridcolor": "white",
             "linecolor": "white",
             "minorgridcolor": "white",
             "startlinecolor": "rgb(36,36,36)"
            },
            "type": "carpet"
           }
          ],
          "choropleth": [
           {
            "colorbar": {
             "outlinewidth": 1,
             "tickcolor": "rgb(36,36,36)",
             "ticks": "outside"
            },
            "type": "choropleth"
           }
          ],
          "contour": [
           {
            "colorbar": {
             "outlinewidth": 1,
             "tickcolor": "rgb(36,36,36)",
             "ticks": "outside"
            },
            "colorscale": [
             [
              0,
              "#440154"
             ],
             [
              0.1111111111111111,
              "#482878"
             ],
             [
              0.2222222222222222,
              "#3e4989"
             ],
             [
              0.3333333333333333,
              "#31688e"
             ],
             [
              0.4444444444444444,
              "#26828e"
             ],
             [
              0.5555555555555556,
              "#1f9e89"
             ],
             [
              0.6666666666666666,
              "#35b779"
             ],
             [
              0.7777777777777778,
              "#6ece58"
             ],
             [
              0.8888888888888888,
              "#b5de2b"
             ],
             [
              1,
              "#fde725"
             ]
            ],
            "type": "contour"
           }
          ],
          "contourcarpet": [
           {
            "colorbar": {
             "outlinewidth": 1,
             "tickcolor": "rgb(36,36,36)",
             "ticks": "outside"
            },
            "type": "contourcarpet"
           }
          ],
          "heatmap": [
           {
            "colorbar": {
             "outlinewidth": 1,
             "tickcolor": "rgb(36,36,36)",
             "ticks": "outside"
            },
            "colorscale": [
             [
              0,
              "#440154"
             ],
             [
              0.1111111111111111,
              "#482878"
             ],
             [
              0.2222222222222222,
              "#3e4989"
             ],
             [
              0.3333333333333333,
              "#31688e"
             ],
             [
              0.4444444444444444,
              "#26828e"
             ],
             [
              0.5555555555555556,
              "#1f9e89"
             ],
             [
              0.6666666666666666,
              "#35b779"
             ],
             [
              0.7777777777777778,
              "#6ece58"
             ],
             [
              0.8888888888888888,
              "#b5de2b"
             ],
             [
              1,
              "#fde725"
             ]
            ],
            "type": "heatmap"
           }
          ],
          "heatmapgl": [
           {
            "colorbar": {
             "outlinewidth": 1,
             "tickcolor": "rgb(36,36,36)",
             "ticks": "outside"
            },
            "colorscale": [
             [
              0,
              "#440154"
             ],
             [
              0.1111111111111111,
              "#482878"
             ],
             [
              0.2222222222222222,
              "#3e4989"
             ],
             [
              0.3333333333333333,
              "#31688e"
             ],
             [
              0.4444444444444444,
              "#26828e"
             ],
             [
              0.5555555555555556,
              "#1f9e89"
             ],
             [
              0.6666666666666666,
              "#35b779"
             ],
             [
              0.7777777777777778,
              "#6ece58"
             ],
             [
              0.8888888888888888,
              "#b5de2b"
             ],
             [
              1,
              "#fde725"
             ]
            ],
            "type": "heatmapgl"
           }
          ],
          "histogram": [
           {
            "marker": {
             "line": {
              "color": "white",
              "width": 0.6
             }
            },
            "type": "histogram"
           }
          ],
          "histogram2d": [
           {
            "colorbar": {
             "outlinewidth": 1,
             "tickcolor": "rgb(36,36,36)",
             "ticks": "outside"
            },
            "colorscale": [
             [
              0,
              "#440154"
             ],
             [
              0.1111111111111111,
              "#482878"
             ],
             [
              0.2222222222222222,
              "#3e4989"
             ],
             [
              0.3333333333333333,
              "#31688e"
             ],
             [
              0.4444444444444444,
              "#26828e"
             ],
             [
              0.5555555555555556,
              "#1f9e89"
             ],
             [
              0.6666666666666666,
              "#35b779"
             ],
             [
              0.7777777777777778,
              "#6ece58"
             ],
             [
              0.8888888888888888,
              "#b5de2b"
             ],
             [
              1,
              "#fde725"
             ]
            ],
            "type": "histogram2d"
           }
          ],
          "histogram2dcontour": [
           {
            "colorbar": {
             "outlinewidth": 1,
             "tickcolor": "rgb(36,36,36)",
             "ticks": "outside"
            },
            "colorscale": [
             [
              0,
              "#440154"
             ],
             [
              0.1111111111111111,
              "#482878"
             ],
             [
              0.2222222222222222,
              "#3e4989"
             ],
             [
              0.3333333333333333,
              "#31688e"
             ],
             [
              0.4444444444444444,
              "#26828e"
             ],
             [
              0.5555555555555556,
              "#1f9e89"
             ],
             [
              0.6666666666666666,
              "#35b779"
             ],
             [
              0.7777777777777778,
              "#6ece58"
             ],
             [
              0.8888888888888888,
              "#b5de2b"
             ],
             [
              1,
              "#fde725"
             ]
            ],
            "type": "histogram2dcontour"
           }
          ],
          "mesh3d": [
           {
            "colorbar": {
             "outlinewidth": 1,
             "tickcolor": "rgb(36,36,36)",
             "ticks": "outside"
            },
            "type": "mesh3d"
           }
          ],
          "parcoords": [
           {
            "line": {
             "colorbar": {
              "outlinewidth": 1,
              "tickcolor": "rgb(36,36,36)",
              "ticks": "outside"
             }
            },
            "type": "parcoords"
           }
          ],
          "pie": [
           {
            "automargin": true,
            "type": "pie"
           }
          ],
          "scatter": [
           {
            "marker": {
             "colorbar": {
              "outlinewidth": 1,
              "tickcolor": "rgb(36,36,36)",
              "ticks": "outside"
             }
            },
            "type": "scatter"
           }
          ],
          "scatter3d": [
           {
            "line": {
             "colorbar": {
              "outlinewidth": 1,
              "tickcolor": "rgb(36,36,36)",
              "ticks": "outside"
             }
            },
            "marker": {
             "colorbar": {
              "outlinewidth": 1,
              "tickcolor": "rgb(36,36,36)",
              "ticks": "outside"
             }
            },
            "type": "scatter3d"
           }
          ],
          "scattercarpet": [
           {
            "marker": {
             "colorbar": {
              "outlinewidth": 1,
              "tickcolor": "rgb(36,36,36)",
              "ticks": "outside"
             }
            },
            "type": "scattercarpet"
           }
          ],
          "scattergeo": [
           {
            "marker": {
             "colorbar": {
              "outlinewidth": 1,
              "tickcolor": "rgb(36,36,36)",
              "ticks": "outside"
             }
            },
            "type": "scattergeo"
           }
          ],
          "scattergl": [
           {
            "marker": {
             "colorbar": {
              "outlinewidth": 1,
              "tickcolor": "rgb(36,36,36)",
              "ticks": "outside"
             }
            },
            "type": "scattergl"
           }
          ],
          "scattermapbox": [
           {
            "marker": {
             "colorbar": {
              "outlinewidth": 1,
              "tickcolor": "rgb(36,36,36)",
              "ticks": "outside"
             }
            },
            "type": "scattermapbox"
           }
          ],
          "scatterpolar": [
           {
            "marker": {
             "colorbar": {
              "outlinewidth": 1,
              "tickcolor": "rgb(36,36,36)",
              "ticks": "outside"
             }
            },
            "type": "scatterpolar"
           }
          ],
          "scatterpolargl": [
           {
            "marker": {
             "colorbar": {
              "outlinewidth": 1,
              "tickcolor": "rgb(36,36,36)",
              "ticks": "outside"
             }
            },
            "type": "scatterpolargl"
           }
          ],
          "scatterternary": [
           {
            "marker": {
             "colorbar": {
              "outlinewidth": 1,
              "tickcolor": "rgb(36,36,36)",
              "ticks": "outside"
             }
            },
            "type": "scatterternary"
           }
          ],
          "surface": [
           {
            "colorbar": {
             "outlinewidth": 1,
             "tickcolor": "rgb(36,36,36)",
             "ticks": "outside"
            },
            "colorscale": [
             [
              0,
              "#440154"
             ],
             [
              0.1111111111111111,
              "#482878"
             ],
             [
              0.2222222222222222,
              "#3e4989"
             ],
             [
              0.3333333333333333,
              "#31688e"
             ],
             [
              0.4444444444444444,
              "#26828e"
             ],
             [
              0.5555555555555556,
              "#1f9e89"
             ],
             [
              0.6666666666666666,
              "#35b779"
             ],
             [
              0.7777777777777778,
              "#6ece58"
             ],
             [
              0.8888888888888888,
              "#b5de2b"
             ],
             [
              1,
              "#fde725"
             ]
            ],
            "type": "surface"
           }
          ],
          "table": [
           {
            "cells": {
             "fill": {
              "color": "rgb(237,237,237)"
             },
             "line": {
              "color": "white"
             }
            },
            "header": {
             "fill": {
              "color": "rgb(217,217,217)"
             },
             "line": {
              "color": "white"
             }
            },
            "type": "table"
           }
          ]
         },
         "layout": {
          "annotationdefaults": {
           "arrowhead": 0,
           "arrowwidth": 1
          },
          "autotypenumbers": "strict",
          "coloraxis": {
           "colorbar": {
            "outlinewidth": 1,
            "tickcolor": "rgb(36,36,36)",
            "ticks": "outside"
           }
          },
          "colorscale": {
           "diverging": [
            [
             0,
             "rgb(103,0,31)"
            ],
            [
             0.1,
             "rgb(178,24,43)"
            ],
            [
             0.2,
             "rgb(214,96,77)"
            ],
            [
             0.3,
             "rgb(244,165,130)"
            ],
            [
             0.4,
             "rgb(253,219,199)"
            ],
            [
             0.5,
             "rgb(247,247,247)"
            ],
            [
             0.6,
             "rgb(209,229,240)"
            ],
            [
             0.7,
             "rgb(146,197,222)"
            ],
            [
             0.8,
             "rgb(67,147,195)"
            ],
            [
             0.9,
             "rgb(33,102,172)"
            ],
            [
             1,
             "rgb(5,48,97)"
            ]
           ],
           "sequential": [
            [
             0,
             "#440154"
            ],
            [
             0.1111111111111111,
             "#482878"
            ],
            [
             0.2222222222222222,
             "#3e4989"
            ],
            [
             0.3333333333333333,
             "#31688e"
            ],
            [
             0.4444444444444444,
             "#26828e"
            ],
            [
             0.5555555555555556,
             "#1f9e89"
            ],
            [
             0.6666666666666666,
             "#35b779"
            ],
            [
             0.7777777777777778,
             "#6ece58"
            ],
            [
             0.8888888888888888,
             "#b5de2b"
            ],
            [
             1,
             "#fde725"
            ]
           ],
           "sequentialminus": [
            [
             0,
             "#440154"
            ],
            [
             0.1111111111111111,
             "#482878"
            ],
            [
             0.2222222222222222,
             "#3e4989"
            ],
            [
             0.3333333333333333,
             "#31688e"
            ],
            [
             0.4444444444444444,
             "#26828e"
            ],
            [
             0.5555555555555556,
             "#1f9e89"
            ],
            [
             0.6666666666666666,
             "#35b779"
            ],
            [
             0.7777777777777778,
             "#6ece58"
            ],
            [
             0.8888888888888888,
             "#b5de2b"
            ],
            [
             1,
             "#fde725"
            ]
           ]
          },
          "colorway": [
           "#1F77B4",
           "#FF7F0E",
           "#2CA02C",
           "#D62728",
           "#9467BD",
           "#8C564B",
           "#E377C2",
           "#7F7F7F",
           "#BCBD22",
           "#17BECF"
          ],
          "font": {
           "color": "rgb(36,36,36)"
          },
          "geo": {
           "bgcolor": "white",
           "lakecolor": "white",
           "landcolor": "white",
           "showlakes": true,
           "showland": true,
           "subunitcolor": "white"
          },
          "hoverlabel": {
           "align": "left"
          },
          "hovermode": "closest",
          "mapbox": {
           "style": "light"
          },
          "paper_bgcolor": "white",
          "plot_bgcolor": "white",
          "polar": {
           "angularaxis": {
            "gridcolor": "rgb(232,232,232)",
            "linecolor": "rgb(36,36,36)",
            "showgrid": false,
            "showline": true,
            "ticks": "outside"
           },
           "bgcolor": "white",
           "radialaxis": {
            "gridcolor": "rgb(232,232,232)",
            "linecolor": "rgb(36,36,36)",
            "showgrid": false,
            "showline": true,
            "ticks": "outside"
           }
          },
          "scene": {
           "xaxis": {
            "backgroundcolor": "white",
            "gridcolor": "rgb(232,232,232)",
            "gridwidth": 2,
            "linecolor": "rgb(36,36,36)",
            "showbackground": true,
            "showgrid": false,
            "showline": true,
            "ticks": "outside",
            "zeroline": false,
            "zerolinecolor": "rgb(36,36,36)"
           },
           "yaxis": {
            "backgroundcolor": "white",
            "gridcolor": "rgb(232,232,232)",
            "gridwidth": 2,
            "linecolor": "rgb(36,36,36)",
            "showbackground": true,
            "showgrid": false,
            "showline": true,
            "ticks": "outside",
            "zeroline": false,
            "zerolinecolor": "rgb(36,36,36)"
           },
           "zaxis": {
            "backgroundcolor": "white",
            "gridcolor": "rgb(232,232,232)",
            "gridwidth": 2,
            "linecolor": "rgb(36,36,36)",
            "showbackground": true,
            "showgrid": false,
            "showline": true,
            "ticks": "outside",
            "zeroline": false,
            "zerolinecolor": "rgb(36,36,36)"
           }
          },
          "shapedefaults": {
           "fillcolor": "black",
           "line": {
            "width": 0
           },
           "opacity": 0.3
          },
          "ternary": {
           "aaxis": {
            "gridcolor": "rgb(232,232,232)",
            "linecolor": "rgb(36,36,36)",
            "showgrid": false,
            "showline": true,
            "ticks": "outside"
           },
           "baxis": {
            "gridcolor": "rgb(232,232,232)",
            "linecolor": "rgb(36,36,36)",
            "showgrid": false,
            "showline": true,
            "ticks": "outside"
           },
           "bgcolor": "white",
           "caxis": {
            "gridcolor": "rgb(232,232,232)",
            "linecolor": "rgb(36,36,36)",
            "showgrid": false,
            "showline": true,
            "ticks": "outside"
           }
          },
          "title": {
           "x": 0.05
          },
          "xaxis": {
           "automargin": true,
           "gridcolor": "rgb(232,232,232)",
           "linecolor": "rgb(36,36,36)",
           "showgrid": false,
           "showline": true,
           "ticks": "outside",
           "title": {
            "standoff": 15
           },
           "zeroline": false,
           "zerolinecolor": "rgb(36,36,36)"
          },
          "yaxis": {
           "automargin": true,
           "gridcolor": "rgb(232,232,232)",
           "linecolor": "rgb(36,36,36)",
           "showgrid": false,
           "showline": true,
           "ticks": "outside",
           "title": {
            "standoff": 15
           },
           "zeroline": false,
           "zerolinecolor": "rgb(36,36,36)"
          }
         }
        },
        "xaxis": {
         "anchor": "y",
         "categoryorder": "total descending",
         "domain": [
          0,
          1
         ],
         "title": {
          "text": "Album"
         }
        },
        "yaxis": {
         "anchor": "x",
         "domain": [
          0,
          1
         ],
         "title": {
          "text": "Album Score"
         }
        }
       }
      }
     },
     "metadata": {},
     "output_type": "display_data"
    }
   ],
   "source": [
    "nearby_df = get_competing_albums(AOTY_by_album, USER_ALBUM)\n",
    "\n",
    "figure = px.bar(\n",
    "    data_frame=nearby_df,\n",
    "    x=\"Album\",\n",
    "    y=COLUMN,\n",
    "    color=\"user_album\",\n",
    "    custom_data=[\n",
    "        nearby_df.index + 1,\n",
    "        \"Artist\",\n",
    "        \"album_score\",\n",
    "        \"album_submission_count\",\n",
    "    ],\n",
    "    labels={\n",
    "        \"album_score\": \"Album Score\",\n",
    "        \"album_submission_count\": \"Album Submission Count\",\n",
    "    },\n",
    "    template=\"simple_white\",\n",
    "    text_auto=True,\n",
    "    color_discrete_map={True: APP_COLORS[\"accent\"], False: APP_COLORS[\"standard\"]},\n",
    ")\n",
    "\n",
    "figure.update_traces(\n",
    "    hovertemplate=\"<br>\".join(\n",
    "        [\n",
    "            \"<b>Rank %{customdata[0]}:</b>\",\n",
    "            \"%{customdata[1]} - <i>%{x}</i>\",\n",
    "            \"\",\n",
    "            \"Total Score: %{customdata[2]}\",\n",
    "            \"Submission Count: %{customdata[3]}\",\n",
    "            \"<extra></extra>\",\n",
    "        ]\n",
    "    )\n",
    ")\n",
    "\n",
    "figure.update_layout(\n",
    "    hovermode=\"closest\", showlegend=False, xaxis_categoryorder=\"total descending\"\n",
    ")\n"
   ]
  },
  {
   "cell_type": "code",
   "execution_count": 21,
   "metadata": {},
   "outputs": [
    {
     "data": {
      "text/html": [
       "<div>\n",
       "<style scoped>\n",
       "    .dataframe tbody tr th:only-of-type {\n",
       "        vertical-align: middle;\n",
       "    }\n",
       "\n",
       "    .dataframe tbody tr th {\n",
       "        vertical-align: top;\n",
       "    }\n",
       "\n",
       "    .dataframe thead th {\n",
       "        text-align: right;\n",
       "    }\n",
       "</style>\n",
       "<table border=\"1\" class=\"dataframe\">\n",
       "  <thead>\n",
       "    <tr style=\"text-align: right;\">\n",
       "      <th></th>\n",
       "      <th>Artist</th>\n",
       "      <th>Album</th>\n",
       "      <th>album_score</th>\n",
       "      <th>album_average_rank</th>\n",
       "      <th>album_submission_count</th>\n",
       "      <th>top_10_score_album</th>\n",
       "      <th>top_10_count_album</th>\n",
       "      <th>unique_album_submission</th>\n",
       "      <th>artist_album_release_count</th>\n",
       "      <th>multi_album_artist</th>\n",
       "      <th>user_album</th>\n",
       "    </tr>\n",
       "  </thead>\n",
       "  <tbody>\n",
       "    <tr>\n",
       "      <th>0</th>\n",
       "      <td>Silk Sonic</td>\n",
       "      <td>An Evening With Silk Sonic</td>\n",
       "      <td>171</td>\n",
       "      <td>4.160000</td>\n",
       "      <td>25</td>\n",
       "      <td>True</td>\n",
       "      <td>True</td>\n",
       "      <td>False</td>\n",
       "      <td>1</td>\n",
       "      <td>False</td>\n",
       "      <td>False</td>\n",
       "    </tr>\n",
       "    <tr>\n",
       "      <th>14</th>\n",
       "      <td>Turnstile</td>\n",
       "      <td>Glow On</td>\n",
       "      <td>55</td>\n",
       "      <td>4.888889</td>\n",
       "      <td>9</td>\n",
       "      <td>False</td>\n",
       "      <td>False</td>\n",
       "      <td>False</td>\n",
       "      <td>1</td>\n",
       "      <td>False</td>\n",
       "      <td>True</td>\n",
       "    </tr>\n",
       "  </tbody>\n",
       "</table>\n",
       "</div>"
      ],
      "text/plain": [
       "        Artist                       Album  album_score  album_average_rank  \\\n",
       "0   Silk Sonic  An Evening With Silk Sonic          171            4.160000   \n",
       "14   Turnstile                     Glow On           55            4.888889   \n",
       "\n",
       "    album_submission_count  top_10_score_album  top_10_count_album  \\\n",
       "0                       25                True                True   \n",
       "14                       9               False               False   \n",
       "\n",
       "    unique_album_submission  artist_album_release_count  multi_album_artist  \\\n",
       "0                     False                           1               False   \n",
       "14                    False                           1               False   \n",
       "\n",
       "    user_album  \n",
       "0        False  \n",
       "14        True  "
      ]
     },
     "execution_count": 21,
     "metadata": {},
     "output_type": "execute_result"
    }
   ],
   "source": [
    "AOTY_by_album\n",
    "\n",
    "user_and_top_album = AOTY_by_album.loc[\n",
    "    (AOTY_by_album[\"Album\"] == USER_ALBUM)\n",
    "    | (AOTY_by_album[\"album_score\"] == AOTY_by_album[\"album_score\"].max())\n",
    "]\n",
    "\n",
    "album_summary = pd.DataFrame(AOTY_by_album.mean()).transpose()\n",
    "top_10_album_summary = pd.DataFrame(top_10_albums.mean()).transpose()\n",
    "\n",
    "top_10_album_summary[\"Album\"] = \"Top 10 Average\"\n",
    "album_summary[\"Album\"] = \"Overall Average\"\n",
    "\n",
    "top_10_album_summary[\"Artist\"] = \"Various\"\n",
    "album_summary[\"Artist\"] = \"Various\"\n",
    "\n",
    "# compare_df = pd.concat([user_and_top_album, top_10_album_summary, album_summary])\n",
    "compare_df = user_and_top_album\n",
    "\n",
    "compare_df[\"user_album\"] = compare_df[\"Album\"].apply(\n",
    "    lambda album: True if album == USER_ALBUM else False\n",
    ")\n",
    "\n",
    "compare_df\n"
   ]
  },
  {
   "cell_type": "code",
   "execution_count": 77,
   "metadata": {},
   "outputs": [
    {
     "data": {
      "application/vnd.plotly.v1+json": {
       "config": {
        "plotlyServerURL": "https://plot.ly"
       },
       "data": [
        {
         "alignmentgroup": "True",
         "customdata": [
          [
           "Silk Sonic",
           171,
           25
          ]
         ],
         "hovertemplate": "<b>%{customdata[0]}</b> - <i>%{x}</i><br><br><extra></extra>",
         "legendgroup": "False",
         "marker": {
          "color": "navy",
          "pattern": {
           "shape": ""
          }
         },
         "name": "False",
         "offsetgroup": "False",
         "orientation": "v",
         "showlegend": true,
         "textposition": "auto",
         "texttemplate": "%{y}",
         "type": "bar",
         "x": [
          "An Evening With Silk Sonic"
         ],
         "xaxis": "x",
         "y": [
          171
         ],
         "yaxis": "y"
        },
        {
         "alignmentgroup": "True",
         "customdata": [
          [
           "Turnstile",
           55,
           9
          ]
         ],
         "hovertemplate": "<b>%{customdata[0]}</b> - <i>%{x}</i><br><br><extra></extra>",
         "legendgroup": "True",
         "marker": {
          "color": "crimson",
          "pattern": {
           "shape": ""
          }
         },
         "name": "True",
         "offsetgroup": "True",
         "orientation": "v",
         "showlegend": true,
         "textposition": "auto",
         "texttemplate": "%{y}",
         "type": "bar",
         "x": [
          "Glow On"
         ],
         "xaxis": "x",
         "y": [
          55
         ],
         "yaxis": "y"
        },
        {
         "hoverinfo": "y",
         "mode": "none",
         "showlegend": false,
         "type": "scatter",
         "x": [
          "Glow On",
          "Glow On"
         ],
         "y": [
          12.362186788154897,
          111
         ]
        }
       ],
       "layout": {
        "annotations": [
         {
          "font": {
           "color": "lightgrey",
           "size": 8
          },
          "showarrow": false,
          "text": "Overall Average",
          "x": 1,
          "xanchor": "left",
          "xref": "x domain",
          "y": 12.362186788154897,
          "yanchor": "middle",
          "yref": "y"
         },
         {
          "font": {
           "color": "lightgrey",
           "size": 8
          },
          "showarrow": false,
          "text": "Top 10 Average",
          "x": 1,
          "xanchor": "left",
          "xref": "x domain",
          "y": 111,
          "yanchor": "middle",
          "yref": "y"
         }
        ],
        "barmode": "relative",
        "hovermode": "y",
        "legend": {
         "title": {
          "text": "user_album"
         },
         "tracegroupgap": 0
        },
        "margin": {
         "t": 60
        },
        "shapes": [
         {
          "fillcolor": "dark grey",
          "opacity": 0.3,
          "type": "rect",
          "x0": 0,
          "x1": 1,
          "xref": "x domain",
          "y0": 10.362186788154897,
          "y1": 14.362186788154897,
          "yref": "y"
         },
         {
          "fillcolor": "dark grey",
          "opacity": 0.3,
          "type": "rect",
          "x0": 0,
          "x1": 1,
          "xref": "x domain",
          "y0": 109,
          "y1": 113,
          "yref": "y"
         }
        ],
        "showlegend": false,
        "template": {
         "data": {
          "bar": [
           {
            "error_x": {
             "color": "rgb(36,36,36)"
            },
            "error_y": {
             "color": "rgb(36,36,36)"
            },
            "marker": {
             "line": {
              "color": "white",
              "width": 0.5
             },
             "pattern": {
              "fillmode": "overlay",
              "size": 10,
              "solidity": 0.2
             }
            },
            "type": "bar"
           }
          ],
          "barpolar": [
           {
            "marker": {
             "line": {
              "color": "white",
              "width": 0.5
             },
             "pattern": {
              "fillmode": "overlay",
              "size": 10,
              "solidity": 0.2
             }
            },
            "type": "barpolar"
           }
          ],
          "carpet": [
           {
            "aaxis": {
             "endlinecolor": "rgb(36,36,36)",
             "gridcolor": "white",
             "linecolor": "white",
             "minorgridcolor": "white",
             "startlinecolor": "rgb(36,36,36)"
            },
            "baxis": {
             "endlinecolor": "rgb(36,36,36)",
             "gridcolor": "white",
             "linecolor": "white",
             "minorgridcolor": "white",
             "startlinecolor": "rgb(36,36,36)"
            },
            "type": "carpet"
           }
          ],
          "choropleth": [
           {
            "colorbar": {
             "outlinewidth": 1,
             "tickcolor": "rgb(36,36,36)",
             "ticks": "outside"
            },
            "type": "choropleth"
           }
          ],
          "contour": [
           {
            "colorbar": {
             "outlinewidth": 1,
             "tickcolor": "rgb(36,36,36)",
             "ticks": "outside"
            },
            "colorscale": [
             [
              0,
              "#440154"
             ],
             [
              0.1111111111111111,
              "#482878"
             ],
             [
              0.2222222222222222,
              "#3e4989"
             ],
             [
              0.3333333333333333,
              "#31688e"
             ],
             [
              0.4444444444444444,
              "#26828e"
             ],
             [
              0.5555555555555556,
              "#1f9e89"
             ],
             [
              0.6666666666666666,
              "#35b779"
             ],
             [
              0.7777777777777778,
              "#6ece58"
             ],
             [
              0.8888888888888888,
              "#b5de2b"
             ],
             [
              1,
              "#fde725"
             ]
            ],
            "type": "contour"
           }
          ],
          "contourcarpet": [
           {
            "colorbar": {
             "outlinewidth": 1,
             "tickcolor": "rgb(36,36,36)",
             "ticks": "outside"
            },
            "type": "contourcarpet"
           }
          ],
          "heatmap": [
           {
            "colorbar": {
             "outlinewidth": 1,
             "tickcolor": "rgb(36,36,36)",
             "ticks": "outside"
            },
            "colorscale": [
             [
              0,
              "#440154"
             ],
             [
              0.1111111111111111,
              "#482878"
             ],
             [
              0.2222222222222222,
              "#3e4989"
             ],
             [
              0.3333333333333333,
              "#31688e"
             ],
             [
              0.4444444444444444,
              "#26828e"
             ],
             [
              0.5555555555555556,
              "#1f9e89"
             ],
             [
              0.6666666666666666,
              "#35b779"
             ],
             [
              0.7777777777777778,
              "#6ece58"
             ],
             [
              0.8888888888888888,
              "#b5de2b"
             ],
             [
              1,
              "#fde725"
             ]
            ],
            "type": "heatmap"
           }
          ],
          "heatmapgl": [
           {
            "colorbar": {
             "outlinewidth": 1,
             "tickcolor": "rgb(36,36,36)",
             "ticks": "outside"
            },
            "colorscale": [
             [
              0,
              "#440154"
             ],
             [
              0.1111111111111111,
              "#482878"
             ],
             [
              0.2222222222222222,
              "#3e4989"
             ],
             [
              0.3333333333333333,
              "#31688e"
             ],
             [
              0.4444444444444444,
              "#26828e"
             ],
             [
              0.5555555555555556,
              "#1f9e89"
             ],
             [
              0.6666666666666666,
              "#35b779"
             ],
             [
              0.7777777777777778,
              "#6ece58"
             ],
             [
              0.8888888888888888,
              "#b5de2b"
             ],
             [
              1,
              "#fde725"
             ]
            ],
            "type": "heatmapgl"
           }
          ],
          "histogram": [
           {
            "marker": {
             "line": {
              "color": "white",
              "width": 0.6
             }
            },
            "type": "histogram"
           }
          ],
          "histogram2d": [
           {
            "colorbar": {
             "outlinewidth": 1,
             "tickcolor": "rgb(36,36,36)",
             "ticks": "outside"
            },
            "colorscale": [
             [
              0,
              "#440154"
             ],
             [
              0.1111111111111111,
              "#482878"
             ],
             [
              0.2222222222222222,
              "#3e4989"
             ],
             [
              0.3333333333333333,
              "#31688e"
             ],
             [
              0.4444444444444444,
              "#26828e"
             ],
             [
              0.5555555555555556,
              "#1f9e89"
             ],
             [
              0.6666666666666666,
              "#35b779"
             ],
             [
              0.7777777777777778,
              "#6ece58"
             ],
             [
              0.8888888888888888,
              "#b5de2b"
             ],
             [
              1,
              "#fde725"
             ]
            ],
            "type": "histogram2d"
           }
          ],
          "histogram2dcontour": [
           {
            "colorbar": {
             "outlinewidth": 1,
             "tickcolor": "rgb(36,36,36)",
             "ticks": "outside"
            },
            "colorscale": [
             [
              0,
              "#440154"
             ],
             [
              0.1111111111111111,
              "#482878"
             ],
             [
              0.2222222222222222,
              "#3e4989"
             ],
             [
              0.3333333333333333,
              "#31688e"
             ],
             [
              0.4444444444444444,
              "#26828e"
             ],
             [
              0.5555555555555556,
              "#1f9e89"
             ],
             [
              0.6666666666666666,
              "#35b779"
             ],
             [
              0.7777777777777778,
              "#6ece58"
             ],
             [
              0.8888888888888888,
              "#b5de2b"
             ],
             [
              1,
              "#fde725"
             ]
            ],
            "type": "histogram2dcontour"
           }
          ],
          "mesh3d": [
           {
            "colorbar": {
             "outlinewidth": 1,
             "tickcolor": "rgb(36,36,36)",
             "ticks": "outside"
            },
            "type": "mesh3d"
           }
          ],
          "parcoords": [
           {
            "line": {
             "colorbar": {
              "outlinewidth": 1,
              "tickcolor": "rgb(36,36,36)",
              "ticks": "outside"
             }
            },
            "type": "parcoords"
           }
          ],
          "pie": [
           {
            "automargin": true,
            "type": "pie"
           }
          ],
          "scatter": [
           {
            "marker": {
             "colorbar": {
              "outlinewidth": 1,
              "tickcolor": "rgb(36,36,36)",
              "ticks": "outside"
             }
            },
            "type": "scatter"
           }
          ],
          "scatter3d": [
           {
            "line": {
             "colorbar": {
              "outlinewidth": 1,
              "tickcolor": "rgb(36,36,36)",
              "ticks": "outside"
             }
            },
            "marker": {
             "colorbar": {
              "outlinewidth": 1,
              "tickcolor": "rgb(36,36,36)",
              "ticks": "outside"
             }
            },
            "type": "scatter3d"
           }
          ],
          "scattercarpet": [
           {
            "marker": {
             "colorbar": {
              "outlinewidth": 1,
              "tickcolor": "rgb(36,36,36)",
              "ticks": "outside"
             }
            },
            "type": "scattercarpet"
           }
          ],
          "scattergeo": [
           {
            "marker": {
             "colorbar": {
              "outlinewidth": 1,
              "tickcolor": "rgb(36,36,36)",
              "ticks": "outside"
             }
            },
            "type": "scattergeo"
           }
          ],
          "scattergl": [
           {
            "marker": {
             "colorbar": {
              "outlinewidth": 1,
              "tickcolor": "rgb(36,36,36)",
              "ticks": "outside"
             }
            },
            "type": "scattergl"
           }
          ],
          "scattermapbox": [
           {
            "marker": {
             "colorbar": {
              "outlinewidth": 1,
              "tickcolor": "rgb(36,36,36)",
              "ticks": "outside"
             }
            },
            "type": "scattermapbox"
           }
          ],
          "scatterpolar": [
           {
            "marker": {
             "colorbar": {
              "outlinewidth": 1,
              "tickcolor": "rgb(36,36,36)",
              "ticks": "outside"
             }
            },
            "type": "scatterpolar"
           }
          ],
          "scatterpolargl": [
           {
            "marker": {
             "colorbar": {
              "outlinewidth": 1,
              "tickcolor": "rgb(36,36,36)",
              "ticks": "outside"
             }
            },
            "type": "scatterpolargl"
           }
          ],
          "scatterternary": [
           {
            "marker": {
             "colorbar": {
              "outlinewidth": 1,
              "tickcolor": "rgb(36,36,36)",
              "ticks": "outside"
             }
            },
            "type": "scatterternary"
           }
          ],
          "surface": [
           {
            "colorbar": {
             "outlinewidth": 1,
             "tickcolor": "rgb(36,36,36)",
             "ticks": "outside"
            },
            "colorscale": [
             [
              0,
              "#440154"
             ],
             [
              0.1111111111111111,
              "#482878"
             ],
             [
              0.2222222222222222,
              "#3e4989"
             ],
             [
              0.3333333333333333,
              "#31688e"
             ],
             [
              0.4444444444444444,
              "#26828e"
             ],
             [
              0.5555555555555556,
              "#1f9e89"
             ],
             [
              0.6666666666666666,
              "#35b779"
             ],
             [
              0.7777777777777778,
              "#6ece58"
             ],
             [
              0.8888888888888888,
              "#b5de2b"
             ],
             [
              1,
              "#fde725"
             ]
            ],
            "type": "surface"
           }
          ],
          "table": [
           {
            "cells": {
             "fill": {
              "color": "rgb(237,237,237)"
             },
             "line": {
              "color": "white"
             }
            },
            "header": {
             "fill": {
              "color": "rgb(217,217,217)"
             },
             "line": {
              "color": "white"
             }
            },
            "type": "table"
           }
          ]
         },
         "layout": {
          "annotationdefaults": {
           "arrowhead": 0,
           "arrowwidth": 1
          },
          "autotypenumbers": "strict",
          "coloraxis": {
           "colorbar": {
            "outlinewidth": 1,
            "tickcolor": "rgb(36,36,36)",
            "ticks": "outside"
           }
          },
          "colorscale": {
           "diverging": [
            [
             0,
             "rgb(103,0,31)"
            ],
            [
             0.1,
             "rgb(178,24,43)"
            ],
            [
             0.2,
             "rgb(214,96,77)"
            ],
            [
             0.3,
             "rgb(244,165,130)"
            ],
            [
             0.4,
             "rgb(253,219,199)"
            ],
            [
             0.5,
             "rgb(247,247,247)"
            ],
            [
             0.6,
             "rgb(209,229,240)"
            ],
            [
             0.7,
             "rgb(146,197,222)"
            ],
            [
             0.8,
             "rgb(67,147,195)"
            ],
            [
             0.9,
             "rgb(33,102,172)"
            ],
            [
             1,
             "rgb(5,48,97)"
            ]
           ],
           "sequential": [
            [
             0,
             "#440154"
            ],
            [
             0.1111111111111111,
             "#482878"
            ],
            [
             0.2222222222222222,
             "#3e4989"
            ],
            [
             0.3333333333333333,
             "#31688e"
            ],
            [
             0.4444444444444444,
             "#26828e"
            ],
            [
             0.5555555555555556,
             "#1f9e89"
            ],
            [
             0.6666666666666666,
             "#35b779"
            ],
            [
             0.7777777777777778,
             "#6ece58"
            ],
            [
             0.8888888888888888,
             "#b5de2b"
            ],
            [
             1,
             "#fde725"
            ]
           ],
           "sequentialminus": [
            [
             0,
             "#440154"
            ],
            [
             0.1111111111111111,
             "#482878"
            ],
            [
             0.2222222222222222,
             "#3e4989"
            ],
            [
             0.3333333333333333,
             "#31688e"
            ],
            [
             0.4444444444444444,
             "#26828e"
            ],
            [
             0.5555555555555556,
             "#1f9e89"
            ],
            [
             0.6666666666666666,
             "#35b779"
            ],
            [
             0.7777777777777778,
             "#6ece58"
            ],
            [
             0.8888888888888888,
             "#b5de2b"
            ],
            [
             1,
             "#fde725"
            ]
           ]
          },
          "colorway": [
           "#1F77B4",
           "#FF7F0E",
           "#2CA02C",
           "#D62728",
           "#9467BD",
           "#8C564B",
           "#E377C2",
           "#7F7F7F",
           "#BCBD22",
           "#17BECF"
          ],
          "font": {
           "color": "rgb(36,36,36)"
          },
          "geo": {
           "bgcolor": "white",
           "lakecolor": "white",
           "landcolor": "white",
           "showlakes": true,
           "showland": true,
           "subunitcolor": "white"
          },
          "hoverlabel": {
           "align": "left"
          },
          "hovermode": "closest",
          "mapbox": {
           "style": "light"
          },
          "paper_bgcolor": "white",
          "plot_bgcolor": "white",
          "polar": {
           "angularaxis": {
            "gridcolor": "rgb(232,232,232)",
            "linecolor": "rgb(36,36,36)",
            "showgrid": false,
            "showline": true,
            "ticks": "outside"
           },
           "bgcolor": "white",
           "radialaxis": {
            "gridcolor": "rgb(232,232,232)",
            "linecolor": "rgb(36,36,36)",
            "showgrid": false,
            "showline": true,
            "ticks": "outside"
           }
          },
          "scene": {
           "xaxis": {
            "backgroundcolor": "white",
            "gridcolor": "rgb(232,232,232)",
            "gridwidth": 2,
            "linecolor": "rgb(36,36,36)",
            "showbackground": true,
            "showgrid": false,
            "showline": true,
            "ticks": "outside",
            "zeroline": false,
            "zerolinecolor": "rgb(36,36,36)"
           },
           "yaxis": {
            "backgroundcolor": "white",
            "gridcolor": "rgb(232,232,232)",
            "gridwidth": 2,
            "linecolor": "rgb(36,36,36)",
            "showbackground": true,
            "showgrid": false,
            "showline": true,
            "ticks": "outside",
            "zeroline": false,
            "zerolinecolor": "rgb(36,36,36)"
           },
           "zaxis": {
            "backgroundcolor": "white",
            "gridcolor": "rgb(232,232,232)",
            "gridwidth": 2,
            "linecolor": "rgb(36,36,36)",
            "showbackground": true,
            "showgrid": false,
            "showline": true,
            "ticks": "outside",
            "zeroline": false,
            "zerolinecolor": "rgb(36,36,36)"
           }
          },
          "shapedefaults": {
           "fillcolor": "black",
           "line": {
            "width": 0
           },
           "opacity": 0.3
          },
          "ternary": {
           "aaxis": {
            "gridcolor": "rgb(232,232,232)",
            "linecolor": "rgb(36,36,36)",
            "showgrid": false,
            "showline": true,
            "ticks": "outside"
           },
           "baxis": {
            "gridcolor": "rgb(232,232,232)",
            "linecolor": "rgb(36,36,36)",
            "showgrid": false,
            "showline": true,
            "ticks": "outside"
           },
           "bgcolor": "white",
           "caxis": {
            "gridcolor": "rgb(232,232,232)",
            "linecolor": "rgb(36,36,36)",
            "showgrid": false,
            "showline": true,
            "ticks": "outside"
           }
          },
          "title": {
           "x": 0.05
          },
          "xaxis": {
           "automargin": true,
           "gridcolor": "rgb(232,232,232)",
           "linecolor": "rgb(36,36,36)",
           "showgrid": false,
           "showline": true,
           "ticks": "outside",
           "title": {
            "standoff": 15
           },
           "zeroline": false,
           "zerolinecolor": "rgb(36,36,36)"
          },
          "yaxis": {
           "automargin": true,
           "gridcolor": "rgb(232,232,232)",
           "linecolor": "rgb(36,36,36)",
           "showgrid": false,
           "showline": true,
           "ticks": "outside",
           "title": {
            "standoff": 15
           },
           "zeroline": false,
           "zerolinecolor": "rgb(36,36,36)"
          }
         }
        },
        "width": 400,
        "xaxis": {
         "anchor": "y",
         "categoryorder": "trace",
         "domain": [
          0,
          1
         ],
         "title": {
          "text": ""
         }
        },
        "yaxis": {
         "anchor": "x",
         "domain": [
          0,
          1
         ],
         "title": {
          "text": "Overall Album Score"
         }
        }
       }
      }
     },
     "metadata": {},
     "output_type": "display_data"
    }
   ],
   "source": [
    "figure = px.bar(\n",
    "    data_frame=compare_df,\n",
    "    x=\"Album\",\n",
    "    y=COLUMN,\n",
    "    color=\"user_album\",\n",
    "    custom_data=[\"Artist\", \"album_score\", \"album_submission_count\"],\n",
    "    labels={\"album_score\": \"Overall Album Score\", \"album_submission_count\": \"Album Submission Count\", \"Album\": \"\"},\n",
    "    template=\"simple_white\",\n",
    "    text_auto=True,\n",
    "    color_discrete_map={True: APP_COLORS[\"accent\"], False: APP_COLORS[\"standard\"]},\n",
    "    width = 400\n",
    ")\n",
    "\n",
    "figure.update_traces(\n",
    "    hovertemplate=\"<br>\".join(\n",
    "        [\n",
    "            \"<b>%{customdata[0]}</b> - <i>%{x}</i>\",\n",
    "            \"\",\n",
    "            \"<extra></extra>\",\n",
    "        ]\n",
    "    )\n",
    ")\n",
    "\n",
    "# overall average\n",
    "overall_average = AOTY_by_album[COLUMN].mean()\n",
    "figure.add_hrect(\n",
    "    y0=overall_average - 2,\n",
    "    y1=overall_average + 2,\n",
    "    opacity=0.3,\n",
    "    fillcolor=APP_COLORS[\"dark\"],\n",
    "    annotation_text=\"Overall Average\",\n",
    "    annotation_font={\"size\": 8},\n",
    "    annotation_position=\"outside right\",\n",
    "    annotation_font_color=APP_COLORS[\"dim\"],\n",
    ")\n",
    "\n",
    "# top 10 average\n",
    "top_10_average = top_10_albums[COLUMN].mean()\n",
    "figure.add_hrect(\n",
    "    y0=top_10_average - 2,\n",
    "    y1=top_10_average + 2,\n",
    "    opacity=0.3,\n",
    "    fillcolor=APP_COLORS[\"dark\"],\n",
    "    annotation_text=\"Top 10 Average\",\n",
    "    annotation_font={\"size\": 8},\n",
    "    annotation_position=\"outside right\",\n",
    "    annotation_font_color=APP_COLORS[\"dim\"],\n",
    ")\n",
    "\n",
    "# Add invisible points for hover\n",
    "figure.add_scatter(\n",
    "    x = [USER_ALBUM, USER_ALBUM],\n",
    "    y = [overall_average, top_10_average],\n",
    "    showlegend = False,\n",
    "    hoverinfo = \"y\",\n",
    "    mode=\"none\")\n",
    "\n",
    "\n",
    "\n",
    "figure.update_layout(hovermode=\"y\", showlegend=False, xaxis_categoryorder=\"trace\")\n"
   ]
  },
  {
   "cell_type": "code",
   "execution_count": 78,
   "metadata": {},
   "outputs": [
    {
     "data": {
      "application/vnd.plotly.v1+json": {
       "config": {
        "plotlyServerURL": "https://plot.ly"
       },
       "data": [
        {
         "alignmentgroup": "True",
         "customdata": [
          [
           "Silk Sonic",
           171,
           25
          ]
         ],
         "hovertemplate": "<b>%{customdata[0]}</b> - <i>%{x}</i><br><br><extra></extra>",
         "legendgroup": "False",
         "marker": {
          "color": "navy",
          "pattern": {
           "shape": ""
          }
         },
         "name": "False",
         "offsetgroup": "False",
         "orientation": "v",
         "showlegend": true,
         "textposition": "auto",
         "texttemplate": "%{y}",
         "type": "bar",
         "x": [
          "An Evening With Silk Sonic"
         ],
         "xaxis": "x",
         "y": [
          4.16
         ],
         "yaxis": "y"
        },
        {
         "alignmentgroup": "True",
         "customdata": [
          [
           "Turnstile",
           55,
           9
          ]
         ],
         "hovertemplate": "<b>%{customdata[0]}</b> - <i>%{x}</i><br><br><extra></extra>",
         "legendgroup": "True",
         "marker": {
          "color": "crimson",
          "pattern": {
           "shape": ""
          }
         },
         "name": "True",
         "offsetgroup": "True",
         "orientation": "v",
         "showlegend": true,
         "textposition": "auto",
         "texttemplate": "%{y}",
         "type": "bar",
         "x": [
          "Glow On"
         ],
         "xaxis": "x",
         "y": [
          4.888888888888889
         ],
         "yaxis": "y"
        },
        {
         "hoverinfo": "y",
         "mode": "none",
         "showlegend": false,
         "type": "scatter",
         "x": [
          "Glow On",
          "Glow On"
         ],
         "y": [
          5.5,
          4.775817679396627
         ]
        }
       ],
       "layout": {
        "annotations": [
         {
          "font": {
           "color": "lightgrey",
           "size": 8
          },
          "showarrow": false,
          "text": "Overall Average",
          "x": 0,
          "xanchor": "right",
          "xref": "x domain",
          "y": 5.5,
          "yanchor": "middle",
          "yref": "y"
         },
         {
          "font": {
           "color": "lightgrey",
           "size": 8
          },
          "showarrow": false,
          "text": "Top 10 Average",
          "x": 0,
          "xanchor": "right",
          "xref": "x domain",
          "y": 4.775817679396627,
          "yanchor": "middle",
          "yref": "y"
         }
        ],
        "barmode": "relative",
        "hovermode": "y",
        "legend": {
         "title": {
          "text": "user_album"
         },
         "tracegroupgap": 0
        },
        "margin": {
         "t": 60
        },
        "shapes": [
         {
          "fillcolor": "dark grey",
          "opacity": 0.3,
          "type": "rect",
          "x0": 0,
          "x1": 1,
          "xref": "x domain",
          "y0": 5.45,
          "y1": 5.55,
          "yref": "y"
         },
         {
          "fillcolor": "dark grey",
          "opacity": 0.3,
          "type": "rect",
          "x0": 0,
          "x1": 1,
          "xref": "x domain",
          "y0": 4.725817679396627,
          "y1": 4.825817679396627,
          "yref": "y"
         }
        ],
        "showlegend": false,
        "template": {
         "data": {
          "bar": [
           {
            "error_x": {
             "color": "rgb(36,36,36)"
            },
            "error_y": {
             "color": "rgb(36,36,36)"
            },
            "marker": {
             "line": {
              "color": "white",
              "width": 0.5
             },
             "pattern": {
              "fillmode": "overlay",
              "size": 10,
              "solidity": 0.2
             }
            },
            "type": "bar"
           }
          ],
          "barpolar": [
           {
            "marker": {
             "line": {
              "color": "white",
              "width": 0.5
             },
             "pattern": {
              "fillmode": "overlay",
              "size": 10,
              "solidity": 0.2
             }
            },
            "type": "barpolar"
           }
          ],
          "carpet": [
           {
            "aaxis": {
             "endlinecolor": "rgb(36,36,36)",
             "gridcolor": "white",
             "linecolor": "white",
             "minorgridcolor": "white",
             "startlinecolor": "rgb(36,36,36)"
            },
            "baxis": {
             "endlinecolor": "rgb(36,36,36)",
             "gridcolor": "white",
             "linecolor": "white",
             "minorgridcolor": "white",
             "startlinecolor": "rgb(36,36,36)"
            },
            "type": "carpet"
           }
          ],
          "choropleth": [
           {
            "colorbar": {
             "outlinewidth": 1,
             "tickcolor": "rgb(36,36,36)",
             "ticks": "outside"
            },
            "type": "choropleth"
           }
          ],
          "contour": [
           {
            "colorbar": {
             "outlinewidth": 1,
             "tickcolor": "rgb(36,36,36)",
             "ticks": "outside"
            },
            "colorscale": [
             [
              0,
              "#440154"
             ],
             [
              0.1111111111111111,
              "#482878"
             ],
             [
              0.2222222222222222,
              "#3e4989"
             ],
             [
              0.3333333333333333,
              "#31688e"
             ],
             [
              0.4444444444444444,
              "#26828e"
             ],
             [
              0.5555555555555556,
              "#1f9e89"
             ],
             [
              0.6666666666666666,
              "#35b779"
             ],
             [
              0.7777777777777778,
              "#6ece58"
             ],
             [
              0.8888888888888888,
              "#b5de2b"
             ],
             [
              1,
              "#fde725"
             ]
            ],
            "type": "contour"
           }
          ],
          "contourcarpet": [
           {
            "colorbar": {
             "outlinewidth": 1,
             "tickcolor": "rgb(36,36,36)",
             "ticks": "outside"
            },
            "type": "contourcarpet"
           }
          ],
          "heatmap": [
           {
            "colorbar": {
             "outlinewidth": 1,
             "tickcolor": "rgb(36,36,36)",
             "ticks": "outside"
            },
            "colorscale": [
             [
              0,
              "#440154"
             ],
             [
              0.1111111111111111,
              "#482878"
             ],
             [
              0.2222222222222222,
              "#3e4989"
             ],
             [
              0.3333333333333333,
              "#31688e"
             ],
             [
              0.4444444444444444,
              "#26828e"
             ],
             [
              0.5555555555555556,
              "#1f9e89"
             ],
             [
              0.6666666666666666,
              "#35b779"
             ],
             [
              0.7777777777777778,
              "#6ece58"
             ],
             [
              0.8888888888888888,
              "#b5de2b"
             ],
             [
              1,
              "#fde725"
             ]
            ],
            "type": "heatmap"
           }
          ],
          "heatmapgl": [
           {
            "colorbar": {
             "outlinewidth": 1,
             "tickcolor": "rgb(36,36,36)",
             "ticks": "outside"
            },
            "colorscale": [
             [
              0,
              "#440154"
             ],
             [
              0.1111111111111111,
              "#482878"
             ],
             [
              0.2222222222222222,
              "#3e4989"
             ],
             [
              0.3333333333333333,
              "#31688e"
             ],
             [
              0.4444444444444444,
              "#26828e"
             ],
             [
              0.5555555555555556,
              "#1f9e89"
             ],
             [
              0.6666666666666666,
              "#35b779"
             ],
             [
              0.7777777777777778,
              "#6ece58"
             ],
             [
              0.8888888888888888,
              "#b5de2b"
             ],
             [
              1,
              "#fde725"
             ]
            ],
            "type": "heatmapgl"
           }
          ],
          "histogram": [
           {
            "marker": {
             "line": {
              "color": "white",
              "width": 0.6
             }
            },
            "type": "histogram"
           }
          ],
          "histogram2d": [
           {
            "colorbar": {
             "outlinewidth": 1,
             "tickcolor": "rgb(36,36,36)",
             "ticks": "outside"
            },
            "colorscale": [
             [
              0,
              "#440154"
             ],
             [
              0.1111111111111111,
              "#482878"
             ],
             [
              0.2222222222222222,
              "#3e4989"
             ],
             [
              0.3333333333333333,
              "#31688e"
             ],
             [
              0.4444444444444444,
              "#26828e"
             ],
             [
              0.5555555555555556,
              "#1f9e89"
             ],
             [
              0.6666666666666666,
              "#35b779"
             ],
             [
              0.7777777777777778,
              "#6ece58"
             ],
             [
              0.8888888888888888,
              "#b5de2b"
             ],
             [
              1,
              "#fde725"
             ]
            ],
            "type": "histogram2d"
           }
          ],
          "histogram2dcontour": [
           {
            "colorbar": {
             "outlinewidth": 1,
             "tickcolor": "rgb(36,36,36)",
             "ticks": "outside"
            },
            "colorscale": [
             [
              0,
              "#440154"
             ],
             [
              0.1111111111111111,
              "#482878"
             ],
             [
              0.2222222222222222,
              "#3e4989"
             ],
             [
              0.3333333333333333,
              "#31688e"
             ],
             [
              0.4444444444444444,
              "#26828e"
             ],
             [
              0.5555555555555556,
              "#1f9e89"
             ],
             [
              0.6666666666666666,
              "#35b779"
             ],
             [
              0.7777777777777778,
              "#6ece58"
             ],
             [
              0.8888888888888888,
              "#b5de2b"
             ],
             [
              1,
              "#fde725"
             ]
            ],
            "type": "histogram2dcontour"
           }
          ],
          "mesh3d": [
           {
            "colorbar": {
             "outlinewidth": 1,
             "tickcolor": "rgb(36,36,36)",
             "ticks": "outside"
            },
            "type": "mesh3d"
           }
          ],
          "parcoords": [
           {
            "line": {
             "colorbar": {
              "outlinewidth": 1,
              "tickcolor": "rgb(36,36,36)",
              "ticks": "outside"
             }
            },
            "type": "parcoords"
           }
          ],
          "pie": [
           {
            "automargin": true,
            "type": "pie"
           }
          ],
          "scatter": [
           {
            "marker": {
             "colorbar": {
              "outlinewidth": 1,
              "tickcolor": "rgb(36,36,36)",
              "ticks": "outside"
             }
            },
            "type": "scatter"
           }
          ],
          "scatter3d": [
           {
            "line": {
             "colorbar": {
              "outlinewidth": 1,
              "tickcolor": "rgb(36,36,36)",
              "ticks": "outside"
             }
            },
            "marker": {
             "colorbar": {
              "outlinewidth": 1,
              "tickcolor": "rgb(36,36,36)",
              "ticks": "outside"
             }
            },
            "type": "scatter3d"
           }
          ],
          "scattercarpet": [
           {
            "marker": {
             "colorbar": {
              "outlinewidth": 1,
              "tickcolor": "rgb(36,36,36)",
              "ticks": "outside"
             }
            },
            "type": "scattercarpet"
           }
          ],
          "scattergeo": [
           {
            "marker": {
             "colorbar": {
              "outlinewidth": 1,
              "tickcolor": "rgb(36,36,36)",
              "ticks": "outside"
             }
            },
            "type": "scattergeo"
           }
          ],
          "scattergl": [
           {
            "marker": {
             "colorbar": {
              "outlinewidth": 1,
              "tickcolor": "rgb(36,36,36)",
              "ticks": "outside"
             }
            },
            "type": "scattergl"
           }
          ],
          "scattermapbox": [
           {
            "marker": {
             "colorbar": {
              "outlinewidth": 1,
              "tickcolor": "rgb(36,36,36)",
              "ticks": "outside"
             }
            },
            "type": "scattermapbox"
           }
          ],
          "scatterpolar": [
           {
            "marker": {
             "colorbar": {
              "outlinewidth": 1,
              "tickcolor": "rgb(36,36,36)",
              "ticks": "outside"
             }
            },
            "type": "scatterpolar"
           }
          ],
          "scatterpolargl": [
           {
            "marker": {
             "colorbar": {
              "outlinewidth": 1,
              "tickcolor": "rgb(36,36,36)",
              "ticks": "outside"
             }
            },
            "type": "scatterpolargl"
           }
          ],
          "scatterternary": [
           {
            "marker": {
             "colorbar": {
              "outlinewidth": 1,
              "tickcolor": "rgb(36,36,36)",
              "ticks": "outside"
             }
            },
            "type": "scatterternary"
           }
          ],
          "surface": [
           {
            "colorbar": {
             "outlinewidth": 1,
             "tickcolor": "rgb(36,36,36)",
             "ticks": "outside"
            },
            "colorscale": [
             [
              0,
              "#440154"
             ],
             [
              0.1111111111111111,
              "#482878"
             ],
             [
              0.2222222222222222,
              "#3e4989"
             ],
             [
              0.3333333333333333,
              "#31688e"
             ],
             [
              0.4444444444444444,
              "#26828e"
             ],
             [
              0.5555555555555556,
              "#1f9e89"
             ],
             [
              0.6666666666666666,
              "#35b779"
             ],
             [
              0.7777777777777778,
              "#6ece58"
             ],
             [
              0.8888888888888888,
              "#b5de2b"
             ],
             [
              1,
              "#fde725"
             ]
            ],
            "type": "surface"
           }
          ],
          "table": [
           {
            "cells": {
             "fill": {
              "color": "rgb(237,237,237)"
             },
             "line": {
              "color": "white"
             }
            },
            "header": {
             "fill": {
              "color": "rgb(217,217,217)"
             },
             "line": {
              "color": "white"
             }
            },
            "type": "table"
           }
          ]
         },
         "layout": {
          "annotationdefaults": {
           "arrowhead": 0,
           "arrowwidth": 1
          },
          "autotypenumbers": "strict",
          "coloraxis": {
           "colorbar": {
            "outlinewidth": 1,
            "tickcolor": "rgb(36,36,36)",
            "ticks": "outside"
           }
          },
          "colorscale": {
           "diverging": [
            [
             0,
             "rgb(103,0,31)"
            ],
            [
             0.1,
             "rgb(178,24,43)"
            ],
            [
             0.2,
             "rgb(214,96,77)"
            ],
            [
             0.3,
             "rgb(244,165,130)"
            ],
            [
             0.4,
             "rgb(253,219,199)"
            ],
            [
             0.5,
             "rgb(247,247,247)"
            ],
            [
             0.6,
             "rgb(209,229,240)"
            ],
            [
             0.7,
             "rgb(146,197,222)"
            ],
            [
             0.8,
             "rgb(67,147,195)"
            ],
            [
             0.9,
             "rgb(33,102,172)"
            ],
            [
             1,
             "rgb(5,48,97)"
            ]
           ],
           "sequential": [
            [
             0,
             "#440154"
            ],
            [
             0.1111111111111111,
             "#482878"
            ],
            [
             0.2222222222222222,
             "#3e4989"
            ],
            [
             0.3333333333333333,
             "#31688e"
            ],
            [
             0.4444444444444444,
             "#26828e"
            ],
            [
             0.5555555555555556,
             "#1f9e89"
            ],
            [
             0.6666666666666666,
             "#35b779"
            ],
            [
             0.7777777777777778,
             "#6ece58"
            ],
            [
             0.8888888888888888,
             "#b5de2b"
            ],
            [
             1,
             "#fde725"
            ]
           ],
           "sequentialminus": [
            [
             0,
             "#440154"
            ],
            [
             0.1111111111111111,
             "#482878"
            ],
            [
             0.2222222222222222,
             "#3e4989"
            ],
            [
             0.3333333333333333,
             "#31688e"
            ],
            [
             0.4444444444444444,
             "#26828e"
            ],
            [
             0.5555555555555556,
             "#1f9e89"
            ],
            [
             0.6666666666666666,
             "#35b779"
            ],
            [
             0.7777777777777778,
             "#6ece58"
            ],
            [
             0.8888888888888888,
             "#b5de2b"
            ],
            [
             1,
             "#fde725"
            ]
           ]
          },
          "colorway": [
           "#1F77B4",
           "#FF7F0E",
           "#2CA02C",
           "#D62728",
           "#9467BD",
           "#8C564B",
           "#E377C2",
           "#7F7F7F",
           "#BCBD22",
           "#17BECF"
          ],
          "font": {
           "color": "rgb(36,36,36)"
          },
          "geo": {
           "bgcolor": "white",
           "lakecolor": "white",
           "landcolor": "white",
           "showlakes": true,
           "showland": true,
           "subunitcolor": "white"
          },
          "hoverlabel": {
           "align": "left"
          },
          "hovermode": "closest",
          "mapbox": {
           "style": "light"
          },
          "paper_bgcolor": "white",
          "plot_bgcolor": "white",
          "polar": {
           "angularaxis": {
            "gridcolor": "rgb(232,232,232)",
            "linecolor": "rgb(36,36,36)",
            "showgrid": false,
            "showline": true,
            "ticks": "outside"
           },
           "bgcolor": "white",
           "radialaxis": {
            "gridcolor": "rgb(232,232,232)",
            "linecolor": "rgb(36,36,36)",
            "showgrid": false,
            "showline": true,
            "ticks": "outside"
           }
          },
          "scene": {
           "xaxis": {
            "backgroundcolor": "white",
            "gridcolor": "rgb(232,232,232)",
            "gridwidth": 2,
            "linecolor": "rgb(36,36,36)",
            "showbackground": true,
            "showgrid": false,
            "showline": true,
            "ticks": "outside",
            "zeroline": false,
            "zerolinecolor": "rgb(36,36,36)"
           },
           "yaxis": {
            "backgroundcolor": "white",
            "gridcolor": "rgb(232,232,232)",
            "gridwidth": 2,
            "linecolor": "rgb(36,36,36)",
            "showbackground": true,
            "showgrid": false,
            "showline": true,
            "ticks": "outside",
            "zeroline": false,
            "zerolinecolor": "rgb(36,36,36)"
           },
           "zaxis": {
            "backgroundcolor": "white",
            "gridcolor": "rgb(232,232,232)",
            "gridwidth": 2,
            "linecolor": "rgb(36,36,36)",
            "showbackground": true,
            "showgrid": false,
            "showline": true,
            "ticks": "outside",
            "zeroline": false,
            "zerolinecolor": "rgb(36,36,36)"
           }
          },
          "shapedefaults": {
           "fillcolor": "black",
           "line": {
            "width": 0
           },
           "opacity": 0.3
          },
          "ternary": {
           "aaxis": {
            "gridcolor": "rgb(232,232,232)",
            "linecolor": "rgb(36,36,36)",
            "showgrid": false,
            "showline": true,
            "ticks": "outside"
           },
           "baxis": {
            "gridcolor": "rgb(232,232,232)",
            "linecolor": "rgb(36,36,36)",
            "showgrid": false,
            "showline": true,
            "ticks": "outside"
           },
           "bgcolor": "white",
           "caxis": {
            "gridcolor": "rgb(232,232,232)",
            "linecolor": "rgb(36,36,36)",
            "showgrid": false,
            "showline": true,
            "ticks": "outside"
           }
          },
          "title": {
           "x": 0.05
          },
          "xaxis": {
           "automargin": true,
           "gridcolor": "rgb(232,232,232)",
           "linecolor": "rgb(36,36,36)",
           "showgrid": false,
           "showline": true,
           "ticks": "outside",
           "title": {
            "standoff": 15
           },
           "zeroline": false,
           "zerolinecolor": "rgb(36,36,36)"
          },
          "yaxis": {
           "automargin": true,
           "gridcolor": "rgb(232,232,232)",
           "linecolor": "rgb(36,36,36)",
           "showgrid": false,
           "showline": true,
           "ticks": "outside",
           "title": {
            "standoff": 15
           },
           "zeroline": false,
           "zerolinecolor": "rgb(36,36,36)"
          }
         }
        },
        "width": 400,
        "xaxis": {
         "anchor": "y",
         "categoryorder": "trace",
         "domain": [
          0,
          1
         ],
         "title": {
          "text": ""
         }
        },
        "yaxis": {
         "anchor": "x",
         "autorange": "reversed",
         "domain": [
          0,
          1
         ],
         "range": [
          1,
          10
         ],
         "side": "right",
         "tick0": 1,
         "title": {
          "text": "Average Album Voter Rank<br><i>(Lower is Better)</i>"
         }
        }
       }
      }
     },
     "metadata": {},
     "output_type": "display_data"
    }
   ],
   "source": [
    "figure = px.bar(\n",
    "    data_frame=compare_df,\n",
    "    x=\"Album\",\n",
    "    y=\"album_average_rank\",\n",
    "    color=\"user_album\",\n",
    "    custom_data=[\"Artist\", \"album_score\", \"album_submission_count\"],\n",
    "    labels={\"album_average_rank\": \"Average Album Voter Rank<br><i>(Lower is Better)</i>\", \"Album\": \"\"},\n",
    "    template=\"simple_white\",\n",
    "    text_auto=True,\n",
    "    color_discrete_map={True: APP_COLORS[\"accent\"], False: APP_COLORS[\"standard\"]},\n",
    "    width = 400\n",
    ")\n",
    "\n",
    "figure.update_traces(\n",
    "    hovertemplate=\"<br>\".join(\n",
    "        [\n",
    "            \"<b>%{customdata[0]}</b> - <i>%{x}</i>\",\n",
    "            \"\",\n",
    "            \"<extra></extra>\",\n",
    "        ]\n",
    "    )\n",
    ")\n",
    "\n",
    "# overall average\n",
    "overall_average = 5.5 #AOTY_by_album[\"album_average_rank\"].mean()\n",
    "figure.add_hrect(\n",
    "    y0=overall_average - 0.05,\n",
    "    y1=overall_average + 0.05,\n",
    "    opacity=0.3,\n",
    "    fillcolor=APP_COLORS[\"dark\"],\n",
    "    annotation_text=\"Overall Average\",\n",
    "    annotation_font={\"size\": 8},\n",
    "    annotation_position=\"outside left\",\n",
    "    annotation_font_color=APP_COLORS[\"dim\"],\n",
    ")\n",
    "\n",
    "# top 10 average\n",
    "top_10_average = top_10_albums[\"album_average_rank\"].mean()\n",
    "figure.add_hrect(\n",
    "    y0=top_10_average - 0.05,\n",
    "    y1=top_10_average + 0.05,\n",
    "    opacity=0.3,\n",
    "    fillcolor=APP_COLORS[\"dark\"],\n",
    "    annotation_text=\"Top 10 Average\",\n",
    "    annotation_font={\"size\": 8},\n",
    "    annotation_position=\"outside left\",\n",
    "    annotation_font_color=APP_COLORS[\"dim\"],\n",
    ")\n",
    "\n",
    "# Add invisible points for hover\n",
    "figure.add_scatter(\n",
    "    x = [USER_ALBUM, USER_ALBUM],\n",
    "    y = [overall_average, top_10_average],\n",
    "    showlegend = False,\n",
    "    hoverinfo = \"y\",\n",
    "    mode=\"none\")\n",
    "\n",
    "\n",
    "figure.update_yaxes(\n",
    "    autorange = \"reversed\",\n",
    "    range = [1,10],\n",
    "    tick0 = 1,\n",
    "    side = \"right\"\n",
    ")\n",
    "\n",
    "figure.update_layout(hovermode=\"y\", showlegend=False, xaxis_categoryorder=\"trace\")\n"
   ]
  },
  {
   "cell_type": "code",
   "execution_count": null,
   "metadata": {},
   "outputs": [],
   "source": []
  }
 ],
 "metadata": {
  "interpreter": {
   "hash": "3d597f4c481aa0f25dceb95d2a0067e73c0966dcbd003d741d821a7208527ecf"
  },
  "kernelspec": {
   "display_name": "Python 3.9.5 64-bit ('base': conda)",
   "language": "python",
   "name": "python3"
  },
  "language_info": {
   "codemirror_mode": {
    "name": "ipython",
    "version": 3
   },
   "file_extension": ".py",
   "mimetype": "text/x-python",
   "name": "python",
   "nbconvert_exporter": "python",
   "pygments_lexer": "ipython3",
   "version": "3.9.5"
  },
  "orig_nbformat": 4
 },
 "nbformat": 4,
 "nbformat_minor": 2
}
