{
 "cells": [
  {
   "cell_type": "code",
   "execution_count": 18,
   "metadata": {},
   "outputs": [],
   "source": [
    "import pandas as pd\n",
    "\n",
    "import plotly.express as px\n",
    "import plotly.graph_objects as go\n"
   ]
  },
  {
   "cell_type": "markdown",
   "metadata": {},
   "source": [
    "## Read In and Clean Data"
   ]
  },
  {
   "cell_type": "code",
   "execution_count": 19,
   "metadata": {},
   "outputs": [],
   "source": [
    "from data.data import AOTY"
   ]
  },
  {
   "cell_type": "code",
   "execution_count": 20,
   "metadata": {},
   "outputs": [
    {
     "data": {
      "text/html": [
       "<div>\n",
       "<style scoped>\n",
       "    .dataframe tbody tr th:only-of-type {\n",
       "        vertical-align: middle;\n",
       "    }\n",
       "\n",
       "    .dataframe tbody tr th {\n",
       "        vertical-align: top;\n",
       "    }\n",
       "\n",
       "    .dataframe thead th {\n",
       "        text-align: right;\n",
       "    }\n",
       "</style>\n",
       "<table border=\"1\" class=\"dataframe\">\n",
       "  <thead>\n",
       "    <tr style=\"text-align: right;\">\n",
       "      <th></th>\n",
       "      <th>Rank</th>\n",
       "      <th>Lister</th>\n",
       "      <th>Artist</th>\n",
       "      <th>Album</th>\n",
       "      <th>album_submission_count</th>\n",
       "      <th>album_score</th>\n",
       "      <th>top_10_album</th>\n",
       "      <th>album_average_rank</th>\n",
       "      <th>unique_album_submission</th>\n",
       "      <th>artist_album_release_count</th>\n",
       "      <th>multi_album_artist</th>\n",
       "    </tr>\n",
       "  </thead>\n",
       "  <tbody>\n",
       "    <tr>\n",
       "      <th>0</th>\n",
       "      <td>1</td>\n",
       "      <td>Aaron</td>\n",
       "      <td>The Dirty Nil</td>\n",
       "      <td>Fuck Art</td>\n",
       "      <td>2</td>\n",
       "      <td>15</td>\n",
       "      <td>False</td>\n",
       "      <td>3.500000</td>\n",
       "      <td>False</td>\n",
       "      <td>1</td>\n",
       "      <td>False</td>\n",
       "    </tr>\n",
       "    <tr>\n",
       "      <th>1</th>\n",
       "      <td>2</td>\n",
       "      <td>Aaron</td>\n",
       "      <td>Whitechapel</td>\n",
       "      <td>Kin</td>\n",
       "      <td>1</td>\n",
       "      <td>9</td>\n",
       "      <td>False</td>\n",
       "      <td>2.000000</td>\n",
       "      <td>True</td>\n",
       "      <td>1</td>\n",
       "      <td>False</td>\n",
       "    </tr>\n",
       "    <tr>\n",
       "      <th>2</th>\n",
       "      <td>3</td>\n",
       "      <td>Aaron</td>\n",
       "      <td>That Handsome Devil</td>\n",
       "      <td>Your Parents Are Sellouts</td>\n",
       "      <td>1</td>\n",
       "      <td>8</td>\n",
       "      <td>False</td>\n",
       "      <td>3.000000</td>\n",
       "      <td>True</td>\n",
       "      <td>1</td>\n",
       "      <td>False</td>\n",
       "    </tr>\n",
       "    <tr>\n",
       "      <th>3</th>\n",
       "      <td>4</td>\n",
       "      <td>Aaron</td>\n",
       "      <td>Billie Eilish</td>\n",
       "      <td>Happier Than Ever</td>\n",
       "      <td>22</td>\n",
       "      <td>137</td>\n",
       "      <td>True</td>\n",
       "      <td>4.772727</td>\n",
       "      <td>False</td>\n",
       "      <td>1</td>\n",
       "      <td>False</td>\n",
       "    </tr>\n",
       "    <tr>\n",
       "      <th>4</th>\n",
       "      <td>5</td>\n",
       "      <td>Aaron</td>\n",
       "      <td>Lorna Shore</td>\n",
       "      <td>...And I Return To Nothingness</td>\n",
       "      <td>1</td>\n",
       "      <td>6</td>\n",
       "      <td>False</td>\n",
       "      <td>5.000000</td>\n",
       "      <td>True</td>\n",
       "      <td>1</td>\n",
       "      <td>False</td>\n",
       "    </tr>\n",
       "    <tr>\n",
       "      <th>...</th>\n",
       "      <td>...</td>\n",
       "      <td>...</td>\n",
       "      <td>...</td>\n",
       "      <td>...</td>\n",
       "      <td>...</td>\n",
       "      <td>...</td>\n",
       "      <td>...</td>\n",
       "      <td>...</td>\n",
       "      <td>...</td>\n",
       "      <td>...</td>\n",
       "      <td>...</td>\n",
       "    </tr>\n",
       "    <tr>\n",
       "      <th>975</th>\n",
       "      <td>6</td>\n",
       "      <td>Zack</td>\n",
       "      <td>Mark Barlow</td>\n",
       "      <td>Hymns &amp; Soul</td>\n",
       "      <td>2</td>\n",
       "      <td>15</td>\n",
       "      <td>False</td>\n",
       "      <td>3.500000</td>\n",
       "      <td>False</td>\n",
       "      <td>1</td>\n",
       "      <td>False</td>\n",
       "    </tr>\n",
       "    <tr>\n",
       "      <th>976</th>\n",
       "      <td>7</td>\n",
       "      <td>Zack</td>\n",
       "      <td>Aquilo</td>\n",
       "      <td>A Safe Place To Be</td>\n",
       "      <td>1</td>\n",
       "      <td>4</td>\n",
       "      <td>False</td>\n",
       "      <td>7.000000</td>\n",
       "      <td>True</td>\n",
       "      <td>1</td>\n",
       "      <td>False</td>\n",
       "    </tr>\n",
       "    <tr>\n",
       "      <th>977</th>\n",
       "      <td>8</td>\n",
       "      <td>Zack</td>\n",
       "      <td>Tingsek</td>\n",
       "      <td>Home</td>\n",
       "      <td>2</td>\n",
       "      <td>4</td>\n",
       "      <td>False</td>\n",
       "      <td>9.000000</td>\n",
       "      <td>False</td>\n",
       "      <td>1</td>\n",
       "      <td>False</td>\n",
       "    </tr>\n",
       "    <tr>\n",
       "      <th>978</th>\n",
       "      <td>9</td>\n",
       "      <td>Zack</td>\n",
       "      <td>Ben Howard</td>\n",
       "      <td>Collections From The Whiteout</td>\n",
       "      <td>2</td>\n",
       "      <td>6</td>\n",
       "      <td>False</td>\n",
       "      <td>8.000000</td>\n",
       "      <td>False</td>\n",
       "      <td>1</td>\n",
       "      <td>False</td>\n",
       "    </tr>\n",
       "    <tr>\n",
       "      <th>979</th>\n",
       "      <td>10</td>\n",
       "      <td>Zack</td>\n",
       "      <td>The Paper Kites</td>\n",
       "      <td>Roses</td>\n",
       "      <td>1</td>\n",
       "      <td>1</td>\n",
       "      <td>False</td>\n",
       "      <td>10.000000</td>\n",
       "      <td>True</td>\n",
       "      <td>1</td>\n",
       "      <td>False</td>\n",
       "    </tr>\n",
       "  </tbody>\n",
       "</table>\n",
       "<p>980 rows × 11 columns</p>\n",
       "</div>"
      ],
      "text/plain": [
       "     Rank Lister               Artist                           Album  \\\n",
       "0       1  Aaron        The Dirty Nil                        Fuck Art   \n",
       "1       2  Aaron          Whitechapel                             Kin   \n",
       "2       3  Aaron  That Handsome Devil       Your Parents Are Sellouts   \n",
       "3       4  Aaron        Billie Eilish               Happier Than Ever   \n",
       "4       5  Aaron          Lorna Shore  ...And I Return To Nothingness   \n",
       "..    ...    ...                  ...                             ...   \n",
       "975     6   Zack          Mark Barlow                    Hymns & Soul   \n",
       "976     7   Zack               Aquilo              A Safe Place To Be   \n",
       "977     8   Zack              Tingsek                            Home   \n",
       "978     9   Zack           Ben Howard   Collections From The Whiteout   \n",
       "979    10   Zack      The Paper Kites                           Roses   \n",
       "\n",
       "     album_submission_count  album_score  top_10_album  album_average_rank  \\\n",
       "0                         2           15         False            3.500000   \n",
       "1                         1            9         False            2.000000   \n",
       "2                         1            8         False            3.000000   \n",
       "3                        22          137          True            4.772727   \n",
       "4                         1            6         False            5.000000   \n",
       "..                      ...          ...           ...                 ...   \n",
       "975                       2           15         False            3.500000   \n",
       "976                       1            4         False            7.000000   \n",
       "977                       2            4         False            9.000000   \n",
       "978                       2            6         False            8.000000   \n",
       "979                       1            1         False           10.000000   \n",
       "\n",
       "     unique_album_submission  artist_album_release_count  multi_album_artist  \n",
       "0                      False                           1               False  \n",
       "1                       True                           1               False  \n",
       "2                       True                           1               False  \n",
       "3                      False                           1               False  \n",
       "4                       True                           1               False  \n",
       "..                       ...                         ...                 ...  \n",
       "975                    False                           1               False  \n",
       "976                     True                           1               False  \n",
       "977                    False                           1               False  \n",
       "978                    False                           1               False  \n",
       "979                     True                           1               False  \n",
       "\n",
       "[980 rows x 11 columns]"
      ]
     },
     "execution_count": 20,
     "metadata": {},
     "output_type": "execute_result"
    }
   ],
   "source": [
    "AOTY"
   ]
  },
  {
   "cell_type": "markdown",
   "metadata": {},
   "source": [
    "## Get Extra Metadata\n",
    "\n",
    "* Total Listers\n",
    "* Total Artists\n",
    "* Total Albums"
   ]
  },
  {
   "cell_type": "code",
   "execution_count": 21,
   "metadata": {},
   "outputs": [],
   "source": [
    "from data.data import TOTAL_LISTERS, TOTAL_ARTISTS, TOTAL_ALBUMS"
   ]
  },
  {
   "cell_type": "code",
   "execution_count": 22,
   "metadata": {},
   "outputs": [
    {
     "data": {
      "text/plain": [
       "98"
      ]
     },
     "execution_count": 22,
     "metadata": {},
     "output_type": "execute_result"
    }
   ],
   "source": [
    "TOTAL_LISTERS"
   ]
  },
  {
   "cell_type": "code",
   "execution_count": 6,
   "metadata": {},
   "outputs": [
    {
     "data": {
      "text/plain": [
       "432"
      ]
     },
     "execution_count": 6,
     "metadata": {},
     "output_type": "execute_result"
    }
   ],
   "source": [
    "TOTAL_ARTISTS"
   ]
  },
  {
   "cell_type": "code",
   "execution_count": 7,
   "metadata": {},
   "outputs": [
    {
     "data": {
      "text/plain": [
       "436"
      ]
     },
     "execution_count": 7,
     "metadata": {},
     "output_type": "execute_result"
    }
   ],
   "source": [
    "TOTAL_ALBUMS"
   ]
  },
  {
   "cell_type": "markdown",
   "metadata": {},
   "source": [
    "* album_submission_count for each album\n",
    "* unique_album_submission tag for each submission\n",
    "* artist_album_release_count\n",
    "* multi_album_artist"
   ]
  },
  {
   "cell_type": "code",
   "execution_count": 8,
   "metadata": {},
   "outputs": [
    {
     "data": {
      "text/html": [
       "<div>\n",
       "<style scoped>\n",
       "    .dataframe tbody tr th:only-of-type {\n",
       "        vertical-align: middle;\n",
       "    }\n",
       "\n",
       "    .dataframe tbody tr th {\n",
       "        vertical-align: top;\n",
       "    }\n",
       "\n",
       "    .dataframe thead th {\n",
       "        text-align: right;\n",
       "    }\n",
       "</style>\n",
       "<table border=\"1\" class=\"dataframe\">\n",
       "  <thead>\n",
       "    <tr style=\"text-align: right;\">\n",
       "      <th></th>\n",
       "      <th>Artist</th>\n",
       "      <th>Album</th>\n",
       "    </tr>\n",
       "  </thead>\n",
       "  <tbody>\n",
       "    <tr>\n",
       "      <th>49</th>\n",
       "      <td>Hobo Johnson</td>\n",
       "      <td>The Revenge of Hobo Johnson</td>\n",
       "    </tr>\n",
       "    <tr>\n",
       "      <th>85</th>\n",
       "      <td>Drake</td>\n",
       "      <td>Certified Lover Boy</td>\n",
       "    </tr>\n",
       "    <tr>\n",
       "      <th>102</th>\n",
       "      <td>Benny Sings</td>\n",
       "      <td>Music</td>\n",
       "    </tr>\n",
       "    <tr>\n",
       "      <th>213</th>\n",
       "      <td>Drake</td>\n",
       "      <td>Scary Hours 2</td>\n",
       "    </tr>\n",
       "    <tr>\n",
       "      <th>243</th>\n",
       "      <td>Lana Del Rey</td>\n",
       "      <td>Chemtrails Over the Country Club</td>\n",
       "    </tr>\n",
       "    <tr>\n",
       "      <th>267</th>\n",
       "      <td>Eric Church</td>\n",
       "      <td>Soul</td>\n",
       "    </tr>\n",
       "    <tr>\n",
       "      <th>416</th>\n",
       "      <td>Benny Sings</td>\n",
       "      <td>Beat Tape II</td>\n",
       "    </tr>\n",
       "    <tr>\n",
       "      <th>534</th>\n",
       "      <td>Various Artists</td>\n",
       "      <td>The Harder They Fall (The Motion Picture Sound...</td>\n",
       "    </tr>\n",
       "    <tr>\n",
       "      <th>622</th>\n",
       "      <td>Lana Del Rey</td>\n",
       "      <td>Blue Banisters</td>\n",
       "    </tr>\n",
       "    <tr>\n",
       "      <th>643</th>\n",
       "      <td>Eric Church</td>\n",
       "      <td>Heart</td>\n",
       "    </tr>\n",
       "    <tr>\n",
       "      <th>657</th>\n",
       "      <td>Hobo Johnson</td>\n",
       "      <td>Hobo Johnson Alienates His Fanbase</td>\n",
       "    </tr>\n",
       "    <tr>\n",
       "      <th>681</th>\n",
       "      <td>Joshua Bassett</td>\n",
       "      <td>Joshua Bassett</td>\n",
       "    </tr>\n",
       "    <tr>\n",
       "      <th>684</th>\n",
       "      <td>Joshua Bassett</td>\n",
       "      <td>CRISIS</td>\n",
       "    </tr>\n",
       "    <tr>\n",
       "      <th>856</th>\n",
       "      <td>Various Artists</td>\n",
       "      <td>tick, tick... BOOM! (Soundtrack from the Netfl...</td>\n",
       "    </tr>\n",
       "  </tbody>\n",
       "</table>\n",
       "</div>"
      ],
      "text/plain": [
       "              Artist                                              Album\n",
       "49      Hobo Johnson                        The Revenge of Hobo Johnson\n",
       "85             Drake                                Certified Lover Boy\n",
       "102      Benny Sings                                              Music\n",
       "213            Drake                                      Scary Hours 2\n",
       "243     Lana Del Rey                   Chemtrails Over the Country Club\n",
       "267      Eric Church                                               Soul\n",
       "416      Benny Sings                                       Beat Tape II\n",
       "534  Various Artists  The Harder They Fall (The Motion Picture Sound...\n",
       "622     Lana Del Rey                                     Blue Banisters\n",
       "643      Eric Church                                              Heart\n",
       "657     Hobo Johnson                 Hobo Johnson Alienates His Fanbase\n",
       "681   Joshua Bassett                                     Joshua Bassett\n",
       "684   Joshua Bassett                                             CRISIS\n",
       "856  Various Artists  tick, tick... BOOM! (Soundtrack from the Netfl..."
      ]
     },
     "execution_count": 8,
     "metadata": {},
     "output_type": "execute_result"
    }
   ],
   "source": [
    "AOTY.loc[AOTY[\"multi_album_artist\"] == True][[\"Artist\", \"Album\"]].drop_duplicates()"
   ]
  },
  {
   "cell_type": "code",
   "execution_count": 9,
   "metadata": {},
   "outputs": [
    {
     "data": {
      "text/plain": [
       "436"
      ]
     },
     "execution_count": 9,
     "metadata": {},
     "output_type": "execute_result"
    }
   ],
   "source": [
    "len(set(pd.read_csv(\"data/AOTY-2021-lists.csv\")[\"Album\"]))"
   ]
  },
  {
   "cell_type": "code",
   "execution_count": 10,
   "metadata": {},
   "outputs": [
    {
     "data": {
      "text/plain": [
       "436"
      ]
     },
     "execution_count": 10,
     "metadata": {},
     "output_type": "execute_result"
    }
   ],
   "source": [
    "AOTY[\"Album\"].nunique()"
   ]
  },
  {
   "cell_type": "markdown",
   "metadata": {},
   "source": [
    "### Scrape Genre Metadata?"
   ]
  },
  {
   "cell_type": "code",
   "execution_count": null,
   "metadata": {},
   "outputs": [],
   "source": []
  },
  {
   "cell_type": "markdown",
   "metadata": {},
   "source": [
    "---\n",
    "\n",
    "# Dataviz"
   ]
  },
  {
   "cell_type": "markdown",
   "metadata": {},
   "source": [
    "##### Top 10 Album Barchart"
   ]
  },
  {
   "cell_type": "code",
   "execution_count": 11,
   "metadata": {},
   "outputs": [
    {
     "data": {
      "text/html": [
       "<div>\n",
       "<style scoped>\n",
       "    .dataframe tbody tr th:only-of-type {\n",
       "        vertical-align: middle;\n",
       "    }\n",
       "\n",
       "    .dataframe tbody tr th {\n",
       "        vertical-align: top;\n",
       "    }\n",
       "\n",
       "    .dataframe thead th {\n",
       "        text-align: right;\n",
       "    }\n",
       "</style>\n",
       "<table border=\"1\" class=\"dataframe\">\n",
       "  <thead>\n",
       "    <tr style=\"text-align: right;\">\n",
       "      <th></th>\n",
       "      <th>Rank</th>\n",
       "      <th>Lister</th>\n",
       "      <th>Artist</th>\n",
       "      <th>Album</th>\n",
       "      <th>album_submission_count</th>\n",
       "      <th>album_score</th>\n",
       "      <th>top_10_album</th>\n",
       "      <th>album_average_rank</th>\n",
       "      <th>unique_album_submission</th>\n",
       "      <th>artist_album_release_count</th>\n",
       "      <th>multi_album_artist</th>\n",
       "    </tr>\n",
       "  </thead>\n",
       "  <tbody>\n",
       "    <tr>\n",
       "      <th>0</th>\n",
       "      <td>1</td>\n",
       "      <td>Aaron</td>\n",
       "      <td>The Dirty Nil</td>\n",
       "      <td>Fuck Art</td>\n",
       "      <td>2</td>\n",
       "      <td>15</td>\n",
       "      <td>False</td>\n",
       "      <td>3.500000</td>\n",
       "      <td>False</td>\n",
       "      <td>1</td>\n",
       "      <td>False</td>\n",
       "    </tr>\n",
       "    <tr>\n",
       "      <th>1</th>\n",
       "      <td>2</td>\n",
       "      <td>Aaron</td>\n",
       "      <td>Whitechapel</td>\n",
       "      <td>Kin</td>\n",
       "      <td>1</td>\n",
       "      <td>9</td>\n",
       "      <td>False</td>\n",
       "      <td>2.000000</td>\n",
       "      <td>True</td>\n",
       "      <td>1</td>\n",
       "      <td>False</td>\n",
       "    </tr>\n",
       "    <tr>\n",
       "      <th>2</th>\n",
       "      <td>3</td>\n",
       "      <td>Aaron</td>\n",
       "      <td>That Handsome Devil</td>\n",
       "      <td>Your Parents Are Sellouts</td>\n",
       "      <td>1</td>\n",
       "      <td>8</td>\n",
       "      <td>False</td>\n",
       "      <td>3.000000</td>\n",
       "      <td>True</td>\n",
       "      <td>1</td>\n",
       "      <td>False</td>\n",
       "    </tr>\n",
       "    <tr>\n",
       "      <th>3</th>\n",
       "      <td>4</td>\n",
       "      <td>Aaron</td>\n",
       "      <td>Billie Eilish</td>\n",
       "      <td>Happier Than Ever</td>\n",
       "      <td>22</td>\n",
       "      <td>137</td>\n",
       "      <td>True</td>\n",
       "      <td>4.772727</td>\n",
       "      <td>False</td>\n",
       "      <td>1</td>\n",
       "      <td>False</td>\n",
       "    </tr>\n",
       "    <tr>\n",
       "      <th>4</th>\n",
       "      <td>5</td>\n",
       "      <td>Aaron</td>\n",
       "      <td>Lorna Shore</td>\n",
       "      <td>...And I Return To Nothingness</td>\n",
       "      <td>1</td>\n",
       "      <td>6</td>\n",
       "      <td>False</td>\n",
       "      <td>5.000000</td>\n",
       "      <td>True</td>\n",
       "      <td>1</td>\n",
       "      <td>False</td>\n",
       "    </tr>\n",
       "    <tr>\n",
       "      <th>...</th>\n",
       "      <td>...</td>\n",
       "      <td>...</td>\n",
       "      <td>...</td>\n",
       "      <td>...</td>\n",
       "      <td>...</td>\n",
       "      <td>...</td>\n",
       "      <td>...</td>\n",
       "      <td>...</td>\n",
       "      <td>...</td>\n",
       "      <td>...</td>\n",
       "      <td>...</td>\n",
       "    </tr>\n",
       "    <tr>\n",
       "      <th>975</th>\n",
       "      <td>6</td>\n",
       "      <td>Zack</td>\n",
       "      <td>Mark Barlow</td>\n",
       "      <td>Hymns &amp; Soul</td>\n",
       "      <td>2</td>\n",
       "      <td>15</td>\n",
       "      <td>False</td>\n",
       "      <td>3.500000</td>\n",
       "      <td>False</td>\n",
       "      <td>1</td>\n",
       "      <td>False</td>\n",
       "    </tr>\n",
       "    <tr>\n",
       "      <th>976</th>\n",
       "      <td>7</td>\n",
       "      <td>Zack</td>\n",
       "      <td>Aquilo</td>\n",
       "      <td>A Safe Place To Be</td>\n",
       "      <td>1</td>\n",
       "      <td>4</td>\n",
       "      <td>False</td>\n",
       "      <td>7.000000</td>\n",
       "      <td>True</td>\n",
       "      <td>1</td>\n",
       "      <td>False</td>\n",
       "    </tr>\n",
       "    <tr>\n",
       "      <th>977</th>\n",
       "      <td>8</td>\n",
       "      <td>Zack</td>\n",
       "      <td>Tingsek</td>\n",
       "      <td>Home</td>\n",
       "      <td>2</td>\n",
       "      <td>4</td>\n",
       "      <td>False</td>\n",
       "      <td>9.000000</td>\n",
       "      <td>False</td>\n",
       "      <td>1</td>\n",
       "      <td>False</td>\n",
       "    </tr>\n",
       "    <tr>\n",
       "      <th>978</th>\n",
       "      <td>9</td>\n",
       "      <td>Zack</td>\n",
       "      <td>Ben Howard</td>\n",
       "      <td>Collections From The Whiteout</td>\n",
       "      <td>2</td>\n",
       "      <td>6</td>\n",
       "      <td>False</td>\n",
       "      <td>8.000000</td>\n",
       "      <td>False</td>\n",
       "      <td>1</td>\n",
       "      <td>False</td>\n",
       "    </tr>\n",
       "    <tr>\n",
       "      <th>979</th>\n",
       "      <td>10</td>\n",
       "      <td>Zack</td>\n",
       "      <td>The Paper Kites</td>\n",
       "      <td>Roses</td>\n",
       "      <td>1</td>\n",
       "      <td>1</td>\n",
       "      <td>False</td>\n",
       "      <td>10.000000</td>\n",
       "      <td>True</td>\n",
       "      <td>1</td>\n",
       "      <td>False</td>\n",
       "    </tr>\n",
       "  </tbody>\n",
       "</table>\n",
       "<p>980 rows × 11 columns</p>\n",
       "</div>"
      ],
      "text/plain": [
       "     Rank Lister               Artist                           Album  \\\n",
       "0       1  Aaron        The Dirty Nil                        Fuck Art   \n",
       "1       2  Aaron          Whitechapel                             Kin   \n",
       "2       3  Aaron  That Handsome Devil       Your Parents Are Sellouts   \n",
       "3       4  Aaron        Billie Eilish               Happier Than Ever   \n",
       "4       5  Aaron          Lorna Shore  ...And I Return To Nothingness   \n",
       "..    ...    ...                  ...                             ...   \n",
       "975     6   Zack          Mark Barlow                    Hymns & Soul   \n",
       "976     7   Zack               Aquilo              A Safe Place To Be   \n",
       "977     8   Zack              Tingsek                            Home   \n",
       "978     9   Zack           Ben Howard   Collections From The Whiteout   \n",
       "979    10   Zack      The Paper Kites                           Roses   \n",
       "\n",
       "     album_submission_count  album_score  top_10_album  album_average_rank  \\\n",
       "0                         2           15         False            3.500000   \n",
       "1                         1            9         False            2.000000   \n",
       "2                         1            8         False            3.000000   \n",
       "3                        22          137          True            4.772727   \n",
       "4                         1            6         False            5.000000   \n",
       "..                      ...          ...           ...                 ...   \n",
       "975                       2           15         False            3.500000   \n",
       "976                       1            4         False            7.000000   \n",
       "977                       2            4         False            9.000000   \n",
       "978                       2            6         False            8.000000   \n",
       "979                       1            1         False           10.000000   \n",
       "\n",
       "     unique_album_submission  artist_album_release_count  multi_album_artist  \n",
       "0                      False                           1               False  \n",
       "1                       True                           1               False  \n",
       "2                       True                           1               False  \n",
       "3                      False                           1               False  \n",
       "4                       True                           1               False  \n",
       "..                       ...                         ...                 ...  \n",
       "975                    False                           1               False  \n",
       "976                     True                           1               False  \n",
       "977                    False                           1               False  \n",
       "978                    False                           1               False  \n",
       "979                     True                           1               False  \n",
       "\n",
       "[980 rows x 11 columns]"
      ]
     },
     "execution_count": 11,
     "metadata": {},
     "output_type": "execute_result"
    }
   ],
   "source": [
    "\n",
    "AOTY"
   ]
  },
  {
   "cell_type": "code",
   "execution_count": 12,
   "metadata": {},
   "outputs": [],
   "source": [
    "from data.data import AOTY_by_album\n"
   ]
  },
  {
   "cell_type": "code",
   "execution_count": 25,
   "metadata": {},
   "outputs": [
    {
     "data": {
      "text/html": [
       "<div>\n",
       "<style scoped>\n",
       "    .dataframe tbody tr th:only-of-type {\n",
       "        vertical-align: middle;\n",
       "    }\n",
       "\n",
       "    .dataframe tbody tr th {\n",
       "        vertical-align: top;\n",
       "    }\n",
       "\n",
       "    .dataframe thead th {\n",
       "        text-align: right;\n",
       "    }\n",
       "</style>\n",
       "<table border=\"1\" class=\"dataframe\">\n",
       "  <thead>\n",
       "    <tr style=\"text-align: right;\">\n",
       "      <th></th>\n",
       "      <th>Album</th>\n",
       "      <th>album_score</th>\n",
       "      <th>album_submission_count</th>\n",
       "    </tr>\n",
       "  </thead>\n",
       "  <tbody>\n",
       "    <tr>\n",
       "      <th>340</th>\n",
       "      <td>An Evening With Silk Sonic</td>\n",
       "      <td>171</td>\n",
       "      <td>25</td>\n",
       "    </tr>\n",
       "    <tr>\n",
       "      <th>6</th>\n",
       "      <td>30</td>\n",
       "      <td>138</td>\n",
       "      <td>21</td>\n",
       "    </tr>\n",
       "    <tr>\n",
       "      <th>295</th>\n",
       "      <td>Sour</td>\n",
       "      <td>137</td>\n",
       "      <td>25</td>\n",
       "    </tr>\n",
       "    <tr>\n",
       "      <th>43</th>\n",
       "      <td>Happier Than Ever</td>\n",
       "      <td>137</td>\n",
       "      <td>22</td>\n",
       "    </tr>\n",
       "    <tr>\n",
       "      <th>402</th>\n",
       "      <td>Call Me If You Get Lost</td>\n",
       "      <td>133</td>\n",
       "      <td>20</td>\n",
       "    </tr>\n",
       "    <tr>\n",
       "      <th>239</th>\n",
       "      <td>Montero</td>\n",
       "      <td>102</td>\n",
       "      <td>19</td>\n",
       "    </tr>\n",
       "    <tr>\n",
       "      <th>210</th>\n",
       "      <td>Little Oblivions</td>\n",
       "      <td>79</td>\n",
       "      <td>13</td>\n",
       "    </tr>\n",
       "    <tr>\n",
       "      <th>53</th>\n",
       "      <td>Inside (The Songs)</td>\n",
       "      <td>78</td>\n",
       "      <td>13</td>\n",
       "    </tr>\n",
       "    <tr>\n",
       "      <th>245</th>\n",
       "      <td>Solar Power</td>\n",
       "      <td>71</td>\n",
       "      <td>12</td>\n",
       "    </tr>\n",
       "    <tr>\n",
       "      <th>300</th>\n",
       "      <td>Day/Night</td>\n",
       "      <td>64</td>\n",
       "      <td>9</td>\n",
       "    </tr>\n",
       "  </tbody>\n",
       "</table>\n",
       "</div>"
      ],
      "text/plain": [
       "                          Album  album_score  album_submission_count\n",
       "340  An Evening With Silk Sonic          171                      25\n",
       "6                            30          138                      21\n",
       "295                        Sour          137                      25\n",
       "43            Happier Than Ever          137                      22\n",
       "402     Call Me If You Get Lost          133                      20\n",
       "239                     Montero          102                      19\n",
       "210            Little Oblivions           79                      13\n",
       "53           Inside (The Songs)           78                      13\n",
       "245                 Solar Power           71                      12\n",
       "300                   Day/Night           64                       9"
      ]
     },
     "execution_count": 25,
     "metadata": {},
     "output_type": "execute_result"
    }
   ],
   "source": [
    "AOTY_by_album[[\"Album\", \"album_score\", \"album_submission_count\"]].sort_values(\"album_score\", ascending = False).head(10)"
   ]
  },
  {
   "cell_type": "code",
   "execution_count": 26,
   "metadata": {},
   "outputs": [
    {
     "data": {
      "text/html": [
       "<div>\n",
       "<style scoped>\n",
       "    .dataframe tbody tr th:only-of-type {\n",
       "        vertical-align: middle;\n",
       "    }\n",
       "\n",
       "    .dataframe tbody tr th {\n",
       "        vertical-align: top;\n",
       "    }\n",
       "\n",
       "    .dataframe thead th {\n",
       "        text-align: right;\n",
       "    }\n",
       "</style>\n",
       "<table border=\"1\" class=\"dataframe\">\n",
       "  <thead>\n",
       "    <tr style=\"text-align: right;\">\n",
       "      <th></th>\n",
       "      <th>Album</th>\n",
       "      <th>album_score</th>\n",
       "      <th>album_submission_count</th>\n",
       "    </tr>\n",
       "  </thead>\n",
       "  <tbody>\n",
       "    <tr>\n",
       "      <th>340</th>\n",
       "      <td>An Evening With Silk Sonic</td>\n",
       "      <td>171</td>\n",
       "      <td>25</td>\n",
       "    </tr>\n",
       "    <tr>\n",
       "      <th>295</th>\n",
       "      <td>Sour</td>\n",
       "      <td>137</td>\n",
       "      <td>25</td>\n",
       "    </tr>\n",
       "    <tr>\n",
       "      <th>43</th>\n",
       "      <td>Happier Than Ever</td>\n",
       "      <td>137</td>\n",
       "      <td>22</td>\n",
       "    </tr>\n",
       "    <tr>\n",
       "      <th>6</th>\n",
       "      <td>30</td>\n",
       "      <td>138</td>\n",
       "      <td>21</td>\n",
       "    </tr>\n",
       "    <tr>\n",
       "      <th>402</th>\n",
       "      <td>Call Me If You Get Lost</td>\n",
       "      <td>133</td>\n",
       "      <td>20</td>\n",
       "    </tr>\n",
       "    <tr>\n",
       "      <th>239</th>\n",
       "      <td>Montero</td>\n",
       "      <td>102</td>\n",
       "      <td>19</td>\n",
       "    </tr>\n",
       "    <tr>\n",
       "      <th>53</th>\n",
       "      <td>Inside (The Songs)</td>\n",
       "      <td>78</td>\n",
       "      <td>13</td>\n",
       "    </tr>\n",
       "    <tr>\n",
       "      <th>210</th>\n",
       "      <td>Little Oblivions</td>\n",
       "      <td>79</td>\n",
       "      <td>13</td>\n",
       "    </tr>\n",
       "    <tr>\n",
       "      <th>245</th>\n",
       "      <td>Solar Power</td>\n",
       "      <td>71</td>\n",
       "      <td>12</td>\n",
       "    </tr>\n",
       "    <tr>\n",
       "      <th>218</th>\n",
       "      <td>Donda</td>\n",
       "      <td>63</td>\n",
       "      <td>11</td>\n",
       "    </tr>\n",
       "  </tbody>\n",
       "</table>\n",
       "</div>"
      ],
      "text/plain": [
       "                          Album  album_score  album_submission_count\n",
       "340  An Evening With Silk Sonic          171                      25\n",
       "295                        Sour          137                      25\n",
       "43            Happier Than Ever          137                      22\n",
       "6                            30          138                      21\n",
       "402     Call Me If You Get Lost          133                      20\n",
       "239                     Montero          102                      19\n",
       "53           Inside (The Songs)           78                      13\n",
       "210            Little Oblivions           79                      13\n",
       "245                 Solar Power           71                      12\n",
       "218                       Donda           63                      11"
      ]
     },
     "execution_count": 26,
     "metadata": {},
     "output_type": "execute_result"
    }
   ],
   "source": [
    "AOTY_by_album[[\"Album\", \"album_score\", \"album_submission_count\"]].sort_values(\"album_submission_count\", ascending = False).head(10)"
   ]
  },
  {
   "cell_type": "code",
   "execution_count": 14,
   "metadata": {},
   "outputs": [],
   "source": [
    "# TODO: Make this take in the long-form df to add to the pipeline.\n",
    "\n",
    "\n",
    "def add_top_10_albums_by_score(df: pd.DataFrame) -> pd.DataFrame:\n",
    "    \"\"\"\n",
    "    Adds a boolean column based on if the album is one of the top 10 albums\n",
    "    of the year.\n",
    "\n",
    "    Parameters\n",
    "    ----------\n",
    "    df : pd.DataFrame\n",
    "        The long form AOTY dataframe (grouped by album).\n",
    "\n",
    "    Returns\n",
    "    -------\n",
    "    pd.DataFrame\n",
    "        The wide form AOTY by album df with an added column.\n",
    "    \"\"\"\n",
    "    new_df = df.copy()\n",
    "    top_10_albums = new_df.sort_values(\"album_score\", ascending=False).head(10).values\n",
    "    new_df[\"top_10_album\"] = new_df[\"Album\"].apply(\n",
    "        lambda album: True if album in top_10_albums else False\n",
    "    )\n",
    "    return new_df\n",
    "\n",
    "\n",
    "\n",
    "AOTY_by_album = add_top_10_albums_by_score(AOTY_by_album)\n",
    "\n",
    "top_10_albums = AOTY_by_album.loc[AOTY_by_album[\"top_10_album\"] == True].sort_values(\n",
    "    \"album_score\", ascending=False\n",
    ")\n"
   ]
  },
  {
   "cell_type": "code",
   "execution_count": null,
   "metadata": {},
   "outputs": [],
   "source": [
    "\n"
   ]
  },
  {
   "cell_type": "code",
   "execution_count": 15,
   "metadata": {},
   "outputs": [
    {
     "data": {
      "application/vnd.plotly.v1+json": {
       "config": {
        "plotlyServerURL": "https://plot.ly"
       },
       "data": [
        {
         "alignmentgroup": "True",
         "customdata": [
          [
           "Silk Sonic"
          ],
          [
           "Adele"
          ],
          [
           "Billie Eilish"
          ],
          [
           "Olivia Rodrigo"
          ],
          [
           "Tyler, the Creator"
          ],
          [
           "Lil Nas X"
          ],
          [
           "Julien Baker"
          ],
          [
           "Bo Burnham"
          ],
          [
           "Lorde"
          ],
          [
           "Parcels"
          ]
         ],
         "hovertemplate": "<b>%{customdata}</b> - <i>%{x}</i><br><br>Album Score: %{y}<extra></extra>",
         "hovertext": [
          "An Evening With Silk Sonic",
          "30",
          "Happier Than Ever",
          "Sour",
          "Call Me If You Get Lost",
          "Montero",
          "Little Oblivions",
          "Inside (The Songs)",
          "Solar Power",
          "Day/Night"
         ],
         "legendgroup": "album_score",
         "marker": {
          "color": "#1F77B4",
          "pattern": {
           "shape": ""
          }
         },
         "name": "album_score",
         "offsetgroup": "album_score",
         "orientation": "v",
         "showlegend": true,
         "textposition": "auto",
         "texttemplate": "%{y}",
         "type": "bar",
         "x": [
          "An Evening With Silk Sonic",
          "30",
          "Happier Than Ever",
          "Sour",
          "Call Me If You Get Lost",
          "Montero",
          "Little Oblivions",
          "Inside (The Songs)",
          "Solar Power",
          "Day/Night"
         ],
         "xaxis": "x",
         "y": [
          171,
          138,
          137,
          137,
          133,
          102,
          79,
          78,
          71,
          64
         ],
         "yaxis": "y"
        }
       ],
       "layout": {
        "annotations": [
         {
          "font": {
           "color": "antiquewhite"
          },
          "showarrow": false,
          "text": "'Usual' Album scores: 3.50 - 12.50",
          "x": 1,
          "xanchor": "right",
          "xref": "x domain",
          "y": 8,
          "yanchor": "middle",
          "yref": "y"
         }
        ],
        "barmode": "group",
        "hovermode": "closest",
        "legend": {
         "title": {
          "text": "variable"
         },
         "tracegroupgap": 0
        },
        "shapes": [
         {
          "fillcolor": "dark grey",
          "opacity": 0.3,
          "type": "rect",
          "x0": 0,
          "x1": 1,
          "xref": "x domain",
          "y0": 3.5,
          "y1": 12.5,
          "yref": "y"
         }
        ],
        "showlegend": false,
        "template": {
         "data": {
          "bar": [
           {
            "error_x": {
             "color": "rgb(36,36,36)"
            },
            "error_y": {
             "color": "rgb(36,36,36)"
            },
            "marker": {
             "line": {
              "color": "white",
              "width": 0.5
             },
             "pattern": {
              "fillmode": "overlay",
              "size": 10,
              "solidity": 0.2
             }
            },
            "type": "bar"
           }
          ],
          "barpolar": [
           {
            "marker": {
             "line": {
              "color": "white",
              "width": 0.5
             },
             "pattern": {
              "fillmode": "overlay",
              "size": 10,
              "solidity": 0.2
             }
            },
            "type": "barpolar"
           }
          ],
          "carpet": [
           {
            "aaxis": {
             "endlinecolor": "rgb(36,36,36)",
             "gridcolor": "white",
             "linecolor": "white",
             "minorgridcolor": "white",
             "startlinecolor": "rgb(36,36,36)"
            },
            "baxis": {
             "endlinecolor": "rgb(36,36,36)",
             "gridcolor": "white",
             "linecolor": "white",
             "minorgridcolor": "white",
             "startlinecolor": "rgb(36,36,36)"
            },
            "type": "carpet"
           }
          ],
          "choropleth": [
           {
            "colorbar": {
             "outlinewidth": 1,
             "tickcolor": "rgb(36,36,36)",
             "ticks": "outside"
            },
            "type": "choropleth"
           }
          ],
          "contour": [
           {
            "colorbar": {
             "outlinewidth": 1,
             "tickcolor": "rgb(36,36,36)",
             "ticks": "outside"
            },
            "colorscale": [
             [
              0,
              "#440154"
             ],
             [
              0.1111111111111111,
              "#482878"
             ],
             [
              0.2222222222222222,
              "#3e4989"
             ],
             [
              0.3333333333333333,
              "#31688e"
             ],
             [
              0.4444444444444444,
              "#26828e"
             ],
             [
              0.5555555555555556,
              "#1f9e89"
             ],
             [
              0.6666666666666666,
              "#35b779"
             ],
             [
              0.7777777777777778,
              "#6ece58"
             ],
             [
              0.8888888888888888,
              "#b5de2b"
             ],
             [
              1,
              "#fde725"
             ]
            ],
            "type": "contour"
           }
          ],
          "contourcarpet": [
           {
            "colorbar": {
             "outlinewidth": 1,
             "tickcolor": "rgb(36,36,36)",
             "ticks": "outside"
            },
            "type": "contourcarpet"
           }
          ],
          "heatmap": [
           {
            "colorbar": {
             "outlinewidth": 1,
             "tickcolor": "rgb(36,36,36)",
             "ticks": "outside"
            },
            "colorscale": [
             [
              0,
              "#440154"
             ],
             [
              0.1111111111111111,
              "#482878"
             ],
             [
              0.2222222222222222,
              "#3e4989"
             ],
             [
              0.3333333333333333,
              "#31688e"
             ],
             [
              0.4444444444444444,
              "#26828e"
             ],
             [
              0.5555555555555556,
              "#1f9e89"
             ],
             [
              0.6666666666666666,
              "#35b779"
             ],
             [
              0.7777777777777778,
              "#6ece58"
             ],
             [
              0.8888888888888888,
              "#b5de2b"
             ],
             [
              1,
              "#fde725"
             ]
            ],
            "type": "heatmap"
           }
          ],
          "heatmapgl": [
           {
            "colorbar": {
             "outlinewidth": 1,
             "tickcolor": "rgb(36,36,36)",
             "ticks": "outside"
            },
            "colorscale": [
             [
              0,
              "#440154"
             ],
             [
              0.1111111111111111,
              "#482878"
             ],
             [
              0.2222222222222222,
              "#3e4989"
             ],
             [
              0.3333333333333333,
              "#31688e"
             ],
             [
              0.4444444444444444,
              "#26828e"
             ],
             [
              0.5555555555555556,
              "#1f9e89"
             ],
             [
              0.6666666666666666,
              "#35b779"
             ],
             [
              0.7777777777777778,
              "#6ece58"
             ],
             [
              0.8888888888888888,
              "#b5de2b"
             ],
             [
              1,
              "#fde725"
             ]
            ],
            "type": "heatmapgl"
           }
          ],
          "histogram": [
           {
            "marker": {
             "line": {
              "color": "white",
              "width": 0.6
             }
            },
            "type": "histogram"
           }
          ],
          "histogram2d": [
           {
            "colorbar": {
             "outlinewidth": 1,
             "tickcolor": "rgb(36,36,36)",
             "ticks": "outside"
            },
            "colorscale": [
             [
              0,
              "#440154"
             ],
             [
              0.1111111111111111,
              "#482878"
             ],
             [
              0.2222222222222222,
              "#3e4989"
             ],
             [
              0.3333333333333333,
              "#31688e"
             ],
             [
              0.4444444444444444,
              "#26828e"
             ],
             [
              0.5555555555555556,
              "#1f9e89"
             ],
             [
              0.6666666666666666,
              "#35b779"
             ],
             [
              0.7777777777777778,
              "#6ece58"
             ],
             [
              0.8888888888888888,
              "#b5de2b"
             ],
             [
              1,
              "#fde725"
             ]
            ],
            "type": "histogram2d"
           }
          ],
          "histogram2dcontour": [
           {
            "colorbar": {
             "outlinewidth": 1,
             "tickcolor": "rgb(36,36,36)",
             "ticks": "outside"
            },
            "colorscale": [
             [
              0,
              "#440154"
             ],
             [
              0.1111111111111111,
              "#482878"
             ],
             [
              0.2222222222222222,
              "#3e4989"
             ],
             [
              0.3333333333333333,
              "#31688e"
             ],
             [
              0.4444444444444444,
              "#26828e"
             ],
             [
              0.5555555555555556,
              "#1f9e89"
             ],
             [
              0.6666666666666666,
              "#35b779"
             ],
             [
              0.7777777777777778,
              "#6ece58"
             ],
             [
              0.8888888888888888,
              "#b5de2b"
             ],
             [
              1,
              "#fde725"
             ]
            ],
            "type": "histogram2dcontour"
           }
          ],
          "mesh3d": [
           {
            "colorbar": {
             "outlinewidth": 1,
             "tickcolor": "rgb(36,36,36)",
             "ticks": "outside"
            },
            "type": "mesh3d"
           }
          ],
          "parcoords": [
           {
            "line": {
             "colorbar": {
              "outlinewidth": 1,
              "tickcolor": "rgb(36,36,36)",
              "ticks": "outside"
             }
            },
            "type": "parcoords"
           }
          ],
          "pie": [
           {
            "automargin": true,
            "type": "pie"
           }
          ],
          "scatter": [
           {
            "marker": {
             "colorbar": {
              "outlinewidth": 1,
              "tickcolor": "rgb(36,36,36)",
              "ticks": "outside"
             }
            },
            "type": "scatter"
           }
          ],
          "scatter3d": [
           {
            "line": {
             "colorbar": {
              "outlinewidth": 1,
              "tickcolor": "rgb(36,36,36)",
              "ticks": "outside"
             }
            },
            "marker": {
             "colorbar": {
              "outlinewidth": 1,
              "tickcolor": "rgb(36,36,36)",
              "ticks": "outside"
             }
            },
            "type": "scatter3d"
           }
          ],
          "scattercarpet": [
           {
            "marker": {
             "colorbar": {
              "outlinewidth": 1,
              "tickcolor": "rgb(36,36,36)",
              "ticks": "outside"
             }
            },
            "type": "scattercarpet"
           }
          ],
          "scattergeo": [
           {
            "marker": {
             "colorbar": {
              "outlinewidth": 1,
              "tickcolor": "rgb(36,36,36)",
              "ticks": "outside"
             }
            },
            "type": "scattergeo"
           }
          ],
          "scattergl": [
           {
            "marker": {
             "colorbar": {
              "outlinewidth": 1,
              "tickcolor": "rgb(36,36,36)",
              "ticks": "outside"
             }
            },
            "type": "scattergl"
           }
          ],
          "scattermapbox": [
           {
            "marker": {
             "colorbar": {
              "outlinewidth": 1,
              "tickcolor": "rgb(36,36,36)",
              "ticks": "outside"
             }
            },
            "type": "scattermapbox"
           }
          ],
          "scatterpolar": [
           {
            "marker": {
             "colorbar": {
              "outlinewidth": 1,
              "tickcolor": "rgb(36,36,36)",
              "ticks": "outside"
             }
            },
            "type": "scatterpolar"
           }
          ],
          "scatterpolargl": [
           {
            "marker": {
             "colorbar": {
              "outlinewidth": 1,
              "tickcolor": "rgb(36,36,36)",
              "ticks": "outside"
             }
            },
            "type": "scatterpolargl"
           }
          ],
          "scatterternary": [
           {
            "marker": {
             "colorbar": {
              "outlinewidth": 1,
              "tickcolor": "rgb(36,36,36)",
              "ticks": "outside"
             }
            },
            "type": "scatterternary"
           }
          ],
          "surface": [
           {
            "colorbar": {
             "outlinewidth": 1,
             "tickcolor": "rgb(36,36,36)",
             "ticks": "outside"
            },
            "colorscale": [
             [
              0,
              "#440154"
             ],
             [
              0.1111111111111111,
              "#482878"
             ],
             [
              0.2222222222222222,
              "#3e4989"
             ],
             [
              0.3333333333333333,
              "#31688e"
             ],
             [
              0.4444444444444444,
              "#26828e"
             ],
             [
              0.5555555555555556,
              "#1f9e89"
             ],
             [
              0.6666666666666666,
              "#35b779"
             ],
             [
              0.7777777777777778,
              "#6ece58"
             ],
             [
              0.8888888888888888,
              "#b5de2b"
             ],
             [
              1,
              "#fde725"
             ]
            ],
            "type": "surface"
           }
          ],
          "table": [
           {
            "cells": {
             "fill": {
              "color": "rgb(237,237,237)"
             },
             "line": {
              "color": "white"
             }
            },
            "header": {
             "fill": {
              "color": "rgb(217,217,217)"
             },
             "line": {
              "color": "white"
             }
            },
            "type": "table"
           }
          ]
         },
         "layout": {
          "annotationdefaults": {
           "arrowhead": 0,
           "arrowwidth": 1
          },
          "autotypenumbers": "strict",
          "coloraxis": {
           "colorbar": {
            "outlinewidth": 1,
            "tickcolor": "rgb(36,36,36)",
            "ticks": "outside"
           }
          },
          "colorscale": {
           "diverging": [
            [
             0,
             "rgb(103,0,31)"
            ],
            [
             0.1,
             "rgb(178,24,43)"
            ],
            [
             0.2,
             "rgb(214,96,77)"
            ],
            [
             0.3,
             "rgb(244,165,130)"
            ],
            [
             0.4,
             "rgb(253,219,199)"
            ],
            [
             0.5,
             "rgb(247,247,247)"
            ],
            [
             0.6,
             "rgb(209,229,240)"
            ],
            [
             0.7,
             "rgb(146,197,222)"
            ],
            [
             0.8,
             "rgb(67,147,195)"
            ],
            [
             0.9,
             "rgb(33,102,172)"
            ],
            [
             1,
             "rgb(5,48,97)"
            ]
           ],
           "sequential": [
            [
             0,
             "#440154"
            ],
            [
             0.1111111111111111,
             "#482878"
            ],
            [
             0.2222222222222222,
             "#3e4989"
            ],
            [
             0.3333333333333333,
             "#31688e"
            ],
            [
             0.4444444444444444,
             "#26828e"
            ],
            [
             0.5555555555555556,
             "#1f9e89"
            ],
            [
             0.6666666666666666,
             "#35b779"
            ],
            [
             0.7777777777777778,
             "#6ece58"
            ],
            [
             0.8888888888888888,
             "#b5de2b"
            ],
            [
             1,
             "#fde725"
            ]
           ],
           "sequentialminus": [
            [
             0,
             "#440154"
            ],
            [
             0.1111111111111111,
             "#482878"
            ],
            [
             0.2222222222222222,
             "#3e4989"
            ],
            [
             0.3333333333333333,
             "#31688e"
            ],
            [
             0.4444444444444444,
             "#26828e"
            ],
            [
             0.5555555555555556,
             "#1f9e89"
            ],
            [
             0.6666666666666666,
             "#35b779"
            ],
            [
             0.7777777777777778,
             "#6ece58"
            ],
            [
             0.8888888888888888,
             "#b5de2b"
            ],
            [
             1,
             "#fde725"
            ]
           ]
          },
          "colorway": [
           "#1F77B4",
           "#FF7F0E",
           "#2CA02C",
           "#D62728",
           "#9467BD",
           "#8C564B",
           "#E377C2",
           "#7F7F7F",
           "#BCBD22",
           "#17BECF"
          ],
          "font": {
           "color": "rgb(36,36,36)"
          },
          "geo": {
           "bgcolor": "white",
           "lakecolor": "white",
           "landcolor": "white",
           "showlakes": true,
           "showland": true,
           "subunitcolor": "white"
          },
          "hoverlabel": {
           "align": "left"
          },
          "hovermode": "closest",
          "mapbox": {
           "style": "light"
          },
          "paper_bgcolor": "white",
          "plot_bgcolor": "white",
          "polar": {
           "angularaxis": {
            "gridcolor": "rgb(232,232,232)",
            "linecolor": "rgb(36,36,36)",
            "showgrid": false,
            "showline": true,
            "ticks": "outside"
           },
           "bgcolor": "white",
           "radialaxis": {
            "gridcolor": "rgb(232,232,232)",
            "linecolor": "rgb(36,36,36)",
            "showgrid": false,
            "showline": true,
            "ticks": "outside"
           }
          },
          "scene": {
           "xaxis": {
            "backgroundcolor": "white",
            "gridcolor": "rgb(232,232,232)",
            "gridwidth": 2,
            "linecolor": "rgb(36,36,36)",
            "showbackground": true,
            "showgrid": false,
            "showline": true,
            "ticks": "outside",
            "zeroline": false,
            "zerolinecolor": "rgb(36,36,36)"
           },
           "yaxis": {
            "backgroundcolor": "white",
            "gridcolor": "rgb(232,232,232)",
            "gridwidth": 2,
            "linecolor": "rgb(36,36,36)",
            "showbackground": true,
            "showgrid": false,
            "showline": true,
            "ticks": "outside",
            "zeroline": false,
            "zerolinecolor": "rgb(36,36,36)"
           },
           "zaxis": {
            "backgroundcolor": "white",
            "gridcolor": "rgb(232,232,232)",
            "gridwidth": 2,
            "linecolor": "rgb(36,36,36)",
            "showbackground": true,
            "showgrid": false,
            "showline": true,
            "ticks": "outside",
            "zeroline": false,
            "zerolinecolor": "rgb(36,36,36)"
           }
          },
          "shapedefaults": {
           "fillcolor": "black",
           "line": {
            "width": 0
           },
           "opacity": 0.3
          },
          "ternary": {
           "aaxis": {
            "gridcolor": "rgb(232,232,232)",
            "linecolor": "rgb(36,36,36)",
            "showgrid": false,
            "showline": true,
            "ticks": "outside"
           },
           "baxis": {
            "gridcolor": "rgb(232,232,232)",
            "linecolor": "rgb(36,36,36)",
            "showgrid": false,
            "showline": true,
            "ticks": "outside"
           },
           "bgcolor": "white",
           "caxis": {
            "gridcolor": "rgb(232,232,232)",
            "linecolor": "rgb(36,36,36)",
            "showgrid": false,
            "showline": true,
            "ticks": "outside"
           }
          },
          "title": {
           "x": 0.05
          },
          "xaxis": {
           "automargin": true,
           "gridcolor": "rgb(232,232,232)",
           "linecolor": "rgb(36,36,36)",
           "showgrid": false,
           "showline": true,
           "ticks": "outside",
           "title": {
            "standoff": 15
           },
           "zeroline": false,
           "zerolinecolor": "rgb(36,36,36)"
          },
          "yaxis": {
           "automargin": true,
           "gridcolor": "rgb(232,232,232)",
           "linecolor": "rgb(36,36,36)",
           "showgrid": false,
           "showline": true,
           "ticks": "outside",
           "title": {
            "standoff": 15
           },
           "zeroline": false,
           "zerolinecolor": "rgb(36,36,36)"
          }
         }
        },
        "title": {
         "text": "Album Scores for our Top 10 Albums of 2021"
        },
        "xaxis": {
         "anchor": "y",
         "domain": [
          0,
          1
         ],
         "title": {
          "text": "Album"
         }
        },
        "yaxis": {
         "anchor": "x",
         "domain": [
          0,
          1
         ],
         "title": {
          "text": "Album Score"
         }
        }
       }
      }
     },
     "metadata": {},
     "output_type": "display_data"
    }
   ],
   "source": [
    "figure = px.bar(\n",
    "    top_10_albums,\n",
    "    x=\"Album\",\n",
    "    y=[\"album_score\"],\n",
    "    barmode=\"group\",\n",
    "    text_auto=True,\n",
    "    hover_name=\"Album\",\n",
    "    custom_data=[\"Artist\"],\n",
    "    title=\"Album Scores for our Top 10 Albums of 2021\",\n",
    "    labels={\"value\": \"Album Score\"},\n",
    "    template=\"simple_white\",\n",
    ")\n",
    "figure.update_traces(\n",
    "    hovertemplate=\"<br>\".join(\n",
    "        [\n",
    "            \"<b>%{customdata}</b> - <i>%{x}</i>\",\n",
    "            \"\",\n",
    "            \"Album Score: %{y}\" \"<extra></extra>\",\n",
    "        ]\n",
    "    )\n",
    ")\n",
    "figure.update_layout(hovermode=\"closest\", showlegend=False)\n",
    "\n",
    "figure.add_hrect(\n",
    "    y0=AOTY_by_album[\"album_score\"].quantile(0.25),\n",
    "    y1=AOTY_by_album[\"album_score\"].quantile(0.75),\n",
    "    opacity=0.3,\n",
    "    fillcolor=\"dark grey\",\n",
    "    annotation_text=f\"'Usual' Album scores: {AOTY_by_album['album_score'].quantile(0.25):.2f} - {AOTY_by_album['album_score'].quantile(0.75):.2f}\",\n",
    "    annotation_position=\"inside right\",\n",
    "    annotation_font_color=\"antiquewhite\",\n",
    ")\n",
    "\n",
    "figure.show()\n"
   ]
  },
  {
   "cell_type": "code",
   "execution_count": 16,
   "metadata": {},
   "outputs": [
    {
     "data": {
      "application/vnd.plotly.v1+json": {
       "config": {
        "plotlyServerURL": "https://plot.ly"
       },
       "data": [
        {
         "alignmentgroup": "True",
         "customdata": [
          [
           "Silk Sonic"
          ],
          [
           "Adele"
          ],
          [
           "Billie Eilish"
          ],
          [
           "Olivia Rodrigo"
          ],
          [
           "Tyler, the Creator"
          ],
          [
           "Lil Nas X"
          ],
          [
           "Julien Baker"
          ],
          [
           "Bo Burnham"
          ],
          [
           "Lorde"
          ],
          [
           "Parcels"
          ]
         ],
         "hovertemplate": "<b>%{customdata}</b> - <i>%{x}</i><br><br>Submission Count: %{y}<extra></extra>",
         "hovertext": [
          "An Evening With Silk Sonic",
          "30",
          "Happier Than Ever",
          "Sour",
          "Call Me If You Get Lost",
          "Montero",
          "Little Oblivions",
          "Inside (The Songs)",
          "Solar Power",
          "Day/Night"
         ],
         "legendgroup": "album_submission_count",
         "marker": {
          "color": "#1F77B4",
          "pattern": {
           "shape": ""
          }
         },
         "name": "album_submission_count",
         "offsetgroup": "album_submission_count",
         "orientation": "v",
         "showlegend": true,
         "textposition": "auto",
         "texttemplate": "%{y}",
         "type": "bar",
         "x": [
          "An Evening With Silk Sonic",
          "30",
          "Happier Than Ever",
          "Sour",
          "Call Me If You Get Lost",
          "Montero",
          "Little Oblivions",
          "Inside (The Songs)",
          "Solar Power",
          "Day/Night"
         ],
         "xaxis": "x",
         "y": [
          25,
          21,
          22,
          25,
          20,
          19,
          13,
          13,
          12,
          9
         ],
         "yaxis": "y"
        }
       ],
       "layout": {
        "annotations": [
         {
          "font": {
           "color": "antiquewhite"
          },
          "showarrow": false,
          "text": "'Usual' Submission counts: 1.00 - 2.00",
          "x": 1,
          "xanchor": "right",
          "xref": "x domain",
          "y": 1.5,
          "yanchor": "middle",
          "yref": "y"
         }
        ],
        "barmode": "group",
        "hovermode": "closest",
        "legend": {
         "title": {
          "text": "variable"
         },
         "tracegroupgap": 0
        },
        "shapes": [
         {
          "fillcolor": "dark grey",
          "opacity": 0.3,
          "type": "rect",
          "x0": 0,
          "x1": 1,
          "xref": "x domain",
          "y0": 1,
          "y1": 2,
          "yref": "y"
         }
        ],
        "showlegend": false,
        "template": {
         "data": {
          "bar": [
           {
            "error_x": {
             "color": "rgb(36,36,36)"
            },
            "error_y": {
             "color": "rgb(36,36,36)"
            },
            "marker": {
             "line": {
              "color": "white",
              "width": 0.5
             },
             "pattern": {
              "fillmode": "overlay",
              "size": 10,
              "solidity": 0.2
             }
            },
            "type": "bar"
           }
          ],
          "barpolar": [
           {
            "marker": {
             "line": {
              "color": "white",
              "width": 0.5
             },
             "pattern": {
              "fillmode": "overlay",
              "size": 10,
              "solidity": 0.2
             }
            },
            "type": "barpolar"
           }
          ],
          "carpet": [
           {
            "aaxis": {
             "endlinecolor": "rgb(36,36,36)",
             "gridcolor": "white",
             "linecolor": "white",
             "minorgridcolor": "white",
             "startlinecolor": "rgb(36,36,36)"
            },
            "baxis": {
             "endlinecolor": "rgb(36,36,36)",
             "gridcolor": "white",
             "linecolor": "white",
             "minorgridcolor": "white",
             "startlinecolor": "rgb(36,36,36)"
            },
            "type": "carpet"
           }
          ],
          "choropleth": [
           {
            "colorbar": {
             "outlinewidth": 1,
             "tickcolor": "rgb(36,36,36)",
             "ticks": "outside"
            },
            "type": "choropleth"
           }
          ],
          "contour": [
           {
            "colorbar": {
             "outlinewidth": 1,
             "tickcolor": "rgb(36,36,36)",
             "ticks": "outside"
            },
            "colorscale": [
             [
              0,
              "#440154"
             ],
             [
              0.1111111111111111,
              "#482878"
             ],
             [
              0.2222222222222222,
              "#3e4989"
             ],
             [
              0.3333333333333333,
              "#31688e"
             ],
             [
              0.4444444444444444,
              "#26828e"
             ],
             [
              0.5555555555555556,
              "#1f9e89"
             ],
             [
              0.6666666666666666,
              "#35b779"
             ],
             [
              0.7777777777777778,
              "#6ece58"
             ],
             [
              0.8888888888888888,
              "#b5de2b"
             ],
             [
              1,
              "#fde725"
             ]
            ],
            "type": "contour"
           }
          ],
          "contourcarpet": [
           {
            "colorbar": {
             "outlinewidth": 1,
             "tickcolor": "rgb(36,36,36)",
             "ticks": "outside"
            },
            "type": "contourcarpet"
           }
          ],
          "heatmap": [
           {
            "colorbar": {
             "outlinewidth": 1,
             "tickcolor": "rgb(36,36,36)",
             "ticks": "outside"
            },
            "colorscale": [
             [
              0,
              "#440154"
             ],
             [
              0.1111111111111111,
              "#482878"
             ],
             [
              0.2222222222222222,
              "#3e4989"
             ],
             [
              0.3333333333333333,
              "#31688e"
             ],
             [
              0.4444444444444444,
              "#26828e"
             ],
             [
              0.5555555555555556,
              "#1f9e89"
             ],
             [
              0.6666666666666666,
              "#35b779"
             ],
             [
              0.7777777777777778,
              "#6ece58"
             ],
             [
              0.8888888888888888,
              "#b5de2b"
             ],
             [
              1,
              "#fde725"
             ]
            ],
            "type": "heatmap"
           }
          ],
          "heatmapgl": [
           {
            "colorbar": {
             "outlinewidth": 1,
             "tickcolor": "rgb(36,36,36)",
             "ticks": "outside"
            },
            "colorscale": [
             [
              0,
              "#440154"
             ],
             [
              0.1111111111111111,
              "#482878"
             ],
             [
              0.2222222222222222,
              "#3e4989"
             ],
             [
              0.3333333333333333,
              "#31688e"
             ],
             [
              0.4444444444444444,
              "#26828e"
             ],
             [
              0.5555555555555556,
              "#1f9e89"
             ],
             [
              0.6666666666666666,
              "#35b779"
             ],
             [
              0.7777777777777778,
              "#6ece58"
             ],
             [
              0.8888888888888888,
              "#b5de2b"
             ],
             [
              1,
              "#fde725"
             ]
            ],
            "type": "heatmapgl"
           }
          ],
          "histogram": [
           {
            "marker": {
             "line": {
              "color": "white",
              "width": 0.6
             }
            },
            "type": "histogram"
           }
          ],
          "histogram2d": [
           {
            "colorbar": {
             "outlinewidth": 1,
             "tickcolor": "rgb(36,36,36)",
             "ticks": "outside"
            },
            "colorscale": [
             [
              0,
              "#440154"
             ],
             [
              0.1111111111111111,
              "#482878"
             ],
             [
              0.2222222222222222,
              "#3e4989"
             ],
             [
              0.3333333333333333,
              "#31688e"
             ],
             [
              0.4444444444444444,
              "#26828e"
             ],
             [
              0.5555555555555556,
              "#1f9e89"
             ],
             [
              0.6666666666666666,
              "#35b779"
             ],
             [
              0.7777777777777778,
              "#6ece58"
             ],
             [
              0.8888888888888888,
              "#b5de2b"
             ],
             [
              1,
              "#fde725"
             ]
            ],
            "type": "histogram2d"
           }
          ],
          "histogram2dcontour": [
           {
            "colorbar": {
             "outlinewidth": 1,
             "tickcolor": "rgb(36,36,36)",
             "ticks": "outside"
            },
            "colorscale": [
             [
              0,
              "#440154"
             ],
             [
              0.1111111111111111,
              "#482878"
             ],
             [
              0.2222222222222222,
              "#3e4989"
             ],
             [
              0.3333333333333333,
              "#31688e"
             ],
             [
              0.4444444444444444,
              "#26828e"
             ],
             [
              0.5555555555555556,
              "#1f9e89"
             ],
             [
              0.6666666666666666,
              "#35b779"
             ],
             [
              0.7777777777777778,
              "#6ece58"
             ],
             [
              0.8888888888888888,
              "#b5de2b"
             ],
             [
              1,
              "#fde725"
             ]
            ],
            "type": "histogram2dcontour"
           }
          ],
          "mesh3d": [
           {
            "colorbar": {
             "outlinewidth": 1,
             "tickcolor": "rgb(36,36,36)",
             "ticks": "outside"
            },
            "type": "mesh3d"
           }
          ],
          "parcoords": [
           {
            "line": {
             "colorbar": {
              "outlinewidth": 1,
              "tickcolor": "rgb(36,36,36)",
              "ticks": "outside"
             }
            },
            "type": "parcoords"
           }
          ],
          "pie": [
           {
            "automargin": true,
            "type": "pie"
           }
          ],
          "scatter": [
           {
            "marker": {
             "colorbar": {
              "outlinewidth": 1,
              "tickcolor": "rgb(36,36,36)",
              "ticks": "outside"
             }
            },
            "type": "scatter"
           }
          ],
          "scatter3d": [
           {
            "line": {
             "colorbar": {
              "outlinewidth": 1,
              "tickcolor": "rgb(36,36,36)",
              "ticks": "outside"
             }
            },
            "marker": {
             "colorbar": {
              "outlinewidth": 1,
              "tickcolor": "rgb(36,36,36)",
              "ticks": "outside"
             }
            },
            "type": "scatter3d"
           }
          ],
          "scattercarpet": [
           {
            "marker": {
             "colorbar": {
              "outlinewidth": 1,
              "tickcolor": "rgb(36,36,36)",
              "ticks": "outside"
             }
            },
            "type": "scattercarpet"
           }
          ],
          "scattergeo": [
           {
            "marker": {
             "colorbar": {
              "outlinewidth": 1,
              "tickcolor": "rgb(36,36,36)",
              "ticks": "outside"
             }
            },
            "type": "scattergeo"
           }
          ],
          "scattergl": [
           {
            "marker": {
             "colorbar": {
              "outlinewidth": 1,
              "tickcolor": "rgb(36,36,36)",
              "ticks": "outside"
             }
            },
            "type": "scattergl"
           }
          ],
          "scattermapbox": [
           {
            "marker": {
             "colorbar": {
              "outlinewidth": 1,
              "tickcolor": "rgb(36,36,36)",
              "ticks": "outside"
             }
            },
            "type": "scattermapbox"
           }
          ],
          "scatterpolar": [
           {
            "marker": {
             "colorbar": {
              "outlinewidth": 1,
              "tickcolor": "rgb(36,36,36)",
              "ticks": "outside"
             }
            },
            "type": "scatterpolar"
           }
          ],
          "scatterpolargl": [
           {
            "marker": {
             "colorbar": {
              "outlinewidth": 1,
              "tickcolor": "rgb(36,36,36)",
              "ticks": "outside"
             }
            },
            "type": "scatterpolargl"
           }
          ],
          "scatterternary": [
           {
            "marker": {
             "colorbar": {
              "outlinewidth": 1,
              "tickcolor": "rgb(36,36,36)",
              "ticks": "outside"
             }
            },
            "type": "scatterternary"
           }
          ],
          "surface": [
           {
            "colorbar": {
             "outlinewidth": 1,
             "tickcolor": "rgb(36,36,36)",
             "ticks": "outside"
            },
            "colorscale": [
             [
              0,
              "#440154"
             ],
             [
              0.1111111111111111,
              "#482878"
             ],
             [
              0.2222222222222222,
              "#3e4989"
             ],
             [
              0.3333333333333333,
              "#31688e"
             ],
             [
              0.4444444444444444,
              "#26828e"
             ],
             [
              0.5555555555555556,
              "#1f9e89"
             ],
             [
              0.6666666666666666,
              "#35b779"
             ],
             [
              0.7777777777777778,
              "#6ece58"
             ],
             [
              0.8888888888888888,
              "#b5de2b"
             ],
             [
              1,
              "#fde725"
             ]
            ],
            "type": "surface"
           }
          ],
          "table": [
           {
            "cells": {
             "fill": {
              "color": "rgb(237,237,237)"
             },
             "line": {
              "color": "white"
             }
            },
            "header": {
             "fill": {
              "color": "rgb(217,217,217)"
             },
             "line": {
              "color": "white"
             }
            },
            "type": "table"
           }
          ]
         },
         "layout": {
          "annotationdefaults": {
           "arrowhead": 0,
           "arrowwidth": 1
          },
          "autotypenumbers": "strict",
          "coloraxis": {
           "colorbar": {
            "outlinewidth": 1,
            "tickcolor": "rgb(36,36,36)",
            "ticks": "outside"
           }
          },
          "colorscale": {
           "diverging": [
            [
             0,
             "rgb(103,0,31)"
            ],
            [
             0.1,
             "rgb(178,24,43)"
            ],
            [
             0.2,
             "rgb(214,96,77)"
            ],
            [
             0.3,
             "rgb(244,165,130)"
            ],
            [
             0.4,
             "rgb(253,219,199)"
            ],
            [
             0.5,
             "rgb(247,247,247)"
            ],
            [
             0.6,
             "rgb(209,229,240)"
            ],
            [
             0.7,
             "rgb(146,197,222)"
            ],
            [
             0.8,
             "rgb(67,147,195)"
            ],
            [
             0.9,
             "rgb(33,102,172)"
            ],
            [
             1,
             "rgb(5,48,97)"
            ]
           ],
           "sequential": [
            [
             0,
             "#440154"
            ],
            [
             0.1111111111111111,
             "#482878"
            ],
            [
             0.2222222222222222,
             "#3e4989"
            ],
            [
             0.3333333333333333,
             "#31688e"
            ],
            [
             0.4444444444444444,
             "#26828e"
            ],
            [
             0.5555555555555556,
             "#1f9e89"
            ],
            [
             0.6666666666666666,
             "#35b779"
            ],
            [
             0.7777777777777778,
             "#6ece58"
            ],
            [
             0.8888888888888888,
             "#b5de2b"
            ],
            [
             1,
             "#fde725"
            ]
           ],
           "sequentialminus": [
            [
             0,
             "#440154"
            ],
            [
             0.1111111111111111,
             "#482878"
            ],
            [
             0.2222222222222222,
             "#3e4989"
            ],
            [
             0.3333333333333333,
             "#31688e"
            ],
            [
             0.4444444444444444,
             "#26828e"
            ],
            [
             0.5555555555555556,
             "#1f9e89"
            ],
            [
             0.6666666666666666,
             "#35b779"
            ],
            [
             0.7777777777777778,
             "#6ece58"
            ],
            [
             0.8888888888888888,
             "#b5de2b"
            ],
            [
             1,
             "#fde725"
            ]
           ]
          },
          "colorway": [
           "#1F77B4",
           "#FF7F0E",
           "#2CA02C",
           "#D62728",
           "#9467BD",
           "#8C564B",
           "#E377C2",
           "#7F7F7F",
           "#BCBD22",
           "#17BECF"
          ],
          "font": {
           "color": "rgb(36,36,36)"
          },
          "geo": {
           "bgcolor": "white",
           "lakecolor": "white",
           "landcolor": "white",
           "showlakes": true,
           "showland": true,
           "subunitcolor": "white"
          },
          "hoverlabel": {
           "align": "left"
          },
          "hovermode": "closest",
          "mapbox": {
           "style": "light"
          },
          "paper_bgcolor": "white",
          "plot_bgcolor": "white",
          "polar": {
           "angularaxis": {
            "gridcolor": "rgb(232,232,232)",
            "linecolor": "rgb(36,36,36)",
            "showgrid": false,
            "showline": true,
            "ticks": "outside"
           },
           "bgcolor": "white",
           "radialaxis": {
            "gridcolor": "rgb(232,232,232)",
            "linecolor": "rgb(36,36,36)",
            "showgrid": false,
            "showline": true,
            "ticks": "outside"
           }
          },
          "scene": {
           "xaxis": {
            "backgroundcolor": "white",
            "gridcolor": "rgb(232,232,232)",
            "gridwidth": 2,
            "linecolor": "rgb(36,36,36)",
            "showbackground": true,
            "showgrid": false,
            "showline": true,
            "ticks": "outside",
            "zeroline": false,
            "zerolinecolor": "rgb(36,36,36)"
           },
           "yaxis": {
            "backgroundcolor": "white",
            "gridcolor": "rgb(232,232,232)",
            "gridwidth": 2,
            "linecolor": "rgb(36,36,36)",
            "showbackground": true,
            "showgrid": false,
            "showline": true,
            "ticks": "outside",
            "zeroline": false,
            "zerolinecolor": "rgb(36,36,36)"
           },
           "zaxis": {
            "backgroundcolor": "white",
            "gridcolor": "rgb(232,232,232)",
            "gridwidth": 2,
            "linecolor": "rgb(36,36,36)",
            "showbackground": true,
            "showgrid": false,
            "showline": true,
            "ticks": "outside",
            "zeroline": false,
            "zerolinecolor": "rgb(36,36,36)"
           }
          },
          "shapedefaults": {
           "fillcolor": "black",
           "line": {
            "width": 0
           },
           "opacity": 0.3
          },
          "ternary": {
           "aaxis": {
            "gridcolor": "rgb(232,232,232)",
            "linecolor": "rgb(36,36,36)",
            "showgrid": false,
            "showline": true,
            "ticks": "outside"
           },
           "baxis": {
            "gridcolor": "rgb(232,232,232)",
            "linecolor": "rgb(36,36,36)",
            "showgrid": false,
            "showline": true,
            "ticks": "outside"
           },
           "bgcolor": "white",
           "caxis": {
            "gridcolor": "rgb(232,232,232)",
            "linecolor": "rgb(36,36,36)",
            "showgrid": false,
            "showline": true,
            "ticks": "outside"
           }
          },
          "title": {
           "x": 0.05
          },
          "xaxis": {
           "automargin": true,
           "gridcolor": "rgb(232,232,232)",
           "linecolor": "rgb(36,36,36)",
           "showgrid": false,
           "showline": true,
           "ticks": "outside",
           "title": {
            "standoff": 15
           },
           "zeroline": false,
           "zerolinecolor": "rgb(36,36,36)"
          },
          "yaxis": {
           "automargin": true,
           "gridcolor": "rgb(232,232,232)",
           "linecolor": "rgb(36,36,36)",
           "showgrid": false,
           "showline": true,
           "ticks": "outside",
           "title": {
            "standoff": 15
           },
           "zeroline": false,
           "zerolinecolor": "rgb(36,36,36)"
          }
         }
        },
        "title": {
         "text": "Album Submission Count for our Top 10 Albums of 2021"
        },
        "xaxis": {
         "anchor": "y",
         "domain": [
          0,
          1
         ],
         "title": {
          "text": "Album"
         }
        },
        "yaxis": {
         "anchor": "x",
         "domain": [
          0,
          1
         ],
         "title": {
          "text": "Album Submissions"
         }
        }
       }
      }
     },
     "metadata": {},
     "output_type": "display_data"
    }
   ],
   "source": [
    "figure = px.bar(\n",
    "    top_10_albums,\n",
    "    x=\"Album\",\n",
    "    y=[\"album_submission_count\"],\n",
    "    barmode=\"group\",\n",
    "    text_auto=True,\n",
    "    hover_name=\"Album\",\n",
    "    custom_data=[\"Artist\"],\n",
    "    title=\"Album Submission Count for our Top 10 Albums of 2021\",\n",
    "    labels={\"value\": \"Album Submissions\"},\n",
    "    template=\"simple_white\",\n",
    ")\n",
    "figure.update_traces(\n",
    "    hovertemplate=\"<br>\".join(\n",
    "        [\n",
    "            \"<b>%{customdata}</b> - <i>%{x}</i>\",\n",
    "            \"\",\n",
    "            \"Submission Count: %{y}\" \"<extra></extra>\",\n",
    "        ]\n",
    "    )\n",
    ")\n",
    "figure.update_layout(hovermode=\"closest\", showlegend=False)\n",
    "\n",
    "figure.add_hrect(\n",
    "    y0=AOTY_by_album[\"album_submission_count\"].quantile(0.25),\n",
    "    y1=AOTY_by_album[\"album_submission_count\"].quantile(0.75),\n",
    "    opacity=0.3,\n",
    "    fillcolor=\"dark grey\",\n",
    "    annotation_text=f\"'Usual' Submission counts: {AOTY_by_album['album_submission_count'].quantile(0.25):.2f} - {AOTY_by_album['album_submission_count'].quantile(0.75):.2f}\",\n",
    "    annotation_position=\"inside right\",\n",
    "    annotation_font_color=\"antiquewhite\",\n",
    ")\n",
    "\n",
    "figure.show()\n"
   ]
  },
  {
   "cell_type": "code",
   "execution_count": 17,
   "metadata": {},
   "outputs": [
    {
     "data": {
      "application/vnd.plotly.v1+json": {
       "config": {
        "plotlyServerURL": "https://plot.ly"
       },
       "data": [
        {
         "customdata": [
          [
           " 88rising, DJ Snake, and Niki",
           "Shang-Chi and the Legend of the Ten Rings: The Album",
           2
          ],
          [
           "$uicideboy$",
           "Long Term Effects of SUFFERING",
           8
          ],
          [
           "24kGoldn",
           "El Dorado",
           5
          ],
          [
           "42 Dugg",
           "Free Dem Boyz",
           8
          ],
          [
           "ABBA",
           "Voyage",
           32
          ],
          [
           "AJR",
           "Ok Orchestra",
           4
          ],
          [
           "Alan Jackson",
           "Where Have You Gone",
           7
          ],
          [
           "Alex Cuba",
           "Mendó",
           1
          ],
          [
           "Alexandre Desplat",
           "The French Dispatch (Original Score)",
           2
          ],
          [
           "Alice Phoebe Lou",
           "Child's Play",
           8
          ],
          [
           "Alicia Keys",
           "KEYS",
           7
          ],
          [
           "Alien Weaponry",
           "Tangaroa",
           1
          ],
          [
           "Allison Russell",
           "Outside Child",
           28
          ],
          [
           "Amaal",
           "Molly",
           3
          ],
          [
           "Amber Mattfield",
           "Transition",
           3
          ],
          [
           "Amigo the Devil",
           "Born Against",
           5
          ],
          [
           "Aminé",
           "TWOPOINTFIVE",
           11
          ],
          [
           "Anderson East",
           "Maybe We Never Die",
           2
          ],
          [
           "Andrew Blooms",
           "987",
           1
          ],
          [
           "Andy Shauf",
           "Wilds",
           14
          ],
          [
           "Andy Squyres",
           "Poet Priest",
           8
          ],
          [
           "Angus & Julia Stone",
           "Life Is Strange",
           2
          ],
          [
           "Antonio Pinto",
           "Nine Days",
           8
          ],
          [
           "Apollo Brown & Stalley",
           "Blacklight",
           10
          ],
          [
           "Aquilo",
           "A Safe Place To Be",
           4
          ],
          [
           "Arca",
           "KicK iii",
           3
          ],
          [
           "Architects",
           "For Those That Wish to Exist",
           3
          ],
          [
           "Arlo Parks",
           "Collapsed in Sunbeams",
           36
          ],
          [
           "Armand Hammer & The Alchemist",
           "Haram",
           1
          ],
          [
           "As Isaac",
           "Over The Flood",
           4
          ],
          [
           "At the Gates",
           "The Nightmare of Being",
           9
          ],
          [
           "Audrey Nuna",
           "A Liquid Breakfast",
           7
          ],
          [
           "BADBADNOTGOOD",
           "Talk Memory",
           27
          ],
          [
           "BIG|BRAVE",
           "Vital",
           7
          ],
          [
           "Baby Keem",
           "The Melodic Blue",
           30
          ],
          [
           "Barlow & Bear",
           "The Unofficial Bridgerton Musical",
           2
          ],
          [
           "Ben Howard",
           "Collections From The Whiteout",
           6
          ],
          [
           "Ben Platt",
           "Reverie",
           15
          ],
          [
           "Benny Sings",
           "Beat Tape II",
           4
          ],
          [
           "Benny Sings",
           "Music",
           8
          ],
          [
           "Big Red Machine",
           "How Long Do You Think It's Gonna Last?",
           3
          ],
          [
           "Big Thief",
           "Change",
           10
          ],
          [
           "Billy Currington",
           "Intuition",
           6
          ],
          [
           "Billy Strings",
           "Renewal",
           10
          ],
          [
           "Bilmuri",
           "400Lb Back Squat",
           8
          ],
          [
           "Black Country, New Road",
           "For the First Time",
           1
          ],
          [
           "Bladee",
           "The Fool",
           2
          ],
          [
           "Bleachers",
           "Take the Sadness Out of Saturday Night",
           13
          ],
          [
           "Blonde Otter",
           "Blonde Otter",
           4
          ],
          [
           "Blu DeTiger",
           "How Did We Get Here?",
           15
          ],
          [
           "Bluestaeb",
           "GISEKE",
           2
          ],
          [
           "Brandee Younger",
           "Somewhere Different",
           1
          ],
          [
           "Brandi Carlile",
           "In These Silent Days",
           28
          ],
          [
           "Brasstracks",
           "Welcome Back Era",
           5
          ],
          [
           "Brett Eldredge",
           "Mr. Christmas",
           7
          ],
          [
           "Briston Maroney",
           "Sunflower",
           14
          ],
          [
           "Brockhampton",
           "Roadrunner",
           25
          ],
          [
           "Brojob",
           "The Heaviest Album of All Time",
           1
          ],
          [
           "Buck Meek",
           "Two Saviors",
           8
          ],
          [
           "C. Tangana",
           "El Madrileño",
           9
          ],
          [
           "CANDIACE",
           "Deep Space",
           9
          ],
          [
           "CHASE WRIGHT",
           "INTERTWINED",
           3
          ],
          [
           "CHIKA",
           "ONCE UPON A TIME",
           7
          ],
          [
           "COIN",
           "Rainbow Mixtape",
           25
          ],
          [
           "Canaan Smith",
           "High Country Sound",
           3
          ],
          [
           "Canary Room",
           "Christine",
           5
          ],
          [
           "Carly Pearce",
           "29",
           32
          ],
          [
           "Cautious Clay",
           "Deadpan Love",
           14
          ],
          [
           "Celeste",
           "Not Your Muse",
           12
          ],
          [
           "Central Cee",
           "Wild West",
           2
          ],
          [
           "Charles Wesley Godwin",
           "How the Mighty Fall",
           23
          ],
          [
           "Charley Crockett",
           "Music City USA",
           9
          ],
          [
           "Charlie Hickey",
           "Count the Stairs",
           9
          ],
          [
           "Charlotte Cardin",
           "Phoenix",
           15
          ],
          [
           "Chris Renzema",
           "Get Out of the Way of Your Own Heart",
           20
          ],
          [
           "Christophe Beck",
           "WandaVision: Episode 7 (Original Soundtrack)",
           3
          ],
          [
           "Christopher Atkins",
           "On the Turn Again",
           8
          ],
          [
           "Citizens",
           "The Joy of Being",
           5
          ],
          [
           "Clairo",
           "Sling",
           34
          ],
          [
           "Claud",
           "Super Monster",
           5
          ],
          [
           "Cloud Nothings",
           "The Shadow I Remember",
           6
          ],
          [
           "Cody Fry",
           "Pictures of Mountains",
           8
          ],
          [
           "Cody Johnson",
           "Human: The Double Album",
           21
          ],
          [
           "Coldplay",
           "Music of the Spheres",
           8
          ],
          [
           "Cole Chaney",
           "Mercy",
           10
          ],
          [
           "Colin James",
           "Open Road",
           2
          ],
          [
           "Colony House",
           "Rotten Tomatoes",
           9
          ],
          [
           "Connor Musarra",
           "Attempt 3",
           7
          ],
          [
           "Converge & Chelsea Wolfe",
           "Bloodmoon: I",
           1
          ],
          [
           "Conway the Machine",
           "La Maquina",
           1
          ],
          [
           "Cory Wong",
           "Cory and the Wongnotes",
           2
          ],
          [
           "Country Stuff",
           "Walker Hayes",
           5
          ],
          [
           "Cradle of Filth",
           "Existence is Futile",
           6
          ],
          [
           "Current Joys",
           "Voyager",
           19
          ],
          [
           "DJ Harrison",
           "Tales from the Old Dominion",
           6
          ],
          [
           "DJ Manny",
           "Signals in My Head",
           10
          ],
          [
           "Dacey",
           "Satin Playground",
           8
          ],
          [
           "Dan + Shay",
           "Good Things",
           2
          ],
          [
           "Daniel James McFadyen",
           "August, I'm Yours",
           7
          ],
          [
           "Daniyel",
           "82",
           1
          ],
          [
           "Dante's Paradise",
           "Your Move",
           3
          ],
          [
           "Dave",
           "We’re All Alone in this Together",
           42
          ],
          [
           "Dayglow",
           "Harmony House",
           14
          ],
          [
           "Death Cab for Cutie",
           "The Georgia EP",
           2
          ],
          [
           "Delta Sleep",
           "Spring Island",
           5
          ],
          [
           "Devil Electric",
           "Godless",
           2
          ],
          [
           "Diamond Cafe",
           "Say You Will",
           1
          ],
          [
           "Diana Ross",
           "Thank You",
           4
          ],
          [
           "Digga D",
           "Made in the Pyrex",
           1
          ],
          [
           "Dijon",
           "Absolutely",
           10
          ],
          [
           "Dillon Carmichael",
           "Son Of A",
           5
          ],
          [
           "Dinosaur Jr.",
           "Emptiness at the Sinclair",
           1
          ],
          [
           "Django Django",
           "Glowing in the Dark",
           10
          ],
          [
           "Doja Cat",
           "Planet Her",
           64
          ],
          [
           "Dominic Lewis",
           "Monsters at Work (Original Soundtrack)",
           5
          ],
          [
           "Dooms Children",
           "Dooms Children",
           1
          ],
          [
           "Drake",
           "Certified Lover Boy",
           31
          ],
          [
           "Drake",
           "Scary Hours 2",
           10
          ],
          [
           "Drakeo the Ruler",
           "Ain't That The Truth",
           1
          ],
          [
           "Drug Church",
           "Tawny",
           5
          ],
          [
           "Durand Jones & The Indications",
           "Private Space",
           2
          ],
          [
           "Dödsrit",
           "Mortal Coil",
           5
          ],
          [
           "Ed Sheeran",
           " =",
           10
          ],
          [
           "Eloise",
           "Somewhere In-Between",
           8
          ],
          [
           "Elton John",
           "The Lockdown Sessions",
           8
          ],
          [
           "Emile Mosseri",
           "Minari (Original Motion Picture Soundtrack)",
           10
          ],
          [
           "Emily Scott Robinson",
           "american siren",
           2
          ],
          [
           "Eric Church",
           "Heart",
           7
          ],
          [
           "Eric Church",
           "Soul",
           3
          ],
          [
           "Evan Wright",
           "Sound from out the Window",
           9
          ],
          [
           "Every Time I Die",
           "Radical",
           30
          ],
          [
           "Faye Webster",
           "I Know I'm Funny haha",
           18
          ],
          [
           "Field Music",
           "Flat White Moon",
           10
          ],
          [
           "Finneas",
           "Optimist",
           16
          ],
          [
           "Flatland Cavalry",
           "Welcome To Countryland",
           6
          ],
          [
           "Fleece",
           "Stunning & Atrocious",
           7
          ],
          [
           "Fleet Foxes",
           "A Very Lonely Solstice",
           43
          ],
          [
           "Floating Points & Pharaoh Sanders",
           "Promises",
           39
          ],
          [
           "Flozigg",
           "Beige EP",
           6
          ],
          [
           "Fucked Up",
           "Year of the Horse",
           8
          ],
          [
           "Genesis Owusu",
           "Smiling with No Teeth",
           9
          ],
          [
           "Genghis Tron",
           "Dream Weapon",
           6
          ],
          [
           "Glume & Phossa",
           "Banshee",
           1
          ],
          [
           "Godspeed You! Black Emperor",
           "G_d’s Pee AT STATE’S END!",
           7
          ],
          [
           "Gospel Whiskey Runners",
           "Move On",
           4
          ],
          [
           "Greta Van Fleet",
           "The Battle at Garden’s Gate",
           26
          ],
          [
           "Griff",
           "One Foot In Front Of The Other",
           5
          ],
          [
           "Grouplove",
           "This Is This",
           3
          ],
          [
           "Guided by Voices",
           "It’s Not Them. It Couldn’t Be Them. It Is Them!",
           5
          ],
          [
           "HIXTAPE",
           "HIXTAPE: Vol. 2",
           2
          ],
          [
           "Half Moon Run",
           "Inwards & Onwards EP",
           4
          ],
          [
           "Half Waif",
           "Mythopoetics",
           4
          ],
          [
           "HalfNoise",
           "Motif",
           2
          ],
          [
           "Halsey",
           "If I Can't Have Love, I Want Power",
           31
          ],
          [
           "Harakiri for the Sky",
           "Mære",
           8
          ],
          [
           "Harriet Krijgh & Magda Amara",
           "Silent Dreams",
           1
          ],
          [
           "Hayden Calnin",
           "What It Means to Be Human",
           6
          ],
          [
           "Hayley Williams",
           "FLOWERS for VASES / descansos",
           22
          ],
          [
           "Helado Negro",
           "Far In",
           6
          ],
          [
           "Hiatus Kaiyote",
           "Mood Valiant",
           14
          ],
          [
           "Hobo Johnson",
           "Hobo Johnson Alienates His Fanbase",
           3
          ],
          [
           "Hobo Johnson",
           "The Revenge of Hobo Johnson",
           12
          ],
          [
           "Holly Humberstone",
           "The Walls Are Way Too Thin",
           10
          ],
          [
           "Hudson Freeman",
           "I Am All the Ages I've Ever Been",
           10
          ],
          [
           "ICE NINE KILLS",
           "Welcome To Horrorwood: The Silver Scream 2",
           6
          ],
          [
           "IDLES",
           "CRAWLER",
           3
          ],
          [
           "Ian Munsick",
           "Coyote Cry",
           14
          ],
          [
           "Ida Mae",
           "Click Click Domino",
           9
          ],
          [
           "Illenium",
           "Fallen Embers",
           7
          ],
          [
           "Illuminati Hotties",
           "Let Me Do One More",
           7
          ],
          [
           "Inbal Segev",
           "20 for 2020 Volume 1",
           5
          ],
          [
           "Indigo de Souza",
           "Any Shape You Take",
           15
          ],
          [
           "Injury Reserve",
           "By the Time I Get to Phoenix",
           18
          ],
          [
           "Invent Animate",
           "The Sun Sleeps, As If It Never Was",
           5
          ],
          [
           "Isaiah Rashad",
           "The House is Burning",
           26
          ],
          [
           "Izzy Johnson",
           "Earth Tones",
           7
          ],
          [
           "J. Cole",
           "The Off-Season",
           35
          ],
          [
           "JOHN (TIMESTWO)",
           "Nocturnal Manoeuvres",
           2
          ],
          [
           "JP Saxe",
           "Dangerous Levels of Introspection",
           2
          ],
          [
           "JPEGMAFIA",
           "LP!",
           14
          ],
          [
           "JUDAH.",
           "3 + 7",
           10
          ],
          [
           "Jack Ingram, Miranda Lambert & Jon Randall",
           "The Marfa Tapes",
           1
          ],
          [
           "Jade Bird",
           "Different Kinds of Light",
           5
          ],
          [
           "James Blake",
           "Friends That Break Your Heart",
           33
          ],
          [
           "James McMurtry",
           "The Horses and the Hounds",
           7
          ],
          [
           "James Vickery",
           "Songs That Made Me Feel",
           2
          ],
          [
           "Japanese Breakfast",
           "Jubilee",
           59
          ],
          [
           "Jason Aldean",
           "MACON",
           7
          ],
          [
           "Jazmine Sullivan",
           "Heaux Tales",
           30
          ],
          [
           "Jess Ray",
           "Baby Take My Hand",
           9
          ],
          [
           "Jetty Bones",
           "Push Back",
           4
          ],
          [
           "Joe Bonamassa",
           "Time Clocks",
           3
          ],
          [
           "Joel Ansett",
           "I Should Get Some Rest",
           6
          ],
          [
           "John Mark McMillan",
           "Has It Been You",
           14
          ],
          [
           "John Mayer",
           "Sob Rock",
           20
          ],
          [
           "Jon Batiste",
           "WE ARE",
           24
          ],
          [
           "Jon Foreman",
           "Departures",
           15
          ],
          [
           "Joni Mitchell",
           "Joni Mitchell Archives, Vol. 2: The Reprise Years",
           7
          ],
          [
           "Jordan Davis",
           "Buy Dirt",
           1
          ],
          [
           "Jordan Rakei",
           "What We Call Life",
           2
          ],
          [
           "Jordan Rowe",
           "Bad Case of the Good Ole Boy",
           10
          ],
          [
           "Jorja Smith",
           "Be Right Back",
           35
          ],
          [
           "Joshua Bassett",
           "CRISIS",
           6
          ],
          [
           "Joshua Bassett",
           "Joshua Bassett",
           9
          ],
          [
           "Joy Crookes",
           "Skin",
           2
          ],
          [
           "Joy Oladokun",
           "in defense of my own happiness",
           3
          ],
          [
           "Joyce Wrice",
           "Overgrown",
           3
          ],
          [
           "Jungle",
           "Loving in Stereo",
           10
          ],
          [
           "Justin Bieber",
           "Justice",
           17
          ],
          [
           "KALEO",
           "Surface Sounds",
           15
          ],
          [
           "KAROL G",
           "KG0516",
           5
          ],
          [
           "KAYTRANADA",
           "Intimidated",
           8
          ],
          [
           "KINGZMN",
           "Where Do We Go From Here?",
           6
          ],
          [
           "Kacey Musgraves",
           "star-crossed",
           35
          ],
          [
           "Kanye West",
           "Donda",
           63
          ],
          [
           "Kiefer",
           "Between Days",
           7
          ],
          [
           "King Gizzard and the Lizard Wizards",
           "Butterfly 3000",
           2
          ],
          [
           "Kings of Leon",
           "When You See Yourself",
           18
          ],
          [
           "Knocked Loose",
           "A Tear in the Fabric of Life",
           7
          ],
          [
           "Koreless",
           "Agor",
           8
          ],
          [
           "Kota the Friend",
           "Lyrics to GO, Vol. 2",
           1
          ],
          [
           "Kota the Friend & Statik Selektah",
           "To Kill a Sunrise",
           7
          ],
          [
           "Këkht Aräkh",
           "Pale Swordsman",
           3
          ],
          [
           "L'Rain",
           "Fatigue",
           3
          ],
          [
           "LANY",
           "gg bb xx",
           14
          ],
          [
           "LOONY",
           "soft thing",
           9
          ],
          [
           "Lainey Wilson",
           "Sayin' What I'm Thinkin'",
           9
          ],
          [
           "Lake Street Dive",
           "Obviously",
           7
          ],
          [
           "Lana Del Rey",
           "Blue Banisters",
           15
          ],
          [
           "Lana Del Rey",
           "Chemtrails Over the Country Club",
           33
          ],
          [
           "Larry Fleet",
           "Stack of Records",
           1
          ],
          [
           "Lavish",
           "The Northside",
           7
          ],
          [
           "Lawrence",
           "Hotel TV",
           30
          ],
          [
           "Left At London",
           "T.I.A.P.F.Y.H.",
           8
          ],
          [
           "Leon Bridges",
           "Gold-Diggers Sound",
           17
          ],
          [
           "Lil Tjay",
           "Destined 2 Win",
           3
          ],
          [
           "Limp Bizkit",
           "Still Sucks",
           2
          ],
          [
           "Little Simz",
           "Sometimes I Might Be Introvert",
           58
          ],
          [
           "Lizzy McAlpine",
           "When The World Stopped Moving: The Live EP",
           23
          ],
          [
           "Lord Huron",
           "Long Lost",
           32
          ],
          [
           "Lorna Shore",
           "...And I Return To Nothingness",
           6
          ],
          [
           "Louis the Child",
           "Euphoria",
           4
          ],
          [
           "Low",
           "Hey What",
           18
          ],
          [
           "Lucy Dacus",
           "Home Video",
           29
          ],
          [
           "Lunar Vacation",
           "Inside Every Fig is a Dead Wasp",
           3
          ],
          [
           "Lute",
           "Gold Mouf",
           3
          ],
          [
           "MARINA",
           "Ancient Dreams In A Modern Land",
           6
          ],
          [
           "Mac Ayres",
           "Magic 8ball",
           13
          ],
          [
           "Mach-Hommy",
           "Pray for Haiti",
           8
          ],
          [
           "Main Phase",
           "Buss It",
           2
          ],
          [
           "Maisie Peters",
           "You Signed Up For This",
           9
          ],
          [
           "Manchester Orchestra",
           "The Million Masks of God",
           36
          ],
          [
           "Mannequin Pussy",
           "Perfect",
           23
          ],
          [
           "Maple Glider",
           "To Enjoy Is the Only Thing",
           1
          ],
          [
           "Marcellus Juvann",
           "HARDHEADED",
           7
          ],
          [
           "Mariah the Scientist",
           "RY RY WORLD",
           13
          ],
          [
           "Mark Barlow",
           "Hymns & Soul",
           15
          ],
          [
           "Matt Maltese",
           "Good Morning It's Now Tomorrow",
           6
          ],
          [
           "Maxo Kream",
           "Weight of the World",
           4
          ],
          [
           "Megan Thee Stallion",
           "Something For Thee Hotties",
           13
          ],
          [
           "Melt",
           "West Side Highway",
           6
          ],
          [
           "Men I Trust",
           "Untourable Album",
           16
          ],
          [
           "Michael Giacchino",
           "Spider-Man: No Way Home (Original Motion Picture Soundtrack)",
           2
          ],
          [
           "Mick Jenkins",
           "A Elephant in the Room",
           5
          ],
          [
           "Midland",
           "The Sonic Ranch",
           11
          ],
          [
           "Mike and the Moonpies",
           "One to Grow On",
           19
          ],
          [
           "Miko Marks and the Resurrectors",
           "Race Records",
           3
          ],
          [
           "Mild High Club",
           "Going Going Gone",
           9
          ],
          [
           "Milky Chance",
           "Trip Tape",
           1
          ],
          [
           "Millwood",
           "Spiral",
           10
          ],
          [
           "Mitchell Tenpenny",
           "Midtown Diaries",
           2
          ],
          [
           "Mitochondrial Sun",
           "Bodies and Gold",
           4
          ],
          [
           "Mod Sun",
           "Internet Killed the Rock Star",
           7
          ],
          [
           "Modest Mouse",
           "The Golden Casket",
           8
          ],
          [
           "Morgan Wade",
           "Reckless",
           28
          ],
          [
           "Morgan Wallen",
           "Dangerous: the Double Album",
           50
          ],
          [
           "My Morning Jacket",
           "My Morning Jacket",
           12
          ],
          [
           "MØL",
           "Diorama",
           10
          ],
          [
           "NEEDTOBREATHE",
           "Into The Mystery",
           5
          ],
          [
           "NF",
           "Clouds",
           10
          ],
          [
           "Nas",
           "King’s Disease II",
           9
          ],
          [
           "Natalie Schepman",
           "Fresh Water in an Empty Vase",
           5
          ],
          [
           "Navy Blue",
           "Navy's Reprise",
           1
          ],
          [
           "Neil Young & Crazy Horse",
           "Barn",
           8
          ],
          [
           "No Rome",
           "It's All Smiles",
           7
          ],
          [
           "Noah Gunderson",
           "A Pillar of Salt",
           12
          ],
          [
           "Nothing But Thieves",
           "Moral Panic II",
           6
          ],
          [
           "O P Yeti",
           "Alexander Mackay: THE WORST",
           5
          ],
          [
           "Oh Wonder",
           "22 Break",
           9
          ],
          [
           "Oz",
           "Perfect",
           23
          ],
          [
           "P!nk",
           "All I Know So Far: Setlist",
           9
          ],
          [
           "P.J. Harding & Noah Cyrus",
           "People Don't Change",
           9
          ],
          [
           "Parannoul",
           "To See the Next Part of the Dream",
           10
          ],
          [
           "Parquet Courts",
           "Sympathy for Life",
           10
          ],
          [
           "Peach Tree Rascals",
           "Camp Nowhere",
           8
          ],
          [
           "Petey",
           "Lean Into Life",
           3
          ],
          [
           "Phil Wickham",
           "Hymn of Heaven",
           4
          ],
          [
           "Pi'erre Bourne",
           "The Life Of Pi'erre 5",
           9
          ],
          [
           "Pinkpantheress",
           "To Hell With It",
           10
          ],
          [
           "Pleasure P",
           "Business Before Pleasure",
           8
          ],
          [
           "Polo G",
           "Hall of Fame",
           1
          ],
          [
           "Prince",
           "Welcome 2 America",
           1
          ],
          [
           "Quinn XCII",
           "Change of Scenery II",
           3
          ],
          [
           "Qveen Herby",
           "A Woman",
           2
          ],
          [
           "Raquel Rodriguez",
           "Sweet Side",
           3
          ],
          [
           "Remi Wolf",
           "Juno",
           19
          ],
          [
           "Renée Reed",
           "Renée Reed",
           8
          ],
          [
           "Rezz",
           "Spiral",
           10
          ],
          [
           "Rhye",
           "Home",
           4
          ],
          [
           "Richie Quake",
           "Voyager EP",
           7
          ],
          [
           "Rise Against",
           "Nowhere Generation",
           4
          ],
          [
           "Ritt Momney",
           "Sunny Boy",
           7
          ],
          [
           "Robert Plant & Alison Krauss",
           "Raise The Roof",
           12
          ],
          [
           "Royal Blood",
           "Typhoons",
           7
          ],
          [
           "SEB",
           "IT'S OKAY, WE'RE DREAMING",
           1
          ],
          [
           "Said The Whale",
           "Dandelion",
           10
          ],
          [
           "Sam Dew",
           "Moonlight Fools",
           2
          ],
          [
           "Sam Evian",
           "Time to Melt",
           4
          ],
          [
           "Sam Fender",
           "Seventeen Going Under",
           12
          ],
          [
           "Sam Gendel & Sam Wilkes",
           "Music for Saxofone & Bass tar: More Songs",
           6
          ],
          [
           "Sam Williams",
           "Glasshouse Children",
           10
          ],
          [
           "Sammy Rae & The Friends",
           "Let's Throw a Party",
           9
          ],
          [
           "Sarah Christian",
           "Tchaikovsky (Violin Concerto & Souvenir de Florence)",
           8
          ],
          [
           "Sarah Juers",
           "Cyberspace",
           12
          ],
          [
           "Sarah and the Sundays",
           "The Living End",
           6
          ],
          [
           "Saucy Santana",
           "Keep It Playa",
           2
          ],
          [
           "Scotty McCreery",
           "Same Truck",
           9
          ],
          [
           "SeeYouSpaceCowboy...",
           "The Romance of Affliction",
           1
          ],
          [
           "Shad",
           "Tao",
           2
          ],
          [
           "Shelley FKA DRAM",
           "Shelley FKA DRAM",
           3
          ],
          [
           "Sierra Ferrell",
           "Long Time Coming",
           7
          ],
          [
           "Silent Planet",
           "Iridescent",
           4
          ],
          [
           "Sipper",
           "Pink Songs",
           3
          ],
          [
           "Slayyyter",
           "Troubled Paradise",
           2
          ],
          [
           "Sloppy Jane",
           "Madison",
           2
          ],
          [
           "Snail Mail",
           "Valentine",
           42
          ],
          [
           "Snoh Alegra",
           "TEMPORARY HIGHS IN THE VIOLET SKIES",
           3
          ],
          [
           "Snotty Nose Rez Kids",
           "Life After",
           2
          ],
          [
           "Sonny Fodera",
           "Wide Awake",
           1
          ],
          [
           "Spellling",
           "The Turning Wheel",
           4
          ],
          [
           "Squid",
           "Bright Green Field",
           23
          ],
          [
           "Squirrel Flower",
           "Planet (i)",
           3
          ],
          [
           "St. Vincent",
           "Daddy's Home",
           3
          ],
          [
           "Starcadian",
           "Radio Galaxy",
           4
          ],
          [
           "Stephan Moccio",
           "Lionheart",
           3
          ],
          [
           "Still Woozy",
           "If This Isn't Nice, I Don't Know What Is",
           13
          ],
          [
           "Sting",
           "The Bridge",
           9
          ],
          [
           "Stormkeep",
           "Tales of Othertime",
           5
          ],
          [
           "Sturgill Simpson",
           "The Ballad of Dood & Juanita",
           6
          ],
          [
           "Sufjan Stevens & Angelo De Augustine",
           "A Beginner's Mind",
           36
          ],
          [
           "Summer Walker",
           "Still Over It",
           18
          ],
          [
           "Sun Seeker",
           "A Sunrise in a Basement",
           1
          ],
          [
           "Surfaces",
           "Pacifico",
           19
          ],
          [
           "Switchfoot",
           "interrobang",
           20
          ],
          [
           "TORRES",
           "Thirstier",
           5
          ],
          [
           "TWRP",
           "New & Improved",
           7
          ],
          [
           "Tai Verdes",
           "TV",
           11
          ],
          [
           "Tawni Bias",
           "SEL Fellow",
           9
          ],
          [
           "Taylor Leonhardt",
           "Hold Still",
           9
          ],
          [
           "Tems",
           "If Orange Was A Place",
           14
          ],
          [
           "Terrace Martin",
           "Drones",
           2
          ],
          [
           "That Handsome Devil",
           "Your Parents Are Sellouts",
           8
          ],
          [
           "The 502s",
           "Could It Get Better Than This",
           4
          ],
          [
           "The Alchemist",
           "This Thing of Ours",
           1
          ],
          [
           "The Armed",
           "Ultrapop",
           25
          ],
          [
           "The Aubreys",
           "Karaoke Alone",
           10
          ],
          [
           "The Band Camino",
           "The Band Camino",
           27
          ],
          [
           "The Beths",
           "Auckland, New Zealand, 2020 (Live)",
           10
          ],
          [
           "The Black Keys",
           "Delta Kream",
           26
          ],
          [
           "The Bronx",
           "The Bronx VI",
           4
          ],
          [
           "The Dirty Nil",
           "Fuck Art",
           15
          ],
          [
           "The Doughboys & Brainiac",
           "The Doughboys",
           2
          ],
          [
           "The Drums",
           "MOMMY DON'T SPANK ME",
           5
          ],
          [
           "The Emerald Isle",
           "The Emerald Isle",
           8
          ],
          [
           "The Hold Steady",
           "Open Door Policy",
           10
          ],
          [
           "The Killers",
           "Pressure Machine",
           11
          ],
          [
           "The Marías",
           "CINEMA",
           9
          ],
          [
           "The Paper Kites",
           "Roses",
           1
          ],
          [
           "The Sheepdogs",
           "No Simple Thing (EP)",
           6
          ],
          [
           "The Staves",
           "Good Woman",
           2
          ],
          [
           "The War on Drugs",
           "I Don't Live Here Anymore",
           28
          ],
          [
           "The Weather Station",
           "Ignorance",
           6
          ],
          [
           "Third Eye Blind",
           "Our Bande Apart",
           4
          ],
          [
           "Thomas Rhett",
           "Country Again",
           12
          ],
          [
           "Thrice",
           "Horizons / East",
           1
          ],
          [
           "Tigers Jaw",
           "I Won't Care How You Remember Me",
           3
          ],
          [
           "Tinashe",
           "333",
           13
          ],
          [
           "Tingsek",
           "Home",
           4
          ],
          [
           "Tom Misch",
           "Quarantine Sessions",
           3
          ],
          [
           "Triston Marez",
           "Triston Marez",
           6
          ],
          [
           "Turnstile",
           "Glow On",
           55
          ],
          [
           "Twelve Foot Ninja",
           "Vengeance",
           4
          ],
          [
           "Twenty One Pilots",
           "Scaled and Icy",
           13
          ],
          [
           "Unto Others",
           "Strength",
           7
          ],
          [
           "Valerie June",
           "The Moon And Stars: Prescriptions For Dreamers",
           9
          ],
          [
           "Valley",
           "Last Birthday",
           14
          ],
          [
           "Vanjess",
           "Homegrown",
           4
          ],
          [
           "Various Artists",
           "The Harder They Fall (The Motion Picture Soundtrack)",
           6
          ],
          [
           "Various Artists",
           "tick, tick... BOOM! (Soundtrack from the Netflix Film)",
           4
          ],
          [
           "Villagers",
           "Fever Dreams",
           7
          ],
          [
           "Vince Staples",
           "Vince Staples",
           36
          ],
          [
           "Wanderer",
           "Travel Plans",
           2
          ],
          [
           "Warren Zeiders",
           "717 Tapes",
           8
          ],
          [
           "Water From Your Eyes",
           "Structure",
           1
          ],
          [
           "Wayward Nick",
           "Puny Human",
           1
          ],
          [
           "We Were Promised Jetpacks",
           "Enjoy the View",
           3
          ],
          [
           "Whitechapel",
           "Kin",
           9
          ],
          [
           "Wiki",
           "Half God",
           3
          ],
          [
           "Wilderado",
           "Wilderado",
           10
          ],
          [
           "Willow",
           "Lately I Feel Everything",
           21
          ],
          [
           "Wolf Alice",
           "Blue Weekend",
           23
          ],
          [
           "Wolves in the Throne Room",
           "Primordial Arcana",
           1
          ],
          [
           "Woodlock",
           "The Future of an End",
           8
          ],
          [
           "Yebba",
           "Dawn",
           8
          ],
          [
           "Young Thug",
           "Punk",
           9
          ],
          [
           "Zach Winters",
           "Other Side (B)",
           10
          ],
          [
           "Zayn",
           "Nobody is Listening",
           3
          ],
          [
           "Zouj",
           "Tagat (Mixtape)",
           5
          ],
          [
           "anaiis",
           "this is no longer a dream",
           6
          ],
          [
           "bbno$",
           "eat ya veggies",
           4
          ],
          [
           "black midi",
           "Cavalcade",
           41
          ],
          [
           "blackbear",
           "misery lake",
           15
          ],
          [
           "chloe moriondo",
           "Blood Bunny",
           9
          ],
          [
           "cleopatrick",
           "BUMMER",
           4
          ],
          [
           "daysormay",
           "Just Existing",
           13
          ],
          [
           "dodie",
           "Build A Problem",
           15
          ],
          [
           "girl in red",
           "if i could make it go quiet",
           12
          ],
          [
           "nothing, nowhere.",
           "Trauma Factory",
           9
          ],
          [
           "quickly, quickly",
           "The Long and Short of It",
           14
          ]
         ],
         "hovertemplate": "<b>%{customdata[0]}</b> - <i>%{customdata[1]}</i><br><br>Average Album Rank: %{y:.2f}<br>Album Submission Count : %{x}<br>Album Score: %{customdata[2]}<br><extra></extra>",
         "legendgroup": "False",
         "marker": {
          "color": "navy",
          "opacity": 0.4,
          "size": [
           2,
           8,
           5,
           8,
           32,
           4,
           7,
           1,
           2,
           8,
           7,
           1,
           28,
           3,
           3,
           5,
           11,
           2,
           1,
           14,
           8,
           2,
           8,
           10,
           4,
           3,
           3,
           36,
           1,
           4,
           9,
           7,
           27,
           7,
           30,
           2,
           6,
           15,
           4,
           8,
           3,
           10,
           6,
           10,
           8,
           1,
           2,
           13,
           4,
           15,
           2,
           1,
           28,
           5,
           7,
           14,
           25,
           1,
           8,
           9,
           9,
           3,
           7,
           25,
           3,
           5,
           32,
           14,
           12,
           2,
           23,
           9,
           9,
           15,
           20,
           3,
           8,
           5,
           34,
           5,
           6,
           8,
           21,
           8,
           10,
           2,
           9,
           7,
           1,
           1,
           2,
           5,
           6,
           19,
           6,
           10,
           8,
           2,
           7,
           1,
           3,
           42,
           14,
           2,
           5,
           2,
           1,
           4,
           1,
           10,
           5,
           1,
           10,
           64,
           5,
           1,
           31,
           10,
           1,
           5,
           2,
           5,
           10,
           8,
           8,
           10,
           2,
           7,
           3,
           9,
           30,
           18,
           10,
           16,
           6,
           7,
           43,
           39,
           6,
           8,
           9,
           6,
           1,
           7,
           4,
           26,
           5,
           3,
           5,
           2,
           4,
           4,
           2,
           31,
           8,
           1,
           6,
           22,
           6,
           14,
           3,
           12,
           10,
           10,
           6,
           3,
           14,
           9,
           7,
           7,
           5,
           15,
           18,
           5,
           26,
           7,
           35,
           2,
           2,
           14,
           10,
           1,
           5,
           33,
           7,
           2,
           59,
           7,
           30,
           9,
           4,
           3,
           6,
           14,
           20,
           24,
           15,
           7,
           1,
           2,
           10,
           35,
           6,
           9,
           2,
           3,
           3,
           10,
           17,
           15,
           5,
           8,
           6,
           35,
           63,
           7,
           2,
           18,
           7,
           8,
           1,
           7,
           3,
           3,
           14,
           9,
           9,
           7,
           15,
           33,
           1,
           7,
           30,
           8,
           17,
           3,
           2,
           58,
           23,
           32,
           6,
           4,
           18,
           29,
           3,
           3,
           6,
           13,
           8,
           2,
           9,
           36,
           23,
           1,
           7,
           13,
           15,
           6,
           4,
           13,
           6,
           16,
           2,
           5,
           11,
           19,
           3,
           9,
           1,
           10,
           2,
           4,
           7,
           8,
           28,
           50,
           12,
           10,
           5,
           10,
           9,
           5,
           1,
           8,
           7,
           12,
           6,
           5,
           9,
           23,
           9,
           9,
           10,
           10,
           8,
           3,
           4,
           9,
           10,
           8,
           1,
           1,
           3,
           2,
           3,
           19,
           8,
           10,
           4,
           7,
           4,
           7,
           12,
           7,
           1,
           10,
           2,
           4,
           12,
           6,
           10,
           9,
           8,
           12,
           6,
           2,
           9,
           1,
           2,
           3,
           7,
           4,
           3,
           2,
           2,
           42,
           3,
           2,
           1,
           4,
           23,
           3,
           3,
           4,
           3,
           13,
           9,
           5,
           6,
           36,
           18,
           1,
           19,
           20,
           5,
           7,
           11,
           9,
           9,
           14,
           2,
           8,
           4,
           1,
           25,
           10,
           27,
           10,
           26,
           4,
           15,
           2,
           5,
           8,
           10,
           11,
           9,
           1,
           6,
           2,
           28,
           6,
           4,
           12,
           1,
           3,
           13,
           4,
           3,
           6,
           55,
           4,
           13,
           7,
           9,
           14,
           4,
           6,
           4,
           7,
           36,
           2,
           8,
           1,
           1,
           3,
           9,
           3,
           10,
           21,
           23,
           1,
           8,
           8,
           9,
           10,
           3,
           5,
           6,
           4,
           41,
           15,
           9,
           4,
           13,
           15,
           12,
           9,
           14
          ],
          "sizemode": "area",
          "sizeref": 0.4275,
          "symbol": "circle"
         },
         "mode": "markers",
         "name": "False",
         "orientation": "v",
         "showlegend": true,
         "type": "scatter",
         "x": [
          1,
          1,
          1,
          1,
          7,
          1,
          2,
          1,
          1,
          1,
          1,
          1,
          5,
          1,
          1,
          1,
          2,
          1,
          1,
          2,
          1,
          1,
          1,
          1,
          1,
          1,
          1,
          8,
          1,
          1,
          1,
          1,
          4,
          1,
          8,
          1,
          2,
          2,
          1,
          1,
          1,
          1,
          1,
          1,
          1,
          1,
          1,
          3,
          1,
          2,
          1,
          1,
          3,
          1,
          1,
          3,
          5,
          1,
          1,
          1,
          1,
          1,
          1,
          3,
          1,
          1,
          4,
          2,
          3,
          1,
          4,
          1,
          1,
          2,
          4,
          1,
          2,
          1,
          8,
          1,
          1,
          1,
          4,
          1,
          1,
          1,
          1,
          1,
          1,
          1,
          1,
          1,
          1,
          2,
          1,
          1,
          1,
          1,
          1,
          1,
          1,
          5,
          4,
          1,
          1,
          1,
          1,
          1,
          1,
          1,
          1,
          1,
          1,
          11,
          1,
          1,
          8,
          2,
          1,
          1,
          1,
          1,
          2,
          1,
          2,
          1,
          1,
          1,
          1,
          1,
          4,
          3,
          1,
          3,
          2,
          2,
          6,
          6,
          1,
          1,
          2,
          1,
          1,
          2,
          1,
          4,
          2,
          1,
          1,
          1,
          1,
          1,
          1,
          5,
          1,
          1,
          1,
          3,
          1,
          4,
          1,
          3,
          1,
          1,
          1,
          1,
          2,
          1,
          2,
          2,
          1,
          2,
          3,
          1,
          4,
          1,
          6,
          1,
          1,
          3,
          1,
          1,
          1,
          5,
          1,
          1,
          8,
          1,
          7,
          2,
          1,
          1,
          1,
          2,
          3,
          3,
          4,
          1,
          1,
          1,
          1,
          6,
          1,
          1,
          1,
          1,
          1,
          1,
          3,
          4,
          1,
          1,
          1,
          10,
          11,
          1,
          1,
          3,
          1,
          1,
          1,
          1,
          1,
          1,
          2,
          1,
          2,
          2,
          2,
          6,
          1,
          1,
          5,
          1,
          3,
          1,
          1,
          9,
          4,
          5,
          1,
          1,
          3,
          5,
          1,
          1,
          1,
          2,
          2,
          1,
          1,
          6,
          3,
          1,
          1,
          2,
          2,
          1,
          1,
          3,
          1,
          3,
          1,
          1,
          3,
          2,
          1,
          1,
          1,
          2,
          1,
          1,
          1,
          1,
          4,
          6,
          2,
          1,
          2,
          1,
          1,
          1,
          1,
          1,
          1,
          2,
          1,
          1,
          2,
          3,
          1,
          1,
          1,
          2,
          1,
          1,
          1,
          1,
          1,
          1,
          1,
          1,
          1,
          1,
          1,
          3,
          1,
          2,
          2,
          1,
          1,
          1,
          2,
          1,
          1,
          2,
          1,
          1,
          2,
          1,
          1,
          2,
          1,
          2,
          1,
          1,
          2,
          1,
          1,
          1,
          2,
          1,
          1,
          1,
          1,
          7,
          1,
          1,
          1,
          1,
          4,
          1,
          1,
          1,
          1,
          3,
          2,
          1,
          2,
          5,
          2,
          1,
          3,
          4,
          1,
          1,
          2,
          1,
          1,
          4,
          1,
          1,
          1,
          1,
          4,
          1,
          4,
          1,
          4,
          1,
          2,
          1,
          1,
          1,
          1,
          4,
          1,
          1,
          1,
          1,
          7,
          2,
          1,
          2,
          1,
          1,
          2,
          2,
          1,
          1,
          9,
          1,
          3,
          1,
          1,
          4,
          1,
          1,
          1,
          2,
          6,
          1,
          1,
          1,
          1,
          1,
          1,
          1,
          1,
          5,
          4,
          1,
          1,
          2,
          2,
          2,
          1,
          1,
          1,
          2,
          5,
          2,
          1,
          2,
          3,
          2,
          3,
          1,
          2
         ],
         "xaxis": "x",
         "y": [
          9,
          3,
          6,
          3,
          6.428571428571429,
          7,
          7.5,
          10,
          9,
          3,
          4,
          10,
          5.4,
          8,
          8,
          6,
          5.5,
          9,
          10,
          4,
          3,
          9,
          3,
          1,
          7,
          8,
          8,
          6.5,
          10,
          7,
          2,
          4,
          4.25,
          4,
          7.25,
          9,
          8,
          3.5,
          7,
          3,
          8,
          1,
          5,
          1,
          3,
          10,
          9,
          6.666666666666667,
          7,
          3.5,
          9,
          10,
          1.6666666666666667,
          6,
          4,
          6.333333333333333,
          6,
          10,
          3,
          2,
          2,
          8,
          4,
          2.6666666666666665,
          8,
          6,
          3,
          4,
          7,
          9,
          5.25,
          2,
          2,
          3.5,
          6,
          8,
          7,
          6,
          6.75,
          6,
          5,
          3,
          5.75,
          3,
          1,
          9,
          2,
          4,
          10,
          10,
          9,
          6,
          5,
          1.5,
          5,
          1,
          3,
          9,
          4,
          10,
          8,
          2.6,
          7.5,
          9,
          6,
          9,
          10,
          7,
          10,
          1,
          6,
          10,
          1,
          5.181818181818182,
          6,
          10,
          7.125,
          6,
          10,
          6,
          9,
          6,
          6,
          3,
          7,
          1,
          9,
          4,
          8,
          2,
          3.5,
          5,
          1,
          5.666666666666667,
          8,
          7.5,
          3.8333333333333335,
          4.5,
          5,
          3,
          6.5,
          5,
          10,
          7.5,
          7,
          4.5,
          8.5,
          8,
          6,
          9,
          7,
          7,
          9,
          4.8,
          3,
          10,
          5,
          3.6666666666666665,
          5,
          7.5,
          8,
          7,
          1,
          1,
          5,
          8,
          4,
          2,
          7.5,
          7.5,
          6,
          3.5,
          5,
          6,
          4.5,
          4,
          5.166666666666667,
          9,
          9,
          6.333333333333333,
          1,
          10,
          6,
          4.4,
          4,
          9,
          3.625,
          4,
          6.714285714285714,
          6.5,
          7,
          8,
          5,
          4,
          4.333333333333333,
          3,
          7.25,
          4,
          10,
          9,
          1,
          5.166666666666667,
          5,
          2,
          9,
          8,
          8,
          1,
          5.333333333333333,
          7.25,
          6,
          3,
          5,
          7.5,
          5.2727272727272725,
          4,
          9,
          5,
          4,
          3,
          10,
          4,
          8,
          8,
          4,
          2,
          6.5,
          7.5,
          3.5,
          5.5,
          10,
          4,
          5,
          3,
          5.333333333333333,
          8,
          9,
          4.555555555555555,
          5.25,
          4.6,
          5,
          7,
          5,
          5.2,
          8,
          8,
          5,
          4.5,
          7,
          9,
          2,
          5,
          3.3333333333333335,
          10,
          4,
          4.5,
          3.5,
          5,
          7,
          6.666666666666667,
          5,
          5.666666666666667,
          9,
          6,
          7.333333333333333,
          1.5,
          8,
          2,
          10,
          6,
          9,
          7,
          4,
          3,
          4,
          2.6666666666666665,
          5,
          1,
          8.5,
          1,
          2,
          6,
          10,
          3,
          4,
          5,
          5,
          6,
          6.5,
          3.3333333333333335,
          2,
          2,
          1,
          6,
          3,
          8,
          7,
          2,
          1,
          3,
          10,
          10,
          8,
          9,
          8,
          4.666666666666667,
          3,
          6,
          9,
          4,
          7,
          4,
          5,
          4,
          10,
          6,
          9,
          7,
          5,
          5,
          1,
          6.5,
          3,
          5,
          5,
          9,
          6.5,
          10,
          9,
          8,
          7.5,
          7,
          8,
          9,
          9,
          5,
          8,
          9,
          10,
          7,
          5.25,
          8,
          8,
          7,
          8,
          6.666666666666667,
          6.5,
          6,
          8,
          3.8,
          2,
          10,
          4.666666666666667,
          6,
          6,
          4,
          5.5,
          2,
          2,
          7.5,
          9,
          3,
          7,
          10,
          4.75,
          1,
          4.25,
          1,
          4.5,
          7,
          3.5,
          9,
          6,
          3,
          1,
          8.25,
          2,
          10,
          5,
          9,
          7,
          8,
          7,
          5,
          10,
          8,
          4.5,
          9,
          8,
          5,
          4.888888888888889,
          7,
          6.666666666666667,
          4,
          2,
          7.5,
          7,
          5,
          7,
          7.5,
          5,
          9,
          3,
          10,
          10,
          8,
          2,
          8,
          1,
          6.8,
          5.25,
          10,
          3,
          7,
          6.5,
          6,
          8,
          6,
          5,
          9,
          2.8,
          3.5,
          2,
          9,
          6.666666666666667,
          3.5,
          7,
          2,
          4
         ],
         "yaxis": "y"
        },
        {
         "customdata": [
          [
           "Adele",
           "30",
           138
          ],
          [
           "Billie Eilish",
           "Happier Than Ever",
           137
          ],
          [
           "Bo Burnham",
           "Inside (The Songs)",
           78
          ],
          [
           "Julien Baker",
           "Little Oblivions",
           79
          ],
          [
           "Lil Nas X",
           "Montero",
           102
          ],
          [
           "Lorde",
           "Solar Power",
           71
          ],
          [
           "Olivia Rodrigo",
           "Sour",
           137
          ],
          [
           "Parcels",
           "Day/Night",
           64
          ],
          [
           "Silk Sonic",
           "An Evening With Silk Sonic",
           171
          ],
          [
           "Tyler, the Creator",
           "Call Me If You Get Lost",
           133
          ]
         ],
         "hovertemplate": "<b>%{customdata[0]}</b> - <i>%{customdata[1]}</i><br><br>Average Album Rank: %{y:.2f}<br>Album Submission Count : %{x}<br>Album Score: %{customdata[2]}<br><extra></extra>",
         "legendgroup": "True",
         "marker": {
          "color": "darkorchid",
          "opacity": 0.4,
          "size": [
           138,
           137,
           78,
           79,
           102,
           71,
           137,
           64,
           171,
           133
          ],
          "sizemode": "area",
          "sizeref": 0.4275,
          "symbol": "circle"
         },
         "mode": "markers",
         "name": "True",
         "orientation": "v",
         "showlegend": true,
         "type": "scatter",
         "x": [
          21,
          22,
          13,
          13,
          19,
          12,
          25,
          9,
          25,
          20
         ],
         "xaxis": "x",
         "y": [
          4.428571428571429,
          4.7727272727272725,
          5,
          4.923076923076923,
          5.631578947368421,
          5.083333333333333,
          5.52,
          3.888888888888889,
          4.16,
          4.35
         ],
         "yaxis": "y"
        },
        {
         "hoverinfo": "skip",
         "mode": "text",
         "name": "Zones",
         "showlegend": false,
         "text": [
          "Hidden Gems",
          "Barely Made It",
          "Certified Bangers",
          "Liked, not Loved"
         ],
         "textfont": {
          "color": "grey"
         },
         "textposition": "bottom center",
         "type": "scatter",
         "x": [
          2,
          2,
          24,
          24
         ],
         "y": [
          0,
          10.5,
          0,
          10.5
         ]
        }
       ],
       "layout": {
        "legend": {
         "itemsizing": "constant",
         "title": {
          "text": "Top 10?"
         },
         "tracegroupgap": 0
        },
        "margin": {
         "t": 60
        },
        "shapes": [
         {
          "line": {
           "color": "grey",
           "dash": "dash",
           "width": 4
          },
          "type": "line",
          "x0": 12.5,
          "x1": 12.5,
          "y0": 0,
          "y1": 10.5
         },
         {
          "line": {
           "color": "grey",
           "dash": "dash",
           "width": 4
          },
          "type": "line",
          "x0": 1,
          "x1": 26,
          "y0": 5.5,
          "y1": 5.5
         }
        ],
        "template": {
         "data": {
          "bar": [
           {
            "error_x": {
             "color": "rgb(36,36,36)"
            },
            "error_y": {
             "color": "rgb(36,36,36)"
            },
            "marker": {
             "line": {
              "color": "white",
              "width": 0.5
             },
             "pattern": {
              "fillmode": "overlay",
              "size": 10,
              "solidity": 0.2
             }
            },
            "type": "bar"
           }
          ],
          "barpolar": [
           {
            "marker": {
             "line": {
              "color": "white",
              "width": 0.5
             },
             "pattern": {
              "fillmode": "overlay",
              "size": 10,
              "solidity": 0.2
             }
            },
            "type": "barpolar"
           }
          ],
          "carpet": [
           {
            "aaxis": {
             "endlinecolor": "rgb(36,36,36)",
             "gridcolor": "white",
             "linecolor": "white",
             "minorgridcolor": "white",
             "startlinecolor": "rgb(36,36,36)"
            },
            "baxis": {
             "endlinecolor": "rgb(36,36,36)",
             "gridcolor": "white",
             "linecolor": "white",
             "minorgridcolor": "white",
             "startlinecolor": "rgb(36,36,36)"
            },
            "type": "carpet"
           }
          ],
          "choropleth": [
           {
            "colorbar": {
             "outlinewidth": 1,
             "tickcolor": "rgb(36,36,36)",
             "ticks": "outside"
            },
            "type": "choropleth"
           }
          ],
          "contour": [
           {
            "colorbar": {
             "outlinewidth": 1,
             "tickcolor": "rgb(36,36,36)",
             "ticks": "outside"
            },
            "colorscale": [
             [
              0,
              "#440154"
             ],
             [
              0.1111111111111111,
              "#482878"
             ],
             [
              0.2222222222222222,
              "#3e4989"
             ],
             [
              0.3333333333333333,
              "#31688e"
             ],
             [
              0.4444444444444444,
              "#26828e"
             ],
             [
              0.5555555555555556,
              "#1f9e89"
             ],
             [
              0.6666666666666666,
              "#35b779"
             ],
             [
              0.7777777777777778,
              "#6ece58"
             ],
             [
              0.8888888888888888,
              "#b5de2b"
             ],
             [
              1,
              "#fde725"
             ]
            ],
            "type": "contour"
           }
          ],
          "contourcarpet": [
           {
            "colorbar": {
             "outlinewidth": 1,
             "tickcolor": "rgb(36,36,36)",
             "ticks": "outside"
            },
            "type": "contourcarpet"
           }
          ],
          "heatmap": [
           {
            "colorbar": {
             "outlinewidth": 1,
             "tickcolor": "rgb(36,36,36)",
             "ticks": "outside"
            },
            "colorscale": [
             [
              0,
              "#440154"
             ],
             [
              0.1111111111111111,
              "#482878"
             ],
             [
              0.2222222222222222,
              "#3e4989"
             ],
             [
              0.3333333333333333,
              "#31688e"
             ],
             [
              0.4444444444444444,
              "#26828e"
             ],
             [
              0.5555555555555556,
              "#1f9e89"
             ],
             [
              0.6666666666666666,
              "#35b779"
             ],
             [
              0.7777777777777778,
              "#6ece58"
             ],
             [
              0.8888888888888888,
              "#b5de2b"
             ],
             [
              1,
              "#fde725"
             ]
            ],
            "type": "heatmap"
           }
          ],
          "heatmapgl": [
           {
            "colorbar": {
             "outlinewidth": 1,
             "tickcolor": "rgb(36,36,36)",
             "ticks": "outside"
            },
            "colorscale": [
             [
              0,
              "#440154"
             ],
             [
              0.1111111111111111,
              "#482878"
             ],
             [
              0.2222222222222222,
              "#3e4989"
             ],
             [
              0.3333333333333333,
              "#31688e"
             ],
             [
              0.4444444444444444,
              "#26828e"
             ],
             [
              0.5555555555555556,
              "#1f9e89"
             ],
             [
              0.6666666666666666,
              "#35b779"
             ],
             [
              0.7777777777777778,
              "#6ece58"
             ],
             [
              0.8888888888888888,
              "#b5de2b"
             ],
             [
              1,
              "#fde725"
             ]
            ],
            "type": "heatmapgl"
           }
          ],
          "histogram": [
           {
            "marker": {
             "line": {
              "color": "white",
              "width": 0.6
             }
            },
            "type": "histogram"
           }
          ],
          "histogram2d": [
           {
            "colorbar": {
             "outlinewidth": 1,
             "tickcolor": "rgb(36,36,36)",
             "ticks": "outside"
            },
            "colorscale": [
             [
              0,
              "#440154"
             ],
             [
              0.1111111111111111,
              "#482878"
             ],
             [
              0.2222222222222222,
              "#3e4989"
             ],
             [
              0.3333333333333333,
              "#31688e"
             ],
             [
              0.4444444444444444,
              "#26828e"
             ],
             [
              0.5555555555555556,
              "#1f9e89"
             ],
             [
              0.6666666666666666,
              "#35b779"
             ],
             [
              0.7777777777777778,
              "#6ece58"
             ],
             [
              0.8888888888888888,
              "#b5de2b"
             ],
             [
              1,
              "#fde725"
             ]
            ],
            "type": "histogram2d"
           }
          ],
          "histogram2dcontour": [
           {
            "colorbar": {
             "outlinewidth": 1,
             "tickcolor": "rgb(36,36,36)",
             "ticks": "outside"
            },
            "colorscale": [
             [
              0,
              "#440154"
             ],
             [
              0.1111111111111111,
              "#482878"
             ],
             [
              0.2222222222222222,
              "#3e4989"
             ],
             [
              0.3333333333333333,
              "#31688e"
             ],
             [
              0.4444444444444444,
              "#26828e"
             ],
             [
              0.5555555555555556,
              "#1f9e89"
             ],
             [
              0.6666666666666666,
              "#35b779"
             ],
             [
              0.7777777777777778,
              "#6ece58"
             ],
             [
              0.8888888888888888,
              "#b5de2b"
             ],
             [
              1,
              "#fde725"
             ]
            ],
            "type": "histogram2dcontour"
           }
          ],
          "mesh3d": [
           {
            "colorbar": {
             "outlinewidth": 1,
             "tickcolor": "rgb(36,36,36)",
             "ticks": "outside"
            },
            "type": "mesh3d"
           }
          ],
          "parcoords": [
           {
            "line": {
             "colorbar": {
              "outlinewidth": 1,
              "tickcolor": "rgb(36,36,36)",
              "ticks": "outside"
             }
            },
            "type": "parcoords"
           }
          ],
          "pie": [
           {
            "automargin": true,
            "type": "pie"
           }
          ],
          "scatter": [
           {
            "marker": {
             "colorbar": {
              "outlinewidth": 1,
              "tickcolor": "rgb(36,36,36)",
              "ticks": "outside"
             }
            },
            "type": "scatter"
           }
          ],
          "scatter3d": [
           {
            "line": {
             "colorbar": {
              "outlinewidth": 1,
              "tickcolor": "rgb(36,36,36)",
              "ticks": "outside"
             }
            },
            "marker": {
             "colorbar": {
              "outlinewidth": 1,
              "tickcolor": "rgb(36,36,36)",
              "ticks": "outside"
             }
            },
            "type": "scatter3d"
           }
          ],
          "scattercarpet": [
           {
            "marker": {
             "colorbar": {
              "outlinewidth": 1,
              "tickcolor": "rgb(36,36,36)",
              "ticks": "outside"
             }
            },
            "type": "scattercarpet"
           }
          ],
          "scattergeo": [
           {
            "marker": {
             "colorbar": {
              "outlinewidth": 1,
              "tickcolor": "rgb(36,36,36)",
              "ticks": "outside"
             }
            },
            "type": "scattergeo"
           }
          ],
          "scattergl": [
           {
            "marker": {
             "colorbar": {
              "outlinewidth": 1,
              "tickcolor": "rgb(36,36,36)",
              "ticks": "outside"
             }
            },
            "type": "scattergl"
           }
          ],
          "scattermapbox": [
           {
            "marker": {
             "colorbar": {
              "outlinewidth": 1,
              "tickcolor": "rgb(36,36,36)",
              "ticks": "outside"
             }
            },
            "type": "scattermapbox"
           }
          ],
          "scatterpolar": [
           {
            "marker": {
             "colorbar": {
              "outlinewidth": 1,
              "tickcolor": "rgb(36,36,36)",
              "ticks": "outside"
             }
            },
            "type": "scatterpolar"
           }
          ],
          "scatterpolargl": [
           {
            "marker": {
             "colorbar": {
              "outlinewidth": 1,
              "tickcolor": "rgb(36,36,36)",
              "ticks": "outside"
             }
            },
            "type": "scatterpolargl"
           }
          ],
          "scatterternary": [
           {
            "marker": {
             "colorbar": {
              "outlinewidth": 1,
              "tickcolor": "rgb(36,36,36)",
              "ticks": "outside"
             }
            },
            "type": "scatterternary"
           }
          ],
          "surface": [
           {
            "colorbar": {
             "outlinewidth": 1,
             "tickcolor": "rgb(36,36,36)",
             "ticks": "outside"
            },
            "colorscale": [
             [
              0,
              "#440154"
             ],
             [
              0.1111111111111111,
              "#482878"
             ],
             [
              0.2222222222222222,
              "#3e4989"
             ],
             [
              0.3333333333333333,
              "#31688e"
             ],
             [
              0.4444444444444444,
              "#26828e"
             ],
             [
              0.5555555555555556,
              "#1f9e89"
             ],
             [
              0.6666666666666666,
              "#35b779"
             ],
             [
              0.7777777777777778,
              "#6ece58"
             ],
             [
              0.8888888888888888,
              "#b5de2b"
             ],
             [
              1,
              "#fde725"
             ]
            ],
            "type": "surface"
           }
          ],
          "table": [
           {
            "cells": {
             "fill": {
              "color": "rgb(237,237,237)"
             },
             "line": {
              "color": "white"
             }
            },
            "header": {
             "fill": {
              "color": "rgb(217,217,217)"
             },
             "line": {
              "color": "white"
             }
            },
            "type": "table"
           }
          ]
         },
         "layout": {
          "annotationdefaults": {
           "arrowhead": 0,
           "arrowwidth": 1
          },
          "autotypenumbers": "strict",
          "coloraxis": {
           "colorbar": {
            "outlinewidth": 1,
            "tickcolor": "rgb(36,36,36)",
            "ticks": "outside"
           }
          },
          "colorscale": {
           "diverging": [
            [
             0,
             "rgb(103,0,31)"
            ],
            [
             0.1,
             "rgb(178,24,43)"
            ],
            [
             0.2,
             "rgb(214,96,77)"
            ],
            [
             0.3,
             "rgb(244,165,130)"
            ],
            [
             0.4,
             "rgb(253,219,199)"
            ],
            [
             0.5,
             "rgb(247,247,247)"
            ],
            [
             0.6,
             "rgb(209,229,240)"
            ],
            [
             0.7,
             "rgb(146,197,222)"
            ],
            [
             0.8,
             "rgb(67,147,195)"
            ],
            [
             0.9,
             "rgb(33,102,172)"
            ],
            [
             1,
             "rgb(5,48,97)"
            ]
           ],
           "sequential": [
            [
             0,
             "#440154"
            ],
            [
             0.1111111111111111,
             "#482878"
            ],
            [
             0.2222222222222222,
             "#3e4989"
            ],
            [
             0.3333333333333333,
             "#31688e"
            ],
            [
             0.4444444444444444,
             "#26828e"
            ],
            [
             0.5555555555555556,
             "#1f9e89"
            ],
            [
             0.6666666666666666,
             "#35b779"
            ],
            [
             0.7777777777777778,
             "#6ece58"
            ],
            [
             0.8888888888888888,
             "#b5de2b"
            ],
            [
             1,
             "#fde725"
            ]
           ],
           "sequentialminus": [
            [
             0,
             "#440154"
            ],
            [
             0.1111111111111111,
             "#482878"
            ],
            [
             0.2222222222222222,
             "#3e4989"
            ],
            [
             0.3333333333333333,
             "#31688e"
            ],
            [
             0.4444444444444444,
             "#26828e"
            ],
            [
             0.5555555555555556,
             "#1f9e89"
            ],
            [
             0.6666666666666666,
             "#35b779"
            ],
            [
             0.7777777777777778,
             "#6ece58"
            ],
            [
             0.8888888888888888,
             "#b5de2b"
            ],
            [
             1,
             "#fde725"
            ]
           ]
          },
          "colorway": [
           "#1F77B4",
           "#FF7F0E",
           "#2CA02C",
           "#D62728",
           "#9467BD",
           "#8C564B",
           "#E377C2",
           "#7F7F7F",
           "#BCBD22",
           "#17BECF"
          ],
          "font": {
           "color": "rgb(36,36,36)"
          },
          "geo": {
           "bgcolor": "white",
           "lakecolor": "white",
           "landcolor": "white",
           "showlakes": true,
           "showland": true,
           "subunitcolor": "white"
          },
          "hoverlabel": {
           "align": "left"
          },
          "hovermode": "closest",
          "mapbox": {
           "style": "light"
          },
          "paper_bgcolor": "white",
          "plot_bgcolor": "white",
          "polar": {
           "angularaxis": {
            "gridcolor": "rgb(232,232,232)",
            "linecolor": "rgb(36,36,36)",
            "showgrid": false,
            "showline": true,
            "ticks": "outside"
           },
           "bgcolor": "white",
           "radialaxis": {
            "gridcolor": "rgb(232,232,232)",
            "linecolor": "rgb(36,36,36)",
            "showgrid": false,
            "showline": true,
            "ticks": "outside"
           }
          },
          "scene": {
           "xaxis": {
            "backgroundcolor": "white",
            "gridcolor": "rgb(232,232,232)",
            "gridwidth": 2,
            "linecolor": "rgb(36,36,36)",
            "showbackground": true,
            "showgrid": false,
            "showline": true,
            "ticks": "outside",
            "zeroline": false,
            "zerolinecolor": "rgb(36,36,36)"
           },
           "yaxis": {
            "backgroundcolor": "white",
            "gridcolor": "rgb(232,232,232)",
            "gridwidth": 2,
            "linecolor": "rgb(36,36,36)",
            "showbackground": true,
            "showgrid": false,
            "showline": true,
            "ticks": "outside",
            "zeroline": false,
            "zerolinecolor": "rgb(36,36,36)"
           },
           "zaxis": {
            "backgroundcolor": "white",
            "gridcolor": "rgb(232,232,232)",
            "gridwidth": 2,
            "linecolor": "rgb(36,36,36)",
            "showbackground": true,
            "showgrid": false,
            "showline": true,
            "ticks": "outside",
            "zeroline": false,
            "zerolinecolor": "rgb(36,36,36)"
           }
          },
          "shapedefaults": {
           "fillcolor": "black",
           "line": {
            "width": 0
           },
           "opacity": 0.3
          },
          "ternary": {
           "aaxis": {
            "gridcolor": "rgb(232,232,232)",
            "linecolor": "rgb(36,36,36)",
            "showgrid": false,
            "showline": true,
            "ticks": "outside"
           },
           "baxis": {
            "gridcolor": "rgb(232,232,232)",
            "linecolor": "rgb(36,36,36)",
            "showgrid": false,
            "showline": true,
            "ticks": "outside"
           },
           "bgcolor": "white",
           "caxis": {
            "gridcolor": "rgb(232,232,232)",
            "linecolor": "rgb(36,36,36)",
            "showgrid": false,
            "showline": true,
            "ticks": "outside"
           }
          },
          "title": {
           "x": 0.05
          },
          "xaxis": {
           "automargin": true,
           "gridcolor": "rgb(232,232,232)",
           "linecolor": "rgb(36,36,36)",
           "showgrid": false,
           "showline": true,
           "ticks": "outside",
           "title": {
            "standoff": 15
           },
           "zeroline": false,
           "zerolinecolor": "rgb(36,36,36)"
          },
          "yaxis": {
           "automargin": true,
           "gridcolor": "rgb(232,232,232)",
           "linecolor": "rgb(36,36,36)",
           "showgrid": false,
           "showline": true,
           "ticks": "outside",
           "title": {
            "standoff": 15
           },
           "zeroline": false,
           "zerolinecolor": "rgb(36,36,36)"
          }
         }
        },
        "xaxis": {
         "anchor": "y",
         "domain": [
          0,
          1
         ],
         "title": {
          "text": "Album Submission Count"
         }
        },
        "yaxis": {
         "anchor": "x",
         "autorange": "reversed",
         "domain": [
          0,
          1
         ],
         "title": {
          "text": "Average Album Rank"
         }
        }
       }
      }
     },
     "metadata": {},
     "output_type": "display_data"
    }
   ],
   "source": [
    "max_submissions = AOTY_by_album[\"album_submission_count\"].max()\n",
    "\n",
    "figure = px.scatter(\n",
    "    AOTY_by_album,\n",
    "    x=\"album_submission_count\",\n",
    "    y=\"album_average_rank\",\n",
    "    color = \"top_10_album\",\n",
    "    size = \"album_score\",\n",
    "    template=\"simple_white\",\n",
    "    labels={\n",
    "        \"album_average_rank\": \"Average Album Rank\",\n",
    "        \"album_submission_count\": \"Album Submission Count\",\n",
    "        \"top_10_album\" : \"Top 10?\"\n",
    "    },\n",
    "    custom_data=[\"Artist\", \"Album\", \"album_score\"],\n",
    "    opacity = 0.4,\n",
    "    color_discrete_sequence=[\"navy\", \"darkorchid\"]\n",
    ")\n",
    "figure.update_traces(\n",
    "    hovertemplate=\"<br>\".join(\n",
    "        [\n",
    "            \"<b>%{customdata[0]}</b> - <i>%{customdata[1]}</i>\",\n",
    "            \"\",\n",
    "            \"Average Album Rank: %{y:.2f}\",\n",
    "            \"Album Submission Count : %{x}\",\n",
    "            \"Album Score: %{customdata[2]}\",\n",
    "            \"<extra></extra>\",\n",
    "        ]\n",
    "    ),\n",
    "    # marker = {\"size\" : 12},\n",
    "    selector=dict(mode=\"markers\"),\n",
    ")\n",
    "\n",
    "figure.add_shape(\n",
    "    type=\"line\",\n",
    "    x0=max_submissions/2, y0=0, x1=max_submissions/2, y1=10.5,\n",
    "    line=dict(\n",
    "        color=\"grey\",\n",
    "        width=4,\n",
    "        dash=\"dash\",\n",
    "    )\n",
    ")\n",
    "figure.add_shape(\n",
    "    type=\"line\",\n",
    "    x0=1, y0=5.5, x1=max_submissions+1, y1=5.5,\n",
    "    line=dict(\n",
    "        color=\"grey\",\n",
    "        width=4,\n",
    "        dash=\"dash\",\n",
    "    )\n",
    ")\n",
    "\n",
    "figure.add_trace(go.Scatter(\n",
    "    x=[2, 2, max_submissions-1, max_submissions-1],\n",
    "    y=[0, 10.5, 0, 10.5],\n",
    "    mode=\"text\",\n",
    "    name=\"Zones\",\n",
    "    text=[\"Hidden Gems\", \"Barely Made It\", \"Certified Bangers\", \"Liked, not Loved\"],\n",
    "    textposition=\"bottom center\",\n",
    "    textfont = {\n",
    "        \"color\" : \"grey\"\n",
    "    },\n",
    "    showlegend = False,\n",
    "    hoverinfo = \"skip\"\n",
    "))\n",
    "\n",
    "\n",
    "figure[\"layout\"][\"yaxis\"][\"autorange\"] = \"reversed\"\n",
    "\n",
    "figure.show()\n"
   ]
  },
  {
   "cell_type": "code",
   "execution_count": null,
   "metadata": {},
   "outputs": [],
   "source": []
  }
 ],
 "metadata": {
  "interpreter": {
   "hash": "3d597f4c481aa0f25dceb95d2a0067e73c0966dcbd003d741d821a7208527ecf"
  },
  "kernelspec": {
   "display_name": "Python 3.9.5 64-bit ('base': conda)",
   "language": "python",
   "name": "python3"
  },
  "language_info": {
   "codemirror_mode": {
    "name": "ipython",
    "version": 3
   },
   "file_extension": ".py",
   "mimetype": "text/x-python",
   "name": "python",
   "nbconvert_exporter": "python",
   "pygments_lexer": "ipython3",
   "version": "3.9.5"
  },
  "orig_nbformat": 4
 },
 "nbformat": 4,
 "nbformat_minor": 2
}
